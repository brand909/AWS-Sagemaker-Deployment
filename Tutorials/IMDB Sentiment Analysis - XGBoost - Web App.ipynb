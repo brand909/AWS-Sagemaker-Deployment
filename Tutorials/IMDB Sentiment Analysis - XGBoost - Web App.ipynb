{
 "cells": [
  {
   "cell_type": "markdown",
   "metadata": {},
   "source": [
    "# Sentiment Analysis Web App\n",
    "\n",
    "_Deep Learning Nanodegree Program | Deployment_\n",
    "\n",
    "---\n",
    "\n",
    "In this notebook we will use Amazon's SageMaker service to construct a random tree model to predict the sentiment of a movie review. In addition, we will deploy this model to an endpoint and construct a very simple web app which will interact with our model's deployed endpoint.\n",
    "\n",
    "## General Outline\n",
    "\n",
    "Typically, when using a notebook instance with SageMaker, you will proceed through the following steps. Of course, not every step will need to be done with each project. Also, there is quite a lot of room for variation in many of the steps, as you will see throughout these lessons.\n",
    "\n",
    "1. Download or otherwise retrieve the data.\n",
    "2. Process / Prepare the data.\n",
    "3. Upload the processed data to S3.\n",
    "4. Train a chosen model.\n",
    "5. Test the trained model (typically using a batch transform job).\n",
    "6. Deploy the trained model.\n",
    "7. Use the deployed model.\n",
    "\n",
    "In this notebook we will progress through each of the steps above. We will also see that the final step, using the deployed model, can be quite challenging."
   ]
  },
  {
   "cell_type": "markdown",
   "metadata": {},
   "source": [
    "## Step 1: Downloading the data\n",
    "\n",
    "The dataset we are going to use is very popular among researchers in Natural Language Processing, usually referred to as the [IMDb dataset](http://ai.stanford.edu/~amaas/data/sentiment/). It consists of movie reviews from the website [imdb.com](http://www.imdb.com/), each labeled as either '**pos**itive', if the reviewer enjoyed the film, or '**neg**ative' otherwise.\n",
    "\n",
    "> Maas, Andrew L., et al. [Learning Word Vectors for Sentiment Analysis](http://ai.stanford.edu/~amaas/data/sentiment/). In _Proceedings of the 49th Annual Meeting of the Association for Computational Linguistics: Human Language Technologies_. Association for Computational Linguistics, 2011.\n",
    "\n",
    "We begin by using some Jupyter Notebook magic to download and extract the dataset."
   ]
  },
  {
   "cell_type": "code",
   "execution_count": 1,
   "metadata": {},
   "outputs": [
    {
     "name": "stdout",
     "output_type": "stream",
     "text": [
      "mkdir: cannot create directory ‘../data’: File exists\n",
      "--2019-07-10 07:24:19--  http://ai.stanford.edu/~amaas/data/sentiment/aclImdb_v1.tar.gz\n",
      "Resolving ai.stanford.edu (ai.stanford.edu)... 171.64.68.10\n",
      "Connecting to ai.stanford.edu (ai.stanford.edu)|171.64.68.10|:80... connected.\n",
      "HTTP request sent, awaiting response... 200 OK\n",
      "Length: 84125825 (80M) [application/x-gzip]\n",
      "Saving to: ‘../data/aclImdb_v1.tar.gz’\n",
      "\n",
      "../data/aclImdb_v1. 100%[===================>]  80.23M  23.4MB/s    in 3.9s    \n",
      "\n",
      "2019-07-10 07:24:23 (20.4 MB/s) - ‘../data/aclImdb_v1.tar.gz’ saved [84125825/84125825]\n",
      "\n"
     ]
    }
   ],
   "source": [
    "%mkdir ../data\n",
    "!wget -O ../data/aclImdb_v1.tar.gz http://ai.stanford.edu/~amaas/data/sentiment/aclImdb_v1.tar.gz\n",
    "!tar -zxf ../data/aclImdb_v1.tar.gz -C ../data"
   ]
  },
  {
   "cell_type": "markdown",
   "metadata": {},
   "source": [
    "## Step 2: Preparing and Processing the data\n",
    "\n",
    "The data we have downloaded is split into various files, each of which contains a single review. It will be much easier going forward if we combine these individual files into two large files, one for training and one for testing."
   ]
  },
  {
   "cell_type": "code",
   "execution_count": 2,
   "metadata": {},
   "outputs": [],
   "source": [
    "import os\n",
    "import glob\n",
    "\n",
    "def read_imdb_data(data_dir='../data/aclImdb'):\n",
    "    data = {}\n",
    "    labels = {}\n",
    "    \n",
    "    for data_type in ['train', 'test']:\n",
    "        data[data_type] = {}\n",
    "        labels[data_type] = {}\n",
    "        \n",
    "        for sentiment in ['pos', 'neg']:\n",
    "            data[data_type][sentiment] = []\n",
    "            labels[data_type][sentiment] = []\n",
    "            \n",
    "            path = os.path.join(data_dir, data_type, sentiment, '*.txt')\n",
    "            files = glob.glob(path)\n",
    "            \n",
    "            for f in files:\n",
    "                with open(f) as review:\n",
    "                    data[data_type][sentiment].append(review.read())\n",
    "                    # Here we represent a positive review by '1' and a negative review by '0'\n",
    "                    labels[data_type][sentiment].append(1 if sentiment == 'pos' else 0)\n",
    "                    \n",
    "            assert len(data[data_type][sentiment]) == len(labels[data_type][sentiment]), \\\n",
    "                    \"{}/{} data size does not match labels size\".format(data_type, sentiment)\n",
    "                \n",
    "    return data, labels"
   ]
  },
  {
   "cell_type": "code",
   "execution_count": 3,
   "metadata": {},
   "outputs": [
    {
     "name": "stdout",
     "output_type": "stream",
     "text": [
      "IMDB reviews: train = 12500 pos / 12500 neg, test = 12500 pos / 12500 neg\n"
     ]
    }
   ],
   "source": [
    "data, labels = read_imdb_data()\n",
    "print(\"IMDB reviews: train = {} pos / {} neg, test = {} pos / {} neg\".format(\n",
    "            len(data['train']['pos']), len(data['train']['neg']),\n",
    "            len(data['test']['pos']), len(data['test']['neg'])))"
   ]
  },
  {
   "cell_type": "code",
   "execution_count": 4,
   "metadata": {},
   "outputs": [],
   "source": [
    "from sklearn.utils import shuffle\n",
    "\n",
    "def prepare_imdb_data(data, labels):\n",
    "    \"\"\"Prepare training and test sets from IMDb movie reviews.\"\"\"\n",
    "    \n",
    "    #Combine positive and negative reviews and labels\n",
    "    data_train = data['train']['pos'] + data['train']['neg']\n",
    "    data_test = data['test']['pos'] + data['test']['neg']\n",
    "    labels_train = labels['train']['pos'] + labels['train']['neg']\n",
    "    labels_test = labels['test']['pos'] + labels['test']['neg']\n",
    "    \n",
    "    #Shuffle reviews and corresponding labels within training and test sets\n",
    "    data_train, labels_train = shuffle(data_train, labels_train)\n",
    "    data_test, labels_test = shuffle(data_test, labels_test)\n",
    "    \n",
    "    # Return a unified training data, test data, training labels, test labets\n",
    "    return data_train, data_test, labels_train, labels_test"
   ]
  },
  {
   "cell_type": "code",
   "execution_count": 5,
   "metadata": {},
   "outputs": [
    {
     "name": "stdout",
     "output_type": "stream",
     "text": [
      "IMDb reviews (combined): train = 25000, test = 25000\n"
     ]
    }
   ],
   "source": [
    "train_X, test_X, train_y, test_y = prepare_imdb_data(data, labels)\n",
    "print(\"IMDb reviews (combined): train = {}, test = {}\".format(len(train_X), len(test_X)))"
   ]
  },
  {
   "cell_type": "code",
   "execution_count": 6,
   "metadata": {},
   "outputs": [
    {
     "data": {
      "text/plain": [
       "\"'Umi wa miteita' ('The Sea is Watching') was Akira Kurasawa's swansong to film: his adaptation of his favored novelist Shugoro Yamamoto's story into a screenplay he intended to film was his final mark he left on a brilliant career. Director Kei Kumai pays homage to both Kurosawa and Yamamoto in presenting this visually stunning transformation of word to image.<br /><br />Set in 19th century Japan, the story explores the lives of the women of a Geisha house whose sole purpose in life is to earn money by pleasuring men. The house is run by an older couple who are genteel and the geishas are an enchanting group of women who know their trade and take pride in their careers. Each has a reason for turning to the life of geisha. Oshin (Nagiko Tono) supports her family who live in a neighboring village, Kikuno (Misa Shimizu) has customers both good and evil whom she manages to sustain with her stories of her higher caste. Oshin befriends an endangered samurai, falls in love with the gentle fellow, only to find that he must not marry out of his caste and leaves his pleasures with Oshin to marry his promised betrothed. Oshin's heart bruises easily but is always supported emotionally and physically/monetarily by Kikuno and the other geishas.<br /><br />A handsome samurai Ryosuke (Masatoshi Nagase) enters Oshin's life and develops the first trusted and devoted relationship with her. Kikuno is beset by problems, deciding whether to accept the humble love of an old man who wishes to marry her, and coping with a rich but abusive customer. All the while the sea is watching and as a typhoon destroys the geisha house and street, Oshin and Kikuno sit atop the roof waiting for the promised rescue by Ryosuke. The manner in which the story ends is one of sacrifice, love, and devotion. The sea is watching and will find protection for true love.<br /><br />The photography by Kazuo Okuhara is breathtakingly beautiful: night scenes with glowing lanterns and colorful geisha interiors are matched with recurring glimpses of the sea both calm and turbulent. The acting is a bit strained for Edo art, but the characters are well created and keep the story credible. The one distraction which is definitely NOT something Kurosawa would have condoned is the tacky Western music score that sounds like cheap soap opera filler except for the isolated moments when real Japanese music on authentic instruments graces the track. But in the end there is enough of Kurosawa's influence to imbue this film with his brand of dreamlike wonder that will always maintain his importance on world cinema. Grady Harp\""
      ]
     },
     "execution_count": 6,
     "metadata": {},
     "output_type": "execute_result"
    }
   ],
   "source": [
    "train_X[100]"
   ]
  },
  {
   "cell_type": "markdown",
   "metadata": {},
   "source": [
    "## Processing the data\n",
    "\n",
    "Now that we have our training and testing datasets merged and ready to use, we need to start processing the raw data into something that will be useable by our machine learning algorithm. To begin with, we remove any html formatting and any non-alpha numeric characters that may appear in the reviews. We will do this in a very simplistic way using Python's regular expression module. We will discuss the reason for this rather simplistic pre-processing later on."
   ]
  },
  {
   "cell_type": "code",
   "execution_count": 7,
   "metadata": {},
   "outputs": [],
   "source": [
    "import re\n",
    "\n",
    "REPLACE_NO_SPACE = re.compile(\"(\\.)|(\\;)|(\\:)|(\\!)|(\\')|(\\?)|(\\,)|(\\\")|(\\()|(\\))|(\\[)|(\\])\")\n",
    "REPLACE_WITH_SPACE = re.compile(\"(<br\\s*/><br\\s*/>)|(\\-)|(\\/)\")\n",
    "\n",
    "def review_to_words(review):\n",
    "    words = REPLACE_NO_SPACE.sub(\"\", review.lower())\n",
    "    words = REPLACE_WITH_SPACE.sub(\" \", words)\n",
    "    return words"
   ]
  },
  {
   "cell_type": "code",
   "execution_count": 8,
   "metadata": {},
   "outputs": [
    {
     "data": {
      "text/plain": [
       "'umi wa miteita the sea is watching was akira kurasawas swansong to film his adaptation of his favored novelist shugoro yamamotos story into a screenplay he intended to film was his final mark he left on a brilliant career director kei kumai pays homage to both kurosawa and yamamoto in presenting this visually stunning transformation of word to image set in 19th century japan the story explores the lives of the women of a geisha house whose sole purpose in life is to earn money by pleasuring men the house is run by an older couple who are genteel and the geishas are an enchanting group of women who know their trade and take pride in their careers each has a reason for turning to the life of geisha oshin nagiko tono supports her family who live in a neighboring village kikuno misa shimizu has customers both good and evil whom she manages to sustain with her stories of her higher caste oshin befriends an endangered samurai falls in love with the gentle fellow only to find that he must not marry out of his caste and leaves his pleasures with oshin to marry his promised betrothed oshins heart bruises easily but is always supported emotionally and physically monetarily by kikuno and the other geishas a handsome samurai ryosuke masatoshi nagase enters oshins life and develops the first trusted and devoted relationship with her kikuno is beset by problems deciding whether to accept the humble love of an old man who wishes to marry her and coping with a rich but abusive customer all the while the sea is watching and as a typhoon destroys the geisha house and street oshin and kikuno sit atop the roof waiting for the promised rescue by ryosuke the manner in which the story ends is one of sacrifice love and devotion the sea is watching and will find protection for true love the photography by kazuo okuhara is breathtakingly beautiful night scenes with glowing lanterns and colorful geisha interiors are matched with recurring glimpses of the sea both calm and turbulent the acting is a bit strained for edo art but the characters are well created and keep the story credible the one distraction which is definitely not something kurosawa would have condoned is the tacky western music score that sounds like cheap soap opera filler except for the isolated moments when real japanese music on authentic instruments graces the track but in the end there is enough of kurosawas influence to imbue this film with his brand of dreamlike wonder that will always maintain his importance on world cinema grady harp'"
      ]
     },
     "execution_count": 8,
     "metadata": {},
     "output_type": "execute_result"
    }
   ],
   "source": [
    "review_to_words(train_X[100])"
   ]
  },
  {
   "cell_type": "code",
   "execution_count": 9,
   "metadata": {},
   "outputs": [],
   "source": [
    "import pickle\n",
    "\n",
    "cache_dir = os.path.join(\"../cache\", \"sentiment_web_app\")  # where to store cache files\n",
    "os.makedirs(cache_dir, exist_ok=True)  # ensure cache directory exists\n",
    "\n",
    "def preprocess_data(data_train, data_test, labels_train, labels_test,\n",
    "                    cache_dir=cache_dir, cache_file=\"preprocessed_data.pkl\"):\n",
    "    \"\"\"Convert each review to words; read from cache if available.\"\"\"\n",
    "\n",
    "    # If cache_file is not None, try to read from it first\n",
    "    cache_data = None\n",
    "    if cache_file is not None:\n",
    "        try:\n",
    "            with open(os.path.join(cache_dir, cache_file), \"rb\") as f:\n",
    "                cache_data = pickle.load(f)\n",
    "            print(\"Read preprocessed data from cache file:\", cache_file)\n",
    "        except:\n",
    "            pass  # unable to read from cache, but that's okay\n",
    "    \n",
    "    # If cache is missing, then do the heavy lifting\n",
    "    if cache_data is None:\n",
    "        # Preprocess training and test data to obtain words for each review\n",
    "        #words_train = list(map(review_to_words, data_train))\n",
    "        #words_test = list(map(review_to_words, data_test))\n",
    "        words_train = [review_to_words(review) for review in data_train]\n",
    "        words_test = [review_to_words(review) for review in data_test]\n",
    "        \n",
    "        # Write to cache file for future runs\n",
    "        if cache_file is not None:\n",
    "            cache_data = dict(words_train=words_train, words_test=words_test,\n",
    "                              labels_train=labels_train, labels_test=labels_test)\n",
    "            with open(os.path.join(cache_dir, cache_file), \"wb\") as f:\n",
    "                pickle.dump(cache_data, f)\n",
    "            print(\"Wrote preprocessed data to cache file:\", cache_file)\n",
    "    else:\n",
    "        # Unpack data loaded from cache file\n",
    "        words_train, words_test, labels_train, labels_test = (cache_data['words_train'],\n",
    "                cache_data['words_test'], cache_data['labels_train'], cache_data['labels_test'])\n",
    "    \n",
    "    return words_train, words_test, labels_train, labels_test"
   ]
  },
  {
   "cell_type": "code",
   "execution_count": 10,
   "metadata": {},
   "outputs": [
    {
     "name": "stdout",
     "output_type": "stream",
     "text": [
      "Wrote preprocessed data to cache file: preprocessed_data.pkl\n"
     ]
    }
   ],
   "source": [
    "# Preprocess data\n",
    "train_X, test_X, train_y, test_y = preprocess_data(train_X, test_X, train_y, test_y)"
   ]
  },
  {
   "cell_type": "markdown",
   "metadata": {},
   "source": [
    "### Extract Bag-of-Words features\n",
    "\n",
    "For the model we will be implementing, rather than using the reviews directly, we are going to transform each review into a Bag-of-Words feature representation. Keep in mind that 'in the wild' we will only have access to the training set so our transformer can only use the training set to construct a representation."
   ]
  },
  {
   "cell_type": "code",
   "execution_count": 11,
   "metadata": {},
   "outputs": [],
   "source": [
    "import numpy as np\n",
    "from sklearn.feature_extraction.text import CountVectorizer\n",
    "from sklearn.externals import joblib\n",
    "# joblib is an enhanced version of pickle that is more efficient for storing NumPy arrays\n",
    "\n",
    "def extract_BoW_features(words_train, words_test, vocabulary_size=5000,\n",
    "                         cache_dir=cache_dir, cache_file=\"bow_features.pkl\"):\n",
    "    \"\"\"Extract Bag-of-Words for a given set of documents, already preprocessed into words.\"\"\"\n",
    "    \n",
    "    # If cache_file is not None, try to read from it first\n",
    "    cache_data = None\n",
    "    if cache_file is not None:\n",
    "        try:\n",
    "            with open(os.path.join(cache_dir, cache_file), \"rb\") as f:\n",
    "                cache_data = joblib.load(f)\n",
    "            print(\"Read features from cache file:\", cache_file)\n",
    "        except:\n",
    "            pass  # unable to read from cache, but that's okay\n",
    "    \n",
    "    # If cache is missing, then do the heavy lifting\n",
    "    if cache_data is None:\n",
    "        # Fit a vectorizer to training documents and use it to transform them\n",
    "        # NOTE: Training documents have already been preprocessed and tokenized into words;\n",
    "        #       pass in dummy functions to skip those steps, e.g. preprocessor=lambda x: x\n",
    "        vectorizer = CountVectorizer(max_features=vocabulary_size)\n",
    "        features_train = vectorizer.fit_transform(words_train).toarray()\n",
    "\n",
    "        # Apply the same vectorizer to transform the test documents (ignore unknown words)\n",
    "        features_test = vectorizer.transform(words_test).toarray()\n",
    "        \n",
    "        # NOTE: Remember to convert the features using .toarray() for a compact representation\n",
    "        \n",
    "        # Write to cache file for future runs (store vocabulary as well)\n",
    "        if cache_file is not None:\n",
    "            vocabulary = vectorizer.vocabulary_\n",
    "            cache_data = dict(features_train=features_train, features_test=features_test,\n",
    "                             vocabulary=vocabulary)\n",
    "            with open(os.path.join(cache_dir, cache_file), \"wb\") as f:\n",
    "                joblib.dump(cache_data, f)\n",
    "            print(\"Wrote features to cache file:\", cache_file)\n",
    "    else:\n",
    "        # Unpack data loaded from cache file\n",
    "        features_train, features_test, vocabulary = (cache_data['features_train'],\n",
    "                cache_data['features_test'], cache_data['vocabulary'])\n",
    "    \n",
    "    # Return both the extracted features as well as the vocabulary\n",
    "    return features_train, features_test, vocabulary"
   ]
  },
  {
   "cell_type": "code",
   "execution_count": 12,
   "metadata": {},
   "outputs": [
    {
     "name": "stdout",
     "output_type": "stream",
     "text": [
      "Wrote features to cache file: bow_features.pkl\n"
     ]
    }
   ],
   "source": [
    "# Extract Bag of Words features for both training and test datasets\n",
    "train_X, test_X, vocabulary = extract_BoW_features(train_X, test_X)"
   ]
  },
  {
   "cell_type": "code",
   "execution_count": 13,
   "metadata": {},
   "outputs": [
    {
     "data": {
      "text/plain": [
       "5000"
      ]
     },
     "execution_count": 13,
     "metadata": {},
     "output_type": "execute_result"
    }
   ],
   "source": [
    "len(train_X[100])"
   ]
  },
  {
   "cell_type": "markdown",
   "metadata": {},
   "source": [
    "## Step 3: Upload data to S3\n",
    "\n",
    "Now that we have created the feature representation of our training (and testing) data, it is time to start setting up and using the XGBoost classifier provided by SageMaker.\n",
    "\n",
    "### Writing the datasets\n",
    "\n",
    "The XGBoost classifier that we will be using requires the dataset to be written to a file and stored using Amazon S3. To do this, we will start by splitting the training dataset into two parts, the data we will train the model with and a validation set. Then, we will write those datasets to a file locally and then upload the files to S3. In addition, we will write the test set to a file and upload that file to S3. This is so that we can use SageMakers Batch Transform functionality to test our model once we've fit it."
   ]
  },
  {
   "cell_type": "code",
   "execution_count": 14,
   "metadata": {},
   "outputs": [],
   "source": [
    "import pandas as pd\n",
    "\n",
    "# Earlier we shuffled the training dataset so to make things simple we can just assign\n",
    "# the first 10 000 reviews to the validation set and use the remaining reviews for training.\n",
    "val_X = pd.DataFrame(train_X[:10000])\n",
    "train_X = pd.DataFrame(train_X[10000:])\n",
    "\n",
    "val_y = pd.DataFrame(train_y[:10000])\n",
    "train_y = pd.DataFrame(train_y[10000:])"
   ]
  },
  {
   "cell_type": "markdown",
   "metadata": {},
   "source": [
    "The documentation for the XGBoost algorithm in SageMaker requires that the training and validation datasets should contain no headers or index and that the label should occur first for each sample.\n",
    "\n",
    "For more information about this and other algorithms, the SageMaker developer documentation can be found on __[Amazon's website.](https://docs.aws.amazon.com/sagemaker/latest/dg/)__"
   ]
  },
  {
   "cell_type": "code",
   "execution_count": 15,
   "metadata": {},
   "outputs": [],
   "source": [
    "# First we make sure that the local directory in which we'd like to store the training and validation csv files exists.\n",
    "data_dir = '../data/sentiment_web_app'\n",
    "if not os.path.exists(data_dir):\n",
    "    os.makedirs(data_dir)"
   ]
  },
  {
   "cell_type": "code",
   "execution_count": 16,
   "metadata": {},
   "outputs": [],
   "source": [
    "pd.DataFrame(test_X).to_csv(os.path.join(data_dir, 'test.csv'), header=False, index=False)\n",
    "\n",
    "pd.concat([val_y, val_X], axis=1).to_csv(os.path.join(data_dir, 'validation.csv'), header=False, index=False)\n",
    "pd.concat([train_y, train_X], axis=1).to_csv(os.path.join(data_dir, 'train.csv'), header=False, index=False)"
   ]
  },
  {
   "cell_type": "code",
   "execution_count": 17,
   "metadata": {},
   "outputs": [],
   "source": [
    "# To save a bit of memory we can set text_X, train_X, val_X, train_y and val_y to None.\n",
    "\n",
    "test_X = train_X = val_X = train_y = val_y = None"
   ]
  },
  {
   "cell_type": "markdown",
   "metadata": {},
   "source": [
    "### Uploading Training / Validation files to S3\n",
    "\n",
    "Amazon's S3 service allows us to store files that can be accessed by both the built-in training models such as the XGBoost model we will be using as well as custom models such as the one we will see a little later.\n",
    "\n",
    "For this and most other tasks we will be doing using SageMaker, there are two methods we could use. The first is to use the low level functionality of SageMaker which requires knowing each of the objects involved in the SageMaker environment. The second is to use the high level functionality in which certain choices have been made on the user's behalf. The low level approach benefits from allowing the user a great deal of flexibility while the high level approach makes development much quicker. For our purposes we will opt to use the high level approach although using the low-level approach is certainly an option.\n",
    "\n",
    "Recall the method `upload_data()` which is a member of the object representing our current SageMaker session. What this method does is upload the data to the default bucket (which is created if it does not exist) into the path described by the key_prefix variable. To see this for yourself, once you have uploaded the data files, go to the S3 console and look to see where the files have been uploaded.\n",
    "\n",
    "For additional resources, see the __[SageMaker API documentation](http://sagemaker.readthedocs.io/en/latest/)__ and in addition the __[SageMaker Developer Guide.](https://docs.aws.amazon.com/sagemaker/latest/dg/)__"
   ]
  },
  {
   "cell_type": "code",
   "execution_count": 18,
   "metadata": {},
   "outputs": [],
   "source": [
    "import sagemaker\n",
    "\n",
    "session = sagemaker.Session() # Store the current SageMaker session\n",
    "\n",
    "# S3 prefix (which folder will we use)\n",
    "prefix = 'sentiment-web-app'\n",
    "\n",
    "test_location = session.upload_data(os.path.join(data_dir, 'test.csv'), key_prefix=prefix)\n",
    "val_location = session.upload_data(os.path.join(data_dir, 'validation.csv'), key_prefix=prefix)\n",
    "train_location = session.upload_data(os.path.join(data_dir, 'train.csv'), key_prefix=prefix)"
   ]
  },
  {
   "cell_type": "markdown",
   "metadata": {},
   "source": [
    "## Step 4: Creating the XGBoost model\n",
    "\n",
    "Now that the data has been uploaded it is time to create the XGBoost model. To begin with, we need to do some setup. At this point it is worth discussing what a model is in SageMaker. It is easiest to think of a model of comprising three different objects in the SageMaker ecosystem, which interact with one another.\n",
    "\n",
    "- Model Artifacts\n",
    "- Training Code (Container)\n",
    "- Inference Code (Container)\n",
    "\n",
    "The Model Artifacts are what you might think of as the actual model itself. For example, if you were building a neural network, the model artifacts would be the weights of the various layers. In our case, for an XGBoost model, the artifacts are the actual trees that are created during training.\n",
    "\n",
    "The other two objects, the training code and the inference code are then used to manipulate the training artifacts. More precisely, the training code uses the training data that is provided and creates the model artifacts, while the inference code uses the model artifacts to make predictions on new data.\n",
    "\n",
    "The way that SageMaker runs the training and inference code is by making use of Docker containers. For now, think of a container as being a way of packaging code up so that dependencies aren't an issue."
   ]
  },
  {
   "cell_type": "code",
   "execution_count": 19,
   "metadata": {},
   "outputs": [],
   "source": [
    "from sagemaker import get_execution_role\n",
    "\n",
    "# Our current execution role is required when creating the model as the training\n",
    "# and inference code will need to access the model artifacts.\n",
    "role = get_execution_role()"
   ]
  },
  {
   "cell_type": "code",
   "execution_count": 20,
   "metadata": {},
   "outputs": [],
   "source": [
    "# We need to retrieve the location of the container which is provided by Amazon for using XGBoost.\n",
    "# As a matter of convenience, the training and inference code both use the same container.\n",
    "from sagemaker.amazon.amazon_estimator import get_image_uri\n",
    "\n",
    "container = get_image_uri(session.boto_region_name, 'xgboost')"
   ]
  },
  {
   "cell_type": "code",
   "execution_count": 21,
   "metadata": {},
   "outputs": [],
   "source": [
    "# First we create a SageMaker estimator object for our model.\n",
    "xgb = sagemaker.estimator.Estimator(container, # The location of the container we wish to use\n",
    "                                    role,                                    # What is our current IAM Role\n",
    "                                    train_instance_count=1,                  # How many compute instances\n",
    "                                    train_instance_type='ml.m4.xlarge',      # What kind of compute instances\n",
    "                                    output_path='s3://{}/{}/output'.format(session.default_bucket(), prefix),\n",
    "                                    sagemaker_session=session)\n",
    "\n",
    "# And then set the algorithm specific parameters.\n",
    "xgb.set_hyperparameters(max_depth=5,\n",
    "                        eta=0.2,\n",
    "                        gamma=4,\n",
    "                        min_child_weight=6,\n",
    "                        subsample=0.8,\n",
    "                        silent=0,\n",
    "                        objective='binary:logistic',\n",
    "                        early_stopping_rounds=10,\n",
    "                        num_round=500)"
   ]
  },
  {
   "cell_type": "markdown",
   "metadata": {},
   "source": [
    "### Fit the XGBoost model\n",
    "\n",
    "Now that our model has been set up we simply need to attach the training and validation datasets and then ask SageMaker to set up the computation."
   ]
  },
  {
   "cell_type": "code",
   "execution_count": 22,
   "metadata": {},
   "outputs": [],
   "source": [
    "s3_input_train = sagemaker.s3_input(s3_data=train_location, content_type='csv')\n",
    "s3_input_validation = sagemaker.s3_input(s3_data=val_location, content_type='csv')"
   ]
  },
  {
   "cell_type": "code",
   "execution_count": 23,
   "metadata": {},
   "outputs": [
    {
     "name": "stdout",
     "output_type": "stream",
     "text": [
      "2019-07-10 08:25:37 Starting - Starting the training job...\n",
      "2019-07-10 08:25:38 Starting - Launching requested ML instances......\n",
      "2019-07-10 08:26:39 Starting - Preparing the instances for training......\n",
      "2019-07-10 08:27:45 Downloading - Downloading input data...\n",
      "2019-07-10 08:28:32 Training - Training image download completed. Training in progress..\n",
      "\u001b[31mArguments: train\u001b[0m\n",
      "\u001b[31m[2019-07-10:08:28:33:INFO] Running standalone xgboost training.\u001b[0m\n",
      "\u001b[31m[2019-07-10:08:28:33:INFO] File size need to be processed in the node: 238.5mb. Available memory size in the node: 8430.13mb\u001b[0m\n",
      "\u001b[31m[2019-07-10:08:28:33:INFO] Determined delimiter of CSV input is ','\u001b[0m\n",
      "\u001b[31m[08:28:33] S3DistributionType set as FullyReplicated\u001b[0m\n",
      "\u001b[31m[08:28:35] 15000x5000 matrix with 75000000 entries loaded from /opt/ml/input/data/train?format=csv&label_column=0&delimiter=,\u001b[0m\n",
      "\u001b[31m[2019-07-10:08:28:35:INFO] Determined delimiter of CSV input is ','\u001b[0m\n",
      "\u001b[31m[08:28:35] S3DistributionType set as FullyReplicated\u001b[0m\n",
      "\u001b[31m[08:28:36] 10000x5000 matrix with 50000000 entries loaded from /opt/ml/input/data/validation?format=csv&label_column=0&delimiter=,\u001b[0m\n",
      "\u001b[31m[08:28:40] src/tree/updater_prune.cc:74: tree pruning end, 1 roots, 38 extra nodes, 10 pruned nodes, max_depth=5\u001b[0m\n",
      "\u001b[31m[0]#011train-error:0.305733#011validation-error:0.3088\u001b[0m\n",
      "\u001b[31mMultiple eval metrics have been passed: 'validation-error' will be used for early stopping.\n",
      "\u001b[0m\n",
      "\u001b[31mWill train until validation-error hasn't improved in 10 rounds.\u001b[0m\n",
      "\u001b[31m[08:28:41] src/tree/updater_prune.cc:74: tree pruning end, 1 roots, 42 extra nodes, 4 pruned nodes, max_depth=5\u001b[0m\n",
      "\u001b[31m[1]#011train-error:0.291267#011validation-error:0.2971\u001b[0m\n",
      "\u001b[31m[08:28:42] src/tree/updater_prune.cc:74: tree pruning end, 1 roots, 46 extra nodes, 2 pruned nodes, max_depth=5\u001b[0m\n",
      "\u001b[31m[2]#011train-error:0.2684#011validation-error:0.2829\u001b[0m\n",
      "\u001b[31m[08:28:44] src/tree/updater_prune.cc:74: tree pruning end, 1 roots, 46 extra nodes, 2 pruned nodes, max_depth=5\u001b[0m\n",
      "\u001b[31m[3]#011train-error:0.266467#011validation-error:0.2797\u001b[0m\n",
      "\u001b[31m[08:28:45] src/tree/updater_prune.cc:74: tree pruning end, 1 roots, 30 extra nodes, 4 pruned nodes, max_depth=5\u001b[0m\n",
      "\u001b[31m[4]#011train-error:0.2568#011validation-error:0.2698\u001b[0m\n",
      "\u001b[31m[08:28:47] src/tree/updater_prune.cc:74: tree pruning end, 1 roots, 32 extra nodes, 4 pruned nodes, max_depth=5\u001b[0m\n",
      "\u001b[31m[5]#011train-error:0.255#011validation-error:0.269\u001b[0m\n",
      "\u001b[31m[08:28:48] src/tree/updater_prune.cc:74: tree pruning end, 1 roots, 40 extra nodes, 8 pruned nodes, max_depth=5\u001b[0m\n",
      "\u001b[31m[6]#011train-error:0.249333#011validation-error:0.2644\u001b[0m\n",
      "\u001b[31m[08:28:49] src/tree/updater_prune.cc:74: tree pruning end, 1 roots, 24 extra nodes, 14 pruned nodes, max_depth=5\u001b[0m\n",
      "\u001b[31m[7]#011train-error:0.244467#011validation-error:0.2603\u001b[0m\n",
      "\u001b[31m[08:28:50] src/tree/updater_prune.cc:74: tree pruning end, 1 roots, 48 extra nodes, 4 pruned nodes, max_depth=5\u001b[0m\n",
      "\u001b[31m[8]#011train-error:0.231933#011validation-error:0.2506\u001b[0m\n",
      "\u001b[31m[08:28:52] src/tree/updater_prune.cc:74: tree pruning end, 1 roots, 28 extra nodes, 6 pruned nodes, max_depth=5\u001b[0m\n",
      "\u001b[31m[9]#011train-error:0.2262#011validation-error:0.2457\u001b[0m\n",
      "\u001b[31m[08:28:53] src/tree/updater_prune.cc:74: tree pruning end, 1 roots, 32 extra nodes, 10 pruned nodes, max_depth=5\u001b[0m\n",
      "\u001b[31m[10]#011train-error:0.219067#011validation-error:0.2393\u001b[0m\n",
      "\u001b[31m[08:28:54] src/tree/updater_prune.cc:74: tree pruning end, 1 roots, 34 extra nodes, 2 pruned nodes, max_depth=5\u001b[0m\n",
      "\u001b[31m[11]#011train-error:0.217933#011validation-error:0.2365\u001b[0m\n",
      "\u001b[31m[08:28:56] src/tree/updater_prune.cc:74: tree pruning end, 1 roots, 26 extra nodes, 6 pruned nodes, max_depth=5\u001b[0m\n",
      "\u001b[31m[12]#011train-error:0.211267#011validation-error:0.2324\u001b[0m\n",
      "\u001b[31m[08:28:57] src/tree/updater_prune.cc:74: tree pruning end, 1 roots, 34 extra nodes, 8 pruned nodes, max_depth=5\u001b[0m\n",
      "\u001b[31m[13]#011train-error:0.207067#011validation-error:0.2307\u001b[0m\n",
      "\u001b[31m[08:28:58] src/tree/updater_prune.cc:74: tree pruning end, 1 roots, 28 extra nodes, 4 pruned nodes, max_depth=5\u001b[0m\n",
      "\u001b[31m[14]#011train-error:0.203#011validation-error:0.2262\u001b[0m\n",
      "\u001b[31m[08:28:59] src/tree/updater_prune.cc:74: tree pruning end, 1 roots, 40 extra nodes, 6 pruned nodes, max_depth=5\u001b[0m\n",
      "\u001b[31m[15]#011train-error:0.198933#011validation-error:0.2192\u001b[0m\n",
      "\u001b[31m[08:29:01] src/tree/updater_prune.cc:74: tree pruning end, 1 roots, 30 extra nodes, 6 pruned nodes, max_depth=5\u001b[0m\n",
      "\u001b[31m[16]#011train-error:0.1958#011validation-error:0.217\u001b[0m\n",
      "\u001b[31m[08:29:02] src/tree/updater_prune.cc:74: tree pruning end, 1 roots, 26 extra nodes, 8 pruned nodes, max_depth=5\u001b[0m\n",
      "\u001b[31m[17]#011train-error:0.193267#011validation-error:0.2148\u001b[0m\n",
      "\u001b[31m[08:29:03] src/tree/updater_prune.cc:74: tree pruning end, 1 roots, 38 extra nodes, 8 pruned nodes, max_depth=5\u001b[0m\n",
      "\u001b[31m[18]#011train-error:0.1898#011validation-error:0.2112\u001b[0m\n",
      "\u001b[31m[08:29:04] src/tree/updater_prune.cc:74: tree pruning end, 1 roots, 20 extra nodes, 4 pruned nodes, max_depth=5\u001b[0m\n",
      "\u001b[31m[19]#011train-error:0.186933#011validation-error:0.2076\u001b[0m\n",
      "\u001b[31m[08:29:06] src/tree/updater_prune.cc:74: tree pruning end, 1 roots, 30 extra nodes, 8 pruned nodes, max_depth=5\u001b[0m\n",
      "\u001b[31m[20]#011train-error:0.1852#011validation-error:0.2061\u001b[0m\n",
      "\u001b[31m[08:29:07] src/tree/updater_prune.cc:74: tree pruning end, 1 roots, 36 extra nodes, 8 pruned nodes, max_depth=5\u001b[0m\n",
      "\u001b[31m[21]#011train-error:0.1816#011validation-error:0.2045\u001b[0m\n",
      "\u001b[31m[08:29:08] src/tree/updater_prune.cc:74: tree pruning end, 1 roots, 34 extra nodes, 8 pruned nodes, max_depth=5\u001b[0m\n",
      "\u001b[31m[22]#011train-error:0.179067#011validation-error:0.2044\u001b[0m\n",
      "\u001b[31m[08:29:09] src/tree/updater_prune.cc:74: tree pruning end, 1 roots, 30 extra nodes, 4 pruned nodes, max_depth=5\u001b[0m\n",
      "\u001b[31m[23]#011train-error:0.177267#011validation-error:0.2036\u001b[0m\n",
      "\u001b[31m[08:29:11] src/tree/updater_prune.cc:74: tree pruning end, 1 roots, 18 extra nodes, 10 pruned nodes, max_depth=5\u001b[0m\n",
      "\u001b[31m[24]#011train-error:0.174933#011validation-error:0.2024\u001b[0m\n",
      "\u001b[31m[08:29:12] src/tree/updater_prune.cc:74: tree pruning end, 1 roots, 28 extra nodes, 12 pruned nodes, max_depth=5\u001b[0m\n",
      "\u001b[31m[25]#011train-error:0.171667#011validation-error:0.2002\u001b[0m\n",
      "\u001b[31m[08:29:13] src/tree/updater_prune.cc:74: tree pruning end, 1 roots, 24 extra nodes, 8 pruned nodes, max_depth=5\u001b[0m\n",
      "\u001b[31m[26]#011train-error:0.1694#011validation-error:0.1979\u001b[0m\n",
      "\u001b[31m[08:29:14] src/tree/updater_prune.cc:74: tree pruning end, 1 roots, 16 extra nodes, 8 pruned nodes, max_depth=5\u001b[0m\n",
      "\u001b[31m[27]#011train-error:0.167333#011validation-error:0.1961\u001b[0m\n",
      "\u001b[31m[08:29:16] src/tree/updater_prune.cc:74: tree pruning end, 1 roots, 20 extra nodes, 6 pruned nodes, max_depth=5\u001b[0m\n",
      "\u001b[31m[28]#011train-error:0.166733#011validation-error:0.1951\u001b[0m\n",
      "\u001b[31m[08:29:17] src/tree/updater_prune.cc:74: tree pruning end, 1 roots, 26 extra nodes, 4 pruned nodes, max_depth=5\u001b[0m\n",
      "\u001b[31m[29]#011train-error:0.1642#011validation-error:0.193\u001b[0m\n",
      "\u001b[31m[08:29:18] src/tree/updater_prune.cc:74: tree pruning end, 1 roots, 26 extra nodes, 6 pruned nodes, max_depth=5\u001b[0m\n",
      "\u001b[31m[30]#011train-error:0.162667#011validation-error:0.1919\u001b[0m\n",
      "\u001b[31m[08:29:20] src/tree/updater_prune.cc:74: tree pruning end, 1 roots, 18 extra nodes, 8 pruned nodes, max_depth=5\u001b[0m\n",
      "\u001b[31m[31]#011train-error:0.1624#011validation-error:0.191\u001b[0m\n",
      "\u001b[31m[08:29:21] src/tree/updater_prune.cc:74: tree pruning end, 1 roots, 18 extra nodes, 12 pruned nodes, max_depth=5\u001b[0m\n",
      "\u001b[31m[32]#011train-error:0.160133#011validation-error:0.1894\u001b[0m\n",
      "\u001b[31m[08:29:22] src/tree/updater_prune.cc:74: tree pruning end, 1 roots, 24 extra nodes, 14 pruned nodes, max_depth=5\u001b[0m\n",
      "\u001b[31m[33]#011train-error:0.1578#011validation-error:0.186\u001b[0m\n",
      "\u001b[31m[08:29:23] src/tree/updater_prune.cc:74: tree pruning end, 1 roots, 12 extra nodes, 16 pruned nodes, max_depth=5\u001b[0m\n",
      "\u001b[31m[34]#011train-error:0.156733#011validation-error:0.1848\u001b[0m\n",
      "\u001b[31m[08:29:25] src/tree/updater_prune.cc:74: tree pruning end, 1 roots, 34 extra nodes, 8 pruned nodes, max_depth=5\u001b[0m\n",
      "\u001b[31m[35]#011train-error:0.1554#011validation-error:0.1845\u001b[0m\n",
      "\u001b[31m[08:29:26] src/tree/updater_prune.cc:74: tree pruning end, 1 roots, 30 extra nodes, 4 pruned nodes, max_depth=5\u001b[0m\n",
      "\u001b[31m[36]#011train-error:0.154067#011validation-error:0.1826\u001b[0m\n",
      "\u001b[31m[08:29:27] src/tree/updater_prune.cc:74: tree pruning end, 1 roots, 16 extra nodes, 14 pruned nodes, max_depth=5\u001b[0m\n",
      "\u001b[31m[37]#011train-error:0.153#011validation-error:0.1799\u001b[0m\n",
      "\u001b[31m[08:29:28] src/tree/updater_prune.cc:74: tree pruning end, 1 roots, 24 extra nodes, 8 pruned nodes, max_depth=5\u001b[0m\n",
      "\u001b[31m[38]#011train-error:0.1528#011validation-error:0.1768\u001b[0m\n",
      "\u001b[31m[08:29:30] src/tree/updater_prune.cc:74: tree pruning end, 1 roots, 30 extra nodes, 6 pruned nodes, max_depth=5\u001b[0m\n",
      "\u001b[31m[39]#011train-error:0.1492#011validation-error:0.1764\u001b[0m\n",
      "\u001b[31m[08:29:31] src/tree/updater_prune.cc:74: tree pruning end, 1 roots, 26 extra nodes, 12 pruned nodes, max_depth=5\u001b[0m\n",
      "\u001b[31m[40]#011train-error:0.148533#011validation-error:0.1767\u001b[0m\n",
      "\u001b[31m[08:29:32] src/tree/updater_prune.cc:74: tree pruning end, 1 roots, 40 extra nodes, 16 pruned nodes, max_depth=5\u001b[0m\n",
      "\u001b[31m[41]#011train-error:0.147667#011validation-error:0.1765\u001b[0m\n",
      "\u001b[31m[08:29:33] src/tree/updater_prune.cc:74: tree pruning end, 1 roots, 24 extra nodes, 12 pruned nodes, max_depth=5\u001b[0m\n",
      "\u001b[31m[42]#011train-error:0.146267#011validation-error:0.1763\u001b[0m\n",
      "\u001b[31m[08:29:35] src/tree/updater_prune.cc:74: tree pruning end, 1 roots, 18 extra nodes, 8 pruned nodes, max_depth=5\u001b[0m\n",
      "\u001b[31m[43]#011train-error:0.145467#011validation-error:0.1766\u001b[0m\n"
     ]
    },
    {
     "name": "stdout",
     "output_type": "stream",
     "text": [
      "\u001b[31m[08:29:36] src/tree/updater_prune.cc:74: tree pruning end, 1 roots, 26 extra nodes, 8 pruned nodes, max_depth=5\u001b[0m\n",
      "\u001b[31m[44]#011train-error:0.143867#011validation-error:0.1737\u001b[0m\n",
      "\u001b[31m[08:29:37] src/tree/updater_prune.cc:74: tree pruning end, 1 roots, 18 extra nodes, 10 pruned nodes, max_depth=5\u001b[0m\n",
      "\u001b[31m[45]#011train-error:0.144533#011validation-error:0.1729\u001b[0m\n",
      "\u001b[31m[08:29:39] src/tree/updater_prune.cc:74: tree pruning end, 1 roots, 16 extra nodes, 14 pruned nodes, max_depth=5\u001b[0m\n",
      "\u001b[31m[46]#011train-error:0.143867#011validation-error:0.1725\u001b[0m\n",
      "\u001b[31m[08:29:40] src/tree/updater_prune.cc:74: tree pruning end, 1 roots, 34 extra nodes, 6 pruned nodes, max_depth=5\u001b[0m\n",
      "\u001b[31m[47]#011train-error:0.1406#011validation-error:0.1726\u001b[0m\n",
      "\u001b[31m[08:29:41] src/tree/updater_prune.cc:74: tree pruning end, 1 roots, 20 extra nodes, 6 pruned nodes, max_depth=5\u001b[0m\n",
      "\u001b[31m[48]#011train-error:0.139333#011validation-error:0.1715\u001b[0m\n",
      "\u001b[31m[08:29:42] src/tree/updater_prune.cc:74: tree pruning end, 1 roots, 32 extra nodes, 8 pruned nodes, max_depth=5\u001b[0m\n",
      "\u001b[31m[49]#011train-error:0.139267#011validation-error:0.1714\u001b[0m\n",
      "\u001b[31m[08:29:44] src/tree/updater_prune.cc:74: tree pruning end, 1 roots, 20 extra nodes, 8 pruned nodes, max_depth=5\u001b[0m\n",
      "\u001b[31m[50]#011train-error:0.138667#011validation-error:0.1701\u001b[0m\n",
      "\u001b[31m[08:29:45] src/tree/updater_prune.cc:74: tree pruning end, 1 roots, 24 extra nodes, 12 pruned nodes, max_depth=5\u001b[0m\n",
      "\u001b[31m[51]#011train-error:0.136933#011validation-error:0.1694\u001b[0m\n",
      "\u001b[31m[08:29:46] src/tree/updater_prune.cc:74: tree pruning end, 1 roots, 20 extra nodes, 6 pruned nodes, max_depth=5\u001b[0m\n",
      "\u001b[31m[52]#011train-error:0.1352#011validation-error:0.1684\u001b[0m\n",
      "\u001b[31m[08:29:47] src/tree/updater_prune.cc:74: tree pruning end, 1 roots, 24 extra nodes, 6 pruned nodes, max_depth=5\u001b[0m\n",
      "\u001b[31m[53]#011train-error:0.1354#011validation-error:0.1691\u001b[0m\n",
      "\u001b[31m[08:29:49] src/tree/updater_prune.cc:74: tree pruning end, 1 roots, 26 extra nodes, 6 pruned nodes, max_depth=5\u001b[0m\n",
      "\u001b[31m[54]#011train-error:0.134667#011validation-error:0.1678\u001b[0m\n",
      "\u001b[31m[08:29:50] src/tree/updater_prune.cc:74: tree pruning end, 1 roots, 16 extra nodes, 6 pruned nodes, max_depth=5\u001b[0m\n",
      "\u001b[31m[55]#011train-error:0.134133#011validation-error:0.1675\u001b[0m\n",
      "\u001b[31m[08:29:51] src/tree/updater_prune.cc:74: tree pruning end, 1 roots, 18 extra nodes, 10 pruned nodes, max_depth=5\u001b[0m\n",
      "\u001b[31m[56]#011train-error:0.132667#011validation-error:0.1677\u001b[0m\n",
      "\u001b[31m[08:29:53] src/tree/updater_prune.cc:74: tree pruning end, 1 roots, 22 extra nodes, 12 pruned nodes, max_depth=5\u001b[0m\n",
      "\u001b[31m[57]#011train-error:0.1318#011validation-error:0.1674\u001b[0m\n",
      "\u001b[31m[08:29:54] src/tree/updater_prune.cc:74: tree pruning end, 1 roots, 22 extra nodes, 4 pruned nodes, max_depth=5\u001b[0m\n",
      "\u001b[31m[58]#011train-error:0.1318#011validation-error:0.1674\u001b[0m\n",
      "\u001b[31m[08:29:55] src/tree/updater_prune.cc:74: tree pruning end, 1 roots, 18 extra nodes, 12 pruned nodes, max_depth=5\u001b[0m\n",
      "\u001b[31m[59]#011train-error:0.130667#011validation-error:0.1665\u001b[0m\n",
      "\u001b[31m[08:29:56] src/tree/updater_prune.cc:74: tree pruning end, 1 roots, 28 extra nodes, 0 pruned nodes, max_depth=5\u001b[0m\n",
      "\u001b[31m[60]#011train-error:0.129#011validation-error:0.1664\u001b[0m\n",
      "\u001b[31m[08:29:58] src/tree/updater_prune.cc:74: tree pruning end, 1 roots, 22 extra nodes, 16 pruned nodes, max_depth=5\u001b[0m\n",
      "\u001b[31m[61]#011train-error:0.127333#011validation-error:0.1661\u001b[0m\n",
      "\u001b[31m[08:29:59] src/tree/updater_prune.cc:74: tree pruning end, 1 roots, 12 extra nodes, 12 pruned nodes, max_depth=5\u001b[0m\n",
      "\u001b[31m[62]#011train-error:0.127#011validation-error:0.1655\u001b[0m\n",
      "\u001b[31m[08:30:00] src/tree/updater_prune.cc:74: tree pruning end, 1 roots, 38 extra nodes, 8 pruned nodes, max_depth=5\u001b[0m\n",
      "\u001b[31m[63]#011train-error:0.125733#011validation-error:0.164\u001b[0m\n",
      "\u001b[31m[08:30:01] src/tree/updater_prune.cc:74: tree pruning end, 1 roots, 16 extra nodes, 10 pruned nodes, max_depth=5\u001b[0m\n",
      "\u001b[31m[64]#011train-error:0.1246#011validation-error:0.1643\u001b[0m\n",
      "\u001b[31m[08:30:03] src/tree/updater_prune.cc:74: tree pruning end, 1 roots, 20 extra nodes, 18 pruned nodes, max_depth=5\u001b[0m\n",
      "\u001b[31m[65]#011train-error:0.1242#011validation-error:0.1634\u001b[0m\n",
      "\u001b[31m[08:30:04] src/tree/updater_prune.cc:74: tree pruning end, 1 roots, 24 extra nodes, 10 pruned nodes, max_depth=5\u001b[0m\n",
      "\u001b[31m[66]#011train-error:0.122733#011validation-error:0.1635\u001b[0m\n",
      "\u001b[31m[08:30:05] src/tree/updater_prune.cc:74: tree pruning end, 1 roots, 22 extra nodes, 12 pruned nodes, max_depth=5\u001b[0m\n",
      "\u001b[31m[67]#011train-error:0.121933#011validation-error:0.1635\u001b[0m\n",
      "\u001b[31m[08:30:06] src/tree/updater_prune.cc:74: tree pruning end, 1 roots, 22 extra nodes, 10 pruned nodes, max_depth=5\u001b[0m\n",
      "\u001b[31m[68]#011train-error:0.121733#011validation-error:0.1635\u001b[0m\n",
      "\u001b[31m[08:30:08] src/tree/updater_prune.cc:74: tree pruning end, 1 roots, 14 extra nodes, 6 pruned nodes, max_depth=5\u001b[0m\n",
      "\u001b[31m[69]#011train-error:0.1208#011validation-error:0.1629\u001b[0m\n",
      "\u001b[31m[08:30:09] src/tree/updater_prune.cc:74: tree pruning end, 1 roots, 14 extra nodes, 6 pruned nodes, max_depth=5\u001b[0m\n",
      "\u001b[31m[70]#011train-error:0.1202#011validation-error:0.162\u001b[0m\n",
      "\u001b[31m[08:30:10] src/tree/updater_prune.cc:74: tree pruning end, 1 roots, 16 extra nodes, 12 pruned nodes, max_depth=5\u001b[0m\n",
      "\u001b[31m[71]#011train-error:0.119467#011validation-error:0.1612\u001b[0m\n",
      "\u001b[31m[08:30:12] src/tree/updater_prune.cc:74: tree pruning end, 1 roots, 16 extra nodes, 14 pruned nodes, max_depth=5\u001b[0m\n",
      "\u001b[31m[72]#011train-error:0.118467#011validation-error:0.1606\u001b[0m\n",
      "\u001b[31m[08:30:13] src/tree/updater_prune.cc:74: tree pruning end, 1 roots, 16 extra nodes, 14 pruned nodes, max_depth=5\u001b[0m\n",
      "\u001b[31m[73]#011train-error:0.118267#011validation-error:0.1605\u001b[0m\n",
      "\u001b[31m[08:30:14] src/tree/updater_prune.cc:74: tree pruning end, 1 roots, 20 extra nodes, 4 pruned nodes, max_depth=5\u001b[0m\n",
      "\u001b[31m[74]#011train-error:0.117867#011validation-error:0.1603\u001b[0m\n",
      "\u001b[31m[08:30:15] src/tree/updater_prune.cc:74: tree pruning end, 1 roots, 28 extra nodes, 12 pruned nodes, max_depth=5\u001b[0m\n",
      "\u001b[31m[75]#011train-error:0.116667#011validation-error:0.1596\u001b[0m\n",
      "\u001b[31m[08:30:17] src/tree/updater_prune.cc:74: tree pruning end, 1 roots, 42 extra nodes, 6 pruned nodes, max_depth=5\u001b[0m\n",
      "\u001b[31m[76]#011train-error:0.1164#011validation-error:0.1587\u001b[0m\n",
      "\u001b[31m[08:30:18] src/tree/updater_prune.cc:74: tree pruning end, 1 roots, 20 extra nodes, 8 pruned nodes, max_depth=5\u001b[0m\n",
      "\u001b[31m[77]#011train-error:0.1158#011validation-error:0.1588\u001b[0m\n",
      "\u001b[31m[08:30:19] src/tree/updater_prune.cc:74: tree pruning end, 1 roots, 14 extra nodes, 6 pruned nodes, max_depth=5\u001b[0m\n",
      "\u001b[31m[78]#011train-error:0.115467#011validation-error:0.158\u001b[0m\n",
      "\u001b[31m[08:30:20] src/tree/updater_prune.cc:74: tree pruning end, 1 roots, 16 extra nodes, 6 pruned nodes, max_depth=5\u001b[0m\n",
      "\u001b[31m[79]#011train-error:0.114867#011validation-error:0.1577\u001b[0m\n",
      "\u001b[31m[08:30:22] src/tree/updater_prune.cc:74: tree pruning end, 1 roots, 22 extra nodes, 2 pruned nodes, max_depth=5\u001b[0m\n",
      "\u001b[31m[80]#011train-error:0.114333#011validation-error:0.1576\u001b[0m\n",
      "\u001b[31m[08:30:23] src/tree/updater_prune.cc:74: tree pruning end, 1 roots, 20 extra nodes, 4 pruned nodes, max_depth=5\u001b[0m\n",
      "\u001b[31m[81]#011train-error:0.113533#011validation-error:0.1583\u001b[0m\n",
      "\u001b[31m[08:30:24] src/tree/updater_prune.cc:74: tree pruning end, 1 roots, 24 extra nodes, 6 pruned nodes, max_depth=5\u001b[0m\n",
      "\u001b[31m[82]#011train-error:0.112933#011validation-error:0.1576\u001b[0m\n",
      "\u001b[31m[08:30:26] src/tree/updater_prune.cc:74: tree pruning end, 1 roots, 12 extra nodes, 12 pruned nodes, max_depth=5\u001b[0m\n",
      "\u001b[31m[83]#011train-error:0.112533#011validation-error:0.1578\u001b[0m\n",
      "\u001b[31m[08:30:27] src/tree/updater_prune.cc:74: tree pruning end, 1 roots, 18 extra nodes, 12 pruned nodes, max_depth=5\u001b[0m\n",
      "\u001b[31m[84]#011train-error:0.111933#011validation-error:0.1581\u001b[0m\n",
      "\u001b[31m[08:30:28] src/tree/updater_prune.cc:74: tree pruning end, 1 roots, 12 extra nodes, 10 pruned nodes, max_depth=5\u001b[0m\n",
      "\u001b[31m[85]#011train-error:0.111467#011validation-error:0.1567\u001b[0m\n",
      "\u001b[31m[08:30:29] src/tree/updater_prune.cc:74: tree pruning end, 1 roots, 24 extra nodes, 6 pruned nodes, max_depth=5\u001b[0m\n",
      "\u001b[31m[86]#011train-error:0.110333#011validation-error:0.1575\u001b[0m\n",
      "\u001b[31m[08:30:31] src/tree/updater_prune.cc:74: tree pruning end, 1 roots, 12 extra nodes, 8 pruned nodes, max_depth=5\u001b[0m\n",
      "\u001b[31m[87]#011train-error:0.110467#011validation-error:0.1575\u001b[0m\n",
      "\u001b[31m[08:30:32] src/tree/updater_prune.cc:74: tree pruning end, 1 roots, 22 extra nodes, 12 pruned nodes, max_depth=5\u001b[0m\n",
      "\u001b[31m[88]#011train-error:0.109733#011validation-error:0.1567\u001b[0m\n",
      "\u001b[31m[08:30:33] src/tree/updater_prune.cc:74: tree pruning end, 1 roots, 14 extra nodes, 10 pruned nodes, max_depth=5\u001b[0m\n",
      "\u001b[31m[89]#011train-error:0.109533#011validation-error:0.1558\u001b[0m\n",
      "\u001b[31m[08:30:34] src/tree/updater_prune.cc:74: tree pruning end, 1 roots, 14 extra nodes, 8 pruned nodes, max_depth=5\u001b[0m\n",
      "\u001b[31m[90]#011train-error:0.108933#011validation-error:0.1558\u001b[0m\n",
      "\u001b[31m[08:30:36] src/tree/updater_prune.cc:74: tree pruning end, 1 roots, 22 extra nodes, 14 pruned nodes, max_depth=5\u001b[0m\n",
      "\u001b[31m[91]#011train-error:0.107733#011validation-error:0.1557\u001b[0m\n"
     ]
    },
    {
     "name": "stdout",
     "output_type": "stream",
     "text": [
      "\u001b[31m[08:30:37] src/tree/updater_prune.cc:74: tree pruning end, 1 roots, 22 extra nodes, 12 pruned nodes, max_depth=5\u001b[0m\n",
      "\u001b[31m[92]#011train-error:0.107667#011validation-error:0.1548\u001b[0m\n",
      "\u001b[31m[08:30:38] src/tree/updater_prune.cc:74: tree pruning end, 1 roots, 18 extra nodes, 8 pruned nodes, max_depth=5\u001b[0m\n",
      "\u001b[31m[93]#011train-error:0.1078#011validation-error:0.155\u001b[0m\n",
      "\u001b[31m[08:30:39] src/tree/updater_prune.cc:74: tree pruning end, 1 roots, 18 extra nodes, 10 pruned nodes, max_depth=5\u001b[0m\n",
      "\u001b[31m[94]#011train-error:0.106667#011validation-error:0.1549\u001b[0m\n",
      "\u001b[31m[08:30:41] src/tree/updater_prune.cc:74: tree pruning end, 1 roots, 20 extra nodes, 8 pruned nodes, max_depth=5\u001b[0m\n",
      "\u001b[31m[95]#011train-error:0.1056#011validation-error:0.1544\u001b[0m\n",
      "\u001b[31m[08:30:42] src/tree/updater_prune.cc:74: tree pruning end, 1 roots, 26 extra nodes, 14 pruned nodes, max_depth=5\u001b[0m\n",
      "\u001b[31m[96]#011train-error:0.104733#011validation-error:0.1536\u001b[0m\n",
      "\u001b[31m[08:30:43] src/tree/updater_prune.cc:74: tree pruning end, 1 roots, 22 extra nodes, 8 pruned nodes, max_depth=5\u001b[0m\n",
      "\u001b[31m[97]#011train-error:0.1044#011validation-error:0.1527\u001b[0m\n",
      "\u001b[31m[08:30:44] src/tree/updater_prune.cc:74: tree pruning end, 1 roots, 14 extra nodes, 6 pruned nodes, max_depth=5\u001b[0m\n",
      "\u001b[31m[98]#011train-error:0.104#011validation-error:0.1528\u001b[0m\n",
      "\u001b[31m[08:30:46] src/tree/updater_prune.cc:74: tree pruning end, 1 roots, 24 extra nodes, 2 pruned nodes, max_depth=5\u001b[0m\n",
      "\u001b[31m[99]#011train-error:0.1038#011validation-error:0.1525\u001b[0m\n",
      "\u001b[31m[08:30:47] src/tree/updater_prune.cc:74: tree pruning end, 1 roots, 18 extra nodes, 14 pruned nodes, max_depth=5\u001b[0m\n",
      "\u001b[31m[100]#011train-error:0.1036#011validation-error:0.1522\u001b[0m\n",
      "\u001b[31m[08:30:48] src/tree/updater_prune.cc:74: tree pruning end, 1 roots, 14 extra nodes, 8 pruned nodes, max_depth=5\u001b[0m\n",
      "\u001b[31m[101]#011train-error:0.102533#011validation-error:0.1526\u001b[0m\n",
      "\u001b[31m[08:30:50] src/tree/updater_prune.cc:74: tree pruning end, 1 roots, 26 extra nodes, 12 pruned nodes, max_depth=5\u001b[0m\n",
      "\u001b[31m[102]#011train-error:0.101467#011validation-error:0.1518\u001b[0m\n",
      "\u001b[31m[08:30:51] src/tree/updater_prune.cc:74: tree pruning end, 1 roots, 14 extra nodes, 6 pruned nodes, max_depth=5\u001b[0m\n",
      "\u001b[31m[103]#011train-error:0.1008#011validation-error:0.1511\u001b[0m\n",
      "\u001b[31m[08:30:52] src/tree/updater_prune.cc:74: tree pruning end, 1 roots, 14 extra nodes, 2 pruned nodes, max_depth=5\u001b[0m\n",
      "\u001b[31m[104]#011train-error:0.100533#011validation-error:0.1505\u001b[0m\n",
      "\u001b[31m[08:30:53] src/tree/updater_prune.cc:74: tree pruning end, 1 roots, 18 extra nodes, 4 pruned nodes, max_depth=5\u001b[0m\n",
      "\u001b[31m[105]#011train-error:0.100067#011validation-error:0.1511\u001b[0m\n",
      "\u001b[31m[08:30:55] src/tree/updater_prune.cc:74: tree pruning end, 1 roots, 16 extra nodes, 10 pruned nodes, max_depth=5\u001b[0m\n",
      "\u001b[31m[106]#011train-error:0.099867#011validation-error:0.1513\u001b[0m\n",
      "\u001b[31m[08:30:56] src/tree/updater_prune.cc:74: tree pruning end, 1 roots, 16 extra nodes, 12 pruned nodes, max_depth=5\u001b[0m\n",
      "\u001b[31m[107]#011train-error:0.099067#011validation-error:0.151\u001b[0m\n",
      "\u001b[31m[08:30:57] src/tree/updater_prune.cc:74: tree pruning end, 1 roots, 16 extra nodes, 8 pruned nodes, max_depth=5\u001b[0m\n",
      "\u001b[31m[108]#011train-error:0.099#011validation-error:0.15\u001b[0m\n",
      "\u001b[31m[08:30:58] src/tree/updater_prune.cc:74: tree pruning end, 1 roots, 18 extra nodes, 8 pruned nodes, max_depth=5\u001b[0m\n",
      "\u001b[31m[109]#011train-error:0.098667#011validation-error:0.1505\u001b[0m\n",
      "\u001b[31m[08:31:00] src/tree/updater_prune.cc:74: tree pruning end, 1 roots, 10 extra nodes, 6 pruned nodes, max_depth=5\u001b[0m\n",
      "\u001b[31m[110]#011train-error:0.098667#011validation-error:0.1504\u001b[0m\n",
      "\u001b[31m[08:31:01] src/tree/updater_prune.cc:74: tree pruning end, 1 roots, 16 extra nodes, 12 pruned nodes, max_depth=5\u001b[0m\n",
      "\u001b[31m[111]#011train-error:0.098467#011validation-error:0.1501\u001b[0m\n",
      "\u001b[31m[08:31:02] src/tree/updater_prune.cc:74: tree pruning end, 1 roots, 18 extra nodes, 2 pruned nodes, max_depth=5\u001b[0m\n",
      "\u001b[31m[112]#011train-error:0.098067#011validation-error:0.1501\u001b[0m\n",
      "\u001b[31m[08:31:03] src/tree/updater_prune.cc:74: tree pruning end, 1 roots, 12 extra nodes, 2 pruned nodes, max_depth=5\u001b[0m\n",
      "\u001b[31m[113]#011train-error:0.0978#011validation-error:0.15\u001b[0m\n",
      "\u001b[31m[08:31:05] src/tree/updater_prune.cc:74: tree pruning end, 1 roots, 26 extra nodes, 18 pruned nodes, max_depth=5\u001b[0m\n",
      "\u001b[31m[114]#011train-error:0.097267#011validation-error:0.1498\u001b[0m\n",
      "\u001b[31m[08:31:06] src/tree/updater_prune.cc:74: tree pruning end, 1 roots, 12 extra nodes, 10 pruned nodes, max_depth=5\u001b[0m\n",
      "\u001b[31m[115]#011train-error:0.096733#011validation-error:0.1493\u001b[0m\n",
      "\u001b[31m[08:31:07] src/tree/updater_prune.cc:74: tree pruning end, 1 roots, 24 extra nodes, 4 pruned nodes, max_depth=5\u001b[0m\n",
      "\u001b[31m[116]#011train-error:0.0956#011validation-error:0.1491\u001b[0m\n",
      "\u001b[31m[08:31:09] src/tree/updater_prune.cc:74: tree pruning end, 1 roots, 12 extra nodes, 14 pruned nodes, max_depth=5\u001b[0m\n",
      "\u001b[31m[117]#011train-error:0.095#011validation-error:0.1485\u001b[0m\n",
      "\u001b[31m[08:31:10] src/tree/updater_prune.cc:74: tree pruning end, 1 roots, 20 extra nodes, 4 pruned nodes, max_depth=5\u001b[0m\n",
      "\u001b[31m[118]#011train-error:0.095067#011validation-error:0.15\u001b[0m\n",
      "\u001b[31m[08:31:11] src/tree/updater_prune.cc:74: tree pruning end, 1 roots, 22 extra nodes, 10 pruned nodes, max_depth=5\u001b[0m\n",
      "\u001b[31m[119]#011train-error:0.0948#011validation-error:0.1489\u001b[0m\n",
      "\u001b[31m[08:31:12] src/tree/updater_prune.cc:74: tree pruning end, 1 roots, 16 extra nodes, 12 pruned nodes, max_depth=5\u001b[0m\n",
      "\u001b[31m[120]#011train-error:0.0944#011validation-error:0.1495\u001b[0m\n",
      "\u001b[31m[08:31:14] src/tree/updater_prune.cc:74: tree pruning end, 1 roots, 24 extra nodes, 14 pruned nodes, max_depth=5\u001b[0m\n",
      "\u001b[31m[121]#011train-error:0.0932#011validation-error:0.1485\u001b[0m\n",
      "\u001b[31m[08:31:15] src/tree/updater_prune.cc:74: tree pruning end, 1 roots, 26 extra nodes, 6 pruned nodes, max_depth=5\u001b[0m\n",
      "\u001b[31m[122]#011train-error:0.092533#011validation-error:0.149\u001b[0m\n",
      "\u001b[31m[08:31:16] src/tree/updater_prune.cc:74: tree pruning end, 1 roots, 12 extra nodes, 6 pruned nodes, max_depth=5\u001b[0m\n",
      "\u001b[31m[123]#011train-error:0.0924#011validation-error:0.1479\u001b[0m\n",
      "\u001b[31m[08:31:17] src/tree/updater_prune.cc:74: tree pruning end, 1 roots, 12 extra nodes, 0 pruned nodes, max_depth=5\u001b[0m\n",
      "\u001b[31m[124]#011train-error:0.092267#011validation-error:0.1475\u001b[0m\n",
      "\u001b[31m[08:31:19] src/tree/updater_prune.cc:74: tree pruning end, 1 roots, 10 extra nodes, 2 pruned nodes, max_depth=5\u001b[0m\n",
      "\u001b[31m[125]#011train-error:0.091933#011validation-error:0.1474\u001b[0m\n",
      "\u001b[31m[08:31:20] src/tree/updater_prune.cc:74: tree pruning end, 1 roots, 18 extra nodes, 8 pruned nodes, max_depth=5\u001b[0m\n",
      "\u001b[31m[126]#011train-error:0.091733#011validation-error:0.1472\u001b[0m\n",
      "\u001b[31m[08:31:21] src/tree/updater_prune.cc:74: tree pruning end, 1 roots, 10 extra nodes, 4 pruned nodes, max_depth=5\u001b[0m\n",
      "\u001b[31m[127]#011train-error:0.0918#011validation-error:0.1472\u001b[0m\n",
      "\u001b[31m[08:31:22] src/tree/updater_prune.cc:74: tree pruning end, 1 roots, 20 extra nodes, 8 pruned nodes, max_depth=5\u001b[0m\n",
      "\u001b[31m[128]#011train-error:0.090933#011validation-error:0.1464\u001b[0m\n",
      "\u001b[31m[08:31:24] src/tree/updater_prune.cc:74: tree pruning end, 1 roots, 14 extra nodes, 6 pruned nodes, max_depth=5\u001b[0m\n",
      "\u001b[31m[129]#011train-error:0.090333#011validation-error:0.1471\u001b[0m\n",
      "\u001b[31m[08:31:25] src/tree/updater_prune.cc:74: tree pruning end, 1 roots, 28 extra nodes, 10 pruned nodes, max_depth=5\u001b[0m\n",
      "\u001b[31m[130]#011train-error:0.089733#011validation-error:0.1464\u001b[0m\n",
      "\u001b[31m[08:31:26] src/tree/updater_prune.cc:74: tree pruning end, 1 roots, 16 extra nodes, 2 pruned nodes, max_depth=5\u001b[0m\n",
      "\u001b[31m[131]#011train-error:0.088933#011validation-error:0.1461\u001b[0m\n",
      "\u001b[31m[08:31:27] src/tree/updater_prune.cc:74: tree pruning end, 1 roots, 14 extra nodes, 2 pruned nodes, max_depth=5\u001b[0m\n",
      "\u001b[31m[132]#011train-error:0.089067#011validation-error:0.1459\u001b[0m\n",
      "\u001b[31m[08:31:29] src/tree/updater_prune.cc:74: tree pruning end, 1 roots, 20 extra nodes, 2 pruned nodes, max_depth=5\u001b[0m\n",
      "\u001b[31m[133]#011train-error:0.088733#011validation-error:0.1458\u001b[0m\n",
      "\u001b[31m[08:31:30] src/tree/updater_prune.cc:74: tree pruning end, 1 roots, 34 extra nodes, 2 pruned nodes, max_depth=5\u001b[0m\n",
      "\u001b[31m[134]#011train-error:0.088267#011validation-error:0.145\u001b[0m\n",
      "\u001b[31m[08:31:31] src/tree/updater_prune.cc:74: tree pruning end, 1 roots, 28 extra nodes, 14 pruned nodes, max_depth=5\u001b[0m\n",
      "\u001b[31m[135]#011train-error:0.086867#011validation-error:0.1451\u001b[0m\n",
      "\u001b[31m[08:31:33] src/tree/updater_prune.cc:74: tree pruning end, 1 roots, 16 extra nodes, 4 pruned nodes, max_depth=5\u001b[0m\n",
      "\u001b[31m[136]#011train-error:0.086333#011validation-error:0.1451\u001b[0m\n",
      "\u001b[31m[08:31:34] src/tree/updater_prune.cc:74: tree pruning end, 1 roots, 26 extra nodes, 4 pruned nodes, max_depth=5\u001b[0m\n",
      "\u001b[31m[137]#011train-error:0.085867#011validation-error:0.1454\u001b[0m\n",
      "\u001b[31m[08:31:35] src/tree/updater_prune.cc:74: tree pruning end, 1 roots, 16 extra nodes, 4 pruned nodes, max_depth=5\u001b[0m\n",
      "\u001b[31m[138]#011train-error:0.085933#011validation-error:0.1454\u001b[0m\n",
      "\u001b[31m[08:31:36] src/tree/updater_prune.cc:74: tree pruning end, 1 roots, 14 extra nodes, 4 pruned nodes, max_depth=5\u001b[0m\n",
      "\u001b[31m[139]#011train-error:0.0854#011validation-error:0.1447\u001b[0m\n"
     ]
    },
    {
     "name": "stdout",
     "output_type": "stream",
     "text": [
      "\u001b[31m[08:31:38] src/tree/updater_prune.cc:74: tree pruning end, 1 roots, 18 extra nodes, 12 pruned nodes, max_depth=5\u001b[0m\n",
      "\u001b[31m[140]#011train-error:0.084933#011validation-error:0.1439\u001b[0m\n",
      "\u001b[31m[08:31:39] src/tree/updater_prune.cc:74: tree pruning end, 1 roots, 18 extra nodes, 12 pruned nodes, max_depth=5\u001b[0m\n",
      "\u001b[31m[141]#011train-error:0.084867#011validation-error:0.1431\u001b[0m\n",
      "\u001b[31m[08:31:40] src/tree/updater_prune.cc:74: tree pruning end, 1 roots, 10 extra nodes, 6 pruned nodes, max_depth=5\u001b[0m\n",
      "\u001b[31m[142]#011train-error:0.085#011validation-error:0.1426\u001b[0m\n",
      "\u001b[31m[08:31:41] src/tree/updater_prune.cc:74: tree pruning end, 1 roots, 10 extra nodes, 2 pruned nodes, max_depth=5\u001b[0m\n",
      "\u001b[31m[143]#011train-error:0.084533#011validation-error:0.1428\u001b[0m\n",
      "\u001b[31m[08:31:43] src/tree/updater_prune.cc:74: tree pruning end, 1 roots, 24 extra nodes, 2 pruned nodes, max_depth=5\u001b[0m\n",
      "\u001b[31m[144]#011train-error:0.084067#011validation-error:0.1433\u001b[0m\n",
      "\u001b[31m[08:31:44] src/tree/updater_prune.cc:74: tree pruning end, 1 roots, 14 extra nodes, 10 pruned nodes, max_depth=5\u001b[0m\n",
      "\u001b[31m[145]#011train-error:0.084667#011validation-error:0.1435\u001b[0m\n",
      "\u001b[31m[08:31:45] src/tree/updater_prune.cc:74: tree pruning end, 1 roots, 10 extra nodes, 8 pruned nodes, max_depth=5\u001b[0m\n",
      "\u001b[31m[146]#011train-error:0.084533#011validation-error:0.1432\u001b[0m\n",
      "\u001b[31m[08:31:47] src/tree/updater_prune.cc:74: tree pruning end, 1 roots, 10 extra nodes, 4 pruned nodes, max_depth=5\u001b[0m\n",
      "\u001b[31m[147]#011train-error:0.084133#011validation-error:0.1432\u001b[0m\n",
      "\u001b[31m[08:31:48] src/tree/updater_prune.cc:74: tree pruning end, 1 roots, 12 extra nodes, 4 pruned nodes, max_depth=5\u001b[0m\n",
      "\u001b[31m[148]#011train-error:0.083733#011validation-error:0.1428\u001b[0m\n",
      "\u001b[31m[08:31:49] src/tree/updater_prune.cc:74: tree pruning end, 1 roots, 12 extra nodes, 8 pruned nodes, max_depth=5\u001b[0m\n",
      "\u001b[31m[149]#011train-error:0.0832#011validation-error:0.1422\u001b[0m\n",
      "\u001b[31m[08:31:50] src/tree/updater_prune.cc:74: tree pruning end, 1 roots, 12 extra nodes, 14 pruned nodes, max_depth=5\u001b[0m\n",
      "\u001b[31m[150]#011train-error:0.083#011validation-error:0.1421\u001b[0m\n",
      "\u001b[31m[08:31:52] src/tree/updater_prune.cc:74: tree pruning end, 1 roots, 16 extra nodes, 4 pruned nodes, max_depth=5\u001b[0m\n",
      "\u001b[31m[151]#011train-error:0.082333#011validation-error:0.1418\u001b[0m\n",
      "\u001b[31m[08:31:53] src/tree/updater_prune.cc:74: tree pruning end, 1 roots, 10 extra nodes, 4 pruned nodes, max_depth=5\u001b[0m\n",
      "\u001b[31m[152]#011train-error:0.082267#011validation-error:0.1415\u001b[0m\n",
      "\u001b[31m[08:31:54] src/tree/updater_prune.cc:74: tree pruning end, 1 roots, 10 extra nodes, 4 pruned nodes, max_depth=5\u001b[0m\n",
      "\u001b[31m[153]#011train-error:0.082667#011validation-error:0.1408\u001b[0m\n",
      "\u001b[31m[08:31:55] src/tree/updater_prune.cc:74: tree pruning end, 1 roots, 22 extra nodes, 14 pruned nodes, max_depth=5\u001b[0m\n",
      "\u001b[31m[154]#011train-error:0.081933#011validation-error:0.1409\u001b[0m\n",
      "\u001b[31m[08:31:57] src/tree/updater_prune.cc:74: tree pruning end, 1 roots, 16 extra nodes, 4 pruned nodes, max_depth=5\u001b[0m\n",
      "\u001b[31m[155]#011train-error:0.082#011validation-error:0.1412\u001b[0m\n",
      "\u001b[31m[08:31:58] src/tree/updater_prune.cc:74: tree pruning end, 1 roots, 18 extra nodes, 10 pruned nodes, max_depth=5\u001b[0m\n",
      "\u001b[31m[156]#011train-error:0.081733#011validation-error:0.1411\u001b[0m\n",
      "\u001b[31m[08:31:59] src/tree/updater_prune.cc:74: tree pruning end, 1 roots, 20 extra nodes, 6 pruned nodes, max_depth=5\u001b[0m\n",
      "\u001b[31m[157]#011train-error:0.0814#011validation-error:0.1413\u001b[0m\n",
      "\u001b[31m[08:32:00] src/tree/updater_prune.cc:74: tree pruning end, 1 roots, 14 extra nodes, 6 pruned nodes, max_depth=5\u001b[0m\n",
      "\u001b[31m[158]#011train-error:0.081133#011validation-error:0.1406\u001b[0m\n",
      "\u001b[31m[08:32:02] src/tree/updater_prune.cc:74: tree pruning end, 1 roots, 22 extra nodes, 10 pruned nodes, max_depth=5\u001b[0m\n",
      "\u001b[31m[159]#011train-error:0.080733#011validation-error:0.1413\u001b[0m\n",
      "\u001b[31m[08:32:03] src/tree/updater_prune.cc:74: tree pruning end, 1 roots, 14 extra nodes, 8 pruned nodes, max_depth=5\u001b[0m\n",
      "\u001b[31m[160]#011train-error:0.08#011validation-error:0.141\u001b[0m\n",
      "\u001b[31m[08:32:04] src/tree/updater_prune.cc:74: tree pruning end, 1 roots, 12 extra nodes, 2 pruned nodes, max_depth=5\u001b[0m\n",
      "\u001b[31m[161]#011train-error:0.080467#011validation-error:0.1412\u001b[0m\n",
      "\u001b[31m[08:32:05] src/tree/updater_prune.cc:74: tree pruning end, 1 roots, 16 extra nodes, 8 pruned nodes, max_depth=5\u001b[0m\n",
      "\u001b[31m[162]#011train-error:0.0804#011validation-error:0.1408\u001b[0m\n",
      "\u001b[31m[08:32:07] src/tree/updater_prune.cc:74: tree pruning end, 1 roots, 20 extra nodes, 10 pruned nodes, max_depth=5\u001b[0m\n",
      "\u001b[31m[163]#011train-error:0.079933#011validation-error:0.14\u001b[0m\n",
      "\u001b[31m[08:32:08] src/tree/updater_prune.cc:74: tree pruning end, 1 roots, 24 extra nodes, 6 pruned nodes, max_depth=5\u001b[0m\n",
      "\u001b[31m[164]#011train-error:0.079467#011validation-error:0.1411\u001b[0m\n",
      "\u001b[31m[08:32:09] src/tree/updater_prune.cc:74: tree pruning end, 1 roots, 16 extra nodes, 4 pruned nodes, max_depth=5\u001b[0m\n",
      "\u001b[31m[165]#011train-error:0.0798#011validation-error:0.1406\u001b[0m\n",
      "\u001b[31m[08:32:11] src/tree/updater_prune.cc:74: tree pruning end, 1 roots, 10 extra nodes, 12 pruned nodes, max_depth=5\u001b[0m\n",
      "\u001b[31m[166]#011train-error:0.079533#011validation-error:0.1403\u001b[0m\n",
      "\u001b[31m[08:32:12] src/tree/updater_prune.cc:74: tree pruning end, 1 roots, 22 extra nodes, 14 pruned nodes, max_depth=5\u001b[0m\n",
      "\u001b[31m[167]#011train-error:0.079267#011validation-error:0.1407\u001b[0m\n",
      "\u001b[31m[08:32:13] src/tree/updater_prune.cc:74: tree pruning end, 1 roots, 16 extra nodes, 12 pruned nodes, max_depth=5\u001b[0m\n",
      "\u001b[31m[168]#011train-error:0.079133#011validation-error:0.1397\u001b[0m\n",
      "\u001b[31m[08:32:14] src/tree/updater_prune.cc:74: tree pruning end, 1 roots, 12 extra nodes, 4 pruned nodes, max_depth=5\u001b[0m\n",
      "\u001b[31m[169]#011train-error:0.078867#011validation-error:0.1404\u001b[0m\n",
      "\u001b[31m[08:32:16] src/tree/updater_prune.cc:74: tree pruning end, 1 roots, 14 extra nodes, 4 pruned nodes, max_depth=5\u001b[0m\n",
      "\u001b[31m[170]#011train-error:0.078533#011validation-error:0.1404\u001b[0m\n",
      "\u001b[31m[08:32:17] src/tree/updater_prune.cc:74: tree pruning end, 1 roots, 16 extra nodes, 6 pruned nodes, max_depth=5\u001b[0m\n",
      "\u001b[31m[171]#011train-error:0.078#011validation-error:0.14\u001b[0m\n",
      "\u001b[31m[08:32:18] src/tree/updater_prune.cc:74: tree pruning end, 1 roots, 12 extra nodes, 2 pruned nodes, max_depth=5\u001b[0m\n",
      "\u001b[31m[172]#011train-error:0.077667#011validation-error:0.1401\u001b[0m\n",
      "\u001b[31m[08:32:19] src/tree/updater_prune.cc:74: tree pruning end, 1 roots, 18 extra nodes, 6 pruned nodes, max_depth=5\u001b[0m\n",
      "\u001b[31m[173]#011train-error:0.077667#011validation-error:0.1401\u001b[0m\n",
      "\u001b[31m[08:32:21] src/tree/updater_prune.cc:74: tree pruning end, 1 roots, 22 extra nodes, 8 pruned nodes, max_depth=5\u001b[0m\n",
      "\u001b[31m[174]#011train-error:0.0774#011validation-error:0.1406\u001b[0m\n",
      "\u001b[31m[08:32:22] src/tree/updater_prune.cc:74: tree pruning end, 1 roots, 30 extra nodes, 12 pruned nodes, max_depth=5\u001b[0m\n",
      "\u001b[31m[175]#011train-error:0.077467#011validation-error:0.1402\u001b[0m\n",
      "\u001b[31m[08:32:23] src/tree/updater_prune.cc:74: tree pruning end, 1 roots, 10 extra nodes, 8 pruned nodes, max_depth=5\u001b[0m\n",
      "\u001b[31m[176]#011train-error:0.077133#011validation-error:0.1398\u001b[0m\n",
      "\u001b[31m[08:32:24] src/tree/updater_prune.cc:74: tree pruning end, 1 roots, 12 extra nodes, 14 pruned nodes, max_depth=5\u001b[0m\n",
      "\u001b[31m[177]#011train-error:0.077067#011validation-error:0.1399\u001b[0m\n",
      "\u001b[31m[08:32:26] src/tree/updater_prune.cc:74: tree pruning end, 1 roots, 14 extra nodes, 6 pruned nodes, max_depth=5\u001b[0m\n",
      "\u001b[31m[178]#011train-error:0.076733#011validation-error:0.14\u001b[0m\n",
      "\u001b[31mStopping. Best iteration:\u001b[0m\n",
      "\u001b[31m[168]#011train-error:0.079133#011validation-error:0.1397\n",
      "\u001b[0m\n",
      "\n",
      "2019-07-10 08:32:38 Uploading - Uploading generated training model\n",
      "2019-07-10 08:32:38 Completed - Training job completed\n",
      "Billable seconds: 294\n"
     ]
    }
   ],
   "source": [
    "xgb.fit({'train': s3_input_train, 'validation': s3_input_validation})"
   ]
  },
  {
   "cell_type": "markdown",
   "metadata": {},
   "source": [
    "## Step 5: Testing the model\n",
    "\n",
    "Now that we've fit our XGBoost model, it's time to see how well it performs. To do this we will use SageMakers Batch Transform functionality. Batch Transform is a convenient way to perform inference on a large dataset in a way that is not realtime. That is, we don't necessarily need to use our model's results immediately and instead we can perform inference on a large number of samples. An example of this in industry might be performing an end of month report. This method of inference can also be useful to us as it means that we can perform inference on our entire test set. \n",
    "\n",
    "To perform a Batch Transformation we need to first create a transformer objects from our trained estimator object."
   ]
  },
  {
   "cell_type": "code",
   "execution_count": 24,
   "metadata": {},
   "outputs": [],
   "source": [
    "xgb_transformer = xgb.transformer(instance_count = 1, instance_type = 'ml.m4.xlarge')"
   ]
  },
  {
   "cell_type": "markdown",
   "metadata": {},
   "source": [
    "Next we actually perform the transform job. When doing so we need to make sure to specify the type of data we are sending so that it is serialized correctly in the background. In our case we are providing our model with csv data so we specify `text/csv`. Also, if the test data that we have provided is too large to process all at once then we need to specify how the data file should be split up. Since each line is a single entry in our data set we tell SageMaker that it can split the input on each line."
   ]
  },
  {
   "cell_type": "code",
   "execution_count": 25,
   "metadata": {},
   "outputs": [],
   "source": [
    "xgb_transformer.transform(test_location, content_type='text/csv', split_type='Line')"
   ]
  },
  {
   "cell_type": "markdown",
   "metadata": {},
   "source": [
    "Currently the transform job is running but it is doing so in the background. Since we wish to wait until the transform job is done and we would like a bit of feedback we can run the `wait()` method."
   ]
  },
  {
   "cell_type": "code",
   "execution_count": 26,
   "metadata": {},
   "outputs": [
    {
     "name": "stdout",
     "output_type": "stream",
     "text": [
      "...............................................!\n"
     ]
    }
   ],
   "source": [
    "xgb_transformer.wait()"
   ]
  },
  {
   "cell_type": "markdown",
   "metadata": {},
   "source": [
    "Now the transform job has executed and the result, the estimated sentiment of each review, has been saved on S3. Since we would rather work on this file locally we can perform a bit of notebook magic to copy the file to the `data_dir`."
   ]
  },
  {
   "cell_type": "code",
   "execution_count": 27,
   "metadata": {},
   "outputs": [
    {
     "name": "stdout",
     "output_type": "stream",
     "text": [
      "Completed 256.0 KiB/370.1 KiB (3.7 MiB/s) with 1 file(s) remaining\r",
      "Completed 370.1 KiB/370.1 KiB (5.1 MiB/s) with 1 file(s) remaining\r",
      "download: s3://sagemaker-us-east-2-129722534204/xgboost-2019-07-10-08-32-53-948/test.csv.out to ../data/sentiment_web_app/test.csv.out\r\n"
     ]
    }
   ],
   "source": [
    "!aws s3 cp --recursive $xgb_transformer.output_path $data_dir"
   ]
  },
  {
   "cell_type": "markdown",
   "metadata": {},
   "source": [
    "The last step is now to read in the output from our model, convert the output to something a little more usable, in this case we want the sentiment to be either `1` (positive) or `0` (negative), and then compare to the ground truth labels."
   ]
  },
  {
   "cell_type": "code",
   "execution_count": 28,
   "metadata": {},
   "outputs": [],
   "source": [
    "predictions = pd.read_csv(os.path.join(data_dir, 'test.csv.out'), header=None)\n",
    "predictions = [round(num) for num in predictions.squeeze().values]"
   ]
  },
  {
   "cell_type": "code",
   "execution_count": 29,
   "metadata": {},
   "outputs": [
    {
     "data": {
      "text/plain": [
       "0.8594"
      ]
     },
     "execution_count": 29,
     "metadata": {},
     "output_type": "execute_result"
    }
   ],
   "source": [
    "from sklearn.metrics import accuracy_score\n",
    "accuracy_score(test_y, predictions)"
   ]
  },
  {
   "cell_type": "markdown",
   "metadata": {},
   "source": [
    "## Step 6: Deploying the model\n",
    "\n",
    "Once we construct and fit our model, SageMaker stores the resulting model artifacts and we can use those to deploy an endpoint (inference code). To see this, look in the SageMaker console and you should see that a model has been created along with a link to the S3 location where the model artifacts have been stored.\n",
    "\n",
    "Deploying an endpoint is a lot like training the model with a few important differences. The first is that a deployed model doesn't change the model artifacts, so as you send it various testing instances the model won't change. Another difference is that since we aren't performing a fixed computation, as we were in the training step or while performing a batch transform, the compute instance that gets started stays running until we tell it to stop. This is important to note as if we forget and leave it running we will be charged the entire time.\n",
    "\n",
    "In other words **If you are no longer using a deployed endpoint, shut it down!**"
   ]
  },
  {
   "cell_type": "code",
   "execution_count": 30,
   "metadata": {},
   "outputs": [
    {
     "name": "stdout",
     "output_type": "stream",
     "text": [
      "--------------------------------------------------------------------------------------!"
     ]
    }
   ],
   "source": [
    "xgb_predictor = xgb.deploy(initial_instance_count = 1, instance_type = 'ml.m4.xlarge')"
   ]
  },
  {
   "cell_type": "markdown",
   "metadata": {},
   "source": [
    "### Testing the model (again)\n",
    "\n",
    "Now that we have deployed our endpoint, we can send the testing data to it and get back the inference results. We already did this earlier using the batch transform functionality of SageMaker, however, we will test our model again using the newly deployed endpoint so that we can make sure that it works properly and to get a bit of a feel for how the endpoint works.\n",
    "\n",
    "When using the created endpoint it is important to know that we are limited in the amount of information we can send in each call so we need to break the testing data up into chunks and then send each chunk. Also, we need to serialize our data before we send it to the endpoint to ensure that our data is transmitted properly. Fortunately, SageMaker can do the serialization part for us provided we tell it the format of our data."
   ]
  },
  {
   "cell_type": "code",
   "execution_count": 31,
   "metadata": {},
   "outputs": [],
   "source": [
    "from sagemaker.predictor import csv_serializer\n",
    "\n",
    "# We need to tell the endpoint what format the data we are sending is in so that SageMaker can perform the serialization.\n",
    "xgb_predictor.content_type = 'text/csv'\n",
    "xgb_predictor.serializer = csv_serializer"
   ]
  },
  {
   "cell_type": "code",
   "execution_count": 32,
   "metadata": {},
   "outputs": [],
   "source": [
    "# We split the data into chunks and send each chunk seperately, accumulating the results.\n",
    "\n",
    "def predict(data, rows=512):\n",
    "    split_array = np.array_split(data, int(data.shape[0] / float(rows) + 1))\n",
    "    predictions = ''\n",
    "    for array in split_array:\n",
    "        predictions = ','.join([predictions, xgb_predictor.predict(array).decode('utf-8')])\n",
    "    \n",
    "    return np.fromstring(predictions[1:], sep=',')"
   ]
  },
  {
   "cell_type": "code",
   "execution_count": 33,
   "metadata": {},
   "outputs": [],
   "source": [
    "test_X = pd.read_csv(os.path.join(data_dir, 'test.csv'), header=None).values\n",
    "\n",
    "predictions = predict(test_X)\n",
    "predictions = [round(num) for num in predictions]"
   ]
  },
  {
   "cell_type": "markdown",
   "metadata": {},
   "source": [
    "Lastly, we check to see what the accuracy of our model is."
   ]
  },
  {
   "cell_type": "code",
   "execution_count": 34,
   "metadata": {},
   "outputs": [
    {
     "data": {
      "text/plain": [
       "0.8594"
      ]
     },
     "execution_count": 34,
     "metadata": {},
     "output_type": "execute_result"
    }
   ],
   "source": [
    "from sklearn.metrics import accuracy_score\n",
    "accuracy_score(test_y, predictions)"
   ]
  },
  {
   "cell_type": "markdown",
   "metadata": {},
   "source": [
    "And the results here should agree with the model testing that we did earlier using the batch transform job.\n",
    "\n",
    "### Cleaning up\n",
    "\n",
    "Now that we've determined that deploying our model works as expected, we are going to shut it down. Remember that the longer the endpoint is left running, the greater the cost and since we have a bit more work to do before we are able to use our endpoint with our simple web app, we should shut everything down."
   ]
  },
  {
   "cell_type": "code",
   "execution_count": 35,
   "metadata": {},
   "outputs": [],
   "source": [
    "xgb_predictor.delete_endpoint()"
   ]
  },
  {
   "cell_type": "markdown",
   "metadata": {},
   "source": [
    "## Step 7: Putting our model to work\n",
    "\n",
    "As we've mentioned a few times now, our goal is to have our model deployed and then access it using a very simple web app. The intent is for this web app to take some user submitted data (a review), send it off to our endpoint (the model) and then display the result.\n",
    "\n",
    "However, there is a small catch. Currently the only way we can access the endpoint to send it data is using the SageMaker API. We can, if we wish, expose the actual URL that our model's endpoint is receiving data from, however, if we just send it data ourselves we will not get anything in return. This is because the endpoint created by SageMaker requires the entity accessing it have the correct permissions. So, we would need to somehow authenticate our web app with AWS.\n",
    "\n",
    "Having a website that authenticates to AWS seems a bit beyond the scope of this lesson so we will opt for an alternative approach. Namely, we will create a new endpoint which does not require authentication and which acts as a proxy for the SageMaker endpoint.\n",
    "\n",
    "As an additional constraint, we will try to avoid doing any data processing in the web app itself. Remember that when we constructed and tested our model we started with a movie review, then we simplified it by removing any html formatting and punctuation, then we constructed a bag of words embedding and the resulting vector is what we sent to our model. All of this needs to be done to our user input as well.\n",
    "\n",
    "Fortunately we can do all of this data processing in the backend, using Amazon's Lambda service.\n",
    "\n",
    "<img src=\"Web App Diagram.svg\">\n",
    "\n",
    "The diagram above gives an overview of how the various services will work together. On the far right is the model which we trained above and which will be deployed using SageMaker. On the far left is our web app that collects a user's movie review, sends it off and expects a positive or negative sentiment in return.\n",
    "\n",
    "In the middle is where some of the magic happens. We will construct a Lambda function, which you can think of as a straightforward Python function that can be executed whenever a specified event occurs. This Python function will do the data processing we need to perform on a user submitted review. In addition, we will give this function permission to send and recieve data from a SageMaker endpoint.\n",
    "\n",
    "Lastly, the method we will use to execute the Lambda function is a new endpoint that we will create using API Gateway. This endpoint will be a url that listens for data to be sent to it. Once it gets some data it will pass that data on to the Lambda function and then return whatever the Lambda function returns. Essentially it will act as an interface that lets our web app communicate with the Lambda function.\n",
    "\n",
    "### Processing a single review\n",
    "\n",
    "For now, suppose we are given a movie review by our user in the form of a string, like so:"
   ]
  },
  {
   "cell_type": "code",
   "execution_count": 36,
   "metadata": {},
   "outputs": [],
   "source": [
    "test_review = \"Nothing but a disgusting materialistic pageant of glistening abed remote control greed zombies, totally devoid of any heart or heat. A romantic comedy that has zero romantic chemestry and zero laughs!\""
   ]
  },
  {
   "cell_type": "markdown",
   "metadata": {},
   "source": [
    "How do we go from this string to the bag of words feature vector that is expected by our model?\n",
    "\n",
    "If we recall at the beginning of this notebook, the first step is to remove any unnecessary characters using the `review_to_words` method. Remember that we intentionally did this in a very simplistic way. This is because we are going to have to copy this method to our (eventual) Lambda function (we will go into more detail later) and this means it needs to be rather simplistic."
   ]
  },
  {
   "cell_type": "code",
   "execution_count": 37,
   "metadata": {},
   "outputs": [
    {
     "name": "stdout",
     "output_type": "stream",
     "text": [
      "nothing but a disgusting materialistic pageant of glistening abed remote control greed zombies totally devoid of any heart or heat a romantic comedy that has zero romantic chemestry and zero laughs\n"
     ]
    }
   ],
   "source": [
    "test_words = review_to_words(test_review)\n",
    "print(test_words)"
   ]
  },
  {
   "cell_type": "markdown",
   "metadata": {},
   "source": [
    "Next, we need to construct a bag of words embedding of the `test_words` string. To do this, remember that a bag of words embedding uses a `vocabulary` consisting of the most frequently appearing words in a set of documents. Then, for each word in the vocabulary we record the number of times that word appears in `test_words`. We constructed the `vocabulary` earlier using the training set for our problem so encoding `test_words` is relatively straightforward."
   ]
  },
  {
   "cell_type": "code",
   "execution_count": 38,
   "metadata": {},
   "outputs": [],
   "source": [
    "def bow_encoding(words, vocabulary):\n",
    "    bow = [0] * len(vocabulary) # Start by setting the count for each word in the vocabulary to zero.\n",
    "    for word in words.split():  # For each word in the string\n",
    "        if word in vocabulary:  # If the word is one that occurs in the vocabulary, increase its count.\n",
    "            bow[vocabulary[word]] += 1\n",
    "    return bow"
   ]
  },
  {
   "cell_type": "code",
   "execution_count": 39,
   "metadata": {},
   "outputs": [
    {
     "name": "stdout",
     "output_type": "stream",
     "text": [
      "[0, 0, 0, 0, 0, 0, 0, 0, 0, 0, 0, 0, 0, 0, 0, 0, 0, 0, 0, 0, 0, 0, 0, 0, 0, 0, 0, 0, 0, 0, 0, 0, 0, 0, 0, 0, 0, 0, 0, 0, 0, 0, 0, 0, 0, 0, 0, 0, 0, 0, 0, 0, 0, 0, 0, 0, 0, 0, 0, 0, 0, 0, 0, 0, 0, 0, 0, 0, 0, 0, 0, 0, 0, 0, 0, 0, 0, 0, 0, 0, 0, 0, 0, 0, 0, 0, 0, 0, 0, 0, 0, 0, 0, 0, 0, 0, 0, 0, 0, 0, 0, 0, 0, 0, 0, 0, 0, 0, 0, 0, 0, 0, 0, 0, 0, 0, 0, 0, 0, 0, 0, 0, 0, 0, 0, 0, 0, 0, 0, 0, 0, 0, 0, 0, 0, 0, 0, 0, 0, 0, 0, 0, 0, 0, 0, 0, 0, 0, 0, 0, 0, 0, 0, 0, 0, 0, 0, 0, 0, 0, 0, 0, 0, 0, 0, 0, 0, 0, 0, 0, 0, 0, 0, 0, 0, 0, 0, 0, 0, 0, 0, 0, 0, 0, 0, 0, 0, 0, 0, 0, 0, 0, 0, 0, 0, 0, 0, 0, 0, 0, 0, 0, 0, 0, 0, 0, 0, 0, 0, 0, 0, 0, 0, 0, 0, 0, 0, 0, 0, 0, 0, 0, 0, 0, 0, 0, 1, 0, 0, 0, 0, 0, 0, 0, 0, 0, 0, 0, 0, 0, 0, 0, 0, 0, 0, 0, 0, 0, 0, 0, 0, 0, 0, 0, 0, 0, 1, 0, 0, 0, 0, 0, 0, 0, 0, 0, 0, 0, 0, 0, 0, 0, 0, 0, 0, 0, 0, 0, 0, 0, 0, 0, 0, 0, 0, 0, 0, 0, 0, 0, 0, 0, 0, 0, 0, 0, 0, 0, 0, 0, 0, 0, 0, 0, 0, 0, 0, 0, 0, 0, 0, 0, 0, 0, 0, 0, 0, 0, 0, 0, 0, 0, 0, 0, 0, 0, 0, 0, 0, 0, 0, 0, 0, 0, 0, 0, 0, 0, 0, 0, 0, 0, 0, 0, 0, 0, 0, 0, 0, 0, 0, 0, 0, 0, 0, 0, 0, 0, 0, 0, 0, 0, 0, 0, 0, 0, 0, 0, 0, 0, 0, 0, 0, 0, 0, 0, 0, 0, 0, 0, 0, 0, 0, 0, 0, 0, 0, 0, 0, 0, 0, 0, 0, 0, 0, 0, 0, 0, 0, 0, 0, 0, 0, 0, 0, 0, 0, 0, 0, 0, 0, 0, 0, 0, 0, 0, 0, 0, 0, 0, 0, 0, 0, 0, 0, 0, 0, 0, 0, 0, 0, 0, 0, 0, 0, 0, 0, 0, 0, 0, 0, 0, 0, 0, 0, 0, 0, 0, 0, 0, 0, 0, 0, 0, 0, 0, 0, 0, 0, 0, 0, 0, 0, 0, 0, 0, 0, 0, 0, 0, 0, 0, 0, 0, 0, 0, 0, 0, 0, 0, 0, 0, 0, 0, 0, 0, 0, 0, 0, 0, 0, 0, 0, 0, 0, 0, 0, 0, 0, 0, 0, 0, 0, 0, 0, 0, 0, 0, 0, 0, 0, 0, 0, 0, 0, 0, 0, 0, 0, 0, 0, 0, 0, 0, 0, 0, 0, 0, 0, 0, 0, 0, 0, 0, 0, 0, 0, 0, 0, 0, 0, 0, 0, 0, 0, 0, 0, 0, 0, 0, 0, 0, 0, 0, 0, 0, 0, 0, 0, 0, 0, 0, 0, 0, 0, 0, 0, 0, 0, 0, 0, 0, 0, 0, 0, 0, 0, 0, 0, 0, 0, 0, 0, 0, 0, 0, 0, 0, 0, 0, 0, 0, 0, 0, 0, 0, 0, 0, 0, 0, 0, 0, 0, 0, 0, 0, 0, 0, 0, 0, 0, 0, 0, 0, 0, 0, 0, 0, 0, 0, 0, 0, 0, 0, 0, 0, 0, 0, 0, 0, 0, 0, 0, 0, 0, 0, 1, 0, 0, 0, 0, 0, 0, 0, 0, 0, 0, 0, 0, 0, 0, 0, 0, 0, 0, 0, 0, 0, 0, 0, 0, 0, 0, 0, 0, 0, 0, 0, 0, 0, 0, 0, 0, 0, 0, 0, 0, 0, 0, 0, 0, 0, 0, 0, 0, 0, 0, 0, 0, 0, 0, 0, 0, 0, 0, 0, 0, 0, 0, 0, 0, 0, 0, 0, 0, 0, 0, 0, 0, 0, 0, 0, 0, 0, 0, 0, 0, 0, 0, 0, 0, 0, 0, 0, 0, 0, 0, 0, 0, 0, 0, 0, 0, 0, 0, 0, 0, 0, 0, 0, 0, 0, 0, 0, 0, 0, 0, 0, 0, 0, 0, 0, 0, 0, 0, 0, 0, 0, 0, 0, 0, 0, 0, 0, 0, 0, 0, 0, 0, 0, 0, 0, 0, 0, 0, 0, 0, 0, 0, 0, 0, 0, 0, 0, 0, 0, 0, 0, 0, 0, 0, 0, 0, 0, 0, 0, 0, 0, 0, 0, 0, 0, 0, 0, 0, 0, 0, 0, 0, 0, 0, 0, 0, 0, 0, 0, 0, 0, 0, 0, 0, 0, 0, 0, 0, 0, 0, 0, 0, 0, 0, 0, 0, 0, 0, 0, 0, 0, 0, 0, 0, 0, 0, 0, 0, 0, 0, 0, 0, 0, 0, 0, 0, 0, 0, 0, 0, 0, 0, 0, 0, 0, 0, 0, 0, 0, 0, 0, 0, 0, 0, 0, 0, 0, 0, 0, 0, 0, 0, 0, 0, 0, 0, 0, 0, 0, 0, 0, 0, 0, 1, 0, 0, 0, 0, 0, 0, 0, 0, 0, 0, 0, 0, 0, 0, 0, 0, 0, 0, 0, 0, 0, 0, 0, 0, 0, 0, 0, 0, 0, 0, 0, 0, 0, 0, 0, 0, 0, 0, 0, 0, 0, 0, 0, 0, 0, 0, 0, 0, 0, 0, 0, 0, 0, 0, 0, 0, 0, 0, 0, 0, 0, 0, 0, 0, 0, 0, 0, 0, 0, 0, 0, 0, 0, 0, 0, 0, 0, 0, 0, 0, 0, 0, 0, 0, 0, 0, 1, 0, 0, 0, 0, 0, 0, 0, 0, 0, 0, 0, 0, 0, 0, 0, 0, 0, 0, 0, 0, 0, 0, 0, 0, 0, 0, 0, 0, 0, 0, 0, 0, 0, 0, 0, 0, 0, 0, 0, 0, 0, 0, 0, 0, 0, 0, 0, 0, 0, 0, 0, 0, 0, 0, 0, 0, 0, 0, 0, 0, 0, 0, 0, 0, 0, 0, 0, 0, 0, 0, 0, 0, 0, 0, 0, 0, 0, 0, 0, 0, 0, 0, 0, 0, 0, 0, 0, 0, 0, 0, 0, 0, 0, 0, 0, 0, 0, 0, 0, 0, 0, 0, 0, 0, 0, 0, 0, 0, 0, 0, 0, 0, 0, 0, 0, 0, 0, 0, 0, 0, 0, 0, 0, 0, 0, 0, 0, 0, 0, 0, 0, 0, 0, 0, 0, 0, 0, 0, 0, 0, 0, 0, 0, 0, 0, 0, 0, 0, 0, 0, 0, 0, 0, 0, 0, 0, 0, 0, 0, 0, 0, 0, 0, 0, 0, 0, 0, 0, 0, 0, 0, 0, 0, 0, 0, 0, 0, 0, 0, 0, 0, 0, 0, 0, 0, 0, 0, 0, 0, 0, 0, 0, 0, 0, 0, 0, 0, 0, 0, 0, 0, 0, 0, 0, 0, 0, 0, 0, 0, 0, 0, 0, 0, 0, 0, 0, 0, 0, 0, 0, 0, 0, 0, 0, 0, 0, 0, 0, 0, 0, 0, 0, 0, 0, 0, 0, 0, 0, 0, 0, 0, 0, 0, 0, 0, 0, 0, 0, 0, 0, 0, 0, 1, 0, 0, 0, 0, 0, 0, 0, 0, 0, 0, 0, 0, 0, 0, 0, 0, 0, 0, 0, 0, 0, 0, 0, 0, 0, 0, 0, 0, 0, 0, 0, 0, 0, 0, 0, 0, 0, 0, 0, 0, 0, 0, 0, 0, 0, 0, 0, 0, 0, 0, 0, 0, 0, 0, 0, 1, 0, 0, 0, 0, 0, 0, 0, 0, 0, 0, 0, 0, 0, 0, 0, 0, 0, 0, 0, 0, 0, 0, 0, 0, 0, 0, 0, 0, 0, 0, 0, 0, 0, 0, 0, 0, 0, 0, 0, 0, 0, 0, 0, 0, 0, 0, 0, 0, 0, 0, 0, 0, 0, 0, 0, 0, 0, 0, 0, 0, 0, 0, 0, 0, 0, 0, 0, 0, 0, 0, 0, 0, 0, 0, 0, 0, 0, 0, 0, 0, 0, 0, 0, 0, 0, 0, 0, 0, 0, 0, 0, 0, 0, 0, 0, 0, 0, 0, 0, 0, 0, 0, 0, 0, 0, 0, 0, 0, 0, 0, 0, 0, 0, 0, 0, 0, 0, 0, 0, 0, 0, 0, 0, 0, 0, 0, 0, 0, 0, 0, 0, 0, 0, 0, 0, 0, 0, 0, 0, 0, 0, 0, 0, 0, 0, 0, 0, 0, 0, 0, 0, 0, 0, 0, 0, 0, 0, 0, 0, 0, 0, 0, 0, 0, 0, 0, 0, 0, 0, 0, 0, 0, 0, 0, 0, 0, 0, 0, 0, 0, 0, 0, 0, 0, 0, 0, 0, 0, 0, 0, 0, 0, 0, 0, 0, 0, 0, 0, 0, 0, 0, 0, 0, 0, 0, 0, 0, 0, 0, 0, 0, 0, 0, 0, 0, 0, 0, 0, 0, 0, 0, 0, 0, 0, 0, 0, 0, 0, 0, 0, 0, 0, 0, 0, 0, 0, 0, 0, 0, 0, 0, 0, 0, 0, 0, 0, 0, 0, 0, 0, 0, 0, 0, 0, 0, 0, 0, 0, 0, 0, 0, 0, 0, 0, 0, 0, 0, 0, 0, 0, 0, 0, 0, 0, 0, 0, 0, 0, 0, 0, 0, 0, 0, 0, 0, 0, 0, 0, 0, 0, 0, 0, 0, 0, 0, 0, 0, 0, 0, 0, 0, 0, 0, 0, 0, 0, 0, 0, 0, 0, 0, 0, 0, 0, 0, 0, 0, 0, 0, 0, 0, 0, 0, 0, 0, 0, 0, 0, 0, 0, 0, 0, 0, 0, 0, 0, 0, 0, 0, 0, 0, 0, 0, 0, 0, 0, 0, 0, 0, 0, 0, 0, 0, 0, 0, 0, 0, 0, 0, 0, 0, 0, 0, 0, 0, 0, 0, 0, 0, 0, 0, 0, 0, 0, 0, 0, 0, 0, 0, 0, 0, 0, 0, 0, 0, 0, 0, 0, 0, 0, 0, 0, 0, 0, 0, 0, 0, 0, 0, 0, 0, 0, 0, 0, 0, 0, 0, 0, 0, 0, 0, 0, 0, 0, 0, 0, 0, 0, 0, 0, 0, 0, 0, 0, 0, 0, 0, 0, 0, 0, 0, 0, 0, 0, 0, 0, 0, 0, 0, 0, 0, 0, 0, 0, 0, 0, 0, 0, 0, 0, 0, 0, 0, 0, 0, 0, 0, 0, 0, 0, 0, 0, 0, 0, 0, 0, 0, 0, 0, 0, 0, 0, 0, 0, 0, 0, 0, 0, 0, 0, 0, 0, 0, 0, 0, 0, 0, 0, 0, 0, 0, 0, 0, 0, 0, 0, 0, 0, 0, 0, 0, 0, 0, 0, 0, 0, 0, 0, 0, 0, 0, 0, 0, 0, 0, 0, 0, 0, 0, 0, 0, 0, 0, 0, 0, 0, 0, 0, 0, 0, 0, 0, 0, 0, 0, 0, 0, 0, 0, 0, 0, 0, 0, 0, 0, 0, 0, 0, 0, 0, 0, 0, 0, 0, 0, 0, 0, 0, 0, 0, 0, 0, 0, 0, 0, 0, 0, 0, 0, 0, 0, 0, 0, 0, 0, 0, 0, 0, 0, 0, 0, 0, 0, 0, 0, 0, 0, 0, 0, 0, 0, 0, 0, 0, 0, 0, 0, 0, 0, 0, 0, 0, 0, 0, 0, 0, 0, 0, 0, 0, 0, 0, 0, 0, 0, 0, 0, 0, 0, 0, 0, 0, 0, 0, 0, 0, 0, 0, 0, 0, 0, 0, 0, 0, 0, 0, 0, 0, 0, 0, 0, 0, 0, 0, 0, 0, 0, 0, 0, 0, 0, 0, 0, 0, 0, 0, 0, 0, 0, 0, 0, 0, 0, 0, 0, 0, 0, 0, 0, 0, 0, 0, 0, 0, 0, 0, 0, 0, 0, 0, 0, 1, 0, 0, 0, 0, 0, 0, 0, 0, 0, 0, 0, 0, 0, 0, 0, 0, 0, 0, 0, 0, 0, 0, 0, 0, 0, 0, 0, 0, 0, 0, 0, 0, 0, 0, 0, 0, 0, 0, 0, 0, 0, 0, 0, 0, 0, 0, 0, 0, 0, 0, 0, 0, 0, 0, 0, 0, 0, 0, 0, 0, 0, 0, 0, 0, 0, 0, 0, 0, 0, 0, 0, 0, 0, 0, 1, 0, 0, 0, 0, 0, 0, 0, 0, 0, 0, 0, 0, 0, 0, 0, 0, 0, 0, 0, 0, 1, 0, 0, 1, 0, 0, 0, 0, 0, 0, 0, 0, 0, 0, 0, 0, 0, 0, 0, 0, 0, 0, 0, 0, 0, 0, 0, 0, 0, 0, 0, 0, 0, 0, 0, 0, 0, 0, 0, 0, 0, 0, 0, 0, 0, 0, 0, 0, 0, 0, 0, 0, 0, 0, 0, 0, 0, 0, 0, 0, 0, 0, 0, 0, 0, 0, 0, 0, 0, 0, 0, 0, 0, 0, 0, 0, 0, 0, 0, 0, 0, 0, 0, 0, 0, 0, 0, 0, 0, 0, 0, 0, 0, 0, 0, 0, 0, 0, 0, 0, 0, 0, 0, 0, 0, 0, 0, 0, 0, 0, 0, 0, 0, 0, 0, 0, 0, 0, 0, 0, 0, 0, 0, 0, 0, 0, 0, 0, 0, 0, 0, 0, 0, 0, 0, 0, 0, 0, 0, 0, 0, 0, 0, 0, 0, 0, 0, 0, 0, 0, 0, 0, 0, 0, 0, 0, 0, 0, 0, 0, 0, 0, 0, 0, 0, 0, 0, 0, 0, 0, 0, 0, 0, 0, 0, 0, 0, 0, 0, 0, 0, 0, 0, 0, 0, 0, 0, 0, 0, 0, 0, 0, 0, 0, 0, 0, 0, 0, 0, 0, 0, 0, 0, 0, 0, 0, 0, 0, 0, 0, 0, 0, 0, 0, 0, 0, 0, 0, 0, 0, 0, 0, 0, 0, 0, 0, 0, 0, 0, 0, 0, 0, 0, 0, 0, 0, 0, 0, 0, 0, 0, 0, 0, 0, 0, 0, 0, 0, 0, 0, 0, 0, 0, 0, 0, 0, 0, 0, 0, 0, 0, 0, 0, 0, 0, 0, 0, 0, 0, 0, 0, 0, 0, 0, 0, 0, 0, 0, 0, 0, 0, 0, 0, 0, 0, 0, 0, 0, 0, 0, 0, 0, 0, 0, 0, 0, 0, 0, 0, 0, 0, 0, 0, 0, 0, 0, 0, 0, 0, 0, 0, 0, 0, 0, 0, 0, 0, 0, 0, 0, 0, 0, 0, 0, 0, 0, 0, 0, 0, 0, 0, 0, 0, 0, 0, 0, 0, 0, 0, 0, 0, 0, 0, 0, 0, 0, 0, 0, 0, 0, 0, 0, 0, 0, 0, 0, 0, 0, 0, 0, 0, 0, 0, 0, 0, 0, 0, 0, 0, 0, 0, 0, 0, 0, 0, 0, 0, 0, 0, 0, 0, 0, 0, 0, 0, 0, 0, 0, 0, 0, 0, 0, 0, 0, 0, 0, 0, 0, 0, 0, 0, 0, 0, 0, 0, 0, 0, 0, 0, 0, 0, 0, 0, 0, 0, 0, 0, 0, 0, 0, 0, 0, 0, 0, 0, 0, 0, 0, 0, 0, 0, 0, 0, 0, 0, 0, 0, 0, 0, 0, 0, 0, 0, 0, 0, 0, 0, 0, 0, 0, 0, 0, 0, 0, 0, 0, 0, 0, 0, 0, 0, 0, 0, 0, 0, 0, 0, 0, 0, 0, 1, 0, 0, 0, 0, 0, 0, 0, 0, 0, 0, 0, 0, 0, 0, 0, 0, 0, 0, 0, 0, 0, 0, 0, 0, 0, 0, 0, 0, 0, 0, 0, 0, 0, 0, 0, 0, 0, 0, 0, 0, 0, 0, 0, 0, 0, 0, 0, 0, 0, 0, 0, 0, 0, 0, 0, 0, 0, 0, 0, 0, 0, 0, 0, 0, 0, 0, 0, 0, 0, 0, 0, 0, 0, 0, 0, 0, 0, 0, 0, 0, 0, 0, 0, 0, 0, 0, 0, 0, 0, 0, 0, 0, 0, 0, 0, 0, 0, 0, 0, 0, 0, 0, 0, 0, 0, 0, 0, 0, 0, 0, 0, 0, 0, 0, 0, 0, 0, 0, 0, 0, 0, 0, 0, 0, 0, 0, 0, 0, 0, 0, 0, 0, 0, 0, 0, 0, 0, 0, 0, 0, 0, 0, 0, 0, 0, 0, 0, 0, 0, 0, 0, 0, 0, 0, 0, 0, 0, 0, 0, 0, 0, 0, 0, 0, 0, 0, 0, 0, 0, 0, 0, 0, 0, 0, 0, 0, 0, 0, 0, 0, 0, 0, 0, 0, 0, 0, 0, 0, 0, 0, 0, 0, 0, 0, 0, 0, 0, 0, 0, 0, 0, 0, 0, 0, 0, 0, 0, 0, 0, 0, 0, 0, 0, 0, 0, 0, 0, 0, 0, 0, 0, 0, 0, 0, 0, 0, 0, 0, 0, 0, 0, 0, 0, 0, 0, 0, 0, 0, 0, 0, 0, 0, 0, 0, 0, 0, 0, 0, 0, 0, 0, 0, 0, 0, 0, 0, 0, 0, 0, 0, 0, 0, 0, 0, 0, 0, 0, 0, 0, 0, 0, 0, 0, 0, 0, 0, 0, 0, 0, 0, 0, 0, 0, 0, 0, 0, 0, 0, 0, 0, 0, 0, 0, 0, 0, 0, 0, 0, 0, 0, 0, 0, 0, 0, 0, 0, 0, 0, 0, 0, 0, 0, 0, 0, 0, 0, 0, 0, 0, 0, 0, 0, 0, 0, 0, 0, 0, 0, 0, 0, 0, 0, 0, 0, 0, 0, 0, 0, 0, 0, 0, 0, 0, 0, 0, 0, 0, 0, 0, 0, 0, 0, 0, 0, 0, 0, 0, 0, 0, 0, 0, 0, 0, 0, 0, 0, 0, 0, 0, 0, 0, 0, 0, 0, 0, 0, 0, 0, 0, 0, 0, 0, 0, 0, 0, 0, 0, 0, 0, 0, 0, 0, 0, 0, 0, 0, 0, 0, 0, 0, 0, 0, 0, 0, 0, 0, 0, 0, 0, 0, 0, 0, 0, 0, 0, 0, 0, 0, 0, 0, 0, 0, 0, 0, 0, 0, 0, 0, 0, 0, 0, 0, 0, 0, 0, 0, 0, 0, 0, 0, 0, 0, 0, 0, 0, 0, 0, 0, 0, 0, 0, 0, 0, 0, 0, 0, 0, 0, 0, 0, 0, 0, 0, 0, 0, 0, 0, 0, 0, 0, 0, 0, 0, 0, 0, 0, 0, 0, 0, 0, 0, 0, 0, 0, 0, 0, 0, 0, 0, 0, 0, 0, 0, 0, 0, 0, 0, 0, 0, 0, 0, 0, 0, 0, 0, 0, 0, 0, 0, 0, 0, 0, 1, 0, 0, 0, 0, 0, 0, 0, 0, 0, 0, 0, 0, 0, 0, 0, 0, 0, 0, 0, 0, 0, 0, 0, 0, 0, 0, 0, 0, 0, 0, 0, 0, 0, 0, 0, 2, 0, 0, 0, 0, 0, 0, 0, 0, 0, 0, 0, 0, 0, 0, 0, 0, 0, 0, 0, 0, 0, 0, 0, 0, 0, 0, 0, 0, 0, 0, 0, 0, 0, 0, 0, 0, 0, 0, 0, 0, 1, 0, 0, 0, 0, 0, 0, 0, 0, 0, 0, 0, 0, 0, 0, 0, 0, 0, 0, 0, 0, 0, 0, 0, 0, 0, 0, 0, 0, 0, 0, 0, 0, 0, 0, 0, 0, 0, 0, 0, 0, 0, 0, 0, 0, 0, 0, 0, 0, 0, 0, 0, 0, 0, 0, 0, 0, 0, 0, 0, 0, 0, 0, 0, 0, 0, 0, 0, 0, 0, 0, 0, 0, 0, 0, 0, 0, 0, 0, 0, 0, 0, 0, 0, 0, 0, 0, 0, 0, 0, 0, 0, 0, 0, 0, 0, 0, 0, 0, 0, 0, 0, 0, 0, 0, 0, 0, 0, 0, 0, 0, 0, 0, 0, 0, 0, 0, 0, 0, 0, 0, 0, 0, 0, 0, 0, 0, 0, 0, 0, 0, 0, 0, 0, 0, 0, 0, 0, 0, 0, 0, 0, 0, 0, 0, 0, 0, 0, 0, 0, 0, 0, 0, 0, 0, 0, 0, 0, 0, 0, 0, 0, 0, 0, 0, 0, 0, 0, 0, 0, 0, 0, 0, 0, 0, 0, 0, 0, 0, 0, 0, 0, 0, 0, 0, 0, 0, 0, 0, 0, 0, 0, 0, 0, 0, 0, 0, 0, 0, 0, 0, 0, 0, 0, 0, 0, 0, 0, 0, 0, 0, 0, 0, 0, 0, 0, 0, 0, 0, 0, 0, 0, 0, 0, 0, 0, 0, 0, 0, 0, 0, 0, 0, 0, 0, 0, 0, 0, 0, 0, 0, 0, 0, 0, 0, 0, 0, 0, 0, 0, 0, 0, 0, 0, 0, 0, 0, 0, 0, 0, 0, 0, 0, 0, 0, 0, 0, 0, 0, 0, 0, 0, 0, 0, 0, 0, 0, 0, 0, 0, 0, 0, 0, 0, 0, 0, 0, 0, 0, 0, 0, 0, 0, 0, 0, 0, 0, 0, 0, 0, 0, 0, 0, 0, 0, 0, 0, 0, 0, 0, 0, 0, 0, 0, 0, 0, 0, 0, 0, 0, 0, 0, 0, 0, 0, 0, 0, 0, 0, 0, 0, 0, 0, 0, 0, 0, 0, 0, 0, 0, 0, 0, 0, 0, 0, 0, 0, 0, 0, 0, 0, 0, 0, 0, 0, 0, 0, 0, 0, 0, 0, 0, 0, 0, 0, 0, 0, 0, 0, 0, 0, 0, 0, 0, 0, 0, 0, 0, 0, 0, 0, 0, 0, 0, 0, 0, 0, 0, 0, 0, 0, 0, 0, 0, 0, 0, 0, 0, 0, 0, 0, 0, 0, 0, 0, 0, 0, 0, 0, 0, 0, 0, 0, 0, 0, 0, 0, 0, 0, 0, 0, 0, 0, 0, 0, 0, 0, 0, 0, 0, 0, 0, 0, 0, 0, 0, 0, 0, 0, 0, 0, 0, 0, 0, 0, 0, 0, 0, 0, 0, 0, 0, 0, 0, 0, 0, 0, 0, 0, 0, 0, 0, 0, 0, 0, 0, 0, 0, 0, 0, 0, 0, 0, 0, 0, 0, 0, 0, 0, 0, 0, 0, 0, 0, 0, 0, 0, 0, 0, 0, 0, 0, 0, 0, 0, 0, 0, 0, 1, 0, 0, 0, 0, 0, 0, 0, 0, 0, 0, 0, 0, 0, 0, 0, 0, 0, 0, 0, 0, 0, 0, 0, 0, 0, 0, 0, 0, 0, 0, 0, 0, 0, 0, 0, 0, 0, 0, 0, 0, 0, 0, 0, 0, 0, 0, 0, 0, 0, 0, 0, 0, 0, 0, 0, 0, 0, 0, 0, 0, 0, 0, 0, 0, 0, 0, 0, 0, 0, 0, 0, 0, 0, 0, 0, 0, 0, 0, 0, 0, 0, 0, 0, 0, 0, 0, 0, 0, 0, 0, 0, 0, 0, 0, 0, 0, 0, 0, 0, 0, 0, 0, 0, 0, 0, 0, 0, 0, 0, 0, 2, 0, 0, 0, 0, 0, 0, 0, 0, 0, 0, 0, 0, 0, 0, 0, 0, 0, 0, 0, 0, 0, 0, 0, 0, 0, 0, 0, 0, 0, 0, 0, 0, 0, 0, 0, 0, 0, 0, 0, 0, 0, 0, 0, 0, 0, 0, 0, 0, 0, 0, 0, 0, 0, 0, 0, 0, 0, 0, 0, 0, 0, 0, 0, 0, 0, 0, 0, 0, 0, 0, 0, 0, 0, 0, 0, 0, 0, 0, 0, 0, 0, 0, 0, 0, 0, 0, 0, 0, 0, 0, 0, 0, 0, 0, 0, 0, 0, 0, 0, 0, 0, 0, 0, 0, 0, 0, 0, 0, 0, 0, 0, 0, 0, 0, 0, 0, 0, 0, 0, 0, 0, 0, 0, 0, 0, 0, 0, 0, 0, 0, 0, 0, 0, 0, 0, 0, 0, 0, 0, 0, 0, 0, 0, 0, 0, 0, 0, 0, 0, 0, 0, 0, 0, 0, 0, 0, 0, 0, 0, 0, 0, 0, 0, 0, 0, 0, 0, 0, 0, 0, 0, 0, 0, 0, 0, 0, 0, 0, 0, 0, 0, 0, 0, 0, 0, 0, 0, 0, 0, 0, 0, 0, 0, 0, 0, 0, 0, 0, 0, 0, 0, 0, 0, 0, 0, 0, 0, 0, 0, 0, 0, 0, 0, 0, 0, 0, 0, 0, 0, 0, 0, 0, 0, 0, 0, 0, 0, 0, 0, 0, 0, 0, 0, 0, 0, 0, 0, 0, 0, 0, 0, 0, 0, 0, 0, 0, 0, 0, 0, 0, 0, 0, 0, 0, 0, 0, 0, 0, 0, 0, 0, 0, 0, 0, 0, 0, 0, 0, 0, 0, 0, 0, 0, 0, 0, 0, 0, 0, 0, 0, 0, 0, 0, 0, 0, 0, 0, 0, 0, 0, 0, 0, 0, 0, 0, 0, 0, 0, 0, 0, 0, 0, 0, 0, 0, 0, 0, 0, 0, 0, 0, 0, 0, 0, 0, 0, 0, 0, 0, 0, 0, 0, 0, 0, 0, 0, 0, 0, 0, 0, 0, 0, 0, 0, 0, 0, 0, 0, 0, 0, 0, 0, 0, 0, 0, 0, 0, 0, 0, 0, 0, 0, 0, 0, 0, 0, 0, 0, 0, 0, 0, 0, 0, 0, 0, 0, 0, 0, 0, 0, 0, 0, 0, 0, 0, 0, 0, 0, 0, 0, 0, 0, 0, 0, 0, 0, 0, 0, 0, 0, 0, 0, 0, 0, 0, 0, 0, 0, 0, 0, 0, 0, 0, 0, 0, 0, 0, 0, 0, 0, 0, 0, 0, 0, 0, 0, 0, 0, 0, 0, 0, 0, 0, 0, 0, 0, 0, 0, 0, 0, 0, 0, 0, 0, 0, 0, 0, 0, 0, 0, 0, 0, 0, 0, 0, 0, 0, 0, 0, 0, 0, 0, 0, 0, 0, 0, 0, 0, 0, 0, 0, 0, 0, 0, 0, 0, 0, 0, 0, 0, 0, 0, 0, 0, 0, 0, 0, 0, 0, 0, 0, 0, 0, 0, 0, 0, 0, 0, 0, 0, 0, 0, 0, 0, 0, 0, 0, 0, 0, 0, 0, 0, 0, 0, 0, 0, 0, 0, 0, 0, 0, 0, 0, 0, 0, 0, 0, 0, 0, 0, 0, 0, 0, 0, 0, 0, 0, 0, 0, 0, 0, 0, 0, 0, 0, 0, 0, 0, 0, 0, 0, 0, 0, 0, 0, 0, 0, 0, 0, 0, 0, 0, 0, 0, 0, 0, 0, 0, 0, 0, 0, 0, 0, 0, 0, 0, 0, 0, 0, 0, 0, 0, 0, 0, 0, 0, 0, 0, 0, 0, 0, 0, 0, 0, 0, 0, 0, 0, 0, 0, 0, 0, 0, 0, 0, 0, 0, 0, 0, 0, 0, 0, 0, 0, 0, 0, 0, 0, 0, 0, 0, 0, 0, 0, 0, 0, 0, 0, 0, 0, 0, 0, 0, 0, 0, 0, 0, 0, 0, 0, 0, 0, 0, 0, 0, 0, 0, 0, 0, 0, 0, 0, 0, 0, 0, 0, 0, 0, 0, 0, 0, 0, 0, 0, 0, 0, 0, 0, 0, 0, 0, 0, 0, 0, 0, 0, 0, 0, 0, 0, 0, 0, 0, 0, 0, 0, 0, 0, 0, 0, 0, 0, 0, 0, 0, 0, 0, 0, 0, 0, 1, 0, 0, 0, 0, 0, 0, 0, 0, 0, 0, 0, 0, 0, 0, 0, 0, 0, 0, 0, 0, 0, 0, 0, 0, 0, 0, 0, 0, 0, 0, 0, 0, 0, 0, 0, 0, 0, 0, 0, 0, 0, 0, 0, 0, 0, 0, 0, 0, 0, 0, 0, 0, 0, 0, 0, 0, 0, 0, 0, 0, 0, 0, 0, 0, 0, 0, 0, 0, 0, 0, 0, 0, 0, 0, 0, 0, 0, 0, 0, 0, 0, 0, 0, 0, 0, 0, 0, 0, 0, 0, 0, 0, 0, 0, 0, 0, 0, 0, 0, 0, 0, 0, 0, 0, 0, 0, 0, 1, 0, 0, 0, 0, 0, 0, 0, 0, 0, 0, 0, 0, 0, 0, 0, 0, 0, 0, 0, 0, 0, 0, 0, 0, 0, 0, 0, 0, 0, 0, 0, 0, 0, 0, 0, 0, 0, 0, 0, 0, 0, 0, 0, 0, 0, 0, 0, 0, 0, 0, 0, 0, 0, 0, 0, 0, 0, 0, 0, 0, 0, 0, 0, 0, 0, 0, 0, 0, 0, 0, 0, 0, 0, 0, 0, 0, 0, 0, 0, 0, 0, 0, 0, 0, 0, 0, 0, 0, 0, 0, 0, 0, 0, 0, 0, 0, 0, 0, 0, 0, 0, 0, 0, 0, 0, 0, 0, 0, 0, 0, 0, 0, 0, 0, 0, 0, 0, 0, 0, 0, 0, 0, 0, 0, 0, 0, 0, 0, 0, 0, 0, 0, 0, 0, 0, 0, 0, 0, 0, 0, 0, 0, 0, 0, 0, 0, 0, 0, 0, 0, 0, 0, 0, 0, 0, 0, 0, 0, 0, 0, 0, 0, 0, 0, 0, 0, 0, 0, 0, 0, 0, 0, 0, 0, 0, 0, 0, 0, 0, 0, 0, 0, 0, 0, 0, 0, 0, 0, 0, 0, 0, 0, 0, 0, 0, 0, 0, 0, 0, 0, 0, 0, 0, 0, 0, 0, 0, 0, 0, 0, 0, 0, 0, 0, 0, 0, 0, 0, 0, 0, 0, 0, 0, 0, 0, 0, 0, 0, 0, 0, 0, 0, 0, 0, 0, 0, 0, 0, 0, 0, 0, 0, 0, 0, 0, 0, 0, 0, 0, 0, 0, 0, 0, 0, 0, 0, 0, 0, 0, 0, 0, 0, 0, 0, 0, 0, 0, 0, 0, 0, 0, 0, 0, 0, 0, 0, 0, 0, 0, 0, 0, 0, 0, 0, 0, 0, 0, 0, 0, 0, 0, 0, 0, 0, 0, 0, 0, 0, 0, 0, 0, 0, 0, 0, 0, 0, 0, 0, 0, 0, 0, 0, 0, 0, 0, 0, 0, 0, 0, 0, 0, 0, 0, 0, 0, 0, 0, 0, 0, 0, 0, 0, 0, 0, 0, 0, 0, 0, 0, 0, 0, 0, 0, 0, 0, 0, 0, 0, 0, 0, 0, 0, 0, 0, 0, 0, 0, 0, 0, 0, 0, 0, 0, 0, 0, 0, 0, 0, 0, 0, 0, 0, 0, 0, 0, 0, 0, 0, 0, 0, 0, 0, 0, 0, 0, 0, 0, 0, 0, 0, 0, 0, 0, 0, 0, 0, 0, 0, 0, 0, 0, 0, 0, 0, 0, 0, 0, 0, 0, 0, 0, 0, 0, 0, 0, 0, 0, 0, 0, 0, 0, 0, 0, 0, 0, 0, 0, 0, 0, 0, 0, 0, 0, 0, 0, 0, 0, 0, 0, 0, 0, 0, 0, 0, 0, 0, 0, 0, 0, 0, 0, 0, 0, 0, 0, 0, 0, 0, 0, 0, 0, 0, 0, 2, 0, 1, 0]\n"
     ]
    }
   ],
   "source": [
    "test_bow = bow_encoding(test_words, vocabulary)\n",
    "print(test_bow)"
   ]
  },
  {
   "cell_type": "code",
   "execution_count": 40,
   "metadata": {},
   "outputs": [
    {
     "data": {
      "text/plain": [
       "5000"
      ]
     },
     "execution_count": 40,
     "metadata": {},
     "output_type": "execute_result"
    }
   ],
   "source": [
    "len(test_bow)"
   ]
  },
  {
   "cell_type": "markdown",
   "metadata": {},
   "source": [
    "So now we know how to construct a bag of words encoding of a user provided review, how to we send it to our endpoint? First, we need to start the endpoint back up."
   ]
  },
  {
   "cell_type": "code",
   "execution_count": 41,
   "metadata": {},
   "outputs": [
    {
     "name": "stdout",
     "output_type": "stream",
     "text": [
      "-------------------------------------------------------------------------------------!"
     ]
    }
   ],
   "source": [
    "xgb_predictor = xgb.deploy(initial_instance_count = 1, instance_type = 'ml.m4.xlarge')"
   ]
  },
  {
   "cell_type": "markdown",
   "metadata": {},
   "source": [
    "At this point we could just do the same thing that we did earlier when we tested our deployed model and send `test_bow` to our endpoint using the `xgb_predictor` object. However, when we eventually construct our Lambda function we won't have access to this object, so how do we call a SageMaker endpoint?\n",
    "\n",
    "It turns out that Python functions that are used in Lambda have access to another Amazon library called `boto3`. This library provides an API for working with Amazon services, including SageMaker. To start with, we need to get a handle to the SageMaker runtime."
   ]
  },
  {
   "cell_type": "code",
   "execution_count": 42,
   "metadata": {},
   "outputs": [],
   "source": [
    "import boto3\n",
    "\n",
    "runtime = boto3.Session().client('sagemaker-runtime')"
   ]
  },
  {
   "cell_type": "markdown",
   "metadata": {},
   "source": [
    "And now that we have access to the SageMaker runtime, we can ask it to make use of (invoke) an endpoint that has already been created. However, we need to provide SageMaker with the name of the deployed endpoint. To find this out we can print it out using the `xgb_predictor` object."
   ]
  },
  {
   "cell_type": "code",
   "execution_count": 43,
   "metadata": {},
   "outputs": [
    {
     "data": {
      "text/plain": [
       "'xgboost-2019-07-10-08-25-37-105'"
      ]
     },
     "execution_count": 43,
     "metadata": {},
     "output_type": "execute_result"
    }
   ],
   "source": [
    "xgb_predictor.endpoint"
   ]
  },
  {
   "cell_type": "markdown",
   "metadata": {},
   "source": [
    "Using the SageMaker runtime and the name of our endpoint, we can invoke the endpoint and send it the `test_bow` data."
   ]
  },
  {
   "cell_type": "code",
   "execution_count": 44,
   "metadata": {},
   "outputs": [
    {
     "ename": "ParamValidationError",
     "evalue": "Parameter validation failed:\nInvalid type for parameter Body, value: [0, 0, 0, 0, 0, 0, 0, 0, 0, 0, 0, 0, 0, 0, 0, 0, 0, 0, 0, 0, 0, 0, 0, 0, 0, 0, 0, 0, 0, 0, 0, 0, 0, 0, 0, 0, 0, 0, 0, 0, 0, 0, 0, 0, 0, 0, 0, 0, 0, 0, 0, 0, 0, 0, 0, 0, 0, 0, 0, 0, 0, 0, 0, 0, 0, 0, 0, 0, 0, 0, 0, 0, 0, 0, 0, 0, 0, 0, 0, 0, 0, 0, 0, 0, 0, 0, 0, 0, 0, 0, 0, 0, 0, 0, 0, 0, 0, 0, 0, 0, 0, 0, 0, 0, 0, 0, 0, 0, 0, 0, 0, 0, 0, 0, 0, 0, 0, 0, 0, 0, 0, 0, 0, 0, 0, 0, 0, 0, 0, 0, 0, 0, 0, 0, 0, 0, 0, 0, 0, 0, 0, 0, 0, 0, 0, 0, 0, 0, 0, 0, 0, 0, 0, 0, 0, 0, 0, 0, 0, 0, 0, 0, 0, 0, 0, 0, 0, 0, 0, 0, 0, 0, 0, 0, 0, 0, 0, 0, 0, 0, 0, 0, 0, 0, 0, 0, 0, 0, 0, 0, 0, 0, 0, 0, 0, 0, 0, 0, 0, 0, 0, 0, 0, 0, 0, 0, 0, 0, 0, 0, 0, 0, 0, 0, 0, 0, 0, 0, 0, 0, 0, 0, 0, 0, 0, 0, 1, 0, 0, 0, 0, 0, 0, 0, 0, 0, 0, 0, 0, 0, 0, 0, 0, 0, 0, 0, 0, 0, 0, 0, 0, 0, 0, 0, 0, 0, 1, 0, 0, 0, 0, 0, 0, 0, 0, 0, 0, 0, 0, 0, 0, 0, 0, 0, 0, 0, 0, 0, 0, 0, 0, 0, 0, 0, 0, 0, 0, 0, 0, 0, 0, 0, 0, 0, 0, 0, 0, 0, 0, 0, 0, 0, 0, 0, 0, 0, 0, 0, 0, 0, 0, 0, 0, 0, 0, 0, 0, 0, 0, 0, 0, 0, 0, 0, 0, 0, 0, 0, 0, 0, 0, 0, 0, 0, 0, 0, 0, 0, 0, 0, 0, 0, 0, 0, 0, 0, 0, 0, 0, 0, 0, 0, 0, 0, 0, 0, 0, 0, 0, 0, 0, 0, 0, 0, 0, 0, 0, 0, 0, 0, 0, 0, 0, 0, 0, 0, 0, 0, 0, 0, 0, 0, 0, 0, 0, 0, 0, 0, 0, 0, 0, 0, 0, 0, 0, 0, 0, 0, 0, 0, 0, 0, 0, 0, 0, 0, 0, 0, 0, 0, 0, 0, 0, 0, 0, 0, 0, 0, 0, 0, 0, 0, 0, 0, 0, 0, 0, 0, 0, 0, 0, 0, 0, 0, 0, 0, 0, 0, 0, 0, 0, 0, 0, 0, 0, 0, 0, 0, 0, 0, 0, 0, 0, 0, 0, 0, 0, 0, 0, 0, 0, 0, 0, 0, 0, 0, 0, 0, 0, 0, 0, 0, 0, 0, 0, 0, 0, 0, 0, 0, 0, 0, 0, 0, 0, 0, 0, 0, 0, 0, 0, 0, 0, 0, 0, 0, 0, 0, 0, 0, 0, 0, 0, 0, 0, 0, 0, 0, 0, 0, 0, 0, 0, 0, 0, 0, 0, 0, 0, 0, 0, 0, 0, 0, 0, 0, 0, 0, 0, 0, 0, 0, 0, 0, 0, 0, 0, 0, 0, 0, 0, 0, 0, 0, 0, 0, 0, 0, 0, 0, 0, 0, 0, 0, 0, 0, 0, 0, 0, 0, 0, 0, 0, 0, 0, 0, 0, 0, 0, 0, 0, 0, 0, 0, 0, 0, 0, 0, 0, 0, 0, 0, 0, 0, 0, 0, 0, 0, 0, 0, 0, 0, 0, 0, 0, 0, 0, 0, 0, 0, 0, 0, 0, 0, 0, 0, 0, 0, 0, 0, 0, 0, 0, 0, 0, 0, 0, 0, 0, 0, 0, 0, 0, 0, 0, 0, 0, 0, 0, 0, 0, 0, 0, 0, 0, 0, 1, 0, 0, 0, 0, 0, 0, 0, 0, 0, 0, 0, 0, 0, 0, 0, 0, 0, 0, 0, 0, 0, 0, 0, 0, 0, 0, 0, 0, 0, 0, 0, 0, 0, 0, 0, 0, 0, 0, 0, 0, 0, 0, 0, 0, 0, 0, 0, 0, 0, 0, 0, 0, 0, 0, 0, 0, 0, 0, 0, 0, 0, 0, 0, 0, 0, 0, 0, 0, 0, 0, 0, 0, 0, 0, 0, 0, 0, 0, 0, 0, 0, 0, 0, 0, 0, 0, 0, 0, 0, 0, 0, 0, 0, 0, 0, 0, 0, 0, 0, 0, 0, 0, 0, 0, 0, 0, 0, 0, 0, 0, 0, 0, 0, 0, 0, 0, 0, 0, 0, 0, 0, 0, 0, 0, 0, 0, 0, 0, 0, 0, 0, 0, 0, 0, 0, 0, 0, 0, 0, 0, 0, 0, 0, 0, 0, 0, 0, 0, 0, 0, 0, 0, 0, 0, 0, 0, 0, 0, 0, 0, 0, 0, 0, 0, 0, 0, 0, 0, 0, 0, 0, 0, 0, 0, 0, 0, 0, 0, 0, 0, 0, 0, 0, 0, 0, 0, 0, 0, 0, 0, 0, 0, 0, 0, 0, 0, 0, 0, 0, 0, 0, 0, 0, 0, 0, 0, 0, 0, 0, 0, 0, 0, 0, 0, 0, 0, 0, 0, 0, 0, 0, 0, 0, 0, 0, 0, 0, 0, 0, 0, 0, 0, 0, 0, 0, 0, 0, 0, 0, 0, 0, 0, 0, 0, 0, 0, 0, 0, 0, 0, 0, 0, 0, 1, 0, 0, 0, 0, 0, 0, 0, 0, 0, 0, 0, 0, 0, 0, 0, 0, 0, 0, 0, 0, 0, 0, 0, 0, 0, 0, 0, 0, 0, 0, 0, 0, 0, 0, 0, 0, 0, 0, 0, 0, 0, 0, 0, 0, 0, 0, 0, 0, 0, 0, 0, 0, 0, 0, 0, 0, 0, 0, 0, 0, 0, 0, 0, 0, 0, 0, 0, 0, 0, 0, 0, 0, 0, 0, 0, 0, 0, 0, 0, 0, 0, 0, 0, 0, 0, 0, 1, 0, 0, 0, 0, 0, 0, 0, 0, 0, 0, 0, 0, 0, 0, 0, 0, 0, 0, 0, 0, 0, 0, 0, 0, 0, 0, 0, 0, 0, 0, 0, 0, 0, 0, 0, 0, 0, 0, 0, 0, 0, 0, 0, 0, 0, 0, 0, 0, 0, 0, 0, 0, 0, 0, 0, 0, 0, 0, 0, 0, 0, 0, 0, 0, 0, 0, 0, 0, 0, 0, 0, 0, 0, 0, 0, 0, 0, 0, 0, 0, 0, 0, 0, 0, 0, 0, 0, 0, 0, 0, 0, 0, 0, 0, 0, 0, 0, 0, 0, 0, 0, 0, 0, 0, 0, 0, 0, 0, 0, 0, 0, 0, 0, 0, 0, 0, 0, 0, 0, 0, 0, 0, 0, 0, 0, 0, 0, 0, 0, 0, 0, 0, 0, 0, 0, 0, 0, 0, 0, 0, 0, 0, 0, 0, 0, 0, 0, 0, 0, 0, 0, 0, 0, 0, 0, 0, 0, 0, 0, 0, 0, 0, 0, 0, 0, 0, 0, 0, 0, 0, 0, 0, 0, 0, 0, 0, 0, 0, 0, 0, 0, 0, 0, 0, 0, 0, 0, 0, 0, 0, 0, 0, 0, 0, 0, 0, 0, 0, 0, 0, 0, 0, 0, 0, 0, 0, 0, 0, 0, 0, 0, 0, 0, 0, 0, 0, 0, 0, 0, 0, 0, 0, 0, 0, 0, 0, 0, 0, 0, 0, 0, 0, 0, 0, 0, 0, 0, 0, 0, 0, 0, 0, 0, 0, 0, 0, 0, 0, 0, 0, 0, 0, 1, 0, 0, 0, 0, 0, 0, 0, 0, 0, 0, 0, 0, 0, 0, 0, 0, 0, 0, 0, 0, 0, 0, 0, 0, 0, 0, 0, 0, 0, 0, 0, 0, 0, 0, 0, 0, 0, 0, 0, 0, 0, 0, 0, 0, 0, 0, 0, 0, 0, 0, 0, 0, 0, 0, 0, 1, 0, 0, 0, 0, 0, 0, 0, 0, 0, 0, 0, 0, 0, 0, 0, 0, 0, 0, 0, 0, 0, 0, 0, 0, 0, 0, 0, 0, 0, 0, 0, 0, 0, 0, 0, 0, 0, 0, 0, 0, 0, 0, 0, 0, 0, 0, 0, 0, 0, 0, 0, 0, 0, 0, 0, 0, 0, 0, 0, 0, 0, 0, 0, 0, 0, 0, 0, 0, 0, 0, 0, 0, 0, 0, 0, 0, 0, 0, 0, 0, 0, 0, 0, 0, 0, 0, 0, 0, 0, 0, 0, 0, 0, 0, 0, 0, 0, 0, 0, 0, 0, 0, 0, 0, 0, 0, 0, 0, 0, 0, 0, 0, 0, 0, 0, 0, 0, 0, 0, 0, 0, 0, 0, 0, 0, 0, 0, 0, 0, 0, 0, 0, 0, 0, 0, 0, 0, 0, 0, 0, 0, 0, 0, 0, 0, 0, 0, 0, 0, 0, 0, 0, 0, 0, 0, 0, 0, 0, 0, 0, 0, 0, 0, 0, 0, 0, 0, 0, 0, 0, 0, 0, 0, 0, 0, 0, 0, 0, 0, 0, 0, 0, 0, 0, 0, 0, 0, 0, 0, 0, 0, 0, 0, 0, 0, 0, 0, 0, 0, 0, 0, 0, 0, 0, 0, 0, 0, 0, 0, 0, 0, 0, 0, 0, 0, 0, 0, 0, 0, 0, 0, 0, 0, 0, 0, 0, 0, 0, 0, 0, 0, 0, 0, 0, 0, 0, 0, 0, 0, 0, 0, 0, 0, 0, 0, 0, 0, 0, 0, 0, 0, 0, 0, 0, 0, 0, 0, 0, 0, 0, 0, 0, 0, 0, 0, 0, 0, 0, 0, 0, 0, 0, 0, 0, 0, 0, 0, 0, 0, 0, 0, 0, 0, 0, 0, 0, 0, 0, 0, 0, 0, 0, 0, 0, 0, 0, 0, 0, 0, 0, 0, 0, 0, 0, 0, 0, 0, 0, 0, 0, 0, 0, 0, 0, 0, 0, 0, 0, 0, 0, 0, 0, 0, 0, 0, 0, 0, 0, 0, 0, 0, 0, 0, 0, 0, 0, 0, 0, 0, 0, 0, 0, 0, 0, 0, 0, 0, 0, 0, 0, 0, 0, 0, 0, 0, 0, 0, 0, 0, 0, 0, 0, 0, 0, 0, 0, 0, 0, 0, 0, 0, 0, 0, 0, 0, 0, 0, 0, 0, 0, 0, 0, 0, 0, 0, 0, 0, 0, 0, 0, 0, 0, 0, 0, 0, 0, 0, 0, 0, 0, 0, 0, 0, 0, 0, 0, 0, 0, 0, 0, 0, 0, 0, 0, 0, 0, 0, 0, 0, 0, 0, 0, 0, 0, 0, 0, 0, 0, 0, 0, 0, 0, 0, 0, 0, 0, 0, 0, 0, 0, 0, 0, 0, 0, 0, 0, 0, 0, 0, 0, 0, 0, 0, 0, 0, 0, 0, 0, 0, 0, 0, 0, 0, 0, 0, 0, 0, 0, 0, 0, 0, 0, 0, 0, 0, 0, 0, 0, 0, 0, 0, 0, 0, 0, 0, 0, 0, 0, 0, 0, 0, 0, 0, 0, 0, 0, 0, 0, 0, 0, 0, 0, 0, 0, 0, 0, 0, 0, 0, 0, 0, 0, 0, 0, 0, 0, 0, 0, 0, 0, 0, 0, 0, 0, 0, 0, 0, 0, 0, 0, 0, 0, 0, 0, 0, 0, 0, 0, 0, 0, 0, 0, 0, 0, 0, 0, 0, 0, 0, 0, 0, 0, 0, 0, 0, 0, 0, 0, 0, 0, 0, 0, 0, 0, 0, 0, 0, 0, 0, 0, 0, 0, 0, 0, 0, 0, 0, 0, 0, 0, 0, 0, 0, 0, 0, 0, 0, 0, 0, 0, 0, 0, 0, 0, 0, 0, 0, 0, 0, 0, 0, 0, 0, 0, 0, 0, 0, 0, 0, 0, 0, 0, 0, 0, 0, 0, 0, 0, 0, 0, 0, 0, 0, 0, 0, 0, 0, 0, 0, 0, 0, 0, 0, 0, 0, 0, 0, 0, 0, 0, 0, 0, 0, 0, 0, 0, 0, 0, 0, 0, 0, 0, 0, 0, 0, 0, 0, 0, 0, 0, 0, 0, 0, 0, 0, 0, 0, 0, 0, 0, 0, 0, 0, 0, 0, 0, 0, 0, 0, 0, 0, 1, 0, 0, 0, 0, 0, 0, 0, 0, 0, 0, 0, 0, 0, 0, 0, 0, 0, 0, 0, 0, 0, 0, 0, 0, 0, 0, 0, 0, 0, 0, 0, 0, 0, 0, 0, 0, 0, 0, 0, 0, 0, 0, 0, 0, 0, 0, 0, 0, 0, 0, 0, 0, 0, 0, 0, 0, 0, 0, 0, 0, 0, 0, 0, 0, 0, 0, 0, 0, 0, 0, 0, 0, 0, 0, 1, 0, 0, 0, 0, 0, 0, 0, 0, 0, 0, 0, 0, 0, 0, 0, 0, 0, 0, 0, 0, 1, 0, 0, 1, 0, 0, 0, 0, 0, 0, 0, 0, 0, 0, 0, 0, 0, 0, 0, 0, 0, 0, 0, 0, 0, 0, 0, 0, 0, 0, 0, 0, 0, 0, 0, 0, 0, 0, 0, 0, 0, 0, 0, 0, 0, 0, 0, 0, 0, 0, 0, 0, 0, 0, 0, 0, 0, 0, 0, 0, 0, 0, 0, 0, 0, 0, 0, 0, 0, 0, 0, 0, 0, 0, 0, 0, 0, 0, 0, 0, 0, 0, 0, 0, 0, 0, 0, 0, 0, 0, 0, 0, 0, 0, 0, 0, 0, 0, 0, 0, 0, 0, 0, 0, 0, 0, 0, 0, 0, 0, 0, 0, 0, 0, 0, 0, 0, 0, 0, 0, 0, 0, 0, 0, 0, 0, 0, 0, 0, 0, 0, 0, 0, 0, 0, 0, 0, 0, 0, 0, 0, 0, 0, 0, 0, 0, 0, 0, 0, 0, 0, 0, 0, 0, 0, 0, 0, 0, 0, 0, 0, 0, 0, 0, 0, 0, 0, 0, 0, 0, 0, 0, 0, 0, 0, 0, 0, 0, 0, 0, 0, 0, 0, 0, 0, 0, 0, 0, 0, 0, 0, 0, 0, 0, 0, 0, 0, 0, 0, 0, 0, 0, 0, 0, 0, 0, 0, 0, 0, 0, 0, 0, 0, 0, 0, 0, 0, 0, 0, 0, 0, 0, 0, 0, 0, 0, 0, 0, 0, 0, 0, 0, 0, 0, 0, 0, 0, 0, 0, 0, 0, 0, 0, 0, 0, 0, 0, 0, 0, 0, 0, 0, 0, 0, 0, 0, 0, 0, 0, 0, 0, 0, 0, 0, 0, 0, 0, 0, 0, 0, 0, 0, 0, 0, 0, 0, 0, 0, 0, 0, 0, 0, 0, 0, 0, 0, 0, 0, 0, 0, 0, 0, 0, 0, 0, 0, 0, 0, 0, 0, 0, 0, 0, 0, 0, 0, 0, 0, 0, 0, 0, 0, 0, 0, 0, 0, 0, 0, 0, 0, 0, 0, 0, 0, 0, 0, 0, 0, 0, 0, 0, 0, 0, 0, 0, 0, 0, 0, 0, 0, 0, 0, 0, 0, 0, 0, 0, 0, 0, 0, 0, 0, 0, 0, 0, 0, 0, 0, 0, 0, 0, 0, 0, 0, 0, 0, 0, 0, 0, 0, 0, 0, 0, 0, 0, 0, 0, 0, 0, 0, 0, 0, 0, 0, 0, 0, 0, 0, 0, 0, 0, 0, 0, 0, 0, 0, 0, 0, 0, 0, 0, 0, 0, 0, 0, 0, 0, 0, 0, 0, 0, 0, 0, 0, 0, 0, 0, 0, 0, 0, 0, 0, 0, 0, 0, 0, 0, 0, 0, 0, 0, 0, 0, 0, 0, 0, 0, 0, 0, 0, 0, 0, 0, 0, 0, 0, 0, 0, 0, 0, 0, 0, 0, 0, 0, 0, 0, 0, 0, 0, 0, 0, 0, 0, 0, 0, 0, 0, 0, 0, 1, 0, 0, 0, 0, 0, 0, 0, 0, 0, 0, 0, 0, 0, 0, 0, 0, 0, 0, 0, 0, 0, 0, 0, 0, 0, 0, 0, 0, 0, 0, 0, 0, 0, 0, 0, 0, 0, 0, 0, 0, 0, 0, 0, 0, 0, 0, 0, 0, 0, 0, 0, 0, 0, 0, 0, 0, 0, 0, 0, 0, 0, 0, 0, 0, 0, 0, 0, 0, 0, 0, 0, 0, 0, 0, 0, 0, 0, 0, 0, 0, 0, 0, 0, 0, 0, 0, 0, 0, 0, 0, 0, 0, 0, 0, 0, 0, 0, 0, 0, 0, 0, 0, 0, 0, 0, 0, 0, 0, 0, 0, 0, 0, 0, 0, 0, 0, 0, 0, 0, 0, 0, 0, 0, 0, 0, 0, 0, 0, 0, 0, 0, 0, 0, 0, 0, 0, 0, 0, 0, 0, 0, 0, 0, 0, 0, 0, 0, 0, 0, 0, 0, 0, 0, 0, 0, 0, 0, 0, 0, 0, 0, 0, 0, 0, 0, 0, 0, 0, 0, 0, 0, 0, 0, 0, 0, 0, 0, 0, 0, 0, 0, 0, 0, 0, 0, 0, 0, 0, 0, 0, 0, 0, 0, 0, 0, 0, 0, 0, 0, 0, 0, 0, 0, 0, 0, 0, 0, 0, 0, 0, 0, 0, 0, 0, 0, 0, 0, 0, 0, 0, 0, 0, 0, 0, 0, 0, 0, 0, 0, 0, 0, 0, 0, 0, 0, 0, 0, 0, 0, 0, 0, 0, 0, 0, 0, 0, 0, 0, 0, 0, 0, 0, 0, 0, 0, 0, 0, 0, 0, 0, 0, 0, 0, 0, 0, 0, 0, 0, 0, 0, 0, 0, 0, 0, 0, 0, 0, 0, 0, 0, 0, 0, 0, 0, 0, 0, 0, 0, 0, 0, 0, 0, 0, 0, 0, 0, 0, 0, 0, 0, 0, 0, 0, 0, 0, 0, 0, 0, 0, 0, 0, 0, 0, 0, 0, 0, 0, 0, 0, 0, 0, 0, 0, 0, 0, 0, 0, 0, 0, 0, 0, 0, 0, 0, 0, 0, 0, 0, 0, 0, 0, 0, 0, 0, 0, 0, 0, 0, 0, 0, 0, 0, 0, 0, 0, 0, 0, 0, 0, 0, 0, 0, 0, 0, 0, 0, 0, 0, 0, 0, 0, 0, 0, 0, 0, 0, 0, 0, 0, 0, 0, 0, 0, 0, 0, 0, 0, 0, 0, 0, 0, 0, 0, 0, 0, 0, 0, 0, 0, 0, 0, 0, 0, 0, 0, 0, 0, 0, 0, 0, 0, 0, 0, 0, 0, 0, 0, 0, 0, 0, 0, 0, 0, 0, 0, 0, 0, 0, 0, 0, 0, 0, 0, 0, 0, 0, 0, 0, 0, 0, 0, 0, 0, 0, 0, 0, 0, 0, 0, 0, 0, 0, 0, 0, 0, 0, 0, 0, 0, 0, 0, 0, 0, 0, 0, 0, 0, 0, 0, 0, 0, 0, 0, 0, 0, 0, 0, 0, 0, 0, 0, 0, 0, 0, 0, 0, 0, 0, 0, 0, 0, 0, 0, 0, 0, 0, 0, 0, 0, 0, 0, 0, 0, 0, 0, 0, 0, 0, 0, 0, 0, 0, 1, 0, 0, 0, 0, 0, 0, 0, 0, 0, 0, 0, 0, 0, 0, 0, 0, 0, 0, 0, 0, 0, 0, 0, 0, 0, 0, 0, 0, 0, 0, 0, 0, 0, 0, 0, 2, 0, 0, 0, 0, 0, 0, 0, 0, 0, 0, 0, 0, 0, 0, 0, 0, 0, 0, 0, 0, 0, 0, 0, 0, 0, 0, 0, 0, 0, 0, 0, 0, 0, 0, 0, 0, 0, 0, 0, 0, 1, 0, 0, 0, 0, 0, 0, 0, 0, 0, 0, 0, 0, 0, 0, 0, 0, 0, 0, 0, 0, 0, 0, 0, 0, 0, 0, 0, 0, 0, 0, 0, 0, 0, 0, 0, 0, 0, 0, 0, 0, 0, 0, 0, 0, 0, 0, 0, 0, 0, 0, 0, 0, 0, 0, 0, 0, 0, 0, 0, 0, 0, 0, 0, 0, 0, 0, 0, 0, 0, 0, 0, 0, 0, 0, 0, 0, 0, 0, 0, 0, 0, 0, 0, 0, 0, 0, 0, 0, 0, 0, 0, 0, 0, 0, 0, 0, 0, 0, 0, 0, 0, 0, 0, 0, 0, 0, 0, 0, 0, 0, 0, 0, 0, 0, 0, 0, 0, 0, 0, 0, 0, 0, 0, 0, 0, 0, 0, 0, 0, 0, 0, 0, 0, 0, 0, 0, 0, 0, 0, 0, 0, 0, 0, 0, 0, 0, 0, 0, 0, 0, 0, 0, 0, 0, 0, 0, 0, 0, 0, 0, 0, 0, 0, 0, 0, 0, 0, 0, 0, 0, 0, 0, 0, 0, 0, 0, 0, 0, 0, 0, 0, 0, 0, 0, 0, 0, 0, 0, 0, 0, 0, 0, 0, 0, 0, 0, 0, 0, 0, 0, 0, 0, 0, 0, 0, 0, 0, 0, 0, 0, 0, 0, 0, 0, 0, 0, 0, 0, 0, 0, 0, 0, 0, 0, 0, 0, 0, 0, 0, 0, 0, 0, 0, 0, 0, 0, 0, 0, 0, 0, 0, 0, 0, 0, 0, 0, 0, 0, 0, 0, 0, 0, 0, 0, 0, 0, 0, 0, 0, 0, 0, 0, 0, 0, 0, 0, 0, 0, 0, 0, 0, 0, 0, 0, 0, 0, 0, 0, 0, 0, 0, 0, 0, 0, 0, 0, 0, 0, 0, 0, 0, 0, 0, 0, 0, 0, 0, 0, 0, 0, 0, 0, 0, 0, 0, 0, 0, 0, 0, 0, 0, 0, 0, 0, 0, 0, 0, 0, 0, 0, 0, 0, 0, 0, 0, 0, 0, 0, 0, 0, 0, 0, 0, 0, 0, 0, 0, 0, 0, 0, 0, 0, 0, 0, 0, 0, 0, 0, 0, 0, 0, 0, 0, 0, 0, 0, 0, 0, 0, 0, 0, 0, 0, 0, 0, 0, 0, 0, 0, 0, 0, 0, 0, 0, 0, 0, 0, 0, 0, 0, 0, 0, 0, 0, 0, 0, 0, 0, 0, 0, 0, 0, 0, 0, 0, 0, 0, 0, 0, 0, 0, 0, 0, 0, 0, 0, 0, 0, 0, 0, 0, 0, 0, 0, 0, 0, 0, 0, 0, 0, 0, 0, 0, 0, 0, 0, 0, 0, 0, 0, 0, 0, 0, 0, 0, 0, 0, 0, 0, 0, 0, 0, 0, 0, 0, 0, 0, 0, 0, 0, 0, 0, 0, 0, 0, 0, 0, 0, 0, 0, 0, 0, 0, 0, 0, 0, 0, 0, 0, 0, 0, 0, 0, 0, 0, 0, 0, 0, 0, 0, 0, 0, 0, 0, 0, 0, 0, 0, 0, 0, 0, 0, 0, 0, 0, 0, 0, 1, 0, 0, 0, 0, 0, 0, 0, 0, 0, 0, 0, 0, 0, 0, 0, 0, 0, 0, 0, 0, 0, 0, 0, 0, 0, 0, 0, 0, 0, 0, 0, 0, 0, 0, 0, 0, 0, 0, 0, 0, 0, 0, 0, 0, 0, 0, 0, 0, 0, 0, 0, 0, 0, 0, 0, 0, 0, 0, 0, 0, 0, 0, 0, 0, 0, 0, 0, 0, 0, 0, 0, 0, 0, 0, 0, 0, 0, 0, 0, 0, 0, 0, 0, 0, 0, 0, 0, 0, 0, 0, 0, 0, 0, 0, 0, 0, 0, 0, 0, 0, 0, 0, 0, 0, 0, 0, 0, 0, 0, 0, 2, 0, 0, 0, 0, 0, 0, 0, 0, 0, 0, 0, 0, 0, 0, 0, 0, 0, 0, 0, 0, 0, 0, 0, 0, 0, 0, 0, 0, 0, 0, 0, 0, 0, 0, 0, 0, 0, 0, 0, 0, 0, 0, 0, 0, 0, 0, 0, 0, 0, 0, 0, 0, 0, 0, 0, 0, 0, 0, 0, 0, 0, 0, 0, 0, 0, 0, 0, 0, 0, 0, 0, 0, 0, 0, 0, 0, 0, 0, 0, 0, 0, 0, 0, 0, 0, 0, 0, 0, 0, 0, 0, 0, 0, 0, 0, 0, 0, 0, 0, 0, 0, 0, 0, 0, 0, 0, 0, 0, 0, 0, 0, 0, 0, 0, 0, 0, 0, 0, 0, 0, 0, 0, 0, 0, 0, 0, 0, 0, 0, 0, 0, 0, 0, 0, 0, 0, 0, 0, 0, 0, 0, 0, 0, 0, 0, 0, 0, 0, 0, 0, 0, 0, 0, 0, 0, 0, 0, 0, 0, 0, 0, 0, 0, 0, 0, 0, 0, 0, 0, 0, 0, 0, 0, 0, 0, 0, 0, 0, 0, 0, 0, 0, 0, 0, 0, 0, 0, 0, 0, 0, 0, 0, 0, 0, 0, 0, 0, 0, 0, 0, 0, 0, 0, 0, 0, 0, 0, 0, 0, 0, 0, 0, 0, 0, 0, 0, 0, 0, 0, 0, 0, 0, 0, 0, 0, 0, 0, 0, 0, 0, 0, 0, 0, 0, 0, 0, 0, 0, 0, 0, 0, 0, 0, 0, 0, 0, 0, 0, 0, 0, 0, 0, 0, 0, 0, 0, 0, 0, 0, 0, 0, 0, 0, 0, 0, 0, 0, 0, 0, 0, 0, 0, 0, 0, 0, 0, 0, 0, 0, 0, 0, 0, 0, 0, 0, 0, 0, 0, 0, 0, 0, 0, 0, 0, 0, 0, 0, 0, 0, 0, 0, 0, 0, 0, 0, 0, 0, 0, 0, 0, 0, 0, 0, 0, 0, 0, 0, 0, 0, 0, 0, 0, 0, 0, 0, 0, 0, 0, 0, 0, 0, 0, 0, 0, 0, 0, 0, 0, 0, 0, 0, 0, 0, 0, 0, 0, 0, 0, 0, 0, 0, 0, 0, 0, 0, 0, 0, 0, 0, 0, 0, 0, 0, 0, 0, 0, 0, 0, 0, 0, 0, 0, 0, 0, 0, 0, 0, 0, 0, 0, 0, 0, 0, 0, 0, 0, 0, 0, 0, 0, 0, 0, 0, 0, 0, 0, 0, 0, 0, 0, 0, 0, 0, 0, 0, 0, 0, 0, 0, 0, 0, 0, 0, 0, 0, 0, 0, 0, 0, 0, 0, 0, 0, 0, 0, 0, 0, 0, 0, 0, 0, 0, 0, 0, 0, 0, 0, 0, 0, 0, 0, 0, 0, 0, 0, 0, 0, 0, 0, 0, 0, 0, 0, 0, 0, 0, 0, 0, 0, 0, 0, 0, 0, 0, 0, 0, 0, 0, 0, 0, 0, 0, 0, 0, 0, 0, 0, 0, 0, 0, 0, 0, 0, 0, 0, 0, 0, 0, 0, 0, 0, 0, 0, 0, 0, 0, 0, 0, 0, 0, 0, 0, 0, 0, 0, 0, 0, 0, 0, 0, 0, 0, 0, 0, 0, 0, 0, 0, 0, 0, 0, 0, 0, 0, 0, 0, 0, 0, 0, 0, 0, 0, 0, 0, 0, 0, 0, 0, 0, 0, 0, 0, 0, 0, 0, 0, 0, 0, 0, 0, 0, 0, 0, 0, 0, 0, 0, 0, 0, 0, 0, 0, 0, 0, 0, 0, 0, 0, 0, 0, 0, 0, 0, 0, 0, 0, 0, 0, 0, 0, 0, 0, 0, 0, 0, 0, 0, 0, 0, 0, 0, 0, 0, 0, 0, 0, 0, 0, 0, 0, 0, 0, 0, 0, 0, 0, 0, 0, 0, 0, 0, 0, 0, 0, 0, 0, 0, 0, 0, 0, 0, 0, 0, 0, 0, 0, 0, 0, 0, 0, 0, 0, 0, 0, 0, 0, 0, 0, 0, 0, 0, 0, 0, 0, 0, 0, 0, 0, 0, 0, 0, 0, 0, 0, 0, 0, 0, 0, 0, 0, 0, 0, 0, 0, 0, 0, 0, 0, 0, 0, 0, 0, 0, 0, 0, 0, 0, 0, 0, 0, 0, 0, 0, 0, 0, 0, 0, 0, 0, 0, 1, 0, 0, 0, 0, 0, 0, 0, 0, 0, 0, 0, 0, 0, 0, 0, 0, 0, 0, 0, 0, 0, 0, 0, 0, 0, 0, 0, 0, 0, 0, 0, 0, 0, 0, 0, 0, 0, 0, 0, 0, 0, 0, 0, 0, 0, 0, 0, 0, 0, 0, 0, 0, 0, 0, 0, 0, 0, 0, 0, 0, 0, 0, 0, 0, 0, 0, 0, 0, 0, 0, 0, 0, 0, 0, 0, 0, 0, 0, 0, 0, 0, 0, 0, 0, 0, 0, 0, 0, 0, 0, 0, 0, 0, 0, 0, 0, 0, 0, 0, 0, 0, 0, 0, 0, 0, 0, 0, 1, 0, 0, 0, 0, 0, 0, 0, 0, 0, 0, 0, 0, 0, 0, 0, 0, 0, 0, 0, 0, 0, 0, 0, 0, 0, 0, 0, 0, 0, 0, 0, 0, 0, 0, 0, 0, 0, 0, 0, 0, 0, 0, 0, 0, 0, 0, 0, 0, 0, 0, 0, 0, 0, 0, 0, 0, 0, 0, 0, 0, 0, 0, 0, 0, 0, 0, 0, 0, 0, 0, 0, 0, 0, 0, 0, 0, 0, 0, 0, 0, 0, 0, 0, 0, 0, 0, 0, 0, 0, 0, 0, 0, 0, 0, 0, 0, 0, 0, 0, 0, 0, 0, 0, 0, 0, 0, 0, 0, 0, 0, 0, 0, 0, 0, 0, 0, 0, 0, 0, 0, 0, 0, 0, 0, 0, 0, 0, 0, 0, 0, 0, 0, 0, 0, 0, 0, 0, 0, 0, 0, 0, 0, 0, 0, 0, 0, 0, 0, 0, 0, 0, 0, 0, 0, 0, 0, 0, 0, 0, 0, 0, 0, 0, 0, 0, 0, 0, 0, 0, 0, 0, 0, 0, 0, 0, 0, 0, 0, 0, 0, 0, 0, 0, 0, 0, 0, 0, 0, 0, 0, 0, 0, 0, 0, 0, 0, 0, 0, 0, 0, 0, 0, 0, 0, 0, 0, 0, 0, 0, 0, 0, 0, 0, 0, 0, 0, 0, 0, 0, 0, 0, 0, 0, 0, 0, 0, 0, 0, 0, 0, 0, 0, 0, 0, 0, 0, 0, 0, 0, 0, 0, 0, 0, 0, 0, 0, 0, 0, 0, 0, 0, 0, 0, 0, 0, 0, 0, 0, 0, 0, 0, 0, 0, 0, 0, 0, 0, 0, 0, 0, 0, 0, 0, 0, 0, 0, 0, 0, 0, 0, 0, 0, 0, 0, 0, 0, 0, 0, 0, 0, 0, 0, 0, 0, 0, 0, 0, 0, 0, 0, 0, 0, 0, 0, 0, 0, 0, 0, 0, 0, 0, 0, 0, 0, 0, 0, 0, 0, 0, 0, 0, 0, 0, 0, 0, 0, 0, 0, 0, 0, 0, 0, 0, 0, 0, 0, 0, 0, 0, 0, 0, 0, 0, 0, 0, 0, 0, 0, 0, 0, 0, 0, 0, 0, 0, 0, 0, 0, 0, 0, 0, 0, 0, 0, 0, 0, 0, 0, 0, 0, 0, 0, 0, 0, 0, 0, 0, 0, 0, 0, 0, 0, 0, 0, 0, 0, 0, 0, 0, 0, 0, 0, 0, 0, 0, 0, 0, 0, 0, 0, 0, 0, 0, 0, 0, 0, 0, 0, 0, 0, 0, 0, 0, 0, 0, 0, 0, 0, 0, 0, 0, 0, 0, 0, 0, 0, 0, 0, 0, 0, 0, 0, 0, 0, 0, 0, 0, 0, 0, 0, 0, 0, 0, 0, 0, 0, 0, 0, 0, 0, 0, 0, 0, 0, 0, 0, 0, 0, 0, 0, 0, 0, 0, 2, 0, 1, 0], type: <class 'list'>, valid types: <class 'bytes'>, <class 'bytearray'>, file-like object",
     "output_type": "error",
     "traceback": [
      "\u001b[0;31m---------------------------------------------------------------------------\u001b[0m",
      "\u001b[0;31mParamValidationError\u001b[0m                      Traceback (most recent call last)",
      "\u001b[0;32m<ipython-input-44-c9ab54ae3a48>\u001b[0m in \u001b[0;36m<module>\u001b[0;34m()\u001b[0m\n\u001b[1;32m      1\u001b[0m response = runtime.invoke_endpoint(EndpointName = xgb_predictor.endpoint, # The name of the endpoint we created\n\u001b[1;32m      2\u001b[0m                                        \u001b[0mContentType\u001b[0m \u001b[0;34m=\u001b[0m \u001b[0;34m'text/csv'\u001b[0m\u001b[0;34m,\u001b[0m                     \u001b[0;31m# The data format that is expected\u001b[0m\u001b[0;34m\u001b[0m\u001b[0m\n\u001b[0;32m----> 3\u001b[0;31m                                        Body = test_bow)\n\u001b[0m",
      "\u001b[0;32m~/anaconda3/envs/python3/lib/python3.6/site-packages/botocore/client.py\u001b[0m in \u001b[0;36m_api_call\u001b[0;34m(self, *args, **kwargs)\u001b[0m\n\u001b[1;32m    355\u001b[0m                     \"%s() only accepts keyword arguments.\" % py_operation_name)\n\u001b[1;32m    356\u001b[0m             \u001b[0;31m# The \"self\" in this scope is referring to the BaseClient.\u001b[0m\u001b[0;34m\u001b[0m\u001b[0;34m\u001b[0m\u001b[0m\n\u001b[0;32m--> 357\u001b[0;31m             \u001b[0;32mreturn\u001b[0m \u001b[0mself\u001b[0m\u001b[0;34m.\u001b[0m\u001b[0m_make_api_call\u001b[0m\u001b[0;34m(\u001b[0m\u001b[0moperation_name\u001b[0m\u001b[0;34m,\u001b[0m \u001b[0mkwargs\u001b[0m\u001b[0;34m)\u001b[0m\u001b[0;34m\u001b[0m\u001b[0m\n\u001b[0m\u001b[1;32m    358\u001b[0m \u001b[0;34m\u001b[0m\u001b[0m\n\u001b[1;32m    359\u001b[0m         \u001b[0m_api_call\u001b[0m\u001b[0;34m.\u001b[0m\u001b[0m__name__\u001b[0m \u001b[0;34m=\u001b[0m \u001b[0mstr\u001b[0m\u001b[0;34m(\u001b[0m\u001b[0mpy_operation_name\u001b[0m\u001b[0;34m)\u001b[0m\u001b[0;34m\u001b[0m\u001b[0m\n",
      "\u001b[0;32m~/anaconda3/envs/python3/lib/python3.6/site-packages/botocore/client.py\u001b[0m in \u001b[0;36m_make_api_call\u001b[0;34m(self, operation_name, api_params)\u001b[0m\n\u001b[1;32m    632\u001b[0m         }\n\u001b[1;32m    633\u001b[0m         request_dict = self._convert_to_request_dict(\n\u001b[0;32m--> 634\u001b[0;31m             api_params, operation_model, context=request_context)\n\u001b[0m\u001b[1;32m    635\u001b[0m \u001b[0;34m\u001b[0m\u001b[0m\n\u001b[1;32m    636\u001b[0m         \u001b[0mservice_id\u001b[0m \u001b[0;34m=\u001b[0m \u001b[0mself\u001b[0m\u001b[0;34m.\u001b[0m\u001b[0m_service_model\u001b[0m\u001b[0;34m.\u001b[0m\u001b[0mservice_id\u001b[0m\u001b[0;34m.\u001b[0m\u001b[0mhyphenize\u001b[0m\u001b[0;34m(\u001b[0m\u001b[0;34m)\u001b[0m\u001b[0;34m\u001b[0m\u001b[0m\n",
      "\u001b[0;32m~/anaconda3/envs/python3/lib/python3.6/site-packages/botocore/client.py\u001b[0m in \u001b[0;36m_convert_to_request_dict\u001b[0;34m(self, api_params, operation_model, context)\u001b[0m\n\u001b[1;32m    680\u001b[0m             api_params, operation_model, context)\n\u001b[1;32m    681\u001b[0m         request_dict = self._serializer.serialize_to_request(\n\u001b[0;32m--> 682\u001b[0;31m             api_params, operation_model)\n\u001b[0m\u001b[1;32m    683\u001b[0m         \u001b[0;32mif\u001b[0m \u001b[0;32mnot\u001b[0m \u001b[0mself\u001b[0m\u001b[0;34m.\u001b[0m\u001b[0m_client_config\u001b[0m\u001b[0;34m.\u001b[0m\u001b[0minject_host_prefix\u001b[0m\u001b[0;34m:\u001b[0m\u001b[0;34m\u001b[0m\u001b[0m\n\u001b[1;32m    684\u001b[0m             \u001b[0mrequest_dict\u001b[0m\u001b[0;34m.\u001b[0m\u001b[0mpop\u001b[0m\u001b[0;34m(\u001b[0m\u001b[0;34m'host_prefix'\u001b[0m\u001b[0;34m,\u001b[0m \u001b[0;32mNone\u001b[0m\u001b[0;34m)\u001b[0m\u001b[0;34m\u001b[0m\u001b[0m\n",
      "\u001b[0;32m~/anaconda3/envs/python3/lib/python3.6/site-packages/botocore/validate.py\u001b[0m in \u001b[0;36mserialize_to_request\u001b[0;34m(self, parameters, operation_model)\u001b[0m\n\u001b[1;32m    295\u001b[0m                                                     operation_model.input_shape)\n\u001b[1;32m    296\u001b[0m             \u001b[0;32mif\u001b[0m \u001b[0mreport\u001b[0m\u001b[0;34m.\u001b[0m\u001b[0mhas_errors\u001b[0m\u001b[0;34m(\u001b[0m\u001b[0;34m)\u001b[0m\u001b[0;34m:\u001b[0m\u001b[0;34m\u001b[0m\u001b[0m\n\u001b[0;32m--> 297\u001b[0;31m                 \u001b[0;32mraise\u001b[0m \u001b[0mParamValidationError\u001b[0m\u001b[0;34m(\u001b[0m\u001b[0mreport\u001b[0m\u001b[0;34m=\u001b[0m\u001b[0mreport\u001b[0m\u001b[0;34m.\u001b[0m\u001b[0mgenerate_report\u001b[0m\u001b[0;34m(\u001b[0m\u001b[0;34m)\u001b[0m\u001b[0;34m)\u001b[0m\u001b[0;34m\u001b[0m\u001b[0m\n\u001b[0m\u001b[1;32m    298\u001b[0m         return self._serializer.serialize_to_request(parameters,\n\u001b[1;32m    299\u001b[0m                                                      operation_model)\n",
      "\u001b[0;31mParamValidationError\u001b[0m: Parameter validation failed:\nInvalid type for parameter Body, value: [0, 0, 0, 0, 0, 0, 0, 0, 0, 0, 0, 0, 0, 0, 0, 0, 0, 0, 0, 0, 0, 0, 0, 0, 0, 0, 0, 0, 0, 0, 0, 0, 0, 0, 0, 0, 0, 0, 0, 0, 0, 0, 0, 0, 0, 0, 0, 0, 0, 0, 0, 0, 0, 0, 0, 0, 0, 0, 0, 0, 0, 0, 0, 0, 0, 0, 0, 0, 0, 0, 0, 0, 0, 0, 0, 0, 0, 0, 0, 0, 0, 0, 0, 0, 0, 0, 0, 0, 0, 0, 0, 0, 0, 0, 0, 0, 0, 0, 0, 0, 0, 0, 0, 0, 0, 0, 0, 0, 0, 0, 0, 0, 0, 0, 0, 0, 0, 0, 0, 0, 0, 0, 0, 0, 0, 0, 0, 0, 0, 0, 0, 0, 0, 0, 0, 0, 0, 0, 0, 0, 0, 0, 0, 0, 0, 0, 0, 0, 0, 0, 0, 0, 0, 0, 0, 0, 0, 0, 0, 0, 0, 0, 0, 0, 0, 0, 0, 0, 0, 0, 0, 0, 0, 0, 0, 0, 0, 0, 0, 0, 0, 0, 0, 0, 0, 0, 0, 0, 0, 0, 0, 0, 0, 0, 0, 0, 0, 0, 0, 0, 0, 0, 0, 0, 0, 0, 0, 0, 0, 0, 0, 0, 0, 0, 0, 0, 0, 0, 0, 0, 0, 0, 0, 0, 0, 0, 1, 0, 0, 0, 0, 0, 0, 0, 0, 0, 0, 0, 0, 0, 0, 0, 0, 0, 0, 0, 0, 0, 0, 0, 0, 0, 0, 0, 0, 0, 1, 0, 0, 0, 0, 0, 0, 0, 0, 0, 0, 0, 0, 0, 0, 0, 0, 0, 0, 0, 0, 0, 0, 0, 0, 0, 0, 0, 0, 0, 0, 0, 0, 0, 0, 0, 0, 0, 0, 0, 0, 0, 0, 0, 0, 0, 0, 0, 0, 0, 0, 0, 0, 0, 0, 0, 0, 0, 0, 0, 0, 0, 0, 0, 0, 0, 0, 0, 0, 0, 0, 0, 0, 0, 0, 0, 0, 0, 0, 0, 0, 0, 0, 0, 0, 0, 0, 0, 0, 0, 0, 0, 0, 0, 0, 0, 0, 0, 0, 0, 0, 0, 0, 0, 0, 0, 0, 0, 0, 0, 0, 0, 0, 0, 0, 0, 0, 0, 0, 0, 0, 0, 0, 0, 0, 0, 0, 0, 0, 0, 0, 0, 0, 0, 0, 0, 0, 0, 0, 0, 0, 0, 0, 0, 0, 0, 0, 0, 0, 0, 0, 0, 0, 0, 0, 0, 0, 0, 0, 0, 0, 0, 0, 0, 0, 0, 0, 0, 0, 0, 0, 0, 0, 0, 0, 0, 0, 0, 0, 0, 0, 0, 0, 0, 0, 0, 0, 0, 0, 0, 0, 0, 0, 0, 0, 0, 0, 0, 0, 0, 0, 0, 0, 0, 0, 0, 0, 0, 0, 0, 0, 0, 0, 0, 0, 0, 0, 0, 0, 0, 0, 0, 0, 0, 0, 0, 0, 0, 0, 0, 0, 0, 0, 0, 0, 0, 0, 0, 0, 0, 0, 0, 0, 0, 0, 0, 0, 0, 0, 0, 0, 0, 0, 0, 0, 0, 0, 0, 0, 0, 0, 0, 0, 0, 0, 0, 0, 0, 0, 0, 0, 0, 0, 0, 0, 0, 0, 0, 0, 0, 0, 0, 0, 0, 0, 0, 0, 0, 0, 0, 0, 0, 0, 0, 0, 0, 0, 0, 0, 0, 0, 0, 0, 0, 0, 0, 0, 0, 0, 0, 0, 0, 0, 0, 0, 0, 0, 0, 0, 0, 0, 0, 0, 0, 0, 0, 0, 0, 0, 0, 0, 0, 0, 0, 0, 0, 0, 0, 0, 0, 0, 0, 0, 0, 0, 0, 0, 0, 0, 0, 0, 0, 0, 0, 0, 0, 0, 0, 0, 0, 0, 0, 0, 0, 0, 0, 0, 0, 0, 0, 0, 0, 0, 0, 0, 0, 0, 0, 0, 0, 1, 0, 0, 0, 0, 0, 0, 0, 0, 0, 0, 0, 0, 0, 0, 0, 0, 0, 0, 0, 0, 0, 0, 0, 0, 0, 0, 0, 0, 0, 0, 0, 0, 0, 0, 0, 0, 0, 0, 0, 0, 0, 0, 0, 0, 0, 0, 0, 0, 0, 0, 0, 0, 0, 0, 0, 0, 0, 0, 0, 0, 0, 0, 0, 0, 0, 0, 0, 0, 0, 0, 0, 0, 0, 0, 0, 0, 0, 0, 0, 0, 0, 0, 0, 0, 0, 0, 0, 0, 0, 0, 0, 0, 0, 0, 0, 0, 0, 0, 0, 0, 0, 0, 0, 0, 0, 0, 0, 0, 0, 0, 0, 0, 0, 0, 0, 0, 0, 0, 0, 0, 0, 0, 0, 0, 0, 0, 0, 0, 0, 0, 0, 0, 0, 0, 0, 0, 0, 0, 0, 0, 0, 0, 0, 0, 0, 0, 0, 0, 0, 0, 0, 0, 0, 0, 0, 0, 0, 0, 0, 0, 0, 0, 0, 0, 0, 0, 0, 0, 0, 0, 0, 0, 0, 0, 0, 0, 0, 0, 0, 0, 0, 0, 0, 0, 0, 0, 0, 0, 0, 0, 0, 0, 0, 0, 0, 0, 0, 0, 0, 0, 0, 0, 0, 0, 0, 0, 0, 0, 0, 0, 0, 0, 0, 0, 0, 0, 0, 0, 0, 0, 0, 0, 0, 0, 0, 0, 0, 0, 0, 0, 0, 0, 0, 0, 0, 0, 0, 0, 0, 0, 0, 0, 0, 0, 0, 0, 0, 0, 0, 0, 0, 0, 0, 1, 0, 0, 0, 0, 0, 0, 0, 0, 0, 0, 0, 0, 0, 0, 0, 0, 0, 0, 0, 0, 0, 0, 0, 0, 0, 0, 0, 0, 0, 0, 0, 0, 0, 0, 0, 0, 0, 0, 0, 0, 0, 0, 0, 0, 0, 0, 0, 0, 0, 0, 0, 0, 0, 0, 0, 0, 0, 0, 0, 0, 0, 0, 0, 0, 0, 0, 0, 0, 0, 0, 0, 0, 0, 0, 0, 0, 0, 0, 0, 0, 0, 0, 0, 0, 0, 0, 1, 0, 0, 0, 0, 0, 0, 0, 0, 0, 0, 0, 0, 0, 0, 0, 0, 0, 0, 0, 0, 0, 0, 0, 0, 0, 0, 0, 0, 0, 0, 0, 0, 0, 0, 0, 0, 0, 0, 0, 0, 0, 0, 0, 0, 0, 0, 0, 0, 0, 0, 0, 0, 0, 0, 0, 0, 0, 0, 0, 0, 0, 0, 0, 0, 0, 0, 0, 0, 0, 0, 0, 0, 0, 0, 0, 0, 0, 0, 0, 0, 0, 0, 0, 0, 0, 0, 0, 0, 0, 0, 0, 0, 0, 0, 0, 0, 0, 0, 0, 0, 0, 0, 0, 0, 0, 0, 0, 0, 0, 0, 0, 0, 0, 0, 0, 0, 0, 0, 0, 0, 0, 0, 0, 0, 0, 0, 0, 0, 0, 0, 0, 0, 0, 0, 0, 0, 0, 0, 0, 0, 0, 0, 0, 0, 0, 0, 0, 0, 0, 0, 0, 0, 0, 0, 0, 0, 0, 0, 0, 0, 0, 0, 0, 0, 0, 0, 0, 0, 0, 0, 0, 0, 0, 0, 0, 0, 0, 0, 0, 0, 0, 0, 0, 0, 0, 0, 0, 0, 0, 0, 0, 0, 0, 0, 0, 0, 0, 0, 0, 0, 0, 0, 0, 0, 0, 0, 0, 0, 0, 0, 0, 0, 0, 0, 0, 0, 0, 0, 0, 0, 0, 0, 0, 0, 0, 0, 0, 0, 0, 0, 0, 0, 0, 0, 0, 0, 0, 0, 0, 0, 0, 0, 0, 0, 0, 0, 0, 0, 0, 0, 0, 0, 1, 0, 0, 0, 0, 0, 0, 0, 0, 0, 0, 0, 0, 0, 0, 0, 0, 0, 0, 0, 0, 0, 0, 0, 0, 0, 0, 0, 0, 0, 0, 0, 0, 0, 0, 0, 0, 0, 0, 0, 0, 0, 0, 0, 0, 0, 0, 0, 0, 0, 0, 0, 0, 0, 0, 0, 1, 0, 0, 0, 0, 0, 0, 0, 0, 0, 0, 0, 0, 0, 0, 0, 0, 0, 0, 0, 0, 0, 0, 0, 0, 0, 0, 0, 0, 0, 0, 0, 0, 0, 0, 0, 0, 0, 0, 0, 0, 0, 0, 0, 0, 0, 0, 0, 0, 0, 0, 0, 0, 0, 0, 0, 0, 0, 0, 0, 0, 0, 0, 0, 0, 0, 0, 0, 0, 0, 0, 0, 0, 0, 0, 0, 0, 0, 0, 0, 0, 0, 0, 0, 0, 0, 0, 0, 0, 0, 0, 0, 0, 0, 0, 0, 0, 0, 0, 0, 0, 0, 0, 0, 0, 0, 0, 0, 0, 0, 0, 0, 0, 0, 0, 0, 0, 0, 0, 0, 0, 0, 0, 0, 0, 0, 0, 0, 0, 0, 0, 0, 0, 0, 0, 0, 0, 0, 0, 0, 0, 0, 0, 0, 0, 0, 0, 0, 0, 0, 0, 0, 0, 0, 0, 0, 0, 0, 0, 0, 0, 0, 0, 0, 0, 0, 0, 0, 0, 0, 0, 0, 0, 0, 0, 0, 0, 0, 0, 0, 0, 0, 0, 0, 0, 0, 0, 0, 0, 0, 0, 0, 0, 0, 0, 0, 0, 0, 0, 0, 0, 0, 0, 0, 0, 0, 0, 0, 0, 0, 0, 0, 0, 0, 0, 0, 0, 0, 0, 0, 0, 0, 0, 0, 0, 0, 0, 0, 0, 0, 0, 0, 0, 0, 0, 0, 0, 0, 0, 0, 0, 0, 0, 0, 0, 0, 0, 0, 0, 0, 0, 0, 0, 0, 0, 0, 0, 0, 0, 0, 0, 0, 0, 0, 0, 0, 0, 0, 0, 0, 0, 0, 0, 0, 0, 0, 0, 0, 0, 0, 0, 0, 0, 0, 0, 0, 0, 0, 0, 0, 0, 0, 0, 0, 0, 0, 0, 0, 0, 0, 0, 0, 0, 0, 0, 0, 0, 0, 0, 0, 0, 0, 0, 0, 0, 0, 0, 0, 0, 0, 0, 0, 0, 0, 0, 0, 0, 0, 0, 0, 0, 0, 0, 0, 0, 0, 0, 0, 0, 0, 0, 0, 0, 0, 0, 0, 0, 0, 0, 0, 0, 0, 0, 0, 0, 0, 0, 0, 0, 0, 0, 0, 0, 0, 0, 0, 0, 0, 0, 0, 0, 0, 0, 0, 0, 0, 0, 0, 0, 0, 0, 0, 0, 0, 0, 0, 0, 0, 0, 0, 0, 0, 0, 0, 0, 0, 0, 0, 0, 0, 0, 0, 0, 0, 0, 0, 0, 0, 0, 0, 0, 0, 0, 0, 0, 0, 0, 0, 0, 0, 0, 0, 0, 0, 0, 0, 0, 0, 0, 0, 0, 0, 0, 0, 0, 0, 0, 0, 0, 0, 0, 0, 0, 0, 0, 0, 0, 0, 0, 0, 0, 0, 0, 0, 0, 0, 0, 0, 0, 0, 0, 0, 0, 0, 0, 0, 0, 0, 0, 0, 0, 0, 0, 0, 0, 0, 0, 0, 0, 0, 0, 0, 0, 0, 0, 0, 0, 0, 0, 0, 0, 0, 0, 0, 0, 0, 0, 0, 0, 0, 0, 0, 0, 0, 0, 0, 0, 0, 0, 0, 0, 0, 0, 0, 0, 0, 0, 0, 0, 0, 0, 0, 0, 0, 0, 0, 0, 0, 0, 0, 0, 0, 0, 0, 0, 0, 0, 0, 0, 0, 0, 0, 0, 0, 0, 0, 0, 0, 0, 0, 0, 0, 0, 0, 0, 0, 0, 0, 0, 0, 0, 0, 0, 0, 0, 0, 0, 0, 0, 0, 0, 0, 0, 0, 0, 0, 0, 0, 0, 0, 0, 0, 0, 0, 0, 0, 0, 0, 0, 0, 0, 0, 0, 0, 0, 0, 0, 0, 0, 0, 0, 0, 0, 0, 0, 0, 0, 0, 0, 0, 0, 0, 0, 0, 0, 0, 0, 0, 0, 0, 0, 0, 0, 0, 0, 0, 0, 0, 0, 0, 0, 0, 0, 0, 0, 0, 0, 0, 0, 0, 0, 0, 0, 0, 0, 0, 0, 0, 0, 0, 0, 0, 0, 0, 0, 0, 0, 0, 0, 0, 0, 0, 0, 0, 0, 0, 0, 0, 0, 0, 0, 0, 0, 0, 0, 0, 0, 0, 0, 0, 0, 0, 1, 0, 0, 0, 0, 0, 0, 0, 0, 0, 0, 0, 0, 0, 0, 0, 0, 0, 0, 0, 0, 0, 0, 0, 0, 0, 0, 0, 0, 0, 0, 0, 0, 0, 0, 0, 0, 0, 0, 0, 0, 0, 0, 0, 0, 0, 0, 0, 0, 0, 0, 0, 0, 0, 0, 0, 0, 0, 0, 0, 0, 0, 0, 0, 0, 0, 0, 0, 0, 0, 0, 0, 0, 0, 0, 1, 0, 0, 0, 0, 0, 0, 0, 0, 0, 0, 0, 0, 0, 0, 0, 0, 0, 0, 0, 0, 1, 0, 0, 1, 0, 0, 0, 0, 0, 0, 0, 0, 0, 0, 0, 0, 0, 0, 0, 0, 0, 0, 0, 0, 0, 0, 0, 0, 0, 0, 0, 0, 0, 0, 0, 0, 0, 0, 0, 0, 0, 0, 0, 0, 0, 0, 0, 0, 0, 0, 0, 0, 0, 0, 0, 0, 0, 0, 0, 0, 0, 0, 0, 0, 0, 0, 0, 0, 0, 0, 0, 0, 0, 0, 0, 0, 0, 0, 0, 0, 0, 0, 0, 0, 0, 0, 0, 0, 0, 0, 0, 0, 0, 0, 0, 0, 0, 0, 0, 0, 0, 0, 0, 0, 0, 0, 0, 0, 0, 0, 0, 0, 0, 0, 0, 0, 0, 0, 0, 0, 0, 0, 0, 0, 0, 0, 0, 0, 0, 0, 0, 0, 0, 0, 0, 0, 0, 0, 0, 0, 0, 0, 0, 0, 0, 0, 0, 0, 0, 0, 0, 0, 0, 0, 0, 0, 0, 0, 0, 0, 0, 0, 0, 0, 0, 0, 0, 0, 0, 0, 0, 0, 0, 0, 0, 0, 0, 0, 0, 0, 0, 0, 0, 0, 0, 0, 0, 0, 0, 0, 0, 0, 0, 0, 0, 0, 0, 0, 0, 0, 0, 0, 0, 0, 0, 0, 0, 0, 0, 0, 0, 0, 0, 0, 0, 0, 0, 0, 0, 0, 0, 0, 0, 0, 0, 0, 0, 0, 0, 0, 0, 0, 0, 0, 0, 0, 0, 0, 0, 0, 0, 0, 0, 0, 0, 0, 0, 0, 0, 0, 0, 0, 0, 0, 0, 0, 0, 0, 0, 0, 0, 0, 0, 0, 0, 0, 0, 0, 0, 0, 0, 0, 0, 0, 0, 0, 0, 0, 0, 0, 0, 0, 0, 0, 0, 0, 0, 0, 0, 0, 0, 0, 0, 0, 0, 0, 0, 0, 0, 0, 0, 0, 0, 0, 0, 0, 0, 0, 0, 0, 0, 0, 0, 0, 0, 0, 0, 0, 0, 0, 0, 0, 0, 0, 0, 0, 0, 0, 0, 0, 0, 0, 0, 0, 0, 0, 0, 0, 0, 0, 0, 0, 0, 0, 0, 0, 0, 0, 0, 0, 0, 0, 0, 0, 0, 0, 0, 0, 0, 0, 0, 0, 0, 0, 0, 0, 0, 0, 0, 0, 0, 0, 0, 0, 0, 0, 0, 0, 0, 0, 0, 0, 0, 0, 0, 0, 0, 0, 0, 0, 0, 0, 0, 0, 0, 0, 0, 0, 0, 0, 0, 0, 0, 0, 0, 0, 0, 0, 0, 0, 0, 0, 0, 0, 0, 0, 0, 0, 0, 0, 0, 0, 0, 0, 0, 0, 0, 0, 0, 0, 0, 0, 0, 0, 0, 0, 0, 0, 0, 0, 0, 0, 0, 0, 0, 0, 0, 0, 0, 0, 0, 0, 0, 0, 0, 0, 0, 0, 0, 0, 0, 0, 0, 0, 0, 0, 0, 0, 0, 0, 1, 0, 0, 0, 0, 0, 0, 0, 0, 0, 0, 0, 0, 0, 0, 0, 0, 0, 0, 0, 0, 0, 0, 0, 0, 0, 0, 0, 0, 0, 0, 0, 0, 0, 0, 0, 0, 0, 0, 0, 0, 0, 0, 0, 0, 0, 0, 0, 0, 0, 0, 0, 0, 0, 0, 0, 0, 0, 0, 0, 0, 0, 0, 0, 0, 0, 0, 0, 0, 0, 0, 0, 0, 0, 0, 0, 0, 0, 0, 0, 0, 0, 0, 0, 0, 0, 0, 0, 0, 0, 0, 0, 0, 0, 0, 0, 0, 0, 0, 0, 0, 0, 0, 0, 0, 0, 0, 0, 0, 0, 0, 0, 0, 0, 0, 0, 0, 0, 0, 0, 0, 0, 0, 0, 0, 0, 0, 0, 0, 0, 0, 0, 0, 0, 0, 0, 0, 0, 0, 0, 0, 0, 0, 0, 0, 0, 0, 0, 0, 0, 0, 0, 0, 0, 0, 0, 0, 0, 0, 0, 0, 0, 0, 0, 0, 0, 0, 0, 0, 0, 0, 0, 0, 0, 0, 0, 0, 0, 0, 0, 0, 0, 0, 0, 0, 0, 0, 0, 0, 0, 0, 0, 0, 0, 0, 0, 0, 0, 0, 0, 0, 0, 0, 0, 0, 0, 0, 0, 0, 0, 0, 0, 0, 0, 0, 0, 0, 0, 0, 0, 0, 0, 0, 0, 0, 0, 0, 0, 0, 0, 0, 0, 0, 0, 0, 0, 0, 0, 0, 0, 0, 0, 0, 0, 0, 0, 0, 0, 0, 0, 0, 0, 0, 0, 0, 0, 0, 0, 0, 0, 0, 0, 0, 0, 0, 0, 0, 0, 0, 0, 0, 0, 0, 0, 0, 0, 0, 0, 0, 0, 0, 0, 0, 0, 0, 0, 0, 0, 0, 0, 0, 0, 0, 0, 0, 0, 0, 0, 0, 0, 0, 0, 0, 0, 0, 0, 0, 0, 0, 0, 0, 0, 0, 0, 0, 0, 0, 0, 0, 0, 0, 0, 0, 0, 0, 0, 0, 0, 0, 0, 0, 0, 0, 0, 0, 0, 0, 0, 0, 0, 0, 0, 0, 0, 0, 0, 0, 0, 0, 0, 0, 0, 0, 0, 0, 0, 0, 0, 0, 0, 0, 0, 0, 0, 0, 0, 0, 0, 0, 0, 0, 0, 0, 0, 0, 0, 0, 0, 0, 0, 0, 0, 0, 0, 0, 0, 0, 0, 0, 0, 0, 0, 0, 0, 0, 0, 0, 0, 0, 0, 0, 0, 0, 0, 0, 0, 0, 0, 0, 0, 0, 0, 0, 0, 0, 0, 0, 0, 0, 0, 0, 0, 0, 0, 0, 0, 0, 0, 0, 0, 0, 0, 0, 0, 0, 0, 0, 0, 0, 0, 0, 0, 0, 0, 0, 0, 0, 0, 0, 0, 0, 0, 0, 0, 0, 0, 0, 0, 0, 0, 0, 0, 0, 0, 0, 0, 0, 0, 0, 0, 0, 0, 0, 0, 0, 0, 0, 0, 0, 0, 0, 0, 0, 0, 0, 0, 0, 0, 0, 0, 0, 0, 0, 0, 0, 0, 0, 0, 0, 0, 0, 0, 0, 0, 0, 0, 0, 0, 0, 0, 0, 0, 0, 1, 0, 0, 0, 0, 0, 0, 0, 0, 0, 0, 0, 0, 0, 0, 0, 0, 0, 0, 0, 0, 0, 0, 0, 0, 0, 0, 0, 0, 0, 0, 0, 0, 0, 0, 0, 2, 0, 0, 0, 0, 0, 0, 0, 0, 0, 0, 0, 0, 0, 0, 0, 0, 0, 0, 0, 0, 0, 0, 0, 0, 0, 0, 0, 0, 0, 0, 0, 0, 0, 0, 0, 0, 0, 0, 0, 0, 1, 0, 0, 0, 0, 0, 0, 0, 0, 0, 0, 0, 0, 0, 0, 0, 0, 0, 0, 0, 0, 0, 0, 0, 0, 0, 0, 0, 0, 0, 0, 0, 0, 0, 0, 0, 0, 0, 0, 0, 0, 0, 0, 0, 0, 0, 0, 0, 0, 0, 0, 0, 0, 0, 0, 0, 0, 0, 0, 0, 0, 0, 0, 0, 0, 0, 0, 0, 0, 0, 0, 0, 0, 0, 0, 0, 0, 0, 0, 0, 0, 0, 0, 0, 0, 0, 0, 0, 0, 0, 0, 0, 0, 0, 0, 0, 0, 0, 0, 0, 0, 0, 0, 0, 0, 0, 0, 0, 0, 0, 0, 0, 0, 0, 0, 0, 0, 0, 0, 0, 0, 0, 0, 0, 0, 0, 0, 0, 0, 0, 0, 0, 0, 0, 0, 0, 0, 0, 0, 0, 0, 0, 0, 0, 0, 0, 0, 0, 0, 0, 0, 0, 0, 0, 0, 0, 0, 0, 0, 0, 0, 0, 0, 0, 0, 0, 0, 0, 0, 0, 0, 0, 0, 0, 0, 0, 0, 0, 0, 0, 0, 0, 0, 0, 0, 0, 0, 0, 0, 0, 0, 0, 0, 0, 0, 0, 0, 0, 0, 0, 0, 0, 0, 0, 0, 0, 0, 0, 0, 0, 0, 0, 0, 0, 0, 0, 0, 0, 0, 0, 0, 0, 0, 0, 0, 0, 0, 0, 0, 0, 0, 0, 0, 0, 0, 0, 0, 0, 0, 0, 0, 0, 0, 0, 0, 0, 0, 0, 0, 0, 0, 0, 0, 0, 0, 0, 0, 0, 0, 0, 0, 0, 0, 0, 0, 0, 0, 0, 0, 0, 0, 0, 0, 0, 0, 0, 0, 0, 0, 0, 0, 0, 0, 0, 0, 0, 0, 0, 0, 0, 0, 0, 0, 0, 0, 0, 0, 0, 0, 0, 0, 0, 0, 0, 0, 0, 0, 0, 0, 0, 0, 0, 0, 0, 0, 0, 0, 0, 0, 0, 0, 0, 0, 0, 0, 0, 0, 0, 0, 0, 0, 0, 0, 0, 0, 0, 0, 0, 0, 0, 0, 0, 0, 0, 0, 0, 0, 0, 0, 0, 0, 0, 0, 0, 0, 0, 0, 0, 0, 0, 0, 0, 0, 0, 0, 0, 0, 0, 0, 0, 0, 0, 0, 0, 0, 0, 0, 0, 0, 0, 0, 0, 0, 0, 0, 0, 0, 0, 0, 0, 0, 0, 0, 0, 0, 0, 0, 0, 0, 0, 0, 0, 0, 0, 0, 0, 0, 0, 0, 0, 0, 0, 0, 0, 0, 0, 0, 0, 0, 0, 0, 0, 0, 0, 0, 0, 0, 0, 0, 0, 0, 0, 0, 0, 0, 0, 0, 0, 0, 0, 0, 0, 0, 0, 0, 0, 0, 0, 0, 0, 0, 0, 0, 0, 0, 0, 0, 0, 0, 0, 0, 0, 0, 0, 0, 0, 0, 0, 0, 0, 0, 0, 0, 0, 0, 0, 0, 0, 0, 0, 0, 0, 0, 0, 0, 0, 0, 0, 0, 0, 0, 0, 0, 0, 0, 0, 0, 0, 1, 0, 0, 0, 0, 0, 0, 0, 0, 0, 0, 0, 0, 0, 0, 0, 0, 0, 0, 0, 0, 0, 0, 0, 0, 0, 0, 0, 0, 0, 0, 0, 0, 0, 0, 0, 0, 0, 0, 0, 0, 0, 0, 0, 0, 0, 0, 0, 0, 0, 0, 0, 0, 0, 0, 0, 0, 0, 0, 0, 0, 0, 0, 0, 0, 0, 0, 0, 0, 0, 0, 0, 0, 0, 0, 0, 0, 0, 0, 0, 0, 0, 0, 0, 0, 0, 0, 0, 0, 0, 0, 0, 0, 0, 0, 0, 0, 0, 0, 0, 0, 0, 0, 0, 0, 0, 0, 0, 0, 0, 0, 2, 0, 0, 0, 0, 0, 0, 0, 0, 0, 0, 0, 0, 0, 0, 0, 0, 0, 0, 0, 0, 0, 0, 0, 0, 0, 0, 0, 0, 0, 0, 0, 0, 0, 0, 0, 0, 0, 0, 0, 0, 0, 0, 0, 0, 0, 0, 0, 0, 0, 0, 0, 0, 0, 0, 0, 0, 0, 0, 0, 0, 0, 0, 0, 0, 0, 0, 0, 0, 0, 0, 0, 0, 0, 0, 0, 0, 0, 0, 0, 0, 0, 0, 0, 0, 0, 0, 0, 0, 0, 0, 0, 0, 0, 0, 0, 0, 0, 0, 0, 0, 0, 0, 0, 0, 0, 0, 0, 0, 0, 0, 0, 0, 0, 0, 0, 0, 0, 0, 0, 0, 0, 0, 0, 0, 0, 0, 0, 0, 0, 0, 0, 0, 0, 0, 0, 0, 0, 0, 0, 0, 0, 0, 0, 0, 0, 0, 0, 0, 0, 0, 0, 0, 0, 0, 0, 0, 0, 0, 0, 0, 0, 0, 0, 0, 0, 0, 0, 0, 0, 0, 0, 0, 0, 0, 0, 0, 0, 0, 0, 0, 0, 0, 0, 0, 0, 0, 0, 0, 0, 0, 0, 0, 0, 0, 0, 0, 0, 0, 0, 0, 0, 0, 0, 0, 0, 0, 0, 0, 0, 0, 0, 0, 0, 0, 0, 0, 0, 0, 0, 0, 0, 0, 0, 0, 0, 0, 0, 0, 0, 0, 0, 0, 0, 0, 0, 0, 0, 0, 0, 0, 0, 0, 0, 0, 0, 0, 0, 0, 0, 0, 0, 0, 0, 0, 0, 0, 0, 0, 0, 0, 0, 0, 0, 0, 0, 0, 0, 0, 0, 0, 0, 0, 0, 0, 0, 0, 0, 0, 0, 0, 0, 0, 0, 0, 0, 0, 0, 0, 0, 0, 0, 0, 0, 0, 0, 0, 0, 0, 0, 0, 0, 0, 0, 0, 0, 0, 0, 0, 0, 0, 0, 0, 0, 0, 0, 0, 0, 0, 0, 0, 0, 0, 0, 0, 0, 0, 0, 0, 0, 0, 0, 0, 0, 0, 0, 0, 0, 0, 0, 0, 0, 0, 0, 0, 0, 0, 0, 0, 0, 0, 0, 0, 0, 0, 0, 0, 0, 0, 0, 0, 0, 0, 0, 0, 0, 0, 0, 0, 0, 0, 0, 0, 0, 0, 0, 0, 0, 0, 0, 0, 0, 0, 0, 0, 0, 0, 0, 0, 0, 0, 0, 0, 0, 0, 0, 0, 0, 0, 0, 0, 0, 0, 0, 0, 0, 0, 0, 0, 0, 0, 0, 0, 0, 0, 0, 0, 0, 0, 0, 0, 0, 0, 0, 0, 0, 0, 0, 0, 0, 0, 0, 0, 0, 0, 0, 0, 0, 0, 0, 0, 0, 0, 0, 0, 0, 0, 0, 0, 0, 0, 0, 0, 0, 0, 0, 0, 0, 0, 0, 0, 0, 0, 0, 0, 0, 0, 0, 0, 0, 0, 0, 0, 0, 0, 0, 0, 0, 0, 0, 0, 0, 0, 0, 0, 0, 0, 0, 0, 0, 0, 0, 0, 0, 0, 0, 0, 0, 0, 0, 0, 0, 0, 0, 0, 0, 0, 0, 0, 0, 0, 0, 0, 0, 0, 0, 0, 0, 0, 0, 0, 0, 0, 0, 0, 0, 0, 0, 0, 0, 0, 0, 0, 0, 0, 0, 0, 0, 0, 0, 0, 0, 0, 0, 0, 0, 0, 0, 0, 0, 0, 0, 0, 0, 0, 0, 0, 0, 0, 0, 0, 0, 0, 0, 0, 0, 0, 0, 0, 0, 0, 0, 0, 0, 0, 0, 0, 0, 0, 0, 0, 0, 0, 0, 0, 0, 0, 0, 0, 0, 0, 0, 0, 0, 0, 0, 0, 0, 0, 0, 0, 0, 0, 0, 0, 0, 0, 0, 0, 0, 0, 0, 0, 0, 0, 0, 0, 0, 0, 0, 0, 0, 0, 0, 0, 0, 0, 0, 0, 0, 0, 0, 0, 0, 0, 0, 0, 0, 0, 0, 0, 0, 0, 0, 0, 0, 0, 0, 0, 0, 0, 0, 0, 0, 0, 0, 0, 0, 0, 0, 0, 0, 0, 0, 0, 0, 0, 0, 0, 0, 0, 0, 0, 0, 0, 0, 0, 0, 0, 0, 0, 0, 0, 0, 0, 0, 0, 0, 0, 0, 0, 1, 0, 0, 0, 0, 0, 0, 0, 0, 0, 0, 0, 0, 0, 0, 0, 0, 0, 0, 0, 0, 0, 0, 0, 0, 0, 0, 0, 0, 0, 0, 0, 0, 0, 0, 0, 0, 0, 0, 0, 0, 0, 0, 0, 0, 0, 0, 0, 0, 0, 0, 0, 0, 0, 0, 0, 0, 0, 0, 0, 0, 0, 0, 0, 0, 0, 0, 0, 0, 0, 0, 0, 0, 0, 0, 0, 0, 0, 0, 0, 0, 0, 0, 0, 0, 0, 0, 0, 0, 0, 0, 0, 0, 0, 0, 0, 0, 0, 0, 0, 0, 0, 0, 0, 0, 0, 0, 0, 1, 0, 0, 0, 0, 0, 0, 0, 0, 0, 0, 0, 0, 0, 0, 0, 0, 0, 0, 0, 0, 0, 0, 0, 0, 0, 0, 0, 0, 0, 0, 0, 0, 0, 0, 0, 0, 0, 0, 0, 0, 0, 0, 0, 0, 0, 0, 0, 0, 0, 0, 0, 0, 0, 0, 0, 0, 0, 0, 0, 0, 0, 0, 0, 0, 0, 0, 0, 0, 0, 0, 0, 0, 0, 0, 0, 0, 0, 0, 0, 0, 0, 0, 0, 0, 0, 0, 0, 0, 0, 0, 0, 0, 0, 0, 0, 0, 0, 0, 0, 0, 0, 0, 0, 0, 0, 0, 0, 0, 0, 0, 0, 0, 0, 0, 0, 0, 0, 0, 0, 0, 0, 0, 0, 0, 0, 0, 0, 0, 0, 0, 0, 0, 0, 0, 0, 0, 0, 0, 0, 0, 0, 0, 0, 0, 0, 0, 0, 0, 0, 0, 0, 0, 0, 0, 0, 0, 0, 0, 0, 0, 0, 0, 0, 0, 0, 0, 0, 0, 0, 0, 0, 0, 0, 0, 0, 0, 0, 0, 0, 0, 0, 0, 0, 0, 0, 0, 0, 0, 0, 0, 0, 0, 0, 0, 0, 0, 0, 0, 0, 0, 0, 0, 0, 0, 0, 0, 0, 0, 0, 0, 0, 0, 0, 0, 0, 0, 0, 0, 0, 0, 0, 0, 0, 0, 0, 0, 0, 0, 0, 0, 0, 0, 0, 0, 0, 0, 0, 0, 0, 0, 0, 0, 0, 0, 0, 0, 0, 0, 0, 0, 0, 0, 0, 0, 0, 0, 0, 0, 0, 0, 0, 0, 0, 0, 0, 0, 0, 0, 0, 0, 0, 0, 0, 0, 0, 0, 0, 0, 0, 0, 0, 0, 0, 0, 0, 0, 0, 0, 0, 0, 0, 0, 0, 0, 0, 0, 0, 0, 0, 0, 0, 0, 0, 0, 0, 0, 0, 0, 0, 0, 0, 0, 0, 0, 0, 0, 0, 0, 0, 0, 0, 0, 0, 0, 0, 0, 0, 0, 0, 0, 0, 0, 0, 0, 0, 0, 0, 0, 0, 0, 0, 0, 0, 0, 0, 0, 0, 0, 0, 0, 0, 0, 0, 0, 0, 0, 0, 0, 0, 0, 0, 0, 0, 0, 0, 0, 0, 0, 0, 0, 0, 0, 0, 0, 0, 0, 0, 0, 0, 0, 0, 0, 0, 0, 0, 0, 0, 0, 0, 0, 0, 0, 0, 0, 0, 0, 0, 0, 0, 0, 0, 0, 0, 0, 0, 0, 0, 0, 0, 0, 0, 0, 0, 0, 0, 0, 0, 0, 0, 0, 0, 0, 0, 0, 0, 0, 0, 0, 0, 0, 0, 0, 0, 0, 0, 0, 0, 0, 0, 0, 0, 0, 0, 0, 0, 0, 0, 0, 0, 0, 0, 0, 0, 0, 0, 0, 0, 0, 0, 0, 0, 0, 0, 2, 0, 1, 0], type: <class 'list'>, valid types: <class 'bytes'>, <class 'bytearray'>, file-like object"
     ]
    }
   ],
   "source": [
    "response = runtime.invoke_endpoint(EndpointName = xgb_predictor.endpoint, # The name of the endpoint we created\n",
    "                                       ContentType = 'text/csv',                     # The data format that is expected\n",
    "                                       Body = test_bow)"
   ]
  },
  {
   "cell_type": "markdown",
   "metadata": {},
   "source": [
    "So why did we get an error?\n",
    "\n",
    "Because we tried to send the endpoint a list of integers but it expected us to send data of type `text/csv`. So, we need to convert it."
   ]
  },
  {
   "cell_type": "code",
   "execution_count": 45,
   "metadata": {},
   "outputs": [],
   "source": [
    "response = runtime.invoke_endpoint(EndpointName = xgb_predictor.endpoint, # The name of the endpoint we created\n",
    "                                       ContentType = 'text/csv',                     # The data format that is expected\n",
    "                                       Body = ','.join([str(val) for val in test_bow]).encode('utf-8'))"
   ]
  },
  {
   "cell_type": "code",
   "execution_count": 46,
   "metadata": {},
   "outputs": [
    {
     "name": "stdout",
     "output_type": "stream",
     "text": [
      "{'ResponseMetadata': {'RequestId': 'c7fc525f-01e6-4ad9-9b03-1a3e2d8ea16a', 'HTTPStatusCode': 200, 'HTTPHeaders': {'x-amzn-requestid': 'c7fc525f-01e6-4ad9-9b03-1a3e2d8ea16a', 'x-amzn-invoked-production-variant': 'AllTraffic', 'date': 'Wed, 10 Jul 2019 08:54:49 GMT', 'content-type': 'text/csv; charset=utf-8', 'content-length': '14'}, 'RetryAttempts': 0}, 'ContentType': 'text/csv; charset=utf-8', 'InvokedProductionVariant': 'AllTraffic', 'Body': <botocore.response.StreamingBody object at 0x7f72b9ac0978>}\n"
     ]
    }
   ],
   "source": [
    "print(response)"
   ]
  },
  {
   "cell_type": "markdown",
   "metadata": {},
   "source": [
    "As we can see, the response from our model is a somewhat complicated looking dict that contains a bunch of information. The bit that we are most interested in is `'Body'` object which is a streaming object that we need to `read` in order to make use of."
   ]
  },
  {
   "cell_type": "code",
   "execution_count": 47,
   "metadata": {},
   "outputs": [
    {
     "name": "stdout",
     "output_type": "stream",
     "text": [
      "0.372772276402\n"
     ]
    }
   ],
   "source": [
    "response = response['Body'].read().decode('utf-8')\n",
    "print(response)"
   ]
  },
  {
   "cell_type": "markdown",
   "metadata": {},
   "source": [
    "Now that we know how to process the incoming user data we can start setting up the infrastructure to make our simple web app work. To do this we will make use of two different services. Amazon's Lambda and API Gateway services.\n",
    "\n",
    "Lambda is a service which allows someone to write some relatively simple code and have it executed whenever a chosen trigger occurs. For example, you may want to update a database whenever new data is uploaded to a folder stored on S3.\n",
    "\n",
    "API Gateway is a service that allows you to create HTTP endpoints (url addresses) which are connected to other AWS services. One of the benefits to this is that you get to decide what credentials, if any, are required to access these endpoints.\n",
    "\n",
    "In our case we are going to set up an HTTP endpoint through API Gateway which is open to the public. Then, whenever anyone sends data to our public endpoint we will trigger a Lambda function which will send the input (in our case a review) to our model's endpoint and then return the result."
   ]
  },
  {
   "cell_type": "markdown",
   "metadata": {},
   "source": [
    "### Setting up a Lambda function\n",
    "\n",
    "The first thing we are going to do is set up a Lambda function. This Lambda function will be executed whenever our public API has data sent to it. When it is executed it will receive the data, perform any sort of processing that is required, send the data (the review) to the SageMaker endpoint we've created and then return the result.\n",
    "\n",
    "#### Part A: Create an IAM Role for the Lambda function\n",
    "\n",
    "Since we want the Lambda function to call a SageMaker endpoint, we need to make sure that it has permission to do so. To do this, we will construct a role that we can later give the Lambda function.\n",
    "\n",
    "Using the AWS Console, navigate to the **IAM** page and click on **Roles**. Then, click on **Create role**. Make sure that the **AWS service** is the type of trusted entity selected and choose **Lambda** as the service that will use this role, then click **Next: Permissions**.\n",
    "\n",
    "In the search box type `sagemaker` and select the check box next to the **AmazonSageMakerFullAccess** policy. Then, click on **Next: Review**.\n",
    "\n",
    "Lastly, give this role a name. Make sure you use a name that you will remember later on, for example `LambdaSageMakerRole`. Then, click on **Create role**."
   ]
  },
  {
   "cell_type": "markdown",
   "metadata": {},
   "source": [
    "#### Part B: Create a Lambda function\n",
    "\n",
    "Now it is time to actually create the Lambda function. Remember from earlier that in order to process the user provided input and send it to our endpoint we need to gather two pieces of information:\n",
    "\n",
    " - The name of the endpoint, and\n",
    " - the vocabulary object.\n",
    "\n",
    "We will copy these pieces of information to our Lambda function after we create it.\n",
    "\n",
    "To start, using the AWS Console, navigate to the AWS Lambda page and click on **Create a function**. When you get to the next page, make sure that **Author from scratch** is selected. Now, name your Lambda function, using a name that you will remember later on, for example `sentiment_analysis_xgboost_func`. Make sure that the **Python 3.6** runtime is selected and then choose the role that you created in the previous part. Then, click on **Create Function**.\n",
    "\n",
    "On the next page you will see some information about the Lambda function you've just created. If you scroll down you should see an editor in which you can write the code that will be executed when your Lambda function is triggered. Collecting the code we wrote above to process a single review and adding it to the provided example `lambda_handler` we arrive at the following.\n",
    "\n",
    "```python\n",
    "# We need to use the low-level library to interact with SageMaker since the SageMaker API\n",
    "# is not available natively through Lambda.\n",
    "import boto3\n",
    "\n",
    "# And we need the regular expression library to do some of the data processing\n",
    "import re\n",
    "\n",
    "REPLACE_NO_SPACE = re.compile(\"(\\.)|(\\;)|(\\:)|(\\!)|(\\')|(\\?)|(\\,)|(\\\")|(\\()|(\\))|(\\[)|(\\])\")\n",
    "REPLACE_WITH_SPACE = re.compile(\"(<br\\s*/><br\\s*/>)|(\\-)|(\\/)\")\n",
    "\n",
    "def review_to_words(review):\n",
    "    words = REPLACE_NO_SPACE.sub(\"\", review.lower())\n",
    "    words = REPLACE_WITH_SPACE.sub(\" \", words)\n",
    "    return words\n",
    "    \n",
    "def bow_encoding(words, vocabulary):\n",
    "    bow = [0] * len(vocabulary) # Start by setting the count for each word in the vocabulary to zero.\n",
    "    for word in words.split():  # For each word in the string\n",
    "        if word in vocabulary:  # If the word is one that occurs in the vocabulary, increase its count.\n",
    "            bow[vocabulary[word]] += 1\n",
    "    return bow\n",
    "\n",
    "\n",
    "def lambda_handler(event, context):\n",
    "    \n",
    "    vocab = \"*** ACTUAL VOCABULARY GOES HERE ***\"\n",
    "    \n",
    "    words = review_to_words(event['body'])\n",
    "    bow = bow_encoding(words, vocab)\n",
    "\n",
    "    # The SageMaker runtime is what allows us to invoke the endpoint that we've created.\n",
    "    runtime = boto3.Session().client('sagemaker-runtime')\n",
    "\n",
    "    # Now we use the SageMaker runtime to invoke our endpoint, sending the review we were given\n",
    "    response = runtime.invoke_endpoint(EndpointName = '***ENDPOINT NAME HERE***',# The name of the endpoint we created\n",
    "                                       ContentType = 'text/csv',                 # The data format that is expected\n",
    "                                       Body = ','.join([str(val) for val in bow]).encode('utf-8')) # The actual review\n",
    "\n",
    "    # The response is an HTTP response whose body contains the result of our inference\n",
    "    result = response['Body'].read().decode('utf-8')\n",
    "    \n",
    "    # Round the result so that our web app only gets '1' or '0' as a response.\n",
    "    result = round(float(result))\n",
    "\n",
    "    return {\n",
    "        'statusCode' : 200,\n",
    "        'headers' : { 'Content-Type' : 'text/plain', 'Access-Control-Allow-Origin' : '*' },\n",
    "        'body' : str(result)\n",
    "    }\n",
    "```"
   ]
  },
  {
   "cell_type": "markdown",
   "metadata": {},
   "source": [
    "Once you have copy and pasted the code above into the Lambda code editor, replace the `**ENDPOINT NAME HERE**` portion with the name of the endpoint that we deployed earlier. You can determine the name of the endpoint using the code cell below."
   ]
  },
  {
   "cell_type": "code",
   "execution_count": 48,
   "metadata": {},
   "outputs": [
    {
     "data": {
      "text/plain": [
       "'xgboost-2019-07-10-08-25-37-105'"
      ]
     },
     "execution_count": 48,
     "metadata": {},
     "output_type": "execute_result"
    }
   ],
   "source": [
    "xgb_predictor.endpoint"
   ]
  },
  {
   "cell_type": "markdown",
   "metadata": {},
   "source": [
    "In addition, you will need to copy the vocabulary dict to the appropriate place in the code at the beginning of the `lambda_handler` method. The cell below prints out the vocabulary dict in a way that is easy to copy and paste."
   ]
  },
  {
   "cell_type": "code",
   "execution_count": 49,
   "metadata": {},
   "outputs": [
    {
     "name": "stdout",
     "output_type": "stream",
     "text": [
      "{'ah': 158, 'made': 2697, 'another': 250, 'gangster': 1868, 'film': 1716, 'with': 4911, 'thought': 4462, 'the': 4426, 'average': 362, 'fan': 1648, 'expecting': 1578, 'stock': 4193, 'perhaps': 3235, 'couple': 1016, 'of': 3083, 'but': 636, 'none': 3028, 'too': 4522, 'hard': 2033, 'for': 1784, 'me': 2778, 'and': 226, 'to': 4507, 'after': 143, 'few': 1700, 'pay': 3216, 'attention': 345, 'you': 4986, 'do': 1302, 'need': 2987, 'watch': 4811, 'this': 4457, 'no': 3020, 'tea': 4373, 'extra': 1606, 'from': 1840, 'counter': 1011, 'keep': 2449, 'it': 2366, 'running': 3756, 'as': 311, 'laughs': 2534, 'other': 3135, 'than': 4420, 'those': 4460, 'may': 2775, 'make': 2713, 'yourself': 4993, 'considerable': 950, 'violence': 4747, 'if': 2222, 'that': 4424, 'your': 4991, 'boat': 523, 'so': 4046, 'be': 418, 'sharp': 3922, 'solid': 4057, 'direction': 1261, 'excellent': 1555, 'dialogue': 1234, 'great': 1964, 'performances': 3229, 'my': 2951, 'favourite': 1673, 'big': 478, 'always': 203, 'hood': 2151, 'in': 2257, 'basically': 407, 'same': 3778, 'they': 4442, 'couldnt': 1008, 'even': 1533, 'get': 1899, 'time': 4495, 'line': 2610, 'events': 1536, 'was': 4805, 'due': 1382, 'or': 3124, 'not': 3040, 'thing': 4450, 'is': 2360, 'real': 3547, 'doesnt': 1309, 'deserved': 1200, 'called': 652, 'viewed': 4737, 'second': 3846, 'feature': 1678, 'on': 3105, 'disc': 1278, 'original': 3129, 'head': 2057, 'would': 4957, 'urge': 4689, 'run': 3755, 'far': 1653, 'opposite': 3123, 'should': 3951, 'across': 96, 'its': 2370, 'come': 886, 'warning': 4800, 'cause': 723, 'drop': 1369, 'several': 3905, 'points': 3319, 'are': 285, 'within': 4912, 'doubt': 1332, '10': 0, 'had': 2003, 'heard': 2062, 'some': 4061, 'bad': 382, 'things': 4451, 'about': 67, 'cabin': 643, 'fever': 1699, 'almost': 193, 'much': 2934, 'hype': 2207, 'turns': 4609, 'out': 3141, 'first': 1736, 'new': 3003, 'just': 2437, 'effort': 1432, 'dropping': 1371, 'progresses': 3426, 'there': 4438, 'worse': 4951, 'movies': 2927, 'surely': 4309, 'more': 2904, 'gory': 1943, 'ones': 3108, 'while': 4868, 'im': 2232, 'sure': 4308, 'how': 2181, 'got': 1944, 'high': 2100, 'blood': 512, 'count': 1010, 'good': 1937, 'amount': 219, 'genre': 1888, 'fans': 1650, 'here': 2086, 'premise': 3370, 'isnt': 2362, 'necessarily': 2983, 'either': 1438, 'though': 4461, 'kids': 2467, 'go': 1924, 'week': 4837, 'only': 3110, 'very': 4723, 'sick': 3963, 'man': 2721, 'covered': 1023, 'whom': 4875, 'panic': 3181, 'set': 3898, 'fire': 1734, 'he': 2056, 'winds': 4895, 'up': 4683, 'dead': 1132, 'water': 4816, 'soon': 4074, 'characters': 760, 'all': 187, 'flesh': 1753, 'eating': 1413, 'virus': 4752, 'one': 3107, 'way': 4820, 'lead': 2545, 'college': 875, 'including': 2264, 'strong': 4229, 'hero': 2088, 'james': 2378, 'goofy': 1939, 'side': 3965, 'bar': 396, 'supporting': 4304, 'village': 4743, 'folks': 1771, 'point': 3316, 'painfully': 3172, 'meet': 2793, 'their': 4431, 'pretty': 3384, 'weird': 4841, 'seems': 3864, 'non': 3027, 'thrown': 4481, 'together': 4511, 'without': 4913, 'many': 2732, 'kid': 2464, 'comes': 891, 'nowhere': 3056, 'maybe': 2776, 'might': 2835, 'have': 2052, 'been': 438, 'funnier': 1850, 'movie': 2926, 'by': 642, 'itself': 2371, 'context': 968, 'rest': 3657, 'work': 4940, 'theres': 4440, 'also': 199, 'young': 4989, 'police': 3322, 'character': 758, 'who': 4871, 'less': 2575, 'convincing': 985, 'others': 3136, 'family': 1645, 'goes': 1930, 'following': 1774, 'an': 223, 'incident': 2260, 'has': 2043, 'possibilities': 3348, 'arent': 288, 'realized': 3553, 'his': 2118, 'script': 3834, 'common': 906, 'sense': 3877, 'window': 4894, 'sudden': 4272, 'scares': 3806, 'people': 3221, 'killer': 2470, 'dog': 1310, 'around': 297, 'which': 4867, 'now': 3054, 'unlike': 4670, 'lesser': 2576, 'horror': 2168, '70s': 56, '80s': 59, 'die': 1243, 'unwatchable': 4682, 'smart': 4035, 'any': 256, 'explanation': 1590, 'where': 4864, 'films': 1721, 'really': 3556, 'fine': 1729, 'idea': 2213, 'what': 4858, 'makes': 2716, 'campy': 664, 'times': 4497, 'tries': 4585, 'course': 1019, 'once': 3106, 'twice': 4613, 'does': 1308, 'bloody': 513, 'did': 1241, 'like': 2599, 'random': 3514, 'sees': 3866, 'poorly': 3329, 'shot': 3949, 'lot': 2661, 'albeit': 173, 'own': 3158, 'contrived': 976, 'style': 4249, 'choices': 798, 'red': 3576, 'story': 4207, 'worker': 4942, 'simply': 3986, 'contains': 964, 'illogical': 2231, 'legs': 2566, 'deadly': 1133, 'huh': 2187, 'fairly': 1631, 'typical': 4623, 'ground': 1979, 'thats': 4425, 'cup': 1080, 'power': 3359, 'at': 331, 'end': 1468, 'found': 1811, 'actually': 109, 'un': 4630, 'exceptional': 1558, 'territory': 4411, 'audience': 352, 'saw': 3798, 'clever': 841, 'true': 4596, 'note': 3044, 'hell': 2077, 'santa': 3783, 'store': 4204, 'earlier': 1399, 'serves': 3895, 'bunch': 623, 'black': 493, 'could': 1007, 'followed': 1773, 'something': 4066, 'better': 472, 'dropped': 1370, 'altogether': 202, 'said': 3774, 'again': 146, 'seen': 3865, 'know': 2489, 'nothing': 3047, 'recently': 3567, 'baby': 376, 'face': 1616, 'nelson': 2997, 'ive': 2372, 'garbage': 1870, 'dont': 1324, 'anyone': 259, 'right': 3696, 'mind': 2849, 'compare': 911, 'classic': 835, 'someone': 4064, 'brilliant': 583, 'insane': 2296, 'say': 3799, 'cant': 671, 'facts': 1624, 'straight': 4210, 'worst': 4952, 'casting': 711, 'ever': 1538, 'whose': 4877, 'dumb': 1385, 'cast': 710, 'warren': 4801, 'john': 2409, 'looks': 2649, 'him': 2110, 'killed': 2469, 'when': 4862, '45': 50, 'tell': 4395, 'hes': 2093, 'older': 3101, 'looking': 2648, 'old': 3100, 'ben': 463, 'johnson': 2411, 'show': 3953, 'then': 4436, 'homer': 2144, 'van': 4713, 'finally': 1724, 'before': 440, 'both': 547, 'them': 4432, 'last': 2521, 'three': 4469, 'writers': 4969, 'died': 1244, 'escaped': 1518, 'little': 2624, 'guns': 1998, 'st': 4137, 'paul': 3214, 'down': 1335, 'machine': 2693, 'member': 2800, 'gang': 1867, 'harry': 2039, 'shown': 3959, 'being': 448, 'wasnt': 4807, 'captured': 677, 'chair': 742, 'into': 2332, 'happened': 2027, 'review': 3676, 'going': 1931, 'let': 2579, 'add': 115, 'richard': 3686, 'portrayal': 3341, 'pathetic': 3210, 'scene': 3809, 'attacks': 339, 'gets': 1900, 'beating': 425, 'crying': 1074, 'screaming': 3827, 'leave': 2555, 'alone': 194, 'never': 3001, 'didnt': 1242, 'agree': 155, 'bank': 394, 'methods': 2825, 'cried': 1054, 'girl': 1909, 'getting': 1901, 'beaten': 424, 'calling': 653, 'life': 2592, 'known': 2492, 'name': 2960, 'changed': 750, 'george': 1893, 'guy': 2000, 'jail': 2376, 'reed': 3580, 'anything': 260, 'information': 2288, 'probably': 3407, 'showed': 3956, 'outrageous': 3145, 'shows': 3960, 'walk': 4775, 'lady': 2507, 'girlfriend': 1910, 'night': 3013, 'named': 2961, 'hamilton': 2012, 'johnny': 2410, 'pulls': 3464, 'gun': 1996, 'blown': 516, 'proved': 3446, 'fact': 1621, 'fbi': 1675, 'gave': 1875, 'chance': 747, 'sight': 3969, 'blew': 505, 'away': 369, 'shoot': 3942, 'were': 4848, 'close': 853, 'burns': 628, 'murder': 2939, 'killing': 2472, 'tons': 4520, 'can': 665, 'imagine': 2238, 'innocent': 2294, 'display': 1291, 'supposedly': 4307, 'until': 4680, 'death': 1141, 'ill': 2228, 'stop': 4201, 'check': 777, 'see': 3855, 'version': 4720, 'lawrence': 2539, 'want': 4788, 'waste': 4808, 'piece': 3272, 'crazy': 1035, 'doctor': 1304, 'finds': 1728, 'supposed': 4306, 'cure': 1081, 'through': 4477, 'instead': 2307, 'creates': 1038, 'kind': 2476, 'monster': 2892, 'needs': 2990, 'eat': 1411, 'human': 2188, 'brains': 563, 'mad': 2696, 'doc': 1303, 'zombies': 4998, 'problems': 3409, 'long': 2644, 'action': 100, 'scenes': 3811, 'doctors': 1305, 'car': 680, 'accident': 84, 'use': 4692, 'boy': 557, 'results': 3662, 'class': 833, 'ok': 3098, 'acting': 99, 'troubles': 4594, 'directing': 1260, 'continuity': 972, 'errors': 1516, 'zombie': 4997, 'effects': 1431, 'adequate': 120, 'special': 4097, 'fast': 1661, 'forward': 1808, 'slow': 4031, 'parts': 3199, 'enjoyment': 1488, 'nudity': 3059, 'language': 2516, 'desperate': 1208, 'find': 1726, 'heres': 2087, 'back': 378, 'world': 4946, 'gold': 1932, 'told': 4513, 'prison': 3401, 'wrestling': 4966, 'hang': 2022, 'plans': 3292, 'month': 2896, 'start': 4156, 'woman': 4921, 'happens': 2029, 'daughter': 1121, 'caught': 722, 'her': 2085, 'below': 462, 'par': 3184, 'features': 1680, 'annoying': 249, 'rap': 3520, 'music': 2946, 'edited': 1420, 'fight': 1707, 'plus': 3311, 'stars': 4155, 'every': 1539, 'thriller': 4472, 'door': 1328, 'least': 2554, 'massive': 2756, 'okay': 3099, 'stuff': 4243, 'warned': 4798, 'bought': 552, 'under': 4639, 'title': 4504, 'grey': 1973, 'matter': 2769, 'seeing': 3857, 'role': 3726, 'intrigued': 2334, 'reviewers': 3678, 'boring': 543, 'tale': 4353, 'top': 4525, 'secret': 3849, 'government': 1948, 'experiment': 1583, 'gone': 1935, 'yes': 4982, 'plenty': 3307, 'shots': 3950, 'especially': 1520, 'house': 2178, 'pool': 3327, 'front': 1841, 'guess': 1989, 'filmmakers': 1720, 'worried': 4949, 'we': 4823, 'forget': 1793, 'us': 4690, 'off': 3084, 'showing': 3958, 'outside': 3146, 'buildings': 616, 'kinda': 2477, 'funny': 1852, 'feels': 1687, 'tv': 4610, 'channels': 754, 'station': 4164, 'watching': 4815, 'enjoyed': 1486, 'two': 4620, 'angry': 238, 'test': 4416, 'subject': 4253, 'somebody': 4062, 'charge': 761, 'scientific': 3817, 'insult': 2309, 'later': 2525, 'different': 1248, 'lets': 2580, 'sounded': 4082, 'awkward': 374, 'will': 4886, 'disappear': 1270, 'forever': 1792, 'decade': 1144, 'likely': 2601, 'impossible': 2249, 'copies': 992, 'starring': 4154, 'michael': 2829, 'robert': 3713, 'lloyd': 2630, 'martin': 2748, 'voices': 4763, 'goldberg': 1933, 'director': 1264, 'german': 1896, 'school': 3813, 'symbolism': 4341, 'came': 656, 'final': 1722, 'masterpiece': 2759, 'written': 4972, 'friday': 1834, 'opera': 3116, 'follows': 1775, 'musical': 2947, 'score': 3822, 'plot': 3309, 'manner': 2729, 'filmed': 1717, 'performed': 3230, 'bold': 528, 'takes': 4351, 'bizarre': 492, 'cinematography': 820, 'controversial': 978, 'prior': 3400, 'released': 3603, 'hitler': 2124, 'personal': 3240, 'anti': 254, 'documentary': 1307, 'grand': 1953, 'daughters': 1122, 'possibly': 3351, 'disturbing': 1300, 'aspects': 322, 'acted': 98, 'male': 2719, 'throughout': 4478, 'part': 3193, 'kiss': 2483, 'female': 1693, 'gender': 1878, 'element': 1442, 'displays': 1293, 'nature': 2975, 'quest': 3486, 'holy': 2140, 'such': 4268, 'sinister': 3998, 'figures': 1713, 'mistress': 2874, '20th': 38, 'century': 736, 'nude': 3058, 'portrayed': 3342, 'sort': 4077, 'beautiful': 428, 'corrupt': 1001, 'mary': 2751, 'eve': 1532, 'played': 3297, 'beautifully': 429, 'ultimately': 4628, 'type': 4621, 'european': 1530, 'appreciate': 279, 'history': 2121, 'lovers': 2673, 'indeed': 2271, 'singing': 3995, 'compelling': 916, 'focused': 1767, 'intense': 2316, 'voice': 4761, 'lacks': 2505, 'depth': 1190, 'overall': 3150, 'greater': 1965, 'stage': 4139, 'king': 2479, 'todays': 4509, 'voiced': 4762, 'dramatic': 1348, 'exciting': 1563, 'state': 4160, 'perfectly': 3226, 'production': 3419, 'certainly': 738, 'concept': 930, 'christian': 808, 'wounded': 4961, 'kings': 2481, 'dark': 1115, 'darkness': 1117, 'turning': 4608, 'light': 2595, 'etc': 1527, 'still': 4188, 'enjoyable': 1485, 'art': 304, 'titled': 4505, 'question': 3487, 'wicked': 4879, 'spanish': 4092, 'legend': 2564, 'playing': 3300, 'church': 813, 'hall': 2009, 'stupid': 4247, 'think': 4452, 'home': 2142, 'body': 527, 'executed': 1565, 'attempt': 340, 'rising': 3703, 'obviously': 3072, 'breaks': 571, 'loose': 2650, 'lots': 2662, 'lovely': 2671, 'assistant': 326, 'practically': 3362, 'most': 2909, 'sex': 3907, 'angle': 236, 'laughably': 2531, 'gratuitous': 1961, 'particularly': 3195, 'discuss': 1283, 'evil': 1548, 'suddenly': 4273, 'decide': 1148, 'blonde': 511, 'theyve': 4446, 'possessed': 3347, 'places': 3284, 'notably': 3042, 'gordon': 1940, 'lewis': 2586, 'moment': 2886, 'hands': 2020, 'mans': 2730, 'chest': 784, 'heart': 2064, 'best': 469, 'effective': 1429, 'turn': 4605, 'towards': 4540, 'theyre': 4445, 'quickly': 3491, 'scared': 3805, 'bother': 548, 'coming': 896, 'shame': 3918, 'rise': 3702, 'however': 2183, 'inept': 2281, 'havent': 2053, 'clue': 864, 'whats': 4860, 'happening': 2028, 'distance': 1294, 'rubbish': 3748, 'moments': 2887, 'thanks': 4423, 'largely': 2518, 'poor': 3328, 'editing': 1421, 'falls': 1640, 'spell': 4104, 'purpose': 3474, 'whatsoever': 4861, 'entertaining': 1499, 'enough': 1491, 'dubbed': 1379, 'american': 213, 'pieces': 3273, 'wow': 4962, 'italian': 2367, 'directors': 1266, 'fulci': 1845, 'living': 2629, 'started': 4157, 'took': 4523, 'over': 3148, 'turned': 4606, 'surprisingly': 4316, 'expected': 1577, 'directed': 1259, 'liked': 2600, 'theme': 4433, 'must': 2950, 'witch': 4909, 'flying': 1764, 'birds': 485, 'acid': 95, 'mainly': 2708, 'general': 1880, 'versions': 4721, 'involved': 2346, 'making': 2718, 'bill': 481, 'producer': 3415, 'helped': 2080, 'money': 2888, 'adult': 125, 'possible': 3350, 'done': 1322, 'behind': 447, 'threw': 4470, 'advertising': 132, 'cash': 709, 'hoping': 2160, 'pull': 3461, 'cable': 644, 'hbo': 2055, 'sue': 4274, 'anymore': 258, 'notice': 3048, 'clean': 838, 'holds': 2131, 'pity': 3281, 'onto': 3111, 'dvd': 1391, 'format': 1799, 'short': 3946, 'sorry': 4076, 'disappoint': 1272, 'everyone': 1542, 'used': 4693, 'president': 3378, 'upon': 4684, 'club': 863, 'numerous': 3062, 'letter': 2581, 'stolen': 4195, 'copy': 994, 'questions': 3489, 'ask': 316, 'presumably': 3380, 'further': 1853, 'create': 1036, 'fantasy': 1652, 'fairy': 1632, 'chosen': 805, 'fate': 1665, 'save': 3794, 'monsters': 2893, 'horrors': 2169, 'remain': 3609, 'unaware': 4632, 'bigger': 479, 'budget': 610, 'else': 1448, 'miike': 2837, 'cgi': 740, 'odd': 3080, 'creatures': 1046, 'lack': 2502, 'extreme': 1609, 'content': 966, 'nervous': 2999, 'wanted': 4789, 'trick': 4582, 'often': 3095, 'accused': 91, 'designed': 1203, 'silence': 3974, 'critics': 1064, 'regardless': 3590, 'project': 3427, 'channel': 753, 'imagination': 2236, 'feel': 1684, 'thoughts': 4464, 'based': 404, 'series': 3890, 'comics': 895, 'japanese': 2382, 'folk': 1770, 'tales': 4357, 'influenced': 2287, 'well': 4843, 'spirited': 4114, 'remembered': 3617, 'hollywood': 2137, 'blue': 518, 'screening': 3830, 'obvious': 3071, 'animated': 241, 'mix': 2876, 'cg': 739, 'motion': 2913, 'meant': 2784, 'look': 2646, 'cheap': 774, 'plays': 3301, 'job': 2405, 'pre': 3365, 'teen': 4388, 'year': 4978, 'genuine': 1891, 'talent': 4354, 'impression': 2252, 'river': 3707, 'princess': 3397, 'violent': 4748, 'youre': 4992, 'because': 432, 'wit': 4908, 'satisfy': 3790, 'added': 116, 'bonus': 534, 'happily': 2030, 'put': 3480, 'whatever': 4859, 'company': 910, 'youve': 4995, 'veteran': 4724, 'actors': 104, 'william': 4887, 'powell': 3358, 'dr': 1340, 'roberts': 3714, 'detective': 1220, 'married': 2744, 'jean': 2389, 'arthur': 305, 'divorce': 1301, 'managed': 2723, 'live': 2625, 'each': 1395, 'husband': 2204, 'investigate': 2342, 'everything': 1544, 'she': 3923, 'convince': 983, 'important': 2247, 'rather': 3528, 'comedy': 890, 'method': 2824, 'believe': 454, 'california': 650, 'race': 3499, 'track': 4544, 'nick': 3012, 'kong': 2494, 'along': 195, 'help': 2079, 'order': 3126, 'solve': 4060, 'strange': 4211, 'mystery': 2956, 'remember': 3616, 'produced': 3414, 'days': 1130, 'entertainment': 1500, 'arguably': 289, 'greatest': 1966, 'television': 4394, 'intelligence': 2313, 'writing': 4971, 'rate': 3526, 'epic': 1506, 'scope': 3821, 'fresh': 1833, 'constant': 957, 'level': 2584, 'quality': 3484, 'tony': 4521, 'lives': 2628, 'families': 1644, 'conventional': 979, 'wife': 4884, 'nuclear': 3057, 'huge': 2185, 'mafia': 2700, 'group': 1980, 'boss': 546, 'romance': 3732, 'mexican': 2826, 'fame': 1642, 'fascinating': 1658, 'scary': 3807, 'likable': 2598, 'full': 1846, 'praise': 3364, 'given': 1913, 'genuinely': 1892, 'perfect': 3224, 'leading': 2547, 'drama': 1346, 'figure': 1711, 'hundreds': 2196, 'flat': 1748, 'performance': 3228, 'stand': 4143, 'paulie': 3215, 'ralph': 3510, 'stick': 4185, 'memory': 2804, 'genius': 1887, 'creator': 1043, 'revolutionary': 3681, 'take': 4349, 'twenty': 4612, 'minute': 2858, 'dream': 1354, 'sequences': 3888, 'powerful': 3360, 'imagery': 2234, 'truly': 4597, 'shocking': 3940, 'yet': 4984, 'met': 2822, 'touching': 4536, 'themes': 4434, 'love': 2669, 'respect': 3652, 'becomes': 434, 'cold': 872, 'hearted': 2065, 'stands': 4147, 'tall': 4362, 'above': 68, 'americas': 215, 'dogs': 1311, 'heaven': 2068, 'land': 2511, 'don': 1320, 'burt': 629, 'reynolds': 3684, 'friend': 1835, 'freedom': 1828, 'charlie': 765, 'whos': 4876, 'business': 633, 'wants': 4791, 'share': 3920, 'equal': 1509, 'partner': 3198, 'bridge': 578, 'enters': 1496, 'meets': 2795, 'moore': 2901, 'stopped': 4202, 'explains': 1589, 'naturally': 2974, 'returns': 3668, 'earth': 1403, 'alive': 186, 'explore': 1594, 'attempted': 341, 'kidnapped': 2466, 'ann': 244, 'marie': 2737, 'leaves': 2556, 'escape': 1517, 'next': 3007, 'day': 1129, 'thinks': 4454, 'parents': 3188, 'talks': 4361, 'steals': 4172, 'horse': 2170, 'bet': 470, 'win': 4892, 'winning': 4898, 'promises': 3432, 'give': 1912, 'buying': 641, 'anderson': 227, 'sad': 3767, 'devil': 1228, 'left': 2561, 'forgive': 1795, 'asks': 319, 'pretending': 3382, 'try': 4600, 'feed': 1683, 'manage': 2722, 'captures': 678, 'rescue': 3643, 'calls': 654, 'late': 2523, 'ended': 1470, 'heroic': 2090, 'saving': 3797, 'says': 3801, 'care': 684, 'tells': 4397, 'loves': 2674, 'filled': 1715, 'wonderful': 4928, 'animation': 242, 'release': 3602, 'favorite': 1671, 'disney': 1289, 'born': 544, 'call': 651, 'woody': 4936, 'allen': 188, 'definitely': 1162, 'match': 2762, 'romantic': 3733, 'luckily': 2682, 'star': 4150, 'latest': 2526, 'appears': 278, 'journalist': 2420, 'ghost': 1902, 'joe': 2407, 'ian': 2209, 'grim': 1974, 'souls': 4080, 'taken': 4350, 'secretary': 3850, 'peter': 3247, 'hugh': 2186, 'serial': 3889, 'streets': 4217, 'england': 1482, 'travels': 4569, 'gives': 1914, 'during': 1387, 'magic': 2703, 'act': 97, 'sid': 3964, 'box': 555, 'visit': 4755, 'knowing': 2490, 'crack': 1027, 'case': 707, 'nice': 3008, 'compared': 912, 'works': 4945, 'humor': 2192, 'fits': 1741, 'terrific': 4409, 'fun': 1848, 'ensemble': 1492, 'sometimes': 4067, 'himself': 2111, 'brutally': 604, 'honest': 2146, 'loved': 2670, 'why': 4878, 'filming': 1718, 'enjoy': 1484, 'kick': 2460, 'involves': 2348, 'sword': 4340, 'supernatural': 4302, 'twist': 4617, 'nobody': 3022, 'memorable': 2802, 'walks': 4780, 'girls': 1911, 'merely': 2815, 'video': 4733, 'someones': 4065, 'knowledge': 2491, 'lighting': 2596, 'thin': 4449, 'mostly': 2910, 'hear': 2061, 'understand': 4643, 'doing': 1312, 'laugh': 2529, 'rent': 3626, 'support': 4303, 'swedish': 4335, 'decided': 1149, 'broadcast': 591, 'ago': 154, 'finished': 1733, 'medical': 2790, 'surprised': 4313, 'explained': 1587, 'correct': 1000, 'years': 4979, 'quite': 3495, 'understandable': 4644, 'suggest': 4280, 'student': 4238, 'learn': 2550, 'basic': 406, 'words': 4938, 'example': 1553, 'guys': 2001, 'previous': 3387, 'nearly': 2981, 'novel': 3052, 'episode': 1507, '60s': 54, 'trek': 4578, 'notable': 3041, 'serious': 3891, 'babe': 375, 'location': 2635, 'totally': 4532, 'sound': 4081, 'proper': 3436, 'ordinary': 3128, 'dated': 1119, 'familiar': 1643, 'except': 1556, 'ie': 2221, 'city': 825, 'edge': 1418, 'yesterday': 4983, 'seriously': 3892, 'misery': 2865, 'half': 2007, 'dozen': 1338, 'episodes': 1508, 'gene': 1879, 'contrary': 974, 'popular': 3333, 'belief': 451, 'walked': 4776, 'deserve': 1199, 'spoken': 4126, 'breath': 573, 'enterprise': 1495, 'modern': 2882, 'view': 4736, 'floor': 1759, 'plastic': 3294, 'cardboard': 682, 'clearly': 840, 'paper': 3183, 'frightening': 1839, 'game': 1864, 'experiences': 1582, 'lights': 2597, 'bed': 436, 'storyline': 4208, 'horrific': 2166, 'ironic': 2355, 'resident': 3647, 'surprise': 4312, 'returning': 3667, 'mention': 2810, 'improved': 2255, 'miss': 2866, 'fantastic': 1651, 'suspenseful': 4331, 'realistic': 3550, 'creepy': 1052, 'experience': 1580, 'entire': 1502, 'hold': 2129, 'bring': 585, 'halloween': 2010, 'members': 2801, 'starts': 4159, 'lawyer': 2541, 'assigned': 325, 'market': 2740, 'town': 4541, 'settle': 3902, 'deceased': 1146, 'mrs': 2930, 'alice': 182, 'reasonably': 3559, 'interesting': 2325, 'funeral': 1849, 'safe': 3771, 'constantly': 958, 'our': 3139, 'hour': 2176, 'thrilling': 4474, 'finale': 1723, 'viewers': 4739, 'species': 4098, '1996': 26, 'jonathan': 2417, 'scott': 3824, 'rick': 3689, 'dean': 1139, 'anthony': 253, 'billy': 482, 'dinosaur': 1255, 'military': 2844, 'discover': 1279, 'fake': 1635, 'ways': 4822, 'sequel': 3885, 'somewhere': 4069, 'between': 475, 'rating': 3529, 'rated': 3527, 'graphic': 1958, 'gore': 1941, 'images': 2235, 'awful': 372, 'effect': 1428, 'begin': 442, 'mean': 2779, 'society': 4050, 'standard': 4144, 'terribly': 4408, 'low': 2676, 'honestly': 2147, 'expect': 1575, 'endure': 1475, 'clichés': 846, 'entertained': 1498, 'major': 2711, 'device': 1227, 'source': 4086, 'conflict': 939, 'resolution': 3649, 'puts': 3481, 'oh': 3096, 'god': 1926, 'waves': 4819, 'beings': 449, '90': 60, 'minutes': 2859, 'conclusion': 936, 'challenge': 743, 'tired': 4501, 'formula': 1802, 'neither': 2996, 'personality': 3242, 'suck': 4269, 'these': 4441, 'space': 4090, 'sub': 4252, 'mediocre': 2791, 'soul': 4079, 'trash': 4565, 'embarrassed': 1453, 'unreal': 4676, 'ending': 1471, 'worth': 4953, 'zero': 4996, 'tension': 4404, 'kills': 2474, 'speak': 4094, 'bit': 488, 'suppose': 4305, '80': 58, 'felt': 1692, 'longer': 2645, 'apparently': 270, 'cut': 1089, 'bay': 416, 'camp': 662, 'fat': 1663, 'bored': 541, 'unhappy': 4656, 'pick': 3265, 'survival': 4320, 'collection': 874, 'sequels': 3886, 'beauty': 430, 'beast': 422, 'christmas': 810, 'theatrical': 4430, 'usually': 4700, 'magical': 2704, 'inferior': 2285, 'stories': 4205, 'place': 3282, 'castle': 712, 'word': 4937, 'table': 4346, 'leads': 2548, 'trouble': 4592, 'helps': 2082, 'ends': 1474, 'broken': 594, 'wing': 4896, 'bird': 484, 'hates': 2048, 'description': 1197, 'vhs': 4725, 'disneys': 1290, 'third': 4455, 'party': 3200, 'since': 3990, 'highly': 2105, 'edition': 1422, 'anyway': 261, 'dimensional': 1253, 'entertain': 1497, 'younger': 4990, 'moral': 2902, 'teach': 4374, 'valuable': 4708, 'lessons': 2578, 'adults': 126, 'personally': 3243, 'humour': 2194, 'impress': 2250, 'cheesy': 781, 'twelve': 4611, 'lost': 2660, 'interest': 2323, 'gain': 1863, 'past': 3207, 'age': 148, 'aimed': 162, 'months': 2897, 'hit': 2122, 'wouldnt': 4958, 'missing': 2869, 'became': 431, 'aware': 368, 'existence': 1571, 'somewhat': 4068, 'educational': 1425, 'recommend': 3571, 'shallow': 3917, 'decent': 1147, 'humans': 2190, 'board': 522, 'alien': 183, 'ship': 3934, 'lame': 2510, 'sci': 3815, 'fi': 1701, '50': 51, 'sucked': 4270, 'having': 2054, 'wasted': 4809, 'hours': 2177, 'complete': 921, 'disbelief': 1277, 'turkey': 4604, 'award': 366, 'problem': 3408, 'unbelievable': 4634, 'frankly': 1823, 'am': 204, 'describe': 1194, 'utter': 4701, 'completely': 922, 'utterly': 4702, 'originality': 3130, 'dozens': 1339, 'dire': 1257, 'hope': 2155, 'paid': 3169, 'crappy': 1032, 'whole': 4873, 'watched': 4813, 'ron': 3734, 'cameo': 657, 'continued': 970, 'includes': 2263, 'change': 749, 'myself': 2953, 'wondering': 4930, 'ridiculous': 3693, 'sean': 3840, 'chris': 806, 'duke': 1383, 'wayne': 4821, 'thinking': 4453, 'agrees': 157, 'ray': 3533, 'daniel': 1111, 'office': 3091, 'offering': 3089, 'kill': 2468, 'attracted': 349, 'taking': 4352, 'against': 147, 'learns': 2553, 'intended': 2315, 'uses': 4697, 'descent': 1193, 'crew': 1053, 'seemed': 3862, 'writer': 4968, 'needed': 2988, 'desperately': 1209, 'wrap': 4963, 'implausible': 2245, 'created': 1037, 'single': 3996, 'nonsense': 3030, 'gross': 1978, 'path': 3209, 'redemption': 3578, 'regret': 3591, 'hits': 2125, 'beer': 439, 'friends': 1837, 'value': 4709, 'psychological': 3458, 'actor': 103, 'brother': 598, 'dirty': 1268, 'guts': 1999, 'absolutely': 72, 'unnecessary': 4672, 'handsome': 2021, 'mainstream': 2709, 'hate': 2046, 'godfather': 1927, 'viewer': 4738, 'accomplished': 87, 'laughed': 2532, 'loud': 2664, 'smile': 4036, 'curious': 1083, 'statement': 4162, 'racism': 3502, 'reflect': 3584, 'issues': 2365, 'period': 3236, 'portray': 3340, 'meaning': 2780, '40s': 49, 'seven': 3903, 'men': 2805, 'led': 2558, 'white': 4870, 'captain': 674, 'trying': 4601, 'capture': 676, 'centers': 734, 'learning': 2552, 'soldiers': 4054, 'service': 3896, 'civil': 826, 'war': 4792, 'women': 4923, 'cheek': 779, 'upset': 4687, 'curiosity': 1082, 'speaks': 4096, 'universal': 4665, 'relate': 3593, 'self': 3869, 'community': 908, 'opening': 3114, 'setting': 3900, 'pursuit': 3476, 'asking': 318, 'stereotypes': 4179, 'destruction': 1216, 'force': 1786, 'creativity': 1042, 'natural': 2973, 'flow': 1762, 'apparent': 269, 'experienced': 1581, 'opposed': 3122, 'pearl': 3220, 'buck': 605, 'today': 4508, 'racial': 3501, 'chinese': 796, 'protagonists': 3442, 'asian': 314, 'equivalent': 1512, 'america': 212, 'contained': 963, 'wonder': 4926, 'timing': 4498, 'depression': 1189, 'political': 3324, 'seem': 3861, 'ford': 1789, 'eastern': 1408, 'influence': 2286, 'affected': 137, 'western': 4853, 'won': 4925, 'pride': 3391, 'lust': 2689, 'lesson': 2577, 'wins': 4899, 'rarely': 3524, 'reviews': 3679, 'dislike': 1288, 'imdb': 2240, 'mighty': 2836, 'rangers': 3517, 'dreadful': 1353, 'terrible': 4407, 'minded': 2850, 'wouldve': 4959, 'terms': 4406, 'five': 1743, 'multi': 2935, 'wearing': 4831, 'teens': 4392, 'battle': 414, 'using': 4698, 'martial': 2747, 'arts': 310, 'skills': 4014, 'costumes': 1006, 'horrid': 2165, 'reminiscent': 3621, 'field': 1704, 'wear': 4830, 'choreography': 802, 'equally': 1510, 'bruce': 602, 'lee': 2559, 'jumping': 2431, 'dancing': 1107, 'ballet': 389, 'fighting': 1709, 'besides': 468, 'cartoons': 705, 'heavily': 2069, 'silly': 3976, 'japan': 2381, 'thus': 4486, 'footage': 1782, 'borrowed': 545, 'amitabh': 216, 'hilarious': 2106, 'usual': 4699, 'pass': 3201, 'mob': 2879, 'oscars': 3134, 'nominated': 3025, 'easily': 1406, 'picture': 3269, 'hanks': 2025, 'law': 2538, 'jr': 2423, 'themselves': 4435, 'credit': 1049, 'incredible': 2269, 'grade': 1951, 'musicals': 2948, 'fred': 1825, 'astaire': 330, 'ginger': 1908, 'rogers': 3725, 'formulaic': 1803, 'happen': 2026, 'despite': 1211, 'disappointed': 1273, 'hat': 2045, 'shall': 3916, 'dance': 1103, 'edward': 1426, 'eric': 1514, 'lacking': 2504, 'department': 1182, 'antics': 255, 'charm': 767, 'follow': 1772, 'addition': 118, 'jerk': 2395, 'result': 3660, 'harder': 2035, 'although': 201, 'berlin': 467, 'songs': 4072, 'recall': 3562, 'cute': 1090, 'worthwhile': 4955, 'pop': 3330, 'walking': 4779, 'cinema': 816, 'stayed': 4167, 'improve': 2254, 'spoof': 4127, 'opportunity': 3121, 'franchise': 1817, 'sir': 4000, 'names': 2963, 'attached': 336, 'ashamed': 312, 'truth': 4599, 'waiting': 4772, 'grown': 1984, 'sixties': 4011, 'wooden': 4934, 'march': 2734, 'went': 4847, 'promised': 3431, 'plant': 3293, 'tree': 4576, 'weekend': 4838, 'amazing': 209, 'animals': 240, 'shock': 3938, 'dynamic': 1394, 'touch': 4533, 'raise': 3507, 'humanity': 2189, 'versus': 4722, 'degree': 1164, 'granted': 1957, 'lover': 2672, 'mere': 2814, 'miracle': 2860, 'number': 3060, 'reason': 3557, 'date': 1118, 'mini': 2854, 'telling': 4396, 'suitable': 4285, 'emma': 1457, 'jane': 2380, 'tad': 4347, 'artificial': 306, 'ladies': 2506, 'kate': 2446, 'lucy': 2684, 'psychic': 3456, 'connection': 946, 'impact': 2244, 'australian': 357, 'dealing': 1136, 'dramas': 1347, 'issue': 2364, 'deals': 1137, 'emotional': 1459, 'response': 3654, 'similar': 3978, 'situations': 4009, 'wild': 4885, 'melodramatic': 2798, 'crisis': 1060, 'certain': 737, 'news': 3005, 'appear': 273, 'ratings': 3530, 'play': 3296, 'large': 2517, 'individuals': 2278, 'australia': 356, 'comic': 893, 're': 3535, 'quick': 3490, 'spoiler': 4123, 'ex': 1549, 'occurred': 3077, 'slightly': 4029, 'handled': 2019, 'brilliantly': 584, 'interview': 2329, 'aka': 168, 'throwing': 4480, 'spend': 4105, 'buy': 640, 'burn': 625, 'pain': 3170, 'hong': 2149, 'infamous': 2284, 'cat': 713, 'disappeared': 1271, 'knew': 2486, 'rough': 3741, 'crime': 1055, 'purchased': 3470, 'knock': 2488, 'judge': 2424, 'threatening': 4468, 'ten': 4399, 'cops': 993, 'officers': 3093, 'catch': 714, 'escapes': 1519, 'stops': 4203, 'hardly': 2036, 'proves': 3447, 'hide': 2097, 'raped': 3522, 'saves': 3796, 'keeps': 2451, 'moving': 2928, 'speed': 4103, 'exceptionally': 1559, 'photography': 3260, 'breathtaking': 574, 'fitting': 1742, 'brutal': 603, 'recommended': 3572, 'country': 1014, 'discovery': 1282, 'honesty': 2148, 'wrong': 4973, 'unfortunately': 4654, 'gary': 1873, 'become': 433, 'refreshing': 3586, 'refuses': 3587, 'simplistic': 3985, 'worked': 4941, 'fail': 1625, 'exposed': 1598, 'backdrop': 379, 'talented': 4355, 'potential': 3355, 'barry': 401, 'hot': 2174, 'talents': 4356, 'stiller': 4189, 'jack': 2373, 'gorgeous': 1942, 'rachel': 3500, 'pro': 3406, 'christopher': 811, 'walken': 4777, 'deliver': 1169, 'stinker': 4191, 'latter': 2528, 'mess': 2818, 'concerned': 932, 'hand': 2015, 'exception': 1557, 'revenge': 3675, 'farce': 1654, 'moon': 2900, 'elements': 1443, 'scare': 3803, 'shut': 3961, 'player': 3298, 'feeling': 1685, 'biggest': 480, 'disappointment': 1275, 'looked': 2647, 'belong': 459, 'technology': 4385, 'beginning': 443, 'con': 928, 'relationships': 3598, 'trust': 4598, 'cutting': 1092, 'protagonist': 3441, 'acts': 107, 'mr': 2929, 'unfortunate': 4653, 'according': 88, 'master': 2757, 'segment': 3867, 'banned': 395, 'figured': 1712, 'id': 2212, 'wrote': 4974, 'expectations': 1576, 'masters': 2761, 'cover': 1022, 'promising': 3433, 'remote': 3622, 'searching': 3842, 'return': 3665, 'arrives': 302, 'journey': 2421, 'quiet': 3492, 'spoke': 4125, 'english': 1483, 'deal': 1135, 'miserable': 2863, 'moves': 2925, 'pace': 3161, 'extended': 1604, 'middle': 2833, 'sake': 3775, 'emotion': 1458, 'rolling': 3730, 'bottom': 551, 'emotions': 1461, 'feelings': 1686, 'seeking': 3859, 'frank': 1821, 'al': 170, 'brian': 576, 'de': 1131, 'annoyed': 248, 'empathy': 1462, 'overacting': 3149, 'react': 3540, 'sitting': 4007, 'horrible': 2163, 'forth': 1804, '2005': 35, 'prostitute': 3440, 'blah': 496, 'wishing': 4907, 'caused': 724, 'craig': 1030, 'charles': 764, 'danny': 1112, 'eyes': 1613, 'aliens': 184, 'lucky': 2683, 'ruined': 3751, 'visuals': 4759, 'hearing': 2063, 'main': 2707, 'costume': 1005, 'design': 1202, 'fashion': 1659, 'pointless': 3318, 'masterpieces': 2760, 'youth': 4994, 'happiness': 2031, 'honor': 2150, 'corruption': 1002, 'brown': 601, 'artist': 307, 'fighter': 1708, 'physical': 3262, 'condition': 937, 'odds': 3082, 'person': 3238, 'patients': 3212, 'enormous': 1490, 'form': 1798, 'working': 4944, 'depicted': 1183, 'read': 3543, 'book': 535, 'dialogs': 1233, 'witty': 4917, 'arrogant': 303, 'ashley': 313, 'victor': 4731, 'glad': 1916, 'tone': 4517, 'depiction': 1185, 'starting': 4158, 'struggles': 4235, 'mark': 2739, 'decisions': 1152, 'wars': 4804, 'means': 2783, 'deserves': 1201, 'simple': 3983, 'theater': 4427, 'instantly': 2306, 'flicks': 1755, 'giving': 1915, 'room': 3735, 'mate': 2765, 'junk': 2436, 'favorites': 1672, 'reads': 3545, 'soap': 4047, 'providing': 3451, 'lifetime': 2594, 'fictional': 1703, 'mindless': 2851, 'melodrama': 2797, 'reading': 3544, 'douglas': 1334, 'vampires': 4712, 'moronic': 2907, 'facial': 1619, 'expressions': 1603, 'smoking': 4040, 'murderer': 2941, 'relief': 3605, 'era': 1513, 'fay': 1674, 'link': 2613, 'ugly': 4625, 'barely': 399, 'exercise': 1568, 'intellectual': 2312, 'stephen': 4176, 'jon': 2416, 'stewart': 4184, 'absolute': 71, 'wind': 4893, 'frame': 1815, 'famous': 1647, 'sequence': 3887, 'blowing': 515, 'texas': 4418, 'mansion': 2731, 'pages': 3168, 'flashback': 1746, 'intrigue': 2333, 'screen': 3829, 'runs': 3757, 'combination': 883, 'wealth': 4826, 'americans': 214, 'dollar': 1314, 'sister': 4001, 'dorothy': 1330, 'spoiled': 4122, 'troubled': 4593, 'oil': 3097, 'fortune': 1806, 'rock': 3720, 'hudson': 2184, 'bride': 577, 'bacall': 377, 'marriage': 2743, 'scenery': 3810, 'lines': 2612, 'oscar': 3133, 'jones': 2418, 'grows': 1985, 'object': 3066, '50s': 52, 'blade': 495, 'children': 792, 'ought': 3138, 'affect': 136, '1st': 28, 'relationship': 3597, 'noir': 3023, 'hey': 2095, 'smith': 4038, 'thomas': 4458, 'agent': 150, 'meeting': 2794, 'gotten': 1947, 'deaths': 1142, 'whilst': 4869, 'driving': 1368, 'talking': 4360, 'phone': 3255, 'subtle': 4260, 'green': 1971, 'exactly': 1551, 'titanic': 4503, 'surprising': 4315, 'confusion': 943, 'normally': 3034, 'boys': 559, 'saying': 3800, 'whenever': 4863, 'understated': 4646, 'ironically': 2356, 'dawson': 1128, 'players': 3299, 'sentimental': 3882, 'choice': 797, 'cry': 1073, 'broke': 593, 'desperation': 1210, 'sorts': 4078, 'secondly': 3847, 'cannot': 670, 'talk': 4358, 'described': 1195, 'depicting': 1184, 'social': 4049, 'circle': 821, 'believable': 453, 'actual': 108, 'realism': 3549, 'professional': 3421, 'credible': 1048, 'passion': 3205, 'excitement': 1562, 'muslim': 2949, 'eye': 1611, 'represented': 3638, 'current': 1084, 'official': 3094, 'difficult': 1249, 'maintain': 2710, 'unexpected': 4650, 'blend': 504, 'commentary': 899, 'mature': 2773, 'subtitles': 4259, 'remarkable': 3613, 'iran': 2350, 'able': 66, 'produce': 3413, 'likes': 2602, 'extremely': 1610, 'makers': 2715, '3rd': 47, 'french': 1830, 'classes': 834, 'cultural': 1078, 'inner': 2292, 'provided': 3449, 'subjects': 4254, 'discussion': 1284, 'france': 1816, 'mentioned': 2811, '17': 9, 'african': 142, 'helping': 2081, 'evening': 1534, 'dress': 1357, 'reflection': 3585, 'mirror': 2861, 'technique': 4383, 'focus': 1766, 'sexy': 3911, 'students': 4239, 'understanding': 4645, 'suggested': 4281, 'africa': 141, 'driver': 1366, 'tried': 4584, 'adventure': 130, 'tom': 4514, 'hank': 2024, '1980s': 21, 'sounds': 4084, 'suggests': 4282, 'gift': 1906, 'aunt': 355, 'knows': 2493, 'continue': 969, 'games': 1865, 'lovable': 2668, 'enter': 1494, 'religious': 3608, 'satan': 3787, 'fellow': 1691, 'engaging': 1481, 'mental': 2808, 'patient': 3211, 'excuse': 1564, 'somehow': 4063, 'literally': 2622, 'wish': 4904, 'attacked': 338, 'dragon': 1344, 'creature': 1045, 'team': 4378, 'split': 4120, 'intentionally': 2320, 'tragic': 4552, 'illness': 2230, 'afterwards': 145, 'depressing': 1188, 'private': 3404, 'ryan': 3765, 'exact': 1550, 'emotionally': 1460, 'visually': 4758, 'convey': 982, 'message': 2819, 'wonderfully': 4929, 'quirky': 3493, 'twists': 4619, 'parker': 3191, 'vulnerable': 4768, 'loving': 2675, 'mother': 2911, 'tongue': 4518, 'dialog': 1232, 'hints': 2113, 'characterization': 759, 'stellar': 4174, 'notes': 3046, 'appeal': 271, 'actresses': 106, 'shes': 3930, 'showcase': 3954, 'british': 589, 'army': 295, 'asked': 317, 'dreams': 1355, 'sum': 4289, 'intentions': 2321, 'kubrick': 2496, 'orange': 3125, 'satire': 3788, 'del': 1165, 'brain': 562, 'writes': 4970, 'susan': 4326, 'books': 536, 'passing': 3204, 'references': 3583, 'laws': 2540, 'david': 1124, 'shorts': 3948, 'wont': 4932, 'absurd': 73, 'stupidity': 4248, 'maker': 2714, 'childish': 791, 'drawn': 1351, 'lynch': 2691, 'centered': 733, '20': 29, 'fear': 1676, 'child': 789, 'cross': 1066, 'include': 2261, 'noise': 3024, 'empire': 1464, 'roots': 3738, 'six': 4010, 'teeth': 4393, 'fly': 1763, 'butt': 638, 'comparison': 914, 'idiots': 2220, 'fish': 1738, 'excessive': 1560, 'closest': 857, 'chorus': 803, 'included': 2262, 'filmmaker': 1719, 'son': 4070, 'mouth': 2920, 'neck': 2985, 'removed': 3624, 'foul': 1810, 'grandmother': 1955, 'early': 1400, 'via': 4726, 'closer': 856, 'dig': 1250, 'prepared': 3371, 'heroine': 2091, 'carpenter': 694, 'brings': 587, 'nail': 2957, 'nightmare': 3014, 'jamie': 2379, 'curtis': 1087, 'debut': 1143, 'career': 686, 'plan': 3287, 'myers': 2952, 'nearby': 2980, 'fifteen': 1706, 'sets': 3899, 'drops': 1372, 'abandoned': 62, 'lived': 2626, 'begins': 444, 'terror': 4412, 'picks': 3268, 'moody': 2899, 'flick': 1754, 'hidden': 2096, 'fully': 1847, 'revealed': 3671, 'chilling': 794, 'inducing': 2279, 'eventually': 1537, 'rob': 3710, 'remake': 3612, 'exists': 1573, 'training': 4558, 'metal': 2823, 'instant': 2305, 'charisma': 762, 'marks': 2742, 'delivers': 1172, 'material': 2766, 'camera': 659, 'appalling': 268, 'countless': 1012, 'cameras': 660, 'amateur': 206, 'chicks': 787, 'recording': 3575, 'tracks': 4545, 'clips': 852, 'losers': 2656, 'vietnam': 4735, 'gem': 1877, 'contain': 962, 'visual': 4757, '30': 42, 'seconds': 3848, 'already': 197, 'realize': 3552, 'massacre': 2754, 'hills': 2109, 'stereotypical': 4180, 'wished': 4905, 'retarded': 3663, 'unfunny': 4655, 'claimed': 829, 'structure': 4233, 'producers': 3416, 'lie': 2590, 'core': 995, 'porn': 3336, 'embarrassment': 1455, 'donna': 1323, 'narrative': 2966, 'waited': 4771, 'forgot': 1796, 'fair': 1630, 'cartoon': 704, 'toilet': 4512, 'considering': 952, '11': 2, 'near': 2979, 'rip': 3700, 'novels': 3053, 'details': 1219, 'essential': 1522, 'lonely': 2643, 'lies': 2591, 'dying': 1393, 'snow': 4045, 'local': 2634, 'rich': 3685, 'demands': 1175, 'affair': 135, 'ensues': 1493, 'legal': 2563, 'aspect': 321, 'difference': 1246, 'abilities': 64, 'hair': 2005, 'clown': 862, 'meaningless': 2782, 'jokes': 2415, 'comedian': 887, 'resist': 3648, 'bringing': 586, 'happy': 2032, 'nose': 3037, 'integrity': 2311, 'industry': 2280, 'steve': 4181, 'send': 3875, 'estate': 1525, 'adapted': 114, 'interested': 2324, 'bbc': 417, 'adaptation': 113, 'manipulative': 2727, 'charming': 768, 'whether': 4866, 'considered': 951, 'interpretation': 2328, 'herself': 2092, 'innocence': 2293, 'spite': 4117, 'qualities': 3483, 'delightful': 1168, 'raymond': 3534, 'williams': 4888, 'roles': 3727, 'achievement': 94, 'pleasure': 3306, 'crowd': 1067, 'bore': 540, 'youd': 4987, 'universe': 4666, 'minimal': 2855, 'conflicts': 940, 'youll': 4988, 'cheese': 780, 'synopsis': 4344, 'joke': 2414, 'drunk': 1375, 'mixed': 2877, 'comedies': 889, 'mom': 2885, 'scripted': 3835, 'pure': 3471, 'boredom': 542, 'risk': 3704, 'ideas': 2215, 'trio': 4587, 'countries': 1013, '18': 10, 'screens': 3832, 'failed': 1626, 'goal': 1925, 'strictly': 4223, 'actions': 101, 'offers': 3090, 'nicely': 3009, 'scenario': 3808, 'financial': 1725, 'thrillers': 4473, 'bond': 532, 'jason': 2383, 'bourne': 554, 'internet': 2327, 'spike': 4111, 'host': 2173, 'brothers': 599, 'colour': 880, 'jim': 2402, 'carrey': 696, 'amongst': 218, 'accepted': 82, 'shadow': 3912, 'foster': 1809, 'criminal': 1057, 'planet': 3289, 'womans': 4922, 'co': 867, 'surrounded': 4318, 'chuck': 812, 'remotely': 3623, 'damon': 1101, 'appeared': 276, 'jay': 2386, 'bat': 410, 'awards': 367, 'guilt': 1994, 'aired': 165, 'faces': 1618, 'murders': 2943, 'dating': 1120, '60': 53, 'unlikely': 4671, 'factor': 1622, 'break': 569, 'justice': 2438, 'surviving': 4323, 'combined': 885, 'relations': 3596, 'crap': 1031, 'summary': 4290, 'reporter': 3636, 'explain': 1586, 'beyond': 476, 'higher': 2101, 'regard': 3588, 'reviewer': 3677, 'committed': 905, 'atrocious': 335, 'independent': 2272, 'acceptable': 81, 'ready': 3546, 'explosion': 1596, 'summer': 4291, 'program': 3424, 'disturbed': 1299, 'shooting': 3943, 'sends': 3876, 'blockbuster': 509, 'prefer': 3368, 'elaborate': 1439, 'scheme': 3812, 'pleasant': 3302, 'memories': 2803, 'ed': 1415, 'wood': 4933, 'confidence': 938, 'feet': 1688, 'write': 4967, 'key': 2458, 'forgotten': 1797, 'ability': 65, 'theyll': 4444, 'narration': 2965, 'public': 3460, 'purple': 3473, 'sensitive': 3879, 'former': 1800, 'composed': 926, 'lit': 2621, 'credibility': 1047, 'underground': 4640, 'soft': 4051, 'spot': 4131, 'neat': 2982, 'clothes': 860, 'wears': 4832, 'taste': 4369, 'understood': 4647, 'popularity': 3334, 'ultra': 4629, 'super': 4295, 'decades': 1145, 'cool': 989, 'ruthless': 3764, 'hip': 2114, 'hop': 2154, 'culture': 1079, 'tap': 4364, 'international': 2326, 'festival': 1697, 'inspiring': 2302, 'forced': 1787, 'small': 4033, 'birth': 486, 'leader': 2546, 'drawing': 1350, 'keeping': 2450, 'develops': 1226, 'superbly': 4297, 'brought': 600, 'tears': 4380, 'hopefully': 2157, 'distribution': 1298, 'united': 4664, 'states': 4163, 'amusing': 221, 'yeah': 4977, 'logic': 2638, 'admit': 122, 'throw': 4479, 'occasion': 3073, 'avoid': 363, 'detail': 1217, 'length': 2569, 'site': 4005, 'bears': 421, 'served': 3894, 'faithful': 1634, 'admittedly': 123, 'advice': 133, 'opens': 3115, 'factory': 1623, 'workers': 4943, 'weve': 4856, 'rare': 3523, 'horribly': 2164, 'narrator': 2967, 'pictures': 3270, 'locations': 2636, 'chose': 804, 'areas': 287, 'topic': 4526, 'landscapes': 2514, 'pacing': 3163, 'surface': 4310, 'commented': 900, 'storm': 4206, 'plain': 3286, 'rain': 3506, 'menace': 2806, 'sexual': 3908, 'dull': 1384, 'overly': 3155, 'thank': 4421, 'shower': 3957, 'hollywoods': 2138, 'heston': 2094, 'andrew': 228, 'jackson': 2375, 'tend': 4400, 'move': 2921, 'impressive': 2253, 'step': 4175, 'appearance': 274, 'scooby': 3820, 'doo': 1325, 'lake': 2509, 'hiding': 2099, 'stale': 4141, 'heads': 2059, 'investigation': 2343, 'requires': 3642, 'enemies': 1476, 'abuse': 74, 'rape': 3521, 'forces': 1788, 'fights': 1710, 'appreciated': 280, 'satisfying': 3791, 'steven': 4182, 'seagal': 3839, 'entirely': 1503, 'resources': 3651, 'technical': 4381, 'flaws': 1752, 'silver': 3977, 'air': 164, 'strike': 4224, 'suffice': 4279, 'titles': 4506, 'available': 361, 'putting': 3482, 'category': 718, '12': 3, 'total': 4531, 'gas': 1874, 'popcorn': 3331, '3d': 46, 'leaving': 2557, 'propaganda': 3435, 'ps': 3453, 'greek': 1970, 'spin': 4112, 'inspired': 2301, 'superior': 4300, 'lasted': 2522, 'season': 3843, 'offered': 3088, 'cynical': 1093, 'carl': 692, 'matches': 2764, 'suffering': 4277, 'editor': 1423, 'treat': 4572, 'gotta': 1946, 'heights': 2073, 'witches': 4910, 'colorful': 878, 'lively': 2627, 'guest': 1992, 'legendary': 2565, 'icon': 2211, 'energy': 1478, 'featured': 1679, 'suspense': 4330, 'climax': 849, 'particular': 3194, 'brave': 567, 'chicago': 785, 'newspaper': 3006, 'kinds': 2478, 'occasionally': 3075, 'bumbling': 622, 'threat': 4467, 'strength': 4219, 'courage': 1018, 'handful': 2017, 'simon': 3982, 'ideal': 2214, 'ruth': 3763, 'sweet': 4336, 'emily': 1456, 'carol': 693, 'likewise': 2603, 'eager': 1396, 'alas': 172, 'suffer': 4275, 'werewolf': 4850, 'resembles': 3646, 'helen': 2075, 'trademark': 4548, 'presence': 3373, 'awesome': 371, 'saved': 3795, 'viewing': 4740, 'actress': 105, 'jerry': 2396, 'mildly': 2840, 'song': 4071, 'worry': 4950, 'fell': 1690, 'roll': 3728, 'apart': 264, 'wallace': 4782, 'mistakes': 2873, 'pointed': 3317, 'cage': 645, 'hook': 2152, 'round': 3742, 'effectively': 1430, 'kicking': 2462, 'ruby': 3749, 'pushed': 3478, 'shirt': 3937, 'repeated': 3631, 'hollow': 2135, 'empty': 1465, 'paint': 3173, 'growing': 1983, 'superb': 4296, 'julia': 2427, 'position': 3345, 'boyfriend': 558, 'immediately': 2242, 'familys': 1646, 'mentally': 2809, 'locked': 2637, 'mask': 2752, 'paced': 3162, 'villains': 4745, 'catching': 716, 'isolated': 2363, 'woods': 4935, 'winter': 4900, 'mysterious': 2955, 'leslie': 2574, 'attraction': 350, 'pair': 3176, 'ya': 4976, 'motivation': 2914, 'bound': 553, 'twisted': 4618, 'passionate': 3206, 'distant': 1295, 'focuses': 1768, 'dialogues': 1235, 'deep': 1154, 'believes': 456, 'sexually': 3910, 'activities': 102, 'erotic': 1515, 'base': 402, 'dreary': 1356, 'stylish': 4251, 'views': 4742, 'stays': 4169, 'sleep': 4024, 'wait': 4770, 'benefit': 465, 'indie': 2276, 'hopes': 2159, 'nights': 3016, 'lacked': 2503, 'sunday': 4293, 'afternoon': 144, 'stronger': 4230, 'presented': 3376, 'crush': 1072, 'weight': 4840, 'minds': 2852, 'ignorant': 2223, 'em': 1452, 'bible': 477, 'attempting': 342, 'morality': 2903, 'meaningful': 2781, 'steal': 4170, 'author': 359, 'sell': 3871, 'spread': 4133, 'vs': 4767, 'gods': 1928, 'argument': 291, 'prove': 3445, 'solely': 4056, '2002': 32, 'teaching': 4377, 'opinion': 3118, 'hasnt': 2044, 'hurt': 2202, 'corner': 996, 'jumps': 2432, 'jump': 2429, 'jesus': 2399, 'christians': 809, 'oddly': 3081, 'missed': 2867, 'stealing': 4171, 'mentioning': 2812, 'kept': 2456, 'ran': 3513, 'quote': 3496, 'religion': 3607, 'future': 1856, 'fails': 1628, 'mentions': 2813, 'sin': 3988, 'loss': 2659, 'thousands': 4466, 'insulting': 2310, 'gag': 1861, 'offensive': 3086, 'screenplay': 3831, 'radio': 3504, 'pat': 3208, 'argue': 290, 'anne': 246, 'shirley': 3936, 'tortured': 4530, 'manages': 2725, 'truck': 4595, 'target': 4366, 'eddie': 1416, 'albert': 174, 'ludicrous': 2685, 'yellow': 4981, 'torture': 4529, 'remains': 3611, 'listed': 2618, 'appearing': 277, 'please': 3304, 'contact': 961, 'movement': 2923, 'italy': 2368, 'reality': 3551, 'traditional': 4550, 'values': 4710, 'thoroughly': 4459, 'represent': 3637, 'badly': 383, 'unable': 4631, 'guessing': 1991, 'father': 1666, 'assume': 328, 'learned': 2551, 'media': 2789, 'comment': 898, 'authority': 360, 'notion': 3050, 'free': 1827, 'staring': 4152, 'drinking': 1362, 'carries': 699, 'speech': 4102, 'directorial': 1265, 'aid': 160, 'nuts': 3064, 'catherine': 719, 'walls': 4783, 'rubber': 3747, 'grow': 1982, 'mood': 2898, 'changes': 751, 'critic': 1061, 'wide': 4880, 'ancient': 225, 'explicit': 1591, 'spy': 4135, 'skin': 4015, 'necessary': 2984, 'carry': 700, 'unusual': 4681, 'laurel': 2537, 'hardy': 2037, 'styles': 4250, 'portion': 3338, 'seemingly': 3863, 'nonetheless': 3029, 'everybody': 1540, 'professor': 3422, 'represents': 3639, 'parody': 3192, 'scientist': 3818, 'stooges': 4200, 'stan': 4142, 'event': 1535, 'obsessed': 3069, 'creating': 1039, 'butler': 637, 'rolled': 3729, 'occasional': 3074, 'dry': 1377, 'meanwhile': 2785, 'solution': 4059, 'consists': 955, 'slapstick': 4019, 'involving': 2349, 'task': 4368, 'highlight': 2103, 'fall': 1637, 'process': 3412, 'suspect': 4327, 'inside': 2297, 'fields': 1705, 'worlds': 4947, 'delivering': 1171, 'sam': 3777, 'adams': 112, 'oliver': 3102, 'prime': 3395, 'hal': 2006, 'studio': 4240, 'background': 380, 'le': 2544, 'roy': 3745, 'credits': 1050, 'proceedings': 3410, 'developed': 1223, 'direct': 1258, 'efforts': 1433, 'painful': 3171, 'sit': 4003, 'eight': 1436, 'ball': 388, 'spent': 4108, 'decides': 1150, 'skill': 4013, 'knife': 2487, 'sea': 3838, 'pays': 3218, 'homage': 2141, 'stunning': 4244, 'transformation': 4560, 'image': 2233, 'sole': 4055, 'trade': 4547, 'careers': 687, 'samurai': 3779, 'gentle': 1890, 'marry': 2745, 'physically': 3263, 'devoted': 1231, 'accept': 80, 'humble': 2191, 'wishes': 4906, 'abusive': 75, 'street': 4216, 'sacrifice': 3766, 'matched': 2763, 'calm': 655, 'authentic': 358, 'brand': 565, 'importance': 2246, 'semi': 3874, 'proceeds': 3411, 'beloved': 461, 'circumstances': 822, 'audiences': 353, 'easy': 1410, 'responsible': 3656, 'nonsensical': 3031, 'explaining': 1588, 'grave': 1962, 'pleased': 3305, 'standing': 4146, 'fashioned': 1660, 'cop': 991, 'plots': 3310, 'repeatedly': 3632, 'forbidden': 1785, 'portrait': 3339, 'study': 4242, 'clear': 839, 'racist': 3503, 'post': 3352, 'disaster': 1276, 'senseless': 3878, 'turner': 4607, 'nicholson': 3011, 'neo': 2998, 'nasty': 2968, 'examples': 1554, 'firstly': 1737, 'york': 4985, 'walker': 4778, 'hired': 2117, 'revelation': 3674, 'cinematic': 818, 'zone': 4999, 'repetitive': 3633, 'laughing': 2533, 'wedding': 4836, 'gangsters': 1869, 'introduced': 2337, 'revolves': 3682, 'dealt': 1138, 'slowly': 4032, 'deliberately': 1166, 'briefly': 580, 'planned': 3290, 'heavy': 2070, 'handed': 2016, 'arrive': 300, 'security': 3854, 'careful': 688, 'steps': 4177, 'occurs': 3078, 'draw': 1349, 'continues': 971, 'uninteresting': 4660, 'sides': 3967, 'cars': 702, 'vision': 4754, 'hurts': 2203, 'torn': 4528, 'sign': 3970, 'underrated': 4642, 'finest': 1730, 'winters': 4901, 'mothers': 2912, 'hilariously': 2107, 'davies': 1125, 'concert': 935, 'dad': 1095, 'outstanding': 3147, 'shed': 3924, 'atmosphere': 333, 'eerie': 1427, '30s': 44, 'terrifying': 4410, 'coach': 868, 'sutherland': 4333, 'engage': 1479, 'academy': 77, 'disjointed': 1287, '16': 8, 'south': 4087, 'situation': 4008, 'overcome': 3151, 'exist': 1569, 'section': 3853, 'vice': 4727, 'train': 4556, 'incredibly': 2270, 'models': 2881, 'wanting': 4790, 'apartment': 265, 'dancer': 1104, 'trip': 4588, 'irritating': 2359, 'drug': 1373, 'holding': 2130, 'till': 4493, 'makeup': 2717, 'rotten': 3740, 'holes': 2133, 'wasting': 4810, 'belongs': 460, 'funniest': 1851, 'forty': 1807, 'pie': 3271, 'intelligent': 2314, 'china': 795, 'magnificent': 2705, 'theaters': 4428, 'vote': 4766, 'drew': 1360, 'purely': 3472, 'mundane': 2938, 'subtlety': 4261, 'painting': 3175, 'ireland': 2352, 'seek': 3858, 'irish': 2353, 'square': 4136, 'daddy': 1096, 'concerns': 934, 'catholic': 720, 'reasonable': 3558, 'lucas': 2680, 'central': 735, 'stood': 4199, 'peace': 3219, 'lay': 2542, 'successful': 4266, 'blair': 497, 'hated': 2047, 'encounters': 1467, 'damn': 1100, 'uncomfortable': 4637, 'successfully': 4267, 'hunt': 2198, 'develop': 1222, 'redeeming': 3577, 'fare': 1655, 'spoil': 4121, 'resort': 3650, 'korean': 2495, 'hanging': 2023, 'court': 1020, 'defense': 1159, 'attorney': 348, 'attempts': 343, 'doomed': 1327, 'deeply': 1156, 'humorous': 2193, 'julie': 2428, 'warner': 4799, 'kevin': 2457, 'elizabeth': 1445, 'vincent': 4746, 'matt': 2768, 'craven': 1034, 'diane': 1238, 'lane': 2515, 'canada': 666, 'alan': 171, 'mike': 2838, 'tape': 4365, 'suspects': 4328, 'provides': 3450, 'canadian': 667, 'among': 217, 'norman': 3035, 'adds': 119, 'double': 1331, 'brad': 560, 'pitt': 3280, 'charismatic': 763, 'poetic': 3313, 'shop': 3945, 'margaret': 2735, 'morgan': 2905, 'felix': 1689, 'sadly': 3769, 'mail': 2706, 'claim': 828, '1940s': 13, 'repeat': 3630, 'viewings': 4741, 'kurt': 2499, 'stone': 4197, 'chase': 769, 'conversation': 980, 'warming': 4795, 'gonna': 1936, 'sons': 4073, 'positive': 3346, 'blame': 499, 'screenwriter': 3833, 'fault': 1668, 'shakespeare': 3915, 'fest': 1696, 'cuba': 1075, 'navy': 2976, 'bus': 631, 'taught': 4370, 'quit': 3494, 'powers': 3361, 'drive': 1363, 'sent': 3880, 'chief': 788, 'niro': 3019, 'officer': 3092, 'loses': 2657, 'leg': 2562, 'achieve': 92, 'joined': 2413, 'washington': 4806, 'staying': 4168, 'lengthy': 2570, 'replaced': 3634, 'advantage': 129, 'rented': 3628, 'rental': 3627, 'southern': 4088, 'crimes': 1056, 'tedious': 4387, 'aged': 149, 'answer': 251, 'ripped': 3701, 'commercial': 902, 'werent': 4849, 'north': 3036, 'previously': 3388, 'classics': 837, 'buddy': 609, 'bucks': 606, 'sidekick': 3966, 'otherwise': 3137, 'streep': 4215, 'accents': 79, 'unpleasant': 4674, 'initially': 2291, 'piano': 3264, 'behavior': 446, 'breaking': 570, 'houses': 2180, 'strangers': 4214, 'pulling': 3463, 'amy': 222, 'saturday': 3792, 'snl': 4044, 'stretch': 4221, '2006': 36, 'spring': 4134, 'fill': 1714, 'blank': 501, 'cliché': 844, 'holiday': 2134, 'mtv': 2933, 'thirty': 4456, 'sing': 3992, 'colors': 879, 'parties': 3196, 'blind': 506, 'promise': 3430, 'doubts': 1333, 'kay': 2447, 'attractive': 351, 'beach': 419, 'vacation': 4704, 'ultimate': 4627, 'showdown': 3955, 'monk': 2889, 'reasons': 3560, 'disappointing': 1274, 'stole': 4194, 'extras': 1608, 'national': 2970, 'magazine': 2701, 'creative': 1041, 'mill': 2845, 'allowed': 190, 'open': 3112, 'arms': 294, 'trilogy': 4586, 'dances': 1106, 'mechanical': 2788, 'bull': 619, '1980': 20, 'wore': 4939, 'cowboy': 1025, 'bud': 607, 'trailer': 4554, 'urban': 4688, 'soundtrack': 4085, 'twin': 4615, 'alex': 179, 'expert': 1585, 'headed': 2058, '1950s': 14, 'rank': 3518, 'four': 1812, 'orson': 3132, 'welles': 4844, 'glenn': 1918, 'believed': 455, 'angles': 237, 'unique': 4662, 'trial': 4580, 'royal': 3746, 'sisters': 4002, 'defend': 1158, 'property': 3438, 'fathers': 1667, 'build': 614, 'complex': 923, 'center': 732, 'barbara': 397, 'stanwyck': 4149, 'closet': 858, 'nancy': 2964, 'pretentious': 3383, 'noble': 3021, 'gay': 1876, 'catchy': 717, 'sympathy': 4343, 'tragedy': 4551, 'historical': 2119, 'watchable': 4812, 'involve': 2345, 'giant': 1905, 'duo': 1386, 'sunshine': 4294, 'alongside': 196, '1970s': 17, 'neil': 2995, 'walter': 4784, 'matthau': 2771, 'clark': 832, 'bitter': 491, 'solo': 4058, 'abc': 63, 'nostalgia': 3038, 'various': 4715, 'cole': 873, 'present': 3374, 'manhattan': 2726, 'ties': 4490, 'glorious': 1921, 'photos': 3261, 'sleeping': 4025, 'hello': 2078, '1972': 18, 'dies': 1245, 'proud': 3444, 'selling': 3873, 'obnoxious': 3067, 'root': 3737, 'enjoying': 1487, 'cost': 1003, 'reunion': 3669, 'demand': 1174, 'shoots': 3944, 'mid': 2832, 'range': 3516, 'grace': 1950, 'toward': 4539, 'producing': 3417, '2nd': 41, 'fx': 1858, 'ahead': 159, 'generally': 1881, 'freeman': 1829, 'clumsy': 866, 'cousin': 1021, 'latin': 2527, 'neighborhood': 2993, 'research': 3644, 'manager': 2724, 'ride': 3692, 'construction': 960, 'chemistry': 782, 'afraid': 140, 'destroy': 1213, 'realizes': 3554, 'fancy': 1649, 'lower': 2677, 'brazil': 568, 'decision': 1151, 'receive': 3563, 'nor': 3032, 'chased': 770, 'wolf': 4920, 'pack': 3165, 'skip': 4016, 'guarantee': 1987, 'dare': 1113, 'crude': 1069, 'perspective': 3245, 'laughter': 2535, 'tradition': 4549, 'suspend': 4329, 'focusing': 1769, 'tense': 4403, 'landscape': 2513, 'max': 2774, 'delight': 1167, 'winner': 4897, 'gabriel': 1859, 'priceless': 3390, 'gandhi': 1866, 'nation': 2969, 'struggle': 4234, 'ignored': 2225, 'join': 2412, 'education': 1424, 'travel': 4567, 'grant': 1956, 'businessman': 634, 'limited': 2606, 'kudos': 2497, 'grew': 1972, 'anime': 243, 'danger': 1109, 'lose': 2654, 'generation': 1883, 'punk': 3468, 'band': 391, 'ridden': 3691, 'individual': 2277, 'separate': 3883, '90s': 61, 'luck': 2681, 'singer': 3993, 'timothy': 4499, 'farm': 1656, 'paying': 3217, 'jimmy': 2403, 'nostalgic': 3039, 'tour': 4538, 'europe': 1529, 'burned': 626, 'tag': 4348, 'dick': 1239, 'la': 2500, 'road': 3709, 'capturing': 679, 'frequently': 1832, 'elegant': 1441, 'outfit': 3144, 'glory': 1922, 'success': 4265, 'treats': 4575, 'hotel': 2175, 'cusack': 1088, 'drags': 1345, 'analysis': 224, 'bugs': 613, 'beliefs': 452, 'shouldnt': 3952, 'invasion': 2340, 'standards': 4145, 'russell': 3761, 'product': 3418, 'hitting': 2126, 'frustrated': 1842, 'island': 2361, 'cases': 708, 'pregnant': 3369, 'weapons': 4829, 'wives': 4918, 'unintentional': 4658, 'sexuality': 3909, 'logical': 2639, 'search': 3841, 'irony': 2357, 'arrived': 301, 'flashbacks': 1747, 'stay': 4166, 'ramones': 3512, '24': 39, 'nazi': 2977, 'principal': 3398, 'appealing': 272, 'weakest': 4825, 'chain': 741, 'treated': 4573, 'predictable': 3367, 'anna': 245, 'jenny': 2393, 'jealous': 2388, 'fallen': 1638, 'corny': 997, 'eyre': 1614, 'faults': 1669, 'rochester': 3719, 'charlotte': 766, 'asleep': 320, 'dalton': 1098, 'changing': 752, 'underlying': 4641, 'losing': 2658, 'closing': 859, 'pet': 3246, 'anywhere': 263, 'useful': 4694, 'joy': 2422, 'rushed': 3760, 'bits': 490, 'lord': 2652, 'thousand': 4465, 'mouse': 2919, 'describes': 1196, 'wise': 4903, 'placed': 3283, 'comments': 901, 'inevitable': 2282, 'treasure': 4571, 'miles': 2843, 'homeless': 2143, 'reminded': 3619, 'pretend': 3381, 'falling': 1639, 'blows': 517, '40': 48, 'rival': 3706, 'report': 3635, 'needless': 2989, 'wisdom': 4902, 'advise': 134, 'jobs': 2406, 'provide': 3448, 'forms': 1801, 'dressed': 1358, 'spare': 4093, 'messages': 2820, 'delivered': 1170, 'moved': 2922, 'comedic': 888, 'jennifer': 2392, 'increasingly': 2268, 'stress': 4220, 'fit': 1740, 'delivery': 1173, 'monkey': 2890, 'purposes': 3475, 'allows': 192, 'buried': 624, 'reveals': 3673, 'amazed': 208, 'directly': 1263, 'relatively': 3600, 'becoming': 435, 'sheer': 3925, 'dvds': 1392, 'reaction': 3541, 'naked': 2959, 'artistic': 308, '100': 1, 'kicks': 2463, 'strip': 4228, 'buff': 611, 'wanna': 4786, 'petty': 3249, 'renting': 3629, 'mel': 2796, 'brooks': 596, 'persona': 3239, 'larry': 2520, 'health': 2060, 'inspector': 2299, 'willing': 4889, 'unless': 4669, 'weak': 4824, 'commercials': 903, 'spiritual': 4116, 'bergman': 466, 'regarding': 3589, 'joan': 2404, 'queen': 3485, 'tough': 4537, 'system': 4345, 'pig': 3274, 'builds': 617, 'jungle': 2434, 'shadows': 3913, 'competent': 917, 'harris': 2038, 'typically': 4624, 'unconvincing': 4638, 'plane': 3288, 'adorable': 124, 'status': 4165, 'bomb': 531, 'cult': 1077, 'roger': 3724, 'rabbit': 3498, 'accurate': 90, 'marketing': 2741, 'signed': 3971, 'iron': 2354, 'listen': 2619, 'sally': 3776, 'shines': 3932, 'contrast': 975, 'spirit': 4113, 'warm': 4794, 'mountain': 2917, 'identity': 2217, 'measure': 2786, 'confused': 941, 'frequent': 1831, 'stranger': 4213, 'smaller': 4034, 'concerning': 933, 'holmes': 2139, 'intriguing': 2335, 'tim': 4494, 'cox': 1026, 'model': 2880, 'bell': 458, 'pacino': 3164, 'accent': 78, 'comparing': 913, 'alfred': 181, 'hitchcock': 2123, 'stanley': 4148, 'finish': 1732, 'extent': 1605, 'broad': 590, 'countryside': 1015, 'corpse': 999, 'shape': 3919, 'lol': 2640, 'breasts': 572, 'louis': 2665, 'friendly': 1836, 'animal': 239, 'indian': 2274, 'strangely': 4212, 'page': 3167, 'succeeds': 4264, 'intention': 2319, 'disgusting': 1286, 'defined': 1160, 'wandering': 4785, 'thru': 4483, 'deeper': 1155, 'levels': 2585, 'basement': 405, 'jake': 2377, 'clint': 850, 'eastwood': 1409, 'henry': 2084, 'seed': 3856, 'matthew': 2772, 'print': 3399, 'convinced': 984, 'protect': 3443, 'domestic': 1318, 'evident': 1547, 'shy': 3962, 'cheating': 776, 'building': 615, 'laura': 2536, 'revealing': 3672, 'importantly': 2248, 'carrying': 701, 'flawless': 1751, 'account': 89, 'fears': 1677, 'anger': 235, 'causing': 726, 'sympathetic': 4342, 'motives': 2916, 'scale': 3802, 'thumbs': 4485, 'stated': 4161, 'bland': 500, 'bag': 384, 'warrior': 4802, 'dubbing': 1380, 'list': 2617, 'contest': 967, 'bleak': 503, 'lyrics': 2692, 'spectacular': 4101, 'vast': 4716, 'majority': 2712, 'offended': 3085, 'serving': 3897, 'bright': 581, 'spots': 4132, 'allow': 189, 'hysterical': 2208, 'interaction': 2322, 'currently': 1085, 'highest': 2102, 'consider': 949, 'exploitation': 1592, 'appropriate': 283, 'bin': 483, 'mgm': 2828, 'speaking': 4095, 'wealthy': 4827, 'taylor': 4372, 'ms': 2931, 'busy': 635, 'minor': 2857, 'types': 4622, '25': 40, 'noticed': 3049, 'destiny': 1212, 'chaos': 755, 'theory': 4437, 'baseball': 403, 'philosophical': 3253, 'tune': 4602, 'suffered': 4276, 'chapter': 757, 'savage': 3793, 'matrix': 2767, 'stretched': 4222, '75': 57, 'bob': 524, 'earned': 1401, 'dollars': 1315, 'westerns': 4854, 'vengeance': 4719, 'maria': 2736, 'wondered': 4927, 'recognized': 3570, 'lesbian': 2573, 'villain': 4744, 'mile': 2842, 'edgar': 1417, 'beat': 423, 'loser': 2655, 'regular': 3592, 'floating': 1758, 'russian': 3762, 'alcohol': 176, 'dan': 1102, 'bobby': 525, 'sarah': 3785, 'experiments': 1584, 'computer': 927, 'faith': 1633, 'secrets': 3852, 'thrills': 4475, 'struggling': 4236, 'ellen': 1446, 'painted': 3174, 'held': 2074, 'began': 441, 'striking': 4226, 'resemblance': 3645, 'bear': 420, 'intensity': 2317, 'stuck': 4237, 'eyed': 1612, 'routine': 3743, 'morning': 2906, 'macy': 2695, 'campbell': 663, 'donald': 1321, 'ritter': 3705, 'shining': 3933, 'rebel': 3561, 'overrated': 3156, 'hunter': 2199, 'essentially': 1523, 'gripping': 1976, 'expressed': 1601, 'combat': 882, 'alcoholic': 177, 'handle': 2018, 'scottish': 3825, 'spoilers': 4124, 'digital': 1251, 'consistent': 953, 'established': 1524, 'amateurish': 207, 'consistently': 954, 'development': 1225, 'psychiatrist': 3455, 'capable': 672, 'performing': 3233, 'introduction': 2339, 'poverty': 3357, 'realise': 3548, 'joseph': 2419, 'obscure': 3068, 'vampire': 4711, 'bath': 411, 'offer': 3087, 'amounts': 220, 'mountains': 2918, 'loyal': 2679, 'devils': 1229, 'gothic': 1945, 'topless': 4527, 'favor': 1670, 'franco': 1820, 'blow': 514, 'hippie': 2115, 'movements': 2924, 'false': 1641, 'throws': 4482, 'storytelling': 4209, 'displayed': 1292, 'ups': 4686, 'revolution': 3680, 'orders': 3127, 'university': 4667, 'flies': 1756, 'desert': 1198, 'cities': 823, 'garden': 1872, 'sun': 4292, 'tear': 4379, 'tame': 4363, 'cats': 721, 'artists': 309, 'warn': 4797, 'nightmares': 3015, 'tends': 4402, 'daring': 1114, 'network': 3000, 'luke': 2687, 'failure': 1629, 'failing': 1627, 'flight': 1757, 'destroyed': 1214, 'fourth': 1813, 'slave': 4022, 'critical': 1062, 'germany': 1898, '14': 6, 'pg': 3250, '13': 4, 'mexico': 2827, 'slaughter': 4021, 'featuring': 1681, 'psycho': 3457, 'hatred': 2049, 'horrifying': 2167, 'indians': 2275, 'park': 3190, 'montana': 2895, 'lincoln': 2608, 'dave': 1123, 'childhood': 790, 'mass': 2753, 'weeks': 4839, 'projects': 3428, 'lazy': 2543, 'elsewhere': 1449, 'tender': 4401, 'adventures': 131, 'thief': 4448, 'foot': 1781, 'diamond': 1236, 'normal': 3033, 'discovered': 1280, 'assault': 324, 'flawed': 1750, 'selfish': 3870, 'spends': 4107, 'clichéd': 845, 'recent': 3566, 'gags': 1862, 'rights': 3697, 'picking': 3267, 'undoubtedly': 4648, 'millions': 2848, 'lousy': 2667, 'communist': 907, 'carter': 703, 'golden': 1934, 'jewish': 2401, 'stereotype': 4178, '1930s': 11, 'aside': 315, 'behave': 445, 'listening': 2620, 'generous': 1886, 'relation': 3595, 'jackie': 2374, 'chan': 746, 'hunting': 2201, 'seat': 3845, 'kapoor': 2443, 'freak': 1824, 'shelf': 3926, 'depressed': 1187, 'everyday': 1541, 'feminist': 1695, 'kung': 2498, 'fu': 1844, 'closely': 855, 'rage': 3505, 'dignity': 1252, 'worthy': 4956, 'loaded': 2632, 'kenneth': 2455, 'branagh': 564, 'distracting': 1297, 'steel': 4173, 'introduces': 2338, 'homosexual': 2145, 'perform': 3227, 'caine': 647, 'shell': 3927, 'merit': 2816, 'installment': 2303, 'throat': 4476, 'devoid': 1230, 'justify': 2439, 'wrapped': 4964, 'thrill': 4471, 'freddy': 1826, 'impressed': 2251, 'peoples': 3222, 'confusing': 942, 'remind': 3618, 'cruel': 1070, 'forgettable': 1794, 'web': 4833, 'edie': 1419, 'approach': 282, 'dangerous': 1110, 'afford': 138, 'hire': 2116, 'negative': 2991, 'strongly': 4231, 'enjoys': 1489, 'documentaries': 1306, 'hundred': 2195, 'reputation': 3640, 'idiot': 2218, 'wall': 4781, 'worthless': 4954, '35': 45, 'uncle': 4636, 'chooses': 800, 'everyones': 1543, 'grab': 1949, 'hooked': 2153, 'sheriff': 3929, 'control': 977, 'blacks': 494, 'mysteries': 2954, 'football': 1783, 'saga': 3773, 'teenage': 4389, 'london': 2641, 'reactions': 3542, 'rural': 3758, 'soldier': 4053, 'poster': 3353, 'roman': 3731, 'bands': 392, 'politics': 3326, 'notch': 3043, 'welcome': 4842, 'brilliance': 582, 'criminals': 1058, 'presents': 3377, 'illegal': 2229, 'pants': 3182, 'heroes': 2089, 'pilot': 3276, 'trees': 4577, 'differences': 1247, 'existed': 1570, 'code': 869, 'exotic': 1574, 'thick': 4447, 'mistake': 2871, 'brady': 561, 'numbers': 3061, 'entry': 1504, 'treatment': 4574, 'caring': 691, 'color': 877, 'detailed': 1218, 'mixture': 2878, 'subplots': 4256, 'laughable': 2530, 'substance': 4258, 'conceived': 929, 'crash': 1033, 'mst3k': 2932, 'jessica': 2398, 'overlooked': 3154, 'childrens': 793, 'trained': 4557, 'noted': 3045, 'appearances': 275, 'ages': 152, 'pulled': 3462, 'fired': 1735, 'teachers': 4376, 'properly': 3437, 'adding': 117, 'nowadays': 3055, 'map': 2733, 'area': 286, 'hadnt': 2004, 'vicious': 4728, 'columbo': 881, 'spielberg': 4110, 'falk': 1636, 'victims': 4730, 'endearing': 1469, 'judging': 2425, 'trailers': 4555, 'bite': 489, 'slick': 4026, 'packed': 3166, 'brief': 579, 'highlights': 2104, 'loads': 2633, 'imagined': 2239, 'checking': 778, 'lying': 2690, 'chases': 771, 'punch': 3466, 'unforgettable': 4652, 'ruin': 3750, 'sticks': 4186, '2007': 37, 'complaint': 920, 'superman': 4301, 'outer': 3143, 'whoever': 4872, 'associated': 327, 'related': 3594, 'dracula': 1341, 'burning': 627, 'rocket': 3721, 'christ': 807, 'primary': 3394, 'furthermore': 1854, 'inappropriate': 2259, 'singers': 3994, 'wreck': 4965, 'wacky': 4769, 'slightest': 4028, 'unbearable': 4633, 'travesty': 4570, 'batman': 413, '1960s': 15, 'balls': 390, 'passed': 3202, 'claims': 830, 'plague': 3285, 'widmark': 4882, 'remaining': 3610, 'directs': 1267, 'scores': 3823, 'daily': 1097, 'halfway': 2008, 'fox': 1814, 'west': 4852, 'eccentric': 1414, 'cooper': 990, 'jesse': 2397, 'abraham': 69, 'masses': 2755, 'attack': 337, 'superficial': 4298, 'subsequent': 4257, 'sky': 4017, 'scientists': 3819, 'wells': 4845, 'richardson': 3688, 'philosophy': 3254, 'science': 3816, 'generations': 1884, 'weapon': 4828, 'defeat': 1157, 'ii': 2226, 'cameron': 661, 'glimpse': 1919, 'respected': 3653, 'ingredients': 2289, 'hamlet': 2013, 'grasp': 1960, 'ice': 2210, 'gifted': 1907, 'holly': 2136, 'angela': 232, 'convincingly': 986, 'food': 1778, 'dinner': 1254, 'rose': 3739, 'cared': 685, 'grandfather': 1954, 'lifestyle': 2593, 'comfortable': 892, 'aint': 163, 'realizing': 3555, 'ned': 2986, 'hopeless': 2158, 'alright': 198, 'performer': 3231, 'talked': 4359, 'incoherent': 2265, 'wed': 4835, 'deaf': 1134, 'avoided': 364, 'awe': 370, 'creators': 1044, 'performs': 3234, 'michelle': 2830, 'claire': 831, 'danes': 1108, 'sophisticated': 4075, 'killers': 2471, 'carrie': 697, 'faster': 1662, 'limits': 2607, 'uneven': 4649, 'duty': 1390, 'naive': 2958, 'twilight': 4614, 'spain': 4091, 'coherent': 871, 'serve': 3893, 'neighbor': 2992, 'wwii': 4975, 'survive': 4321, 'visits': 4756, 'accidentally': 85, 'ring': 3698, 'killings': 2473, '1973': 19, 'guard': 1988, 'traveling': 4568, 'seasons': 3844, 'boot': 538, 'mine': 2853, 'thankfully': 4422, 'presentation': 3375, 'flaw': 1749, 'transfer': 4559, 'involvement': 2347, 'stunt': 4245, 'access': 83, 'attitude': 346, 'connect': 944, 'alexander': 180, 'portraying': 3343, 'loosely': 2651, 'doom': 1326, 'wholly': 4874, 'relevant': 3604, 'raising': 3509, 'andrews': 229, 'arm': 292, 'smooth': 4041, 'push': 3477, 'obsession': 3070, 'victim': 4729, 'covers': 1024, 'clues': 865, 'larger': 2519, 'touches': 4535, 'ridiculously': 3694, 'genres': 1889, 'goodness': 1938, 'amazingly': 210, 'toy': 4542, 'definite': 1161, 'specifically': 4100, 'rings': 3699, 'guide': 1993, 'strikes': 4225, 'desire': 1205, 'nazis': 2978, 'greed': 1968, 'greedy': 1969, 'specific': 4099, 'essence': 1521, 'fascinated': 1657, 'recorded': 3574, 'excited': 1561, 'timeless': 4496, 'originally': 3131, 'bollywood': 530, 'settings': 3901, 'allowing': 191, 'portrays': 3344, 'slasher': 4020, 'developing': 1224, 'kitchen': 2485, 'liking': 2604, 'alike': 185, 'sucks': 4271, 'personalities': 3241, 'rid': 3690, 'judy': 2426, 'therefore': 4439, 'desired': 1206, 'simplicity': 3984, 'hospital': 2172, 'kingdom': 2480, 'vague': 4705, 'ghosts': 1903, 'demon': 1177, 'reel': 3581, 'lemmon': 2567, 'sentence': 3881, 'marvelous': 2750, 'bone': 533, 'wave': 4818, 'mistaken': 2872, 'cleverly': 842, 'meat': 2787, 'photo': 3257, 'built': 618, 'domino': 1319, 'complain': 919, 'witness': 4914, 'opened': 3113, 'adam': 111, 'bodies': 526, 'picked': 3266, 'cards': 683, 'sat': 3786, 'psychotic': 3459, 'ourselves': 3140, 'stevens': 4183, 'hideous': 2098, 'haunting': 2051, 'shocked': 3939, 'sitcom': 4004, 'transition': 4561, 'splendid': 4119, 'scream': 3826, 'elvis': 1451, 'sincere': 3991, 'greatly': 1967, 'restored': 3659, 'miller': 2846, 'rush': 3759, 'hole': 2132, 'angels': 234, 'translation': 4562, 'theyd': 4443, 'spending': 4106, 'vegas': 4717, 'friendship': 1838, 'smiling': 4037, 'laid': 2508, 'received': 3564, 'surreal': 4317, 'theatre': 4429, 'string': 4227, 'insight': 2298, 'dancers': 1105, 'reference': 3582, 'fooled': 1780, 'relies': 3606, '2000': 30, 'endless': 1473, 'drink': 1361, 'cary': 706, 'ad': 110, 'frustration': 1843, 'pile': 3275, 'polished': 3323, 'lion': 2614, 'perfection': 3225, 'trapped': 4564, 'pops': 3332, 'evidence': 1546, 'porno': 3337, 'sports': 4130, 'costs': 1004, 'shake': 3914, 'armed': 293, 'tie': 4488, 'cia': 814, 'clip': 851, 'politically': 3325, 'females': 1694, 'wonders': 4931, 'amanda': 205, 'miserably': 2864, 'temple': 4398, 'household': 2179, 'et': 1526, 'tricks': 4583, 'provoking': 3452, 'required': 3641, 'hyde': 2206, 'surprises': 4314, 'wes': 4851, 'harsh': 2040, 'choose': 799, 'buddies': 608, 'suit': 4284, 'studios': 4241, 'hearts': 2066, 'sidney': 3968, 'expression': 1602, 'owner': 3159, 'similarly': 3980, 'poignant': 3315, 'technically': 4382, 'suicide': 4283, 'complicated': 925, 'celebrity': 729, 'godzilla': 1929, 'questionable': 3488, 'closed': 854, 'fortunately': 1805, 'suits': 4287, 'alternate': 200, 'ha': 2002, 'waters': 4817, 'recognition': 3568, 'prevent': 3385, 'destroying': 1215, '1990s': 25, 'patrick': 3213, 'robot': 3717, 'robots': 3718, 'ears': 1402, 'letting': 2583, 'teacher': 4375, 'conversations': 981, 'inspiration': 2300, 'unrealistic': 4677, 'nyc': 3065, 'neighbors': 2994, 'kennedy': 2454, 'jeff': 2390, 'prize': 3405, 'jeffrey': 2391, 'finger': 1731, 'reach': 3536, 'league': 2549, 'tiresome': 4502, 'robbins': 3712, 'anybody': 257, 'uwe': 4703, 'boll': 529, 'succeed': 4262, 'fabulous': 1615, 'richards': 3687, 'peters': 3248, 'spooky': 4128, 'paris': 3189, 'touched': 4534, 'soviet': 4089, 'union': 4661, 'east': 1407, '1983': 22, 'productions': 3420, 'disagree': 1269, 'planning': 3291, 'dedicated': 1153, 'record': 3573, 'absence': 70, 'slight': 4027, 'rambo': 3511, 'jet': 2400, 'li': 2587, 'machines': 2694, 'choreographed': 801, 'ass': 323, 'embarrassing': 1454, 'dennis': 1179, 'reaches': 3538, 'morris': 2908, 'per': 3223, 'robin': 3715, 'imaginative': 2237, 'pan': 3180, 'wake': 4774, 'pleasantly': 3303, 'lugosi': 2686, 'craft': 1028, 'priest': 3392, 'phony': 3256, 'husbands': 2205, 'grinch': 1975, 'howard': 2182, 'sappy': 3784, 'dutch': 1389, 'library': 2589, 'kelly': 2452, 'balance': 387, 'crocodile': 1065, 'scripts': 3836, 'existent': 1572, 'fond': 1776, 'fetched': 1698, 'switch': 4339, 'hung': 2197, 'kane': 2442, 'fatal': 1664, 'poetry': 3314, 'shortly': 3947, 'joey': 2408, 'championship': 745, 'bathroom': 412, 'sold': 4052, 'caliber': 649, 'instance': 2304, 'murdered': 2940, 'widow': 4883, 'performers': 3232, 'chick': 786, 'pit': 3278, 'severe': 3906, 'coffee': 870, 'carried': 698, 'pitch': 3279, 'combine': 884, 'explosions': 1597, 'generated': 1882, 'flop': 1760, 'graphics': 1959, 'fiction': 1702, '1984': 23, 'lips': 2615, 'candy': 668, 'tunes': 4603, 'environment': 1505, 'depicts': 1186, 'rule': 3753, 'text': 4419, 'passes': 3203, 'sits': 4006, 'demons': 1178, 'operation': 3117, 'cuts': 1091, 'chasing': 772, 'taxi': 4371, 'tommy': 4516, 'reached': 3537, 'staff': 4138, 'motivations': 2915, 'partly': 3197, 'foreign': 1790, 'tight': 4492, 'india': 2273, 'explored': 1595, 'khan': 2459, 'akshay': 169, 'ease': 1404, 'progress': 3425, 'worn': 4948, 'darker': 1116, 'atmospheric': 334, 'lisa': 2616, 'bo': 521, 'tarzan': 4367, 'los': 2653, 'angeles': 233, 'curse': 1086, 'million': 2847, 'annie': 247, 'trashy': 4566, 'unknown': 4668, 'awfully': 373, 'montage': 2894, 'finding': 1727, 'load': 2631, 'junior': 2435, 'ted': 4386, 'florida': 1761, 'native': 2972, 'express': 1600, 'hill': 2108, 'frankenstein': 1822, 'germans': 1897, 'price': 3389, 'horses': 2171, 'juvenile': 2441, 'rendition': 3625, 'backgrounds': 381, 'rocks': 3722, 'hunters': 2200, 'sinatra': 3989, 'brando': 566, 'simmons': 3981, 'andy': 230, 'unintentionally': 4659, 'historically': 2120, 'lowest': 2678, 'uk': 4626, 'survivors': 4325, 'bottle': 550, 'madonna': 2699, 'womens': 4924, 'innovative': 2295, 'advance': 127, 'remarks': 3615, 'sings': 3997, 'nations': 2971, 'terrorist': 4413, 'ken': 2453, 'rooms': 3736, 'generic': 1885, 'determined': 1221, 'mission': 2870, 'forest': 1791, 'sloppy': 4030, 'misses': 2868, 'usa': 4691, 'miscast': 2862, 'teenager': 4390, '2001': 31, 'hint': 2112, 'incompetent': 2266, 'visible': 4753, 'sounding': 4083, 'enemy': 1477, 'aging': 153, 'virtually': 4751, 'suspicious': 4332, '15': 7, 'videos': 4734, 'groups': 1981, 'mann': 2728, 'photographed': 3258, 'shelley': 3928, 'mitchell': 2875, 'terrorists': 4414, 'blond': 510, 'britain': 588, 'tiger': 4491, 'pushing': 3479, 'size': 4012, 'pot': 3354, 'mayor': 2777, 'yelling': 4980, 'connected': 945, 'flynn': 1765, 'jazz': 2387, 'testament': 4417, 'reminds': 3620, 'endings': 1472, 'intimate': 2331, 'occur': 3076, 'heck': 2071, 'bothered': 549, 'remarkably': 3614, 'scrooge': 3837, 'cell': 730, 'useless': 4695, 'horrendous': 2162, 'thugs': 4484, 'guessed': 1990, 'cliff': 847, 'matters': 2770, 'exposure': 1599, 'subplot': 4255, 'burton': 630, 'wilson': 4891, 'bang': 393, 'border': 539, 'answers': 252, 'pseudo': 3454, 'contemporary': 965, 'criticism': 1063, 'davis': 1126, 'online': 3109, 'whale': 4857, 'jaws': 2385, 'molly': 2884, 'angel': 231, 'faced': 1617, 'conspiracy': 956, 'leo': 2571, 'pink': 3277, 'april': 284, 'watches': 4814, 'accompanied': 86, 'drives': 1367, 'streisand': 4218, 'opinions': 3119, 'polanski': 3321, 'achieved': 93, 'smoke': 4039, 'profound': 3423, 'madness': 2698, 'bakshi': 386, 'primarily': 3393, 'warmth': 4796, 'driven': 1365, 'keaton': 2448, 'todd': 4510, 'broadway': 592, 'rules': 3754, '2003': 33, 'drugs': 1374, 'raw': 3532, 'cagney': 646, 'idiotic': 2219, 'seeks': 3860, 'unfolds': 4651, 'modesty': 2883, 'prequel': 3372, 'audio': 354, 'props': 3439, 'ninja': 3018, 'silent': 3975, 'everywhere': 1545, 'birthday': 487, 'murphy': 2944, 'downhill': 1336, 'techniques': 4384, 'proof': 3434, 'ranks': 3519, 'disease': 1285, 'blake': 498, 'liners': 2611, 'teenagers': 4391, 'elderly': 1440, 'glass': 1917, 'trite': 4589, 'shoes': 3941, 'vaguely': 4706, 'nurse': 3063, 'beats': 426, 'maggie': 2702, 'drivel': 1364, 'helicopter': 2076, 'cares': 690, 'multiple': 2936, 'cringe': 1059, 'lab': 2501, 'survived': 4322, 'vivid': 4760, 'discovers': 1281, 'card': 681, 'dragged': 1343, 'trap': 4563, 'bullet': 620, 'equipment': 1511, 'iraq': 2351, 'potentially': 3356, 'incomprehensible': 2267, 'beneath': 464, 'hence': 2083, 'crafted': 1029, 'dolls': 1316, 'restaurant': 3658, 'couldve': 1009, 'mars': 2746, 'nine': 3017, 'compelled': 915, 'lees': 2560, 'gruesome': 1986, 'celluloid': 731, '1990': 24, 'glover': 1923, 'rat': 3525, 'climactic': 848, 'inventive': 2341, 'cinemas': 817, 'leonard': 2572, 'punishment': 3467, 'sadistic': 3768, 'exaggerated': 1552, 'linda': 2609, 'buffs': 612, 'hoped': 2156, 'drag': 1342, 'brooklyn': 595, 'widely': 4881, 'purchase': 3469, 'significant': 3972, 'agents': 151, 'facing': 1620, 'trail': 4553, 'perry': 3237, 'plight': 3308, 'capital': 673, 'tremendous': 4579, 'demented': 1176, 'wound': 4960, 'captivating': 675, 'arrival': 299, 'ignore': 2224, 'splatter': 4118, 'masterful': 2758, 'dub': 1378, 'tied': 4489, 'fonda': 1777, 'vehicle': 4718, 'abysmal': 76, 'bettie': 473, 'hardcore': 2034, 'mall': 2720, 'witnesses': 4916, 'jumped': 2430, 'returned': 3666, 'carefully': 689, 'ships': 3935, 'dear': 1140, 'bare': 398, 'futuristic': 1857, 'thoughtful': 4463, 'overwhelming': 3157, 'resulting': 3661, 'unbelievably': 4635, 'earl': 1398, 'cinematographer': 819, 'cruise': 1071, 'scarecrow': 3804, 'parallel': 3185, 'pal': 3177, 'believing': 457, 'similarities': 3979, 'challenging': 744, 'satisfied': 3789, 'menacing': 2807, 'arnold': 296, 'sleazy': 4023, 'struck': 4232, 'mild': 2839, 'liberal': 2588, 'expensive': 1579, 'virgin': 4749, 'toys': 4543, 'slap': 4018, 'chaplin': 756, 'bette': 471, 'variety': 4714, 'succeeded': 4263, 'lately': 2524, 'nevertheless': 3002, 'ape': 266, 'derek': 1192, 'ego': 1435, 'suited': 4286, 'waitress': 4773, 'lily': 2605, 'executive': 1567, 'hoffman': 2128, 'seventies': 3904, 'album': 175, 'attitudes': 347, 'von': 4765, 'photographer': 3259, 'ruins': 3752, 'cheated': 775, 'messed': 2821, 'gradually': 1952, 'paranoia': 3186, 'identify': 2216, 'whereas': 4865, 'concern': 931, 'iii': 2227, 'agreed': 156, 'screams': 3828, 'jeremy': 2394, 'quotes': 3497, 'kim': 2475, 'possibility': 3349, 'anyways': 262, 'preview': 3386, 'segments': 3868, 'raised': 3508, 'schools': 3814, 'damage': 1099, 'catches': 715, 'swear': 4334, 'unpredictable': 4675, 'contract': 973, 'cameos': 658, 'stomach': 4196, 'bullets': 621, 'outcome': 3142, 'prince': 3396, 'dawn': 1127, 'suffers': 4278, 'rats': 3531, 'invisible': 2344, 'overdone': 3152, 'guilty': 1995, 'tracy': 4546, 'inane': 2258, 'snake': 4042, 'midnight': 2834, 'staged': 4140, 'uninspired': 4657, 'classical': 836, 'corporate': 998, 'clothing': 861, 'marty': 2749, 'haunted': 2050, 'convoluted': 987, 'karen': 2444, 'atlantis': 332, 'spirits': 4115, 'pulp': 3465, 'letters': 2582, 'easier': 1405, 'dust': 1388, 'triumph': 4590, 'reduced': 3579, 'denzel': 1181, 'fisher': 1739, 'sadness': 3770, 'starred': 4153, 'museum': 2945, 'imitation': 2241, 'blatant': 502, 'cube': 1076, 'stunts': 4246, 'stinks': 4192, 'arrested': 298, 'extraordinary': 1607, 'notorious': 3051, 'wannabe': 4787, 'gritty': 1977, 'overlook': 3153, 'kidding': 2465, '3000': 43, 'fool': 1779, '1968': 16, 'citizen': 824, 'kissing': 2484, 'drunken': 1376, 'fed': 1682, '70': 55, 'cliche': 843, 'term': 4405, 'admire': 121, 'flash': 1745, 'constructed': 959, 'appreciation': 281, 'chances': 748, 'riding': 3695, 'che': 773, 'execution': 1566, 'tiny': 4500, 'command': 897, 'pamela': 3179, 'unit': 4663, 'interviews': 2330, 'ambitious': 211, 'jaw': 2384, 'creep': 1051, 'murderous': 2942, 'cannibal': 669, 'tonight': 4519, 'fix': 1744, 'precious': 3366, 'boom': 537, 'swimming': 4338, 'louise': 2666, 'receives': 3565, 'attend': 344, 'awake': 365, 'san': 3780, 'francisco': 1819, 'robbery': 3711, 'eaten': 1412, 'elephant': 1444, 'alert': 178, 'monkeys': 2891, 'brosnan': 597, 'blues': 519, 'hopper': 2161, 'recognize': 3569, 'valley': 4707, 'block': 508, 'baker': 385, 'mario': 2738, 'practice': 3363, 'unsettling': 4679, 'advanced': 128, 'eva': 1531, 'itll': 2369, 'mildred': 2841, 'philip': 3252, 'safety': 3772, 'ticket': 4487, 'basketball': 409, 'spider': 4109, 'eighties': 1437, 'eg': 1434, 'intent': 2318, 'button': 639, 'sport': 4129, 'surfing': 4311, 'cake': 648, 'emphasis': 1463, 'basis': 408, 'introduce': 2336, 'improvement': 2256, 'sandra': 3782, 'doll': 1313, 'diana': 1237, 'tribute': 4581, 'stiff': 4187, 'signs': 3973, 'opportunities': 3120, 'olivier': 3103, 'tooth': 4524, 'plausible': 3295, 'ear': 1397, 'prisoners': 3403, 'persons': 3244, 'exploration': 1593, 'minimum': 2856, 'reaching': 3539, 'secretly': 3851, 'sink': 3999, 'inevitably': 2283, 'irrelevant': 2358, 'creation': 1040, 'newly': 3004, 'june': 2433, 'bela': 450, '1933': 12, 'doors': 1329, 'wizard': 4919, 'elm': 1447, 'definition': 1163, 'troops': 4591, 'complexity': 924, 'literature': 2623, 'unoriginal': 4673, 'gadget': 1860, 'namely': 2962, 'voight': 4764, 'airport': 167, 'lena': 2568, 'victoria': 4732, 'justin': 2440, 'da': 1094, 'upper': 4685, 'virginia': 4750, 'rocky': 3723, 'hed': 2072, 'bush': 632, 'downright': 1337, 'fury': 1855, 'instinct': 2308, 'gerard': 1895, 'bargain': 400, 'causes': 725, 'sneak': 4043, 'reveal': 3670, 'population': 3335, 'heat': 2067, 'dude': 1381, 'couples': 1017, 'omen': 3104, 'boxing': 556, 'aids': 161, '1999': 27, 'companion': 909, 'battles': 415, 'betty': 474, 'commit': 904, 'website': 4834, 'brenda': 575, 'gray': 1963, 'distinct': 1296, 'wendy': 4846, 'dressing': 1359, 'gundam': 1997, 'designs': 1204, 'dolph': 1317, 'phantom': 3251, '2004': 34, 'kicked': 2461, 'ocean': 3079, 'prisoner': 3402, 'user': 4696, 'apes': 267, 'parent': 3187, 'comical': 894, 'elvira': 1450, 'press': 3379, 'warriors': 4803, 'retired': 3664, 'encounter': 1466, 'simpson': 3987, 'harvey': 2042, 'superhero': 4299, 'blob': 507, 'chess': 783, 'aforementioned': 139, 'draws': 1352, 'despair': 1207, 'lone': 2642, 'beatty': 427, 'der': 1191, 'landing': 2512, 'lou': 2663, 'karloff': 2445, 'ho': 2127, 'immensely': 2243, 'row': 3744, 'conservative': 948, 'initial': 2290, 'cave': 727, 'engaged': 1480, 'consequences': 947, 'terry': 4415, 'randomly': 3515, 'mickey': 2831, 'nicholas': 3010, 'survivor': 4324, 'giallo': 1904, '13th': 5, 'sullivan': 4288, 'ward': 4793, 'cook': 988, 'witnessed': 4915, 'pokemon': 3320, 'prom': 3429, 'directions': 1262, 'blunt': 520, 'enthusiasm': 1501, 'riveting': 3708, 'oz': 3160, 'relative': 3599, 'responsibility': 3655, 'ham': 2011, 'global': 1920, 'stilted': 4190, 'tomatoes': 4515, 'colonel': 876, 'poem': 3312, 'surrounding': 4319, 'airplane': 166, 'wet': 4855, 'swim': 4337, 'sandler': 3781, 'lumet': 2688, 'robinson': 3716, 'shark': 3921, 'competition': 918, 'shine': 3931, 'carradine': 695, 'relatives': 3601, 'francis': 1818, 'bedroom': 437, 'rex': 3683, 'nomination': 3026, 'assumed': 329, 'kirk': 2482, 'merits': 2817, 'unseen': 4678, 'cd': 728, 'paltrow': 3178, 'dinosaurs': 1256, 'hammer': 2014, 'stones': 4198, 'medium': 2792, 'soccer': 4048, 'ethan': 1528, 'georges': 1894, 'dickens': 1240, 'mummy': 2937, 'crucial': 1068, 'cinderella': 815, 'melting': 2799, 'twins': 4616, 'civilization': 827, 'hart': 2041, 'willis': 4890, 'sellers': 3872, 'september': 3884, 'stargate': 4151, 'dentist': 1180, 'garbo': 1871}\n"
     ]
    }
   ],
   "source": [
    "print(str(vocabulary))"
   ]
  },
  {
   "cell_type": "markdown",
   "metadata": {},
   "source": [
    "Once you have added the endpoint name to the Lambda function, click on **Save**. Your Lambda function is now up and running. Next we need to create a way for our web app to execute the Lambda function."
   ]
  },
  {
   "cell_type": "markdown",
   "metadata": {},
   "source": [
    "### Setting up API Gateway\n",
    "\n",
    "Now that our Lambda function is set up, it is time to create a new API using API Gateway that will trigger the Lambda function we have just created.\n",
    "\n",
    "Using AWS Console, navigate to **Amazon API Gateway** and then click on **Get started**.\n",
    "\n",
    "On the next page, make sure that **New API** is selected and give the new api a name, for example, `sentiment_analysis_web_app`. Then, click on **Create API**.\n",
    "\n",
    "Now we have created an API, however it doesn't currently do anything. What we want it to do is to trigger the Lambda function that we created earlier.\n",
    "\n",
    "Select the **Actions** dropdown menu and click **Create Method**. A new blank method will be created, select its dropdown menu and select **POST**, then click on the check mark beside it.\n",
    "\n",
    "For the integration point, make sure that **Lambda Function** is selected and click on the **Use Lambda Proxy integration**. This option makes sure that the data that is sent to the API is then sent directly to the Lambda function with no processing. It also means that the return value must be a proper response object as it will also not be processed by API Gateway.\n",
    "\n",
    "Type the name of the Lambda function you created earlier into the **Lambda Function** text entry box and then click on **Save**. Click on **OK** in the pop-up box that then appears, giving permission to API Gateway to invoke the Lambda function you created.\n",
    "\n",
    "The last step in creating the API Gateway is to select the **Actions** dropdown and click on **Deploy API**. You will need to create a new Deployment stage and name it anything you like, for example `prod`.\n",
    "\n",
    "You have now successfully set up a public API to access your SageMaker model. Make sure to copy or write down the URL provided to invoke your newly created public API as this will be needed in the next step. This URL can be found at the top of the page, highlighted in blue next to the text **Invoke URL**."
   ]
  },
  {
   "cell_type": "markdown",
   "metadata": {},
   "source": [
    "## Step 7: Deploying our web app\n",
    "\n",
    "Now that we have a publicly available API, we can start using it in a web app. For our purposes, we have provided a simple static html file which can make use of the public api you created earlier.\n",
    "\n",
    "In the `website` folder there should be a file called `index.html`. Download the file to your computer and open that file up in a text editor of your choice. There should be a line which contains **\\*\\*REPLACE WITH PUBLIC API URL\\*\\***. Replace this string with the url that you wrote down in the last step and then save the file.\n",
    "\n",
    "Now, if you open `index.html` on your local computer, your browser will behave as a local web server and you can use the provided site to interact with your SageMaker model.\n",
    "\n",
    "If you'd like to go further, you can host this html file anywhere you'd like, for example using github or hosting a static site on Amazon's S3. Once you have done this you can share the link with anyone you'd like and have them play with it too!\n",
    "\n",
    "> **Important Note** In order for the web app to communicate with the SageMaker endpoint, the endpoint has to actually be deployed and running. This means that you are paying for it. Make sure that the endpoint is running when you want to use the web app but that you shut it down when you don't need it, otherwise you will end up with a surprisingly large AWS bill."
   ]
  },
  {
   "cell_type": "markdown",
   "metadata": {},
   "source": [
    "### Delete the endpoint\n",
    "\n",
    "Remember to always shut down your endpoint if you are no longer using it. You are charged for the length of time that the endpoint is running so if you forget and leave it on you could end up with an unexpectedly large bill."
   ]
  },
  {
   "cell_type": "code",
   "execution_count": 50,
   "metadata": {},
   "outputs": [],
   "source": [
    "xgb_predictor.delete_endpoint()"
   ]
  },
  {
   "cell_type": "markdown",
   "metadata": {},
   "source": [
    "## Optional: Clean up\n",
    "\n",
    "The default notebook instance on SageMaker doesn't have a lot of excess disk space available. As you continue to complete and execute notebooks you will eventually fill up this disk space, leading to errors which can be difficult to diagnose. Once you are completely finished using a notebook it is a good idea to remove the files that you created along the way. Of course, you can do this from the terminal or from the notebook hub if you would like. The cell below contains some commands to clean up the created files from within the notebook."
   ]
  },
  {
   "cell_type": "code",
   "execution_count": 51,
   "metadata": {},
   "outputs": [],
   "source": [
    "# First we will remove all of the files contained in the data_dir directory\n",
    "!rm $data_dir/*\n",
    "\n",
    "# And then we delete the directory itself\n",
    "!rmdir $data_dir\n",
    "\n",
    "# Similarly we remove the files in the cache_dir directory and the directory itself\n",
    "!rm $cache_dir/*\n",
    "!rmdir $cache_dir"
   ]
  },
  {
   "cell_type": "code",
   "execution_count": null,
   "metadata": {},
   "outputs": [],
   "source": []
  }
 ],
 "metadata": {
  "kernelspec": {
   "display_name": "conda_python3",
   "language": "python",
   "name": "conda_python3"
  },
  "language_info": {
   "codemirror_mode": {
    "name": "ipython",
    "version": 3
   },
   "file_extension": ".py",
   "mimetype": "text/x-python",
   "name": "python",
   "nbconvert_exporter": "python",
   "pygments_lexer": "ipython3",
   "version": "3.6.5"
  }
 },
 "nbformat": 4,
 "nbformat_minor": 2
}
