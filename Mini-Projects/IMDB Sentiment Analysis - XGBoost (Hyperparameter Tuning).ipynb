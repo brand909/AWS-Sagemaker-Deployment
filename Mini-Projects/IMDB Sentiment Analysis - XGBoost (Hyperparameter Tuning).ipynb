{
 "cells": [
  {
   "cell_type": "markdown",
   "metadata": {},
   "source": [
    "# Sentiment Analysis\n",
    "\n",
    "## Using XGBoost in SageMaker\n",
    "\n",
    "_Deep Learning Nanodegree Program | Deployment_\n",
    "\n",
    "---\n",
    "\n",
    "In this example of using Amazon's SageMaker service we will construct a random tree model to predict the sentiment of a movie review. You may have seen a version of this example in a pervious lesson although it would have been done using the sklearn package. Instead, we will be using the XGBoost package as it is provided to us by Amazon.\n",
    "\n",
    "## Instructions\n",
    "\n",
    "Some template code has already been provided for you, and you will need to implement additional functionality to successfully complete this notebook. You will not need to modify the included code beyond what is requested. Sections that begin with '**TODO**' in the header indicate that you need to complete or implement some portion within them. Instructions will be provided for each section and the specifics of the implementation are marked in the code block with a `# TODO: ...` comment. Please be sure to read the instructions carefully!\n",
    "\n",
    "In addition to implementing code, there will be questions for you to answer which relate to the task and your implementation. Each section where you will answer a question is preceded by a '**Question:**' header. Carefully read each question and provide your answer below the '**Answer:**' header by editing the Markdown cell.\n",
    "\n",
    "> **Note**: Code and Markdown cells can be executed using the **Shift+Enter** keyboard shortcut. In addition, a cell can be edited by typically clicking it (double-click for Markdown cells) or by pressing **Enter** while it is highlighted."
   ]
  },
  {
   "cell_type": "markdown",
   "metadata": {},
   "source": [
    "## Step 1: Downloading the data\n",
    "\n",
    "The dataset we are going to use is very popular among researchers in Natural Language Processing, usually referred to as the [IMDb dataset](http://ai.stanford.edu/~amaas/data/sentiment/). It consists of movie reviews from the website [imdb.com](http://www.imdb.com/), each labeled as either '**pos**itive', if the reviewer enjoyed the film, or '**neg**ative' otherwise.\n",
    "\n",
    "> Maas, Andrew L., et al. [Learning Word Vectors for Sentiment Analysis](http://ai.stanford.edu/~amaas/data/sentiment/). In _Proceedings of the 49th Annual Meeting of the Association for Computational Linguistics: Human Language Technologies_. Association for Computational Linguistics, 2011.\n",
    "\n",
    "We begin by using some Jupyter Notebook magic to download and extract the dataset."
   ]
  },
  {
   "cell_type": "code",
   "execution_count": 1,
   "metadata": {},
   "outputs": [
    {
     "name": "stdout",
     "output_type": "stream",
     "text": [
      "mkdir: cannot create directory ‘../data’: File exists\n",
      "--2019-07-28 21:47:17--  http://ai.stanford.edu/~amaas/data/sentiment/aclImdb_v1.tar.gz\n",
      "Resolving ai.stanford.edu (ai.stanford.edu)... 171.64.68.10\n",
      "Connecting to ai.stanford.edu (ai.stanford.edu)|171.64.68.10|:80... connected.\n",
      "HTTP request sent, awaiting response... 200 OK\n",
      "Length: 84125825 (80M) [application/x-gzip]\n",
      "Saving to: ‘../data/aclImdb_v1.tar.gz’\n",
      "\n",
      "../data/aclImdb_v1. 100%[===================>]  80.23M  24.2MB/s    in 4.2s    \n",
      "\n",
      "2019-07-28 21:47:22 (19.0 MB/s) - ‘../data/aclImdb_v1.tar.gz’ saved [84125825/84125825]\n",
      "\n"
     ]
    }
   ],
   "source": [
    "%mkdir ../data\n",
    "!wget -O ../data/aclImdb_v1.tar.gz http://ai.stanford.edu/~amaas/data/sentiment/aclImdb_v1.tar.gz\n",
    "!tar -zxf ../data/aclImdb_v1.tar.gz -C ../data"
   ]
  },
  {
   "cell_type": "markdown",
   "metadata": {},
   "source": [
    "## Step 2: Preparing the data\n",
    "\n",
    "The data we have downloaded is split into various files, each of which contains a single review. It will be much easier going forward if we combine these individual files into two large files, one for training and one for testing."
   ]
  },
  {
   "cell_type": "code",
   "execution_count": 2,
   "metadata": {},
   "outputs": [],
   "source": [
    "import os\n",
    "import glob\n",
    "\n",
    "def read_imdb_data(data_dir='../data/aclImdb'):\n",
    "    data = {}\n",
    "    labels = {}\n",
    "    \n",
    "    for data_type in ['train', 'test']:\n",
    "        data[data_type] = {}\n",
    "        labels[data_type] = {}\n",
    "        \n",
    "        for sentiment in ['pos', 'neg']:\n",
    "            data[data_type][sentiment] = []\n",
    "            labels[data_type][sentiment] = []\n",
    "            \n",
    "            path = os.path.join(data_dir, data_type, sentiment, '*.txt')\n",
    "            files = glob.glob(path)\n",
    "            \n",
    "            for f in files:\n",
    "                with open(f) as review:\n",
    "                    data[data_type][sentiment].append(review.read())\n",
    "                    # Here we represent a positive review by '1' and a negative review by '0'\n",
    "                    labels[data_type][sentiment].append(1 if sentiment == 'pos' else 0)\n",
    "                    \n",
    "            assert len(data[data_type][sentiment]) == len(labels[data_type][sentiment]), \\\n",
    "                    \"{}/{} data size does not match labels size\".format(data_type, sentiment)\n",
    "                \n",
    "    return data, labels"
   ]
  },
  {
   "cell_type": "code",
   "execution_count": 3,
   "metadata": {},
   "outputs": [
    {
     "name": "stdout",
     "output_type": "stream",
     "text": [
      "IMDB reviews: train = 12500 pos / 12500 neg, test = 12500 pos / 12500 neg\n"
     ]
    }
   ],
   "source": [
    "data, labels = read_imdb_data()\n",
    "print(\"IMDB reviews: train = {} pos / {} neg, test = {} pos / {} neg\".format(\n",
    "            len(data['train']['pos']), len(data['train']['neg']),\n",
    "            len(data['test']['pos']), len(data['test']['neg'])))"
   ]
  },
  {
   "cell_type": "code",
   "execution_count": 4,
   "metadata": {},
   "outputs": [],
   "source": [
    "from sklearn.utils import shuffle\n",
    "\n",
    "def prepare_imdb_data(data, labels):\n",
    "    \"\"\"Prepare training and test sets from IMDb movie reviews.\"\"\"\n",
    "    \n",
    "    #Combine positive and negative reviews and labels\n",
    "    data_train = data['train']['pos'] + data['train']['neg']\n",
    "    data_test = data['test']['pos'] + data['test']['neg']\n",
    "    labels_train = labels['train']['pos'] + labels['train']['neg']\n",
    "    labels_test = labels['test']['pos'] + labels['test']['neg']\n",
    "    \n",
    "    #Shuffle reviews and corresponding labels within training and test sets\n",
    "    data_train, labels_train = shuffle(data_train, labels_train)\n",
    "    data_test, labels_test = shuffle(data_test, labels_test)\n",
    "    \n",
    "    # Return a unified training data, test data, training labels, test labets\n",
    "    return data_train, data_test, labels_train, labels_test"
   ]
  },
  {
   "cell_type": "code",
   "execution_count": 5,
   "metadata": {},
   "outputs": [
    {
     "name": "stdout",
     "output_type": "stream",
     "text": [
      "IMDb reviews (combined): train = 25000, test = 25000\n"
     ]
    }
   ],
   "source": [
    "train_X, test_X, train_y, test_y = prepare_imdb_data(data, labels)\n",
    "print(\"IMDb reviews (combined): train = {}, test = {}\".format(len(train_X), len(test_X)))"
   ]
  },
  {
   "cell_type": "code",
   "execution_count": 6,
   "metadata": {},
   "outputs": [
    {
     "data": {
      "text/plain": [
       "'This film is an interesting take on the killer scarecrow genre - amazingly it manages to rise to become greater than the sum of its parts. Average montage scenes, 30-somethings playing teenagers, and some excellent facial expressions combine to become one of the \"new-wave\" of modern classics. As a viewer, I came away from the film with the same sense of \"shock and awe\" as when I first saw The Godfather in 1969. Tiffany Gardner\\'s startling portrayal of the morally bankrupt Judy was deserving of her Grammy nomination, which was well documentedly stolen by Ricky Martin and restless hips. Unfortunately, the none of the sequels could live up to the expectation of the original (unlike the Godfather series which got better with each installment, and should culminate in 2012 with Godfather 4: Eat My Rage.'"
      ]
     },
     "execution_count": 6,
     "metadata": {},
     "output_type": "execute_result"
    }
   ],
   "source": [
    "train_X[100]"
   ]
  },
  {
   "cell_type": "markdown",
   "metadata": {},
   "source": [
    "## Step 3: Processing the data\n",
    "\n",
    "Now that we have our training and testing datasets merged and ready to use, we need to start processing the raw data into something that will be useable by our machine learning algorithm. To begin with, we remove any html formatting that may appear in the reviews and perform some standard natural language processing in order to homogenize the data."
   ]
  },
  {
   "cell_type": "code",
   "execution_count": 7,
   "metadata": {},
   "outputs": [
    {
     "name": "stdout",
     "output_type": "stream",
     "text": [
      "[nltk_data] Downloading package stopwords to\n",
      "[nltk_data]     /home/ec2-user/nltk_data...\n",
      "[nltk_data]   Unzipping corpora/stopwords.zip.\n"
     ]
    }
   ],
   "source": [
    "import nltk\n",
    "nltk.download(\"stopwords\")\n",
    "from nltk.corpus import stopwords\n",
    "from nltk.stem.porter import *\n",
    "stemmer = PorterStemmer()"
   ]
  },
  {
   "cell_type": "code",
   "execution_count": 8,
   "metadata": {},
   "outputs": [],
   "source": [
    "import re\n",
    "from bs4 import BeautifulSoup\n",
    "\n",
    "def review_to_words(review):\n",
    "    text = BeautifulSoup(review, \"html.parser\").get_text() # Remove HTML tags\n",
    "    text = re.sub(r\"[^a-zA-Z0-9]\", \" \", text.lower()) # Convert to lower case\n",
    "    words = text.split() # Split string into words\n",
    "    words = [w for w in words if w not in stopwords.words(\"english\")] # Remove stopwords\n",
    "    words = [PorterStemmer().stem(w) for w in words] # stem\n",
    "    \n",
    "    return words"
   ]
  },
  {
   "cell_type": "code",
   "execution_count": 9,
   "metadata": {},
   "outputs": [],
   "source": [
    "import pickle\n",
    "\n",
    "cache_dir = os.path.join(\"../cache\", \"sentiment_analysis\")  # where to store cache files\n",
    "os.makedirs(cache_dir, exist_ok=True)  # ensure cache directory exists\n",
    "\n",
    "def preprocess_data(data_train, data_test, labels_train, labels_test,\n",
    "                    cache_dir=cache_dir, cache_file=\"preprocessed_data.pkl\"):\n",
    "    \"\"\"Convert each review to words; read from cache if available.\"\"\"\n",
    "\n",
    "    # If cache_file is not None, try to read from it first\n",
    "    cache_data = None\n",
    "    if cache_file is not None:\n",
    "        try:\n",
    "            with open(os.path.join(cache_dir, cache_file), \"rb\") as f:\n",
    "                cache_data = pickle.load(f)\n",
    "            print(\"Read preprocessed data from cache file:\", cache_file)\n",
    "        except:\n",
    "            pass  # unable to read from cache, but that's okay\n",
    "    \n",
    "    # If cache is missing, then do the heavy lifting\n",
    "    if cache_data is None:\n",
    "        # Preprocess training and test data to obtain words for each review\n",
    "        #words_train = list(map(review_to_words, data_train))\n",
    "        #words_test = list(map(review_to_words, data_test))\n",
    "        words_train = [review_to_words(review) for review in data_train]\n",
    "        words_test = [review_to_words(review) for review in data_test]\n",
    "        \n",
    "        # Write to cache file for future runs\n",
    "        if cache_file is not None:\n",
    "            cache_data = dict(words_train=words_train, words_test=words_test,\n",
    "                              labels_train=labels_train, labels_test=labels_test)\n",
    "            with open(os.path.join(cache_dir, cache_file), \"wb\") as f:\n",
    "                pickle.dump(cache_data, f)\n",
    "            print(\"Wrote preprocessed data to cache file:\", cache_file)\n",
    "    else:\n",
    "        # Unpack data loaded from cache file\n",
    "        words_train, words_test, labels_train, labels_test = (cache_data['words_train'],\n",
    "                cache_data['words_test'], cache_data['labels_train'], cache_data['labels_test'])\n",
    "    \n",
    "    return words_train, words_test, labels_train, labels_test"
   ]
  },
  {
   "cell_type": "code",
   "execution_count": 10,
   "metadata": {},
   "outputs": [
    {
     "name": "stdout",
     "output_type": "stream",
     "text": [
      "Read preprocessed data from cache file: preprocessed_data.pkl\n"
     ]
    }
   ],
   "source": [
    "# Preprocess data\n",
    "train_X, test_X, train_y, test_y = preprocess_data(train_X, test_X, train_y, test_y)"
   ]
  },
  {
   "cell_type": "markdown",
   "metadata": {},
   "source": [
    "### Extract Bag-of-Words features\n",
    "\n",
    "For the model we will be implementing, rather than using the reviews directly, we are going to transform each review into a Bag-of-Words feature representation. Keep in mind that 'in the wild' we will only have access to the training set so our transformer can only use the training set to construct a representation."
   ]
  },
  {
   "cell_type": "code",
   "execution_count": 11,
   "metadata": {},
   "outputs": [],
   "source": [
    "import numpy as np\n",
    "from sklearn.feature_extraction.text import CountVectorizer\n",
    "from sklearn.externals import joblib\n",
    "# joblib is an enhanced version of pickle that is more efficient for storing NumPy arrays\n",
    "\n",
    "def extract_BoW_features(words_train, words_test, vocabulary_size=5000,\n",
    "                         cache_dir=cache_dir, cache_file=\"bow_features.pkl\"):\n",
    "    \"\"\"Extract Bag-of-Words for a given set of documents, already preprocessed into words.\"\"\"\n",
    "    \n",
    "    # If cache_file is not None, try to read from it first\n",
    "    cache_data = None\n",
    "    if cache_file is not None:\n",
    "        try:\n",
    "            with open(os.path.join(cache_dir, cache_file), \"rb\") as f:\n",
    "                cache_data = joblib.load(f)\n",
    "            print(\"Read features from cache file:\", cache_file)\n",
    "        except:\n",
    "            pass  # unable to read from cache, but that's okay\n",
    "    \n",
    "    # If cache is missing, then do the heavy lifting\n",
    "    if cache_data is None:\n",
    "        # Fit a vectorizer to training documents and use it to transform them\n",
    "        # NOTE: Training documents have already been preprocessed and tokenized into words;\n",
    "        #       pass in dummy functions to skip those steps, e.g. preprocessor=lambda x: x\n",
    "        vectorizer = CountVectorizer(max_features=vocabulary_size,\n",
    "                preprocessor=lambda x: x, tokenizer=lambda x: x)  # already preprocessed\n",
    "        features_train = vectorizer.fit_transform(words_train).toarray()\n",
    "\n",
    "        # Apply the same vectorizer to transform the test documents (ignore unknown words)\n",
    "        features_test = vectorizer.transform(words_test).toarray()\n",
    "        \n",
    "        # NOTE: Remember to convert the features using .toarray() for a compact representation\n",
    "        \n",
    "        # Write to cache file for future runs (store vocabulary as well)\n",
    "        if cache_file is not None:\n",
    "            vocabulary = vectorizer.vocabulary_\n",
    "            cache_data = dict(features_train=features_train, features_test=features_test,\n",
    "                             vocabulary=vocabulary)\n",
    "            with open(os.path.join(cache_dir, cache_file), \"wb\") as f:\n",
    "                joblib.dump(cache_data, f)\n",
    "            print(\"Wrote features to cache file:\", cache_file)\n",
    "    else:\n",
    "        # Unpack data loaded from cache file\n",
    "        features_train, features_test, vocabulary = (cache_data['features_train'],\n",
    "                cache_data['features_test'], cache_data['vocabulary'])\n",
    "    \n",
    "    # Return both the extracted features as well as the vocabulary\n",
    "    return features_train, features_test, vocabulary"
   ]
  },
  {
   "cell_type": "code",
   "execution_count": 12,
   "metadata": {},
   "outputs": [
    {
     "name": "stdout",
     "output_type": "stream",
     "text": [
      "Read features from cache file: bow_features.pkl\n"
     ]
    }
   ],
   "source": [
    "# Extract Bag of Words features for both training and test datasets\n",
    "train_X, test_X, vocabulary = extract_BoW_features(train_X, test_X)"
   ]
  },
  {
   "cell_type": "markdown",
   "metadata": {},
   "source": [
    "## Step 4: Classification using XGBoost\n",
    "\n",
    "Now that we have created the feature representation of our training (and testing) data, it is time to start setting up and using the XGBoost classifier provided by SageMaker.\n",
    "\n",
    "### Writing the dataset\n",
    "\n",
    "The XGBoost classifier that we will be using requires the dataset to be written to a file and stored using Amazon S3. To do this, we will start by splitting the training dataset into two parts, the data we will train the model with and a validation set. Then, we will write those datasets to a file and upload the files to S3. In addition, we will write the test set input to a file and upload the file to S3. This is so that we can use SageMakers Batch Transform functionality to test our model once we've fit it."
   ]
  },
  {
   "cell_type": "code",
   "execution_count": 13,
   "metadata": {},
   "outputs": [],
   "source": [
    "import pandas as pd\n",
    "\n",
    "val_X = pd.DataFrame(train_X[:10000])\n",
    "train_X = pd.DataFrame(train_X[10000:])\n",
    "\n",
    "val_y = pd.DataFrame(train_y[:10000])\n",
    "train_y = pd.DataFrame(train_y[10000:])\n",
    "\n",
    "test_y = pd.DataFrame(test_y)\n",
    "test_X = pd.DataFrame(test_X)"
   ]
  },
  {
   "cell_type": "markdown",
   "metadata": {},
   "source": [
    "The documentation for the XGBoost algorithm in SageMaker requires that the saved datasets should contain no headers or index and that for the training and validation data, the label should occur first for each sample.\n",
    "\n",
    "For more information about this and other algorithms, the SageMaker developer documentation can be found on __[Amazon's website.](https://docs.aws.amazon.com/sagemaker/latest/dg/)__"
   ]
  },
  {
   "cell_type": "code",
   "execution_count": 14,
   "metadata": {},
   "outputs": [],
   "source": [
    "# First we make sure that the local directory in which we'd like to store the training and validation csv files exists.\n",
    "data_dir = '../data/xgboost'\n",
    "if not os.path.exists(data_dir):\n",
    "    os.makedirs(data_dir)"
   ]
  },
  {
   "cell_type": "code",
   "execution_count": 15,
   "metadata": {},
   "outputs": [],
   "source": [
    "# First, save the test data to test.csv in the data_dir directory. Note that we do not save the associated ground truth\n",
    "# labels, instead we will use them later to compare with our model output.\n",
    "# The test data shouldn't contain the ground-truth labels as they are what the model is trying to predict. They\n",
    "# Are used to compare the predictions to\n",
    "\n",
    "pd.DataFrame(test_X).to_csv(os.path.join(data_dir, 'test.csv'), header=False, index=False)\n",
    "\n",
    "pd.concat([val_y, val_X], axis=1).to_csv(os.path.join(data_dir, 'validation.csv'), header=False, index=False)\n",
    "pd.concat([train_y, train_X], axis=1).to_csv(os.path.join(data_dir, 'train.csv'), header=False, index=False)\n"
   ]
  },
  {
   "cell_type": "code",
   "execution_count": 16,
   "metadata": {},
   "outputs": [],
   "source": [
    "# To save a bit of memory we can set text_X, train_X, val_X, train_y and val_y to None.\n",
    "\n",
    "train_X = val_X = train_y = val_y = None"
   ]
  },
  {
   "cell_type": "markdown",
   "metadata": {},
   "source": [
    "### Uploading Training / Validation files to S3\n",
    "\n",
    "Amazon's S3 service allows us to store files that can be access by both the built-in training models such as the XGBoost model we will be using as well as custom models such as the one we will see a little later.\n",
    "\n",
    "For this, and most other tasks we will be doing using SageMaker, there are two methods we could use. The first is to use the low level functionality of SageMaker which requires knowing each of the objects involved in the SageMaker environment. The second is to use the high level functionality in which certain choices have been made on the user's behalf. The low level approach benefits from allowing the user a great deal of flexibility while the high level approach makes development much quicker. For our purposes we will opt to use the high level approach although using the low-level approach is certainly an option.\n",
    "\n",
    "Recall the method `upload_data()` which is a member of object representing our current SageMaker session. What this method does is upload the data to the default bucket (which is created if it does not exist) into the path described by the key_prefix variable. To see this for yourself, once you have uploaded the data files, go to the S3 console and look to see where the files have been uploaded.\n",
    "\n",
    "For additional resources, see the __[SageMaker API documentation](http://sagemaker.readthedocs.io/en/latest/)__ and in addition the __[SageMaker Developer Guide.](https://docs.aws.amazon.com/sagemaker/latest/dg/)__"
   ]
  },
  {
   "cell_type": "code",
   "execution_count": 17,
   "metadata": {},
   "outputs": [],
   "source": [
    "import sagemaker\n",
    "\n",
    "session = sagemaker.Session() # Store the current SageMaker session\n",
    "\n",
    "# S3 prefix (which folder will we use)\n",
    "prefix = 'sentiment-xgboost'\n",
    "\n",
    "test_location = session.upload_data(os.path.join(data_dir, 'test.csv'), key_prefix=prefix)\n",
    "val_location = session.upload_data(os.path.join(data_dir, 'validation.csv'), key_prefix=prefix)\n",
    "train_location = session.upload_data(os.path.join(data_dir, 'train.csv'), key_prefix=prefix)"
   ]
  },
  {
   "cell_type": "markdown",
   "metadata": {},
   "source": [
    "### (TODO) Creating a hypertuned XGBoost model\n",
    "\n",
    "Now that the data has been uploaded it is time to create the XGBoost model. As in the Boston Housing notebook, the first step is to create an estimator object which will be used as the *base* of your hyperparameter tuning job."
   ]
  },
  {
   "cell_type": "code",
   "execution_count": 18,
   "metadata": {},
   "outputs": [],
   "source": [
    "from sagemaker import get_execution_role\n",
    "\n",
    "# Our current execution role is require when creating the model as the training\n",
    "# and inference code will need to access the model artifacts.\n",
    "role = get_execution_role()"
   ]
  },
  {
   "cell_type": "code",
   "execution_count": 19,
   "metadata": {},
   "outputs": [],
   "source": [
    "# We need to retrieve the location of the container which is provided by Amazon for using XGBoost.\n",
    "# As a matter of convenience, the training and inference code both use the same container.\n",
    "from sagemaker.amazon.amazon_estimator import get_image_uri\n",
    "\n",
    "container = get_image_uri(session.boto_region_name, 'xgboost')"
   ]
  },
  {
   "cell_type": "code",
   "execution_count": 20,
   "metadata": {},
   "outputs": [],
   "source": [
    "# TODO: Create a SageMaker estimator using the container location determined in the previous cell.\n",
    "#       It is recommended that you use a single training instance of type ml.m4.xlarge. It is also\n",
    "#       recommended that you use 's3://{}/{}/output'.format(session.default_bucket(), prefix) as the\n",
    "#       output path.\n",
    "\n",
    "xgb = sagemaker.estimator.Estimator(container, # The name of the training container\n",
    "                                    role,      # The IAM role to use (our current role in this case)\n",
    "                                    train_instance_count=1, # The number of instances to use for training\n",
    "                                    train_instance_type='ml.m4.xlarge', # The type of instance ot use for training\n",
    "                                    output_path='s3://{}/{}/output'.format(session.default_bucket(), prefix),\n",
    "                                                                        # Where to save the output (the model artifacts)\n",
    "                                    sagemaker_session=session) # The current SageMaker session\n",
    "\n",
    "# TODO: Set the XGBoost hyperparameters in the xgb object. Don't forget that in this case we have a binary\n",
    "#       label so we should be using the 'binary:logistic' objective.\n",
    "\n",
    "xgb.set_hyperparameters(max_depth=5,\n",
    "                        eta=0.2,\n",
    "                        gamma=4,\n",
    "                        min_child_weight=6,\n",
    "                        subsample=0.8,\n",
    "                        objective='binary:logistic',\n",
    "                        early_stopping_rounds=10,\n",
    "                        num_round=200)\n"
   ]
  },
  {
   "cell_type": "markdown",
   "metadata": {},
   "source": [
    "### (TODO) Create the hyperparameter tuner\n",
    "\n",
    "Now that the base estimator has been set up we need to construct a hyperparameter tuner object which we will use to request SageMaker construct a hyperparameter tuning job.\n",
    "\n",
    "**Note:** Training a single sentiment analysis XGBoost model takes longer than training a Boston Housing XGBoost model so if you don't want the hyperparameter tuning job to take too long, make sure to not set the total number of models (jobs) too high."
   ]
  },
  {
   "cell_type": "code",
   "execution_count": 21,
   "metadata": {},
   "outputs": [],
   "source": [
    "# First, make sure to import the relevant objects used to construct the tuner\n",
    "from sagemaker.tuner import IntegerParameter, ContinuousParameter, HyperparameterTuner\n",
    "\n",
    "# TODO: Create the hyperparameter tuner object\n",
    "\n",
    "xgb_hyperparameter_tuner = HyperparameterTuner(estimator = xgb, # The estimator object to use as the basis for the training jobs.\n",
    "                                               objective_metric_name = 'validation:rmse', # The metric used to compare trained models.\n",
    "                                               objective_type = 'Minimize', # Whether we wish to minimize or maximize the metric.\n",
    "                                               max_jobs = 6, # The total number of models to train\n",
    "                                               max_parallel_jobs = 3, # The number of models to train in parallel\n",
    "                                               hyperparameter_ranges = {\n",
    "                                                    'max_depth': IntegerParameter(3, 12),\n",
    "                                                    'eta'      : ContinuousParameter(0.05, 0.5),\n",
    "                                                    'min_child_weight': IntegerParameter(2, 8),\n",
    "                                                    'subsample': ContinuousParameter(0.5, 0.9),\n",
    "                                                    'gamma': ContinuousParameter(0, 10),\n",
    "                                               })\n"
   ]
  },
  {
   "cell_type": "markdown",
   "metadata": {},
   "source": [
    "### Fit the hyperparameter tuner\n",
    "\n",
    "Now that the hyperparameter tuner object has been constructed, it is time to fit the various models and find the best performing model."
   ]
  },
  {
   "cell_type": "code",
   "execution_count": 22,
   "metadata": {},
   "outputs": [],
   "source": [
    "s3_input_train = sagemaker.s3_input(s3_data=train_location, content_type='csv')\n",
    "s3_input_validation = sagemaker.s3_input(s3_data=val_location, content_type='csv')"
   ]
  },
  {
   "cell_type": "code",
   "execution_count": 23,
   "metadata": {},
   "outputs": [],
   "source": [
    "xgb_hyperparameter_tuner.fit({'train': s3_input_train, 'validation': s3_input_validation})"
   ]
  },
  {
   "cell_type": "markdown",
   "metadata": {},
   "source": [
    "Remember that the tuning job is constructed and run in the background so if we want to see the progress of our training job we need to call the `wait()` method."
   ]
  },
  {
   "cell_type": "code",
   "execution_count": 24,
   "metadata": {},
   "outputs": [
    {
     "name": "stdout",
     "output_type": "stream",
     "text": [
      "............................................................................................................................................................................................................................................................................................!\n"
     ]
    }
   ],
   "source": [
    "xgb_hyperparameter_tuner.wait()"
   ]
  },
  {
   "cell_type": "markdown",
   "metadata": {},
   "source": [
    "### (TODO) Testing the model\n",
    "\n",
    "Now that we've run our hyperparameter tuning job, it's time to see how well the best performing model actually performs. To do this we will use SageMaker's Batch Transform functionality. Batch Transform is a convenient way to perform inference on a large dataset in a way that is not realtime. That is, we don't necessarily need to use our model's results immediately and instead we can peform inference on a large number of samples. An example of this in industry might be peforming an end of month report. This method of inference can also be useful to us as it means to can perform inference on our entire test set. \n",
    "\n",
    "Remember that in order to create a transformer object to perform the batch transform job, we need a trained estimator object. We can do that using the `attach()` method, creating an estimator object which is attached to the best trained job."
   ]
  },
  {
   "cell_type": "code",
   "execution_count": 25,
   "metadata": {},
   "outputs": [
    {
     "name": "stdout",
     "output_type": "stream",
     "text": [
      "2019-07-28 22:14:44 Starting - Preparing the instances for training\n",
      "2019-07-28 22:14:44 Downloading - Downloading input data\n",
      "2019-07-28 22:14:44 Training - Training image download completed. Training in progress.\n",
      "2019-07-28 22:14:44 Uploading - Uploading generated training model\n",
      "2019-07-28 22:14:44 Completed - Training job completed\u001b[31mArguments: train\u001b[0m\n",
      "\u001b[31m[2019-07-28:22:07:28:INFO] Running standalone xgboost training.\u001b[0m\n",
      "\u001b[31m[2019-07-28:22:07:28:INFO] Setting up HPO optimized metric to be : rmse\u001b[0m\n",
      "\u001b[31m[2019-07-28:22:07:28:INFO] File size need to be processed in the node: 238.47mb. Available memory size in the node: 8458.75mb\u001b[0m\n",
      "\u001b[31m[2019-07-28:22:07:28:INFO] Determined delimiter of CSV input is ','\u001b[0m\n",
      "\u001b[31m[22:07:28] S3DistributionType set as FullyReplicated\u001b[0m\n",
      "\u001b[31m[22:07:30] 15000x5000 matrix with 75000000 entries loaded from /opt/ml/input/data/train?format=csv&label_column=0&delimiter=,\u001b[0m\n",
      "\u001b[31m[2019-07-28:22:07:30:INFO] Determined delimiter of CSV input is ','\u001b[0m\n",
      "\u001b[31m[22:07:30] S3DistributionType set as FullyReplicated\u001b[0m\n",
      "\u001b[31m[22:07:31] 10000x5000 matrix with 50000000 entries loaded from /opt/ml/input/data/validation?format=csv&label_column=0&delimiter=,\u001b[0m\n",
      "\u001b[31m[22:07:36] src/tree/updater_prune.cc:74: tree pruning end, 1 roots, 94 extra nodes, 12 pruned nodes, max_depth=8\u001b[0m\n",
      "\u001b[31m[0]#011train-rmse:0.471233#011validation-rmse:0.473418\u001b[0m\n",
      "\u001b[31mMultiple eval metrics have been passed: 'validation-rmse' will be used for early stopping.\n",
      "\u001b[0m\n",
      "\u001b[31mWill train until validation-rmse hasn't improved in 10 rounds.\u001b[0m\n",
      "\u001b[31m[22:07:38] src/tree/updater_prune.cc:74: tree pruning end, 1 roots, 80 extra nodes, 24 pruned nodes, max_depth=8\u001b[0m\n",
      "\u001b[31m[1]#011train-rmse:0.451748#011validation-rmse:0.455483\u001b[0m\n",
      "\u001b[31m[22:07:40] src/tree/updater_prune.cc:74: tree pruning end, 1 roots, 78 extra nodes, 20 pruned nodes, max_depth=8\u001b[0m\n",
      "\u001b[31m[2]#011train-rmse:0.437003#011validation-rmse:0.442657\u001b[0m\n",
      "\u001b[31m[22:07:42] src/tree/updater_prune.cc:74: tree pruning end, 1 roots, 88 extra nodes, 20 pruned nodes, max_depth=8\u001b[0m\n",
      "\u001b[31m[3]#011train-rmse:0.426102#011validation-rmse:0.432581\u001b[0m\n",
      "\u001b[31m[22:07:44] src/tree/updater_prune.cc:74: tree pruning end, 1 roots, 52 extra nodes, 30 pruned nodes, max_depth=8\u001b[0m\n",
      "\u001b[31m[4]#011train-rmse:0.417449#011validation-rmse:0.424724\u001b[0m\n",
      "\u001b[31m[22:07:47] src/tree/updater_prune.cc:74: tree pruning end, 1 roots, 88 extra nodes, 20 pruned nodes, max_depth=8\u001b[0m\n",
      "\u001b[31m[5]#011train-rmse:0.408302#011validation-rmse:0.417707\u001b[0m\n",
      "\u001b[31m[22:07:49] src/tree/updater_prune.cc:74: tree pruning end, 1 roots, 62 extra nodes, 22 pruned nodes, max_depth=8\u001b[0m\n",
      "\u001b[31m[6]#011train-rmse:0.401263#011validation-rmse:0.411925\u001b[0m\n",
      "\u001b[31m[22:07:51] src/tree/updater_prune.cc:74: tree pruning end, 1 roots, 48 extra nodes, 24 pruned nodes, max_depth=8\u001b[0m\n",
      "\u001b[31m[7]#011train-rmse:0.395176#011validation-rmse:0.406567\u001b[0m\n",
      "\u001b[31m[22:07:53] src/tree/updater_prune.cc:74: tree pruning end, 1 roots, 36 extra nodes, 20 pruned nodes, max_depth=8\u001b[0m\n",
      "\u001b[31m[8]#011train-rmse:0.390122#011validation-rmse:0.40184\u001b[0m\n",
      "\u001b[31m[22:07:55] src/tree/updater_prune.cc:74: tree pruning end, 1 roots, 82 extra nodes, 6 pruned nodes, max_depth=8\u001b[0m\n",
      "\u001b[31m[9]#011train-rmse:0.383953#011validation-rmse:0.397173\u001b[0m\n",
      "\u001b[31m[22:07:57] src/tree/updater_prune.cc:74: tree pruning end, 1 roots, 68 extra nodes, 18 pruned nodes, max_depth=8\u001b[0m\n",
      "\u001b[31m[10]#011train-rmse:0.378763#011validation-rmse:0.393396\u001b[0m\n",
      "\u001b[31m[22:07:59] src/tree/updater_prune.cc:74: tree pruning end, 1 roots, 76 extra nodes, 24 pruned nodes, max_depth=8\u001b[0m\n",
      "\u001b[31m[11]#011train-rmse:0.374087#011validation-rmse:0.390291\u001b[0m\n",
      "\u001b[31m[22:08:01] src/tree/updater_prune.cc:74: tree pruning end, 1 roots, 46 extra nodes, 24 pruned nodes, max_depth=8\u001b[0m\n",
      "\u001b[31m[12]#011train-rmse:0.370143#011validation-rmse:0.387084\u001b[0m\n",
      "\u001b[31m[22:08:03] src/tree/updater_prune.cc:74: tree pruning end, 1 roots, 58 extra nodes, 12 pruned nodes, max_depth=8\u001b[0m\n",
      "\u001b[31m[13]#011train-rmse:0.36648#011validation-rmse:0.384433\u001b[0m\n",
      "\u001b[31m[22:08:05] src/tree/updater_prune.cc:74: tree pruning end, 1 roots, 54 extra nodes, 16 pruned nodes, max_depth=8\u001b[0m\n",
      "\u001b[31m[14]#011train-rmse:0.36285#011validation-rmse:0.381414\u001b[0m\n",
      "\u001b[31m[22:08:07] src/tree/updater_prune.cc:74: tree pruning end, 1 roots, 48 extra nodes, 12 pruned nodes, max_depth=8\u001b[0m\n",
      "\u001b[31m[15]#011train-rmse:0.359534#011validation-rmse:0.379046\u001b[0m\n",
      "\u001b[31m[22:08:10] src/tree/updater_prune.cc:74: tree pruning end, 1 roots, 48 extra nodes, 14 pruned nodes, max_depth=8\u001b[0m\n",
      "\u001b[31m[16]#011train-rmse:0.356551#011validation-rmse:0.376864\u001b[0m\n",
      "\u001b[31m[22:08:12] src/tree/updater_prune.cc:74: tree pruning end, 1 roots, 42 extra nodes, 22 pruned nodes, max_depth=8\u001b[0m\n",
      "\u001b[31m[17]#011train-rmse:0.353374#011validation-rmse:0.374091\u001b[0m\n",
      "\u001b[31m[22:08:14] src/tree/updater_prune.cc:74: tree pruning end, 1 roots, 58 extra nodes, 6 pruned nodes, max_depth=8\u001b[0m\n",
      "\u001b[31m[18]#011train-rmse:0.350161#011validation-rmse:0.372123\u001b[0m\n",
      "\u001b[31m[22:08:16] src/tree/updater_prune.cc:74: tree pruning end, 1 roots, 30 extra nodes, 18 pruned nodes, max_depth=8\u001b[0m\n",
      "\u001b[31m[19]#011train-rmse:0.34757#011validation-rmse:0.370158\u001b[0m\n",
      "\u001b[31m[22:08:18] src/tree/updater_prune.cc:74: tree pruning end, 1 roots, 60 extra nodes, 22 pruned nodes, max_depth=8\u001b[0m\n",
      "\u001b[31m[20]#011train-rmse:0.344448#011validation-rmse:0.368442\u001b[0m\n",
      "\u001b[31m[22:08:20] src/tree/updater_prune.cc:74: tree pruning end, 1 roots, 68 extra nodes, 12 pruned nodes, max_depth=8\u001b[0m\n",
      "\u001b[31m[21]#011train-rmse:0.341088#011validation-rmse:0.366565\u001b[0m\n",
      "\u001b[31m[22:08:22] src/tree/updater_prune.cc:74: tree pruning end, 1 roots, 46 extra nodes, 22 pruned nodes, max_depth=8\u001b[0m\n",
      "\u001b[31m[22]#011train-rmse:0.338327#011validation-rmse:0.364402\u001b[0m\n",
      "\u001b[31m[22:08:24] src/tree/updater_prune.cc:74: tree pruning end, 1 roots, 46 extra nodes, 26 pruned nodes, max_depth=8\u001b[0m\n",
      "\u001b[31m[23]#011train-rmse:0.335862#011validation-rmse:0.362926\u001b[0m\n",
      "\u001b[31m[22:08:26] src/tree/updater_prune.cc:74: tree pruning end, 1 roots, 34 extra nodes, 14 pruned nodes, max_depth=8\u001b[0m\n",
      "\u001b[31m[24]#011train-rmse:0.333981#011validation-rmse:0.361385\u001b[0m\n",
      "\u001b[31m[22:08:28] src/tree/updater_prune.cc:74: tree pruning end, 1 roots, 54 extra nodes, 14 pruned nodes, max_depth=8\u001b[0m\n",
      "\u001b[31m[25]#011train-rmse:0.331493#011validation-rmse:0.359638\u001b[0m\n",
      "\u001b[31m[22:08:30] src/tree/updater_prune.cc:74: tree pruning end, 1 roots, 46 extra nodes, 16 pruned nodes, max_depth=8\u001b[0m\n",
      "\u001b[31m[26]#011train-rmse:0.329335#011validation-rmse:0.358376\u001b[0m\n",
      "\u001b[31m[22:08:33] src/tree/updater_prune.cc:74: tree pruning end, 1 roots, 36 extra nodes, 30 pruned nodes, max_depth=8\u001b[0m\n",
      "\u001b[31m[27]#011train-rmse:0.32727#011validation-rmse:0.356981\u001b[0m\n",
      "\u001b[31m[22:08:35] src/tree/updater_prune.cc:74: tree pruning end, 1 roots, 34 extra nodes, 26 pruned nodes, max_depth=8\u001b[0m\n",
      "\u001b[31m[28]#011train-rmse:0.325332#011validation-rmse:0.35559\u001b[0m\n",
      "\u001b[31m[22:08:37] src/tree/updater_prune.cc:74: tree pruning end, 1 roots, 44 extra nodes, 14 pruned nodes, max_depth=8\u001b[0m\n",
      "\u001b[31m[29]#011train-rmse:0.323499#011validation-rmse:0.354486\u001b[0m\n",
      "\u001b[31m[22:08:39] src/tree/updater_prune.cc:74: tree pruning end, 1 roots, 28 extra nodes, 20 pruned nodes, max_depth=8\u001b[0m\n",
      "\u001b[31m[30]#011train-rmse:0.32206#011validation-rmse:0.35341\u001b[0m\n",
      "\u001b[31m[22:08:41] src/tree/updater_prune.cc:74: tree pruning end, 1 roots, 42 extra nodes, 10 pruned nodes, max_depth=8\u001b[0m\n",
      "\u001b[31m[31]#011train-rmse:0.320294#011validation-rmse:0.352325\u001b[0m\n",
      "\u001b[31m[22:08:43] src/tree/updater_prune.cc:74: tree pruning end, 1 roots, 50 extra nodes, 14 pruned nodes, max_depth=8\u001b[0m\n",
      "\u001b[31m[32]#011train-rmse:0.318266#011validation-rmse:0.350826\u001b[0m\n",
      "\u001b[31m[22:08:45] src/tree/updater_prune.cc:74: tree pruning end, 1 roots, 38 extra nodes, 10 pruned nodes, max_depth=8\u001b[0m\n",
      "\u001b[31m[33]#011train-rmse:0.316456#011validation-rmse:0.349578\u001b[0m\n",
      "\u001b[31m[22:08:47] src/tree/updater_prune.cc:74: tree pruning end, 1 roots, 52 extra nodes, 18 pruned nodes, max_depth=8\u001b[0m\n",
      "\u001b[31m[34]#011train-rmse:0.314547#011validation-rmse:0.348979\u001b[0m\n",
      "\u001b[31m[22:08:49] src/tree/updater_prune.cc:74: tree pruning end, 1 roots, 46 extra nodes, 14 pruned nodes, max_depth=8\u001b[0m\n",
      "\u001b[31m[35]#011train-rmse:0.312782#011validation-rmse:0.347808\u001b[0m\n",
      "\u001b[31m[22:08:51] src/tree/updater_prune.cc:74: tree pruning end, 1 roots, 42 extra nodes, 2 pruned nodes, max_depth=8\u001b[0m\n",
      "\u001b[31m[36]#011train-rmse:0.310992#011validation-rmse:0.34679\u001b[0m\n",
      "\u001b[31m[22:08:53] src/tree/updater_prune.cc:74: tree pruning end, 1 roots, 54 extra nodes, 20 pruned nodes, max_depth=8\u001b[0m\n",
      "\u001b[31m[37]#011train-rmse:0.309016#011validation-rmse:0.345994\u001b[0m\n",
      "\u001b[31m[22:08:55] src/tree/updater_prune.cc:74: tree pruning end, 1 roots, 24 extra nodes, 18 pruned nodes, max_depth=8\u001b[0m\n",
      "\u001b[31m[38]#011train-rmse:0.307776#011validation-rmse:0.345018\u001b[0m\n",
      "\u001b[31m[22:08:58] src/tree/updater_prune.cc:74: tree pruning end, 1 roots, 30 extra nodes, 28 pruned nodes, max_depth=8\u001b[0m\n",
      "\u001b[31m[39]#011train-rmse:0.30638#011validation-rmse:0.34416\u001b[0m\n",
      "\u001b[31m[22:09:00] src/tree/updater_prune.cc:74: tree pruning end, 1 roots, 22 extra nodes, 10 pruned nodes, max_depth=8\u001b[0m\n",
      "\u001b[31m[40]#011train-rmse:0.305164#011validation-rmse:0.343494\u001b[0m\n",
      "\u001b[31m[22:09:02] src/tree/updater_prune.cc:74: tree pruning end, 1 roots, 24 extra nodes, 12 pruned nodes, max_depth=8\u001b[0m\n",
      "\u001b[31m[41]#011train-rmse:0.304007#011validation-rmse:0.342593\u001b[0m\n",
      "\u001b[31m[22:09:04] src/tree/updater_prune.cc:74: tree pruning end, 1 roots, 20 extra nodes, 8 pruned nodes, max_depth=8\u001b[0m\n",
      "\u001b[31m[42]#011train-rmse:0.303102#011validation-rmse:0.342051\u001b[0m\n",
      "\u001b[31m[22:09:06] src/tree/updater_prune.cc:74: tree pruning end, 1 roots, 36 extra nodes, 22 pruned nodes, max_depth=8\u001b[0m\n",
      "\u001b[31m[43]#011train-rmse:0.301757#011validation-rmse:0.341405\u001b[0m\n",
      "\u001b[31m[22:09:08] src/tree/updater_prune.cc:74: tree pruning end, 1 roots, 44 extra nodes, 14 pruned nodes, max_depth=8\u001b[0m\n",
      "\u001b[31m[44]#011train-rmse:0.300192#011validation-rmse:0.340434\u001b[0m\n",
      "\u001b[31m[22:09:10] src/tree/updater_prune.cc:74: tree pruning end, 1 roots, 28 extra nodes, 22 pruned nodes, max_depth=8\u001b[0m\n",
      "\u001b[31m[45]#011train-rmse:0.299101#011validation-rmse:0.339907\u001b[0m\n",
      "\u001b[31m[22:09:12] src/tree/updater_prune.cc:74: tree pruning end, 1 roots, 62 extra nodes, 12 pruned nodes, max_depth=8\u001b[0m\n",
      "\u001b[31m[46]#011train-rmse:0.297091#011validation-rmse:0.339362\u001b[0m\n",
      "\u001b[31m[22:09:14] src/tree/updater_prune.cc:74: tree pruning end, 1 roots, 30 extra nodes, 14 pruned nodes, max_depth=8\u001b[0m\n",
      "\u001b[31m[47]#011train-rmse:0.295589#011validation-rmse:0.338095\u001b[0m\n",
      "\u001b[31m[22:09:16] src/tree/updater_prune.cc:74: tree pruning end, 1 roots, 48 extra nodes, 18 pruned nodes, max_depth=8\u001b[0m\n",
      "\u001b[31m[48]#011train-rmse:0.29408#011validation-rmse:0.337355\u001b[0m\n",
      "\u001b[31m[22:09:18] src/tree/updater_prune.cc:74: tree pruning end, 1 roots, 26 extra nodes, 8 pruned nodes, max_depth=8\u001b[0m\n",
      "\u001b[31m[49]#011train-rmse:0.293059#011validation-rmse:0.336531\u001b[0m\n",
      "\u001b[31m[22:09:21] src/tree/updater_prune.cc:74: tree pruning end, 1 roots, 20 extra nodes, 10 pruned nodes, max_depth=8\u001b[0m\n",
      "\u001b[31m[50]#011train-rmse:0.292242#011validation-rmse:0.335902\u001b[0m\n",
      "\u001b[31m[22:09:23] src/tree/updater_prune.cc:74: tree pruning end, 1 roots, 22 extra nodes, 2 pruned nodes, max_depth=8\u001b[0m\n",
      "\u001b[31m[51]#011train-rmse:0.291281#011validation-rmse:0.335027\u001b[0m\n",
      "\u001b[31m[22:09:25] src/tree/updater_prune.cc:74: tree pruning end, 1 roots, 42 extra nodes, 20 pruned nodes, max_depth=8\u001b[0m\n",
      "\u001b[31m[52]#011train-rmse:0.289967#011validation-rmse:0.334763\u001b[0m\n",
      "\u001b[31m[22:09:27] src/tree/updater_prune.cc:74: tree pruning end, 1 roots, 24 extra nodes, 22 pruned nodes, max_depth=8\u001b[0m\n",
      "\u001b[31m[53]#011train-rmse:0.289041#011validation-rmse:0.334312\u001b[0m\n",
      "\u001b[31m[22:09:29] src/tree/updater_prune.cc:74: tree pruning end, 1 roots, 36 extra nodes, 22 pruned nodes, max_depth=8\u001b[0m\n",
      "\u001b[31m[54]#011train-rmse:0.287978#011validation-rmse:0.333527\u001b[0m\n",
      "\u001b[31m[22:09:31] src/tree/updater_prune.cc:74: tree pruning end, 1 roots, 30 extra nodes, 18 pruned nodes, max_depth=8\u001b[0m\n",
      "\u001b[31m[55]#011train-rmse:0.287124#011validation-rmse:0.333158\u001b[0m\n",
      "\u001b[31m[22:09:33] src/tree/updater_prune.cc:74: tree pruning end, 1 roots, 36 extra nodes, 20 pruned nodes, max_depth=8\u001b[0m\n",
      "\u001b[31m[56]#011train-rmse:0.286032#011validation-rmse:0.332722\u001b[0m\n",
      "\u001b[31m[22:09:35] src/tree/updater_prune.cc:74: tree pruning end, 1 roots, 30 extra nodes, 12 pruned nodes, max_depth=8\u001b[0m\n",
      "\u001b[31m[57]#011train-rmse:0.285132#011validation-rmse:0.331964\u001b[0m\n",
      "\u001b[31m[22:09:37] src/tree/updater_prune.cc:74: tree pruning end, 1 roots, 20 extra nodes, 12 pruned nodes, max_depth=8\u001b[0m\n",
      "\u001b[31m[58]#011train-rmse:0.284372#011validation-rmse:0.33146\u001b[0m\n",
      "\u001b[31m[22:09:39] src/tree/updater_prune.cc:74: tree pruning end, 1 roots, 30 extra nodes, 4 pruned nodes, max_depth=8\u001b[0m\n",
      "\u001b[31m[59]#011train-rmse:0.283167#011validation-rmse:0.330903\u001b[0m\n",
      "\u001b[31m[22:09:41] src/tree/updater_prune.cc:74: tree pruning end, 1 roots, 20 extra nodes, 10 pruned nodes, max_depth=8\u001b[0m\n",
      "\u001b[31m[60]#011train-rmse:0.282509#011validation-rmse:0.330538\u001b[0m\n",
      "\u001b[31m[22:09:44] src/tree/updater_prune.cc:74: tree pruning end, 1 roots, 26 extra nodes, 10 pruned nodes, max_depth=8\u001b[0m\n",
      "\u001b[31m[61]#011train-rmse:0.281796#011validation-rmse:0.329825\u001b[0m\n",
      "\u001b[31m[22:09:46] src/tree/updater_prune.cc:74: tree pruning end, 1 roots, 32 extra nodes, 20 pruned nodes, max_depth=8\u001b[0m\n",
      "\u001b[31m[62]#011train-rmse:0.280843#011validation-rmse:0.329476\u001b[0m\n",
      "\u001b[31m[22:09:48] src/tree/updater_prune.cc:74: tree pruning end, 1 roots, 36 extra nodes, 10 pruned nodes, max_depth=8\u001b[0m\n",
      "\u001b[31m[63]#011train-rmse:0.279966#011validation-rmse:0.328936\u001b[0m\n",
      "\u001b[31m[22:09:50] src/tree/updater_prune.cc:74: tree pruning end, 1 roots, 28 extra nodes, 12 pruned nodes, max_depth=8\u001b[0m\n",
      "\u001b[31m[64]#011train-rmse:0.27893#011validation-rmse:0.328804\u001b[0m\n",
      "\u001b[31m[22:09:52] src/tree/updater_prune.cc:74: tree pruning end, 1 roots, 28 extra nodes, 14 pruned nodes, max_depth=8\u001b[0m\n",
      "\u001b[31m[65]#011train-rmse:0.278026#011validation-rmse:0.328547\u001b[0m\n",
      "\u001b[31m[22:09:54] src/tree/updater_prune.cc:74: tree pruning end, 1 roots, 24 extra nodes, 14 pruned nodes, max_depth=8\u001b[0m\n",
      "\u001b[31m[66]#011train-rmse:0.277332#011validation-rmse:0.328434\u001b[0m\n",
      "\u001b[31m[22:09:56] src/tree/updater_prune.cc:74: tree pruning end, 1 roots, 22 extra nodes, 4 pruned nodes, max_depth=8\u001b[0m\n",
      "\u001b[31m[67]#011train-rmse:0.276728#011validation-rmse:0.328054\u001b[0m\n",
      "\u001b[31m[22:09:58] src/tree/updater_prune.cc:74: tree pruning end, 1 roots, 24 extra nodes, 4 pruned nodes, max_depth=8\u001b[0m\n",
      "\u001b[31m[68]#011train-rmse:0.27589#011validation-rmse:0.327875\u001b[0m\n",
      "\u001b[31m[22:10:00] src/tree/updater_prune.cc:74: tree pruning end, 1 roots, 38 extra nodes, 8 pruned nodes, max_depth=8\u001b[0m\n",
      "\u001b[31m[69]#011train-rmse:0.27488#011validation-rmse:0.32735\u001b[0m\n",
      "\u001b[31m[22:10:02] src/tree/updater_prune.cc:74: tree pruning end, 1 roots, 38 extra nodes, 14 pruned nodes, max_depth=8\u001b[0m\n",
      "\u001b[31m[70]#011train-rmse:0.273711#011validation-rmse:0.326816\u001b[0m\n",
      "\u001b[31m[22:10:04] src/tree/updater_prune.cc:74: tree pruning end, 1 roots, 22 extra nodes, 10 pruned nodes, max_depth=8\u001b[0m\n",
      "\u001b[31m[71]#011train-rmse:0.273103#011validation-rmse:0.326344\u001b[0m\n",
      "\u001b[31m[22:10:07] src/tree/updater_prune.cc:74: tree pruning end, 1 roots, 28 extra nodes, 14 pruned nodes, max_depth=8\u001b[0m\n",
      "\u001b[31m[72]#011train-rmse:0.272412#011validation-rmse:0.325808\u001b[0m\n",
      "\u001b[31m[22:10:09] src/tree/updater_prune.cc:74: tree pruning end, 1 roots, 24 extra nodes, 6 pruned nodes, max_depth=8\u001b[0m\n",
      "\u001b[31m[73]#011train-rmse:0.271749#011validation-rmse:0.325415\u001b[0m\n",
      "\u001b[31m[22:10:11] src/tree/updater_prune.cc:74: tree pruning end, 1 roots, 20 extra nodes, 10 pruned nodes, max_depth=8\u001b[0m\n",
      "\u001b[31m[74]#011train-rmse:0.271092#011validation-rmse:0.325018\u001b[0m\n",
      "\u001b[31m[22:10:13] src/tree/updater_prune.cc:74: tree pruning end, 1 roots, 32 extra nodes, 20 pruned nodes, max_depth=8\u001b[0m\n",
      "\u001b[31m[75]#011train-rmse:0.270222#011validation-rmse:0.324529\u001b[0m\n",
      "\u001b[31m[22:10:15] src/tree/updater_prune.cc:74: tree pruning end, 1 roots, 36 extra nodes, 10 pruned nodes, max_depth=8\u001b[0m\n",
      "\u001b[31m[76]#011train-rmse:0.269236#011validation-rmse:0.324513\u001b[0m\n",
      "\u001b[31m[22:10:17] src/tree/updater_prune.cc:74: tree pruning end, 1 roots, 32 extra nodes, 32 pruned nodes, max_depth=8\u001b[0m\n",
      "\u001b[31m[77]#011train-rmse:0.268382#011validation-rmse:0.32422\u001b[0m\n",
      "\u001b[31m[22:10:19] src/tree/updater_prune.cc:74: tree pruning end, 1 roots, 26 extra nodes, 24 pruned nodes, max_depth=8\u001b[0m\n",
      "\u001b[31m[78]#011train-rmse:0.267696#011validation-rmse:0.324111\u001b[0m\n",
      "\u001b[31m[22:10:21] src/tree/updater_prune.cc:74: tree pruning end, 1 roots, 16 extra nodes, 4 pruned nodes, max_depth=8\u001b[0m\n",
      "\u001b[31m[79]#011train-rmse:0.267215#011validation-rmse:0.323876\u001b[0m\n",
      "\u001b[31m[22:10:23] src/tree/updater_prune.cc:74: tree pruning end, 1 roots, 30 extra nodes, 18 pruned nodes, max_depth=8\u001b[0m\n",
      "\u001b[31m[80]#011train-rmse:0.26633#011validation-rmse:0.323785\u001b[0m\n",
      "\u001b[31m[22:10:25] src/tree/updater_prune.cc:74: tree pruning end, 1 roots, 26 extra nodes, 8 pruned nodes, max_depth=8\u001b[0m\n",
      "\u001b[31m[81]#011train-rmse:0.265715#011validation-rmse:0.3236\u001b[0m\n",
      "\u001b[31m[22:10:27] src/tree/updater_prune.cc:74: tree pruning end, 1 roots, 20 extra nodes, 2 pruned nodes, max_depth=8\u001b[0m\n",
      "\u001b[31m[82]#011train-rmse:0.265168#011validation-rmse:0.323049\u001b[0m\n",
      "\u001b[31m[22:10:29] src/tree/updater_prune.cc:74: tree pruning end, 1 roots, 28 extra nodes, 10 pruned nodes, max_depth=8\u001b[0m\n",
      "\u001b[31m[83]#011train-rmse:0.264444#011validation-rmse:0.322842\u001b[0m\n",
      "\u001b[31m[22:10:32] src/tree/updater_prune.cc:74: tree pruning end, 1 roots, 32 extra nodes, 14 pruned nodes, max_depth=8\u001b[0m\n",
      "\u001b[31m[84]#011train-rmse:0.263785#011validation-rmse:0.32261\u001b[0m\n",
      "\u001b[31m[22:10:34] src/tree/updater_prune.cc:74: tree pruning end, 1 roots, 26 extra nodes, 16 pruned nodes, max_depth=8\u001b[0m\n",
      "\u001b[31m[85]#011train-rmse:0.263076#011validation-rmse:0.321961\u001b[0m\n",
      "\u001b[31m[22:10:36] src/tree/updater_prune.cc:74: tree pruning end, 1 roots, 28 extra nodes, 14 pruned nodes, max_depth=8\u001b[0m\n",
      "\u001b[31m[86]#011train-rmse:0.262294#011validation-rmse:0.322041\u001b[0m\n",
      "\u001b[31m[22:10:38] src/tree/updater_prune.cc:74: tree pruning end, 1 roots, 26 extra nodes, 30 pruned nodes, max_depth=8\u001b[0m\n",
      "\u001b[31m[87]#011train-rmse:0.261627#011validation-rmse:0.321727\u001b[0m\n",
      "\u001b[31m[22:10:40] src/tree/updater_prune.cc:74: tree pruning end, 1 roots, 32 extra nodes, 20 pruned nodes, max_depth=8\u001b[0m\n",
      "\u001b[31m[88]#011train-rmse:0.260736#011validation-rmse:0.321619\u001b[0m\n",
      "\u001b[31m[22:10:42] src/tree/updater_prune.cc:74: tree pruning end, 1 roots, 30 extra nodes, 16 pruned nodes, max_depth=8\u001b[0m\n",
      "\u001b[31m[89]#011train-rmse:0.260035#011validation-rmse:0.321627\u001b[0m\n",
      "\u001b[31m[22:10:44] src/tree/updater_prune.cc:74: tree pruning end, 1 roots, 30 extra nodes, 18 pruned nodes, max_depth=8\u001b[0m\n",
      "\u001b[31m[90]#011train-rmse:0.259279#011validation-rmse:0.321519\u001b[0m\n",
      "\u001b[31m[22:10:46] src/tree/updater_prune.cc:74: tree pruning end, 1 roots, 28 extra nodes, 22 pruned nodes, max_depth=8\u001b[0m\n",
      "\u001b[31m[91]#011train-rmse:0.258561#011validation-rmse:0.321139\u001b[0m\n",
      "\u001b[31m[22:10:48] src/tree/updater_prune.cc:74: tree pruning end, 1 roots, 18 extra nodes, 8 pruned nodes, max_depth=8\u001b[0m\n",
      "\u001b[31m[92]#011train-rmse:0.2581#011validation-rmse:0.321039\u001b[0m\n",
      "\u001b[31m[22:10:50] src/tree/updater_prune.cc:74: tree pruning end, 1 roots, 24 extra nodes, 10 pruned nodes, max_depth=8\u001b[0m\n",
      "\u001b[31m[93]#011train-rmse:0.257572#011validation-rmse:0.320736\u001b[0m\n",
      "\u001b[31m[22:10:52] src/tree/updater_prune.cc:74: tree pruning end, 1 roots, 28 extra nodes, 6 pruned nodes, max_depth=8\u001b[0m\n",
      "\u001b[31m[94]#011train-rmse:0.256871#011validation-rmse:0.320629\u001b[0m\n",
      "\u001b[31m[22:10:54] src/tree/updater_prune.cc:74: tree pruning end, 1 roots, 20 extra nodes, 16 pruned nodes, max_depth=8\u001b[0m\n",
      "\u001b[31m[95]#011train-rmse:0.256428#011validation-rmse:0.320279\u001b[0m\n",
      "\u001b[31m[22:10:57] src/tree/updater_prune.cc:74: tree pruning end, 1 roots, 42 extra nodes, 12 pruned nodes, max_depth=8\u001b[0m\n",
      "\u001b[31m[96]#011train-rmse:0.255605#011validation-rmse:0.320324\u001b[0m\n",
      "\u001b[31m[22:10:59] src/tree/updater_prune.cc:74: tree pruning end, 1 roots, 34 extra nodes, 12 pruned nodes, max_depth=8\u001b[0m\n",
      "\u001b[31m[97]#011train-rmse:0.254767#011validation-rmse:0.32008\u001b[0m\n",
      "\u001b[31m[22:11:01] src/tree/updater_prune.cc:74: tree pruning end, 1 roots, 18 extra nodes, 0 pruned nodes, max_depth=8\u001b[0m\n",
      "\u001b[31m[98]#011train-rmse:0.25437#011validation-rmse:0.319955\u001b[0m\n",
      "\u001b[31m[22:11:03] src/tree/updater_prune.cc:74: tree pruning end, 1 roots, 24 extra nodes, 6 pruned nodes, max_depth=8\u001b[0m\n",
      "\u001b[31m[99]#011train-rmse:0.25381#011validation-rmse:0.319555\u001b[0m\n",
      "\u001b[31m[22:11:05] src/tree/updater_prune.cc:74: tree pruning end, 1 roots, 20 extra nodes, 14 pruned nodes, max_depth=8\u001b[0m\n",
      "\u001b[31m[100]#011train-rmse:0.253387#011validation-rmse:0.319196\u001b[0m\n",
      "\u001b[31m[22:11:07] src/tree/updater_prune.cc:74: tree pruning end, 1 roots, 22 extra nodes, 4 pruned nodes, max_depth=8\u001b[0m\n",
      "\u001b[31m[101]#011train-rmse:0.252864#011validation-rmse:0.318936\u001b[0m\n",
      "\u001b[31m[22:11:09] src/tree/updater_prune.cc:74: tree pruning end, 1 roots, 26 extra nodes, 14 pruned nodes, max_depth=8\u001b[0m\n",
      "\u001b[31m[102]#011train-rmse:0.252351#011validation-rmse:0.318658\u001b[0m\n",
      "\u001b[31m[22:11:11] src/tree/updater_prune.cc:74: tree pruning end, 1 roots, 26 extra nodes, 12 pruned nodes, max_depth=8\u001b[0m\n",
      "\u001b[31m[103]#011train-rmse:0.251795#011validation-rmse:0.318392\u001b[0m\n",
      "\u001b[31m[22:11:13] src/tree/updater_prune.cc:74: tree pruning end, 1 roots, 24 extra nodes, 20 pruned nodes, max_depth=8\u001b[0m\n",
      "\u001b[31m[104]#011train-rmse:0.251208#011validation-rmse:0.318\u001b[0m\n",
      "\u001b[31m[22:11:15] src/tree/updater_prune.cc:74: tree pruning end, 1 roots, 16 extra nodes, 10 pruned nodes, max_depth=8\u001b[0m\n",
      "\u001b[31m[105]#011train-rmse:0.250937#011validation-rmse:0.317887\u001b[0m\n",
      "\u001b[31m[22:11:18] src/tree/updater_prune.cc:74: tree pruning end, 1 roots, 24 extra nodes, 18 pruned nodes, max_depth=8\u001b[0m\n",
      "\u001b[31m[106]#011train-rmse:0.250435#011validation-rmse:0.31785\u001b[0m\n",
      "\u001b[31m[22:11:20] src/tree/updater_prune.cc:74: tree pruning end, 1 roots, 22 extra nodes, 12 pruned nodes, max_depth=8\u001b[0m\n",
      "\u001b[31m[107]#011train-rmse:0.250018#011validation-rmse:0.317661\u001b[0m\n",
      "\u001b[31m[22:11:22] src/tree/updater_prune.cc:74: tree pruning end, 1 roots, 32 extra nodes, 20 pruned nodes, max_depth=8\u001b[0m\n",
      "\u001b[31m[108]#011train-rmse:0.249313#011validation-rmse:0.317551\u001b[0m\n",
      "\u001b[31m[22:11:24] src/tree/updater_prune.cc:74: tree pruning end, 1 roots, 24 extra nodes, 6 pruned nodes, max_depth=8\u001b[0m\n",
      "\u001b[31m[109]#011train-rmse:0.248827#011validation-rmse:0.317082\u001b[0m\n",
      "\u001b[31m[22:11:26] src/tree/updater_prune.cc:74: tree pruning end, 1 roots, 28 extra nodes, 16 pruned nodes, max_depth=8\u001b[0m\n",
      "\u001b[31m[110]#011train-rmse:0.248317#011validation-rmse:0.317035\u001b[0m\n",
      "\u001b[31m[22:11:28] src/tree/updater_prune.cc:74: tree pruning end, 1 roots, 20 extra nodes, 4 pruned nodes, max_depth=8\u001b[0m\n",
      "\u001b[31m[111]#011train-rmse:0.247897#011validation-rmse:0.316677\u001b[0m\n",
      "\u001b[31m[22:11:30] src/tree/updater_prune.cc:74: tree pruning end, 1 roots, 22 extra nodes, 18 pruned nodes, max_depth=8\u001b[0m\n",
      "\u001b[31m[112]#011train-rmse:0.247497#011validation-rmse:0.316586\u001b[0m\n",
      "\u001b[31m[22:11:32] src/tree/updater_prune.cc:74: tree pruning end, 1 roots, 22 extra nodes, 4 pruned nodes, max_depth=8\u001b[0m\n",
      "\u001b[31m[113]#011train-rmse:0.247071#011validation-rmse:0.316603\u001b[0m\n",
      "\u001b[31m[22:11:34] src/tree/updater_prune.cc:74: tree pruning end, 1 roots, 20 extra nodes, 10 pruned nodes, max_depth=8\u001b[0m\n",
      "\u001b[31m[114]#011train-rmse:0.246645#011validation-rmse:0.316341\u001b[0m\n",
      "\u001b[31m[22:11:36] src/tree/updater_prune.cc:74: tree pruning end, 1 roots, 22 extra nodes, 8 pruned nodes, max_depth=8\u001b[0m\n",
      "\u001b[31m[115]#011train-rmse:0.246167#011validation-rmse:0.316232\u001b[0m\n",
      "\u001b[31m[22:11:38] src/tree/updater_prune.cc:74: tree pruning end, 1 roots, 18 extra nodes, 12 pruned nodes, max_depth=8\u001b[0m\n",
      "\u001b[31m[116]#011train-rmse:0.2458#011validation-rmse:0.316223\u001b[0m\n",
      "\u001b[31m[22:11:40] src/tree/updater_prune.cc:74: tree pruning end, 1 roots, 20 extra nodes, 10 pruned nodes, max_depth=8\u001b[0m\n",
      "\u001b[31m[117]#011train-rmse:0.245369#011validation-rmse:0.316144\u001b[0m\n",
      "\u001b[31m[22:11:43] src/tree/updater_prune.cc:74: tree pruning end, 1 roots, 26 extra nodes, 12 pruned nodes, max_depth=8\u001b[0m\n",
      "\u001b[31m[118]#011train-rmse:0.244835#011validation-rmse:0.316\u001b[0m\n",
      "\u001b[31m[22:11:45] src/tree/updater_prune.cc:74: tree pruning end, 1 roots, 16 extra nodes, 14 pruned nodes, max_depth=8\u001b[0m\n",
      "\u001b[31m[119]#011train-rmse:0.244513#011validation-rmse:0.315894\u001b[0m\n",
      "\u001b[31m[22:11:47] src/tree/updater_prune.cc:74: tree pruning end, 1 roots, 30 extra nodes, 6 pruned nodes, max_depth=8\u001b[0m\n",
      "\u001b[31m[120]#011train-rmse:0.243857#011validation-rmse:0.315752\u001b[0m\n",
      "\u001b[31m[22:11:49] src/tree/updater_prune.cc:74: tree pruning end, 1 roots, 26 extra nodes, 18 pruned nodes, max_depth=8\u001b[0m\n",
      "\u001b[31m[121]#011train-rmse:0.243292#011validation-rmse:0.315551\u001b[0m\n",
      "\u001b[31m[22:11:51] src/tree/updater_prune.cc:74: tree pruning end, 1 roots, 32 extra nodes, 10 pruned nodes, max_depth=8\u001b[0m\n",
      "\u001b[31m[122]#011train-rmse:0.242637#011validation-rmse:0.315379\u001b[0m\n",
      "\u001b[31m[22:11:53] src/tree/updater_prune.cc:74: tree pruning end, 1 roots, 24 extra nodes, 10 pruned nodes, max_depth=8\u001b[0m\n",
      "\u001b[31m[123]#011train-rmse:0.242139#011validation-rmse:0.31554\u001b[0m\n",
      "\u001b[31m[22:11:55] src/tree/updater_prune.cc:74: tree pruning end, 1 roots, 16 extra nodes, 4 pruned nodes, max_depth=8\u001b[0m\n",
      "\u001b[31m[124]#011train-rmse:0.241759#011validation-rmse:0.315334\u001b[0m\n",
      "\u001b[31m[22:11:57] src/tree/updater_prune.cc:74: tree pruning end, 1 roots, 24 extra nodes, 18 pruned nodes, max_depth=8\u001b[0m\n",
      "\u001b[31m[125]#011train-rmse:0.24135#011validation-rmse:0.315218\u001b[0m\n",
      "\u001b[31m[22:11:59] src/tree/updater_prune.cc:74: tree pruning end, 1 roots, 16 extra nodes, 8 pruned nodes, max_depth=8\u001b[0m\n",
      "\u001b[31m[126]#011train-rmse:0.241#011validation-rmse:0.315096\u001b[0m\n",
      "\u001b[31m[22:12:01] src/tree/updater_prune.cc:74: tree pruning end, 1 roots, 20 extra nodes, 18 pruned nodes, max_depth=8\u001b[0m\n",
      "\u001b[31m[127]#011train-rmse:0.240652#011validation-rmse:0.314926\u001b[0m\n",
      "\u001b[31m[22:12:03] src/tree/updater_prune.cc:74: tree pruning end, 1 roots, 48 extra nodes, 18 pruned nodes, max_depth=8\u001b[0m\n",
      "\u001b[31m[128]#011train-rmse:0.239565#011validation-rmse:0.314964\u001b[0m\n",
      "\u001b[31m[22:12:06] src/tree/updater_prune.cc:74: tree pruning end, 1 roots, 30 extra nodes, 22 pruned nodes, max_depth=8\u001b[0m\n",
      "\u001b[31m[129]#011train-rmse:0.238959#011validation-rmse:0.314951\u001b[0m\n",
      "\u001b[31m[22:12:08] src/tree/updater_prune.cc:74: tree pruning end, 1 roots, 20 extra nodes, 6 pruned nodes, max_depth=8\u001b[0m\n",
      "\u001b[31m[130]#011train-rmse:0.238637#011validation-rmse:0.31481\u001b[0m\n",
      "\u001b[31m[22:12:10] src/tree/updater_prune.cc:74: tree pruning end, 1 roots, 18 extra nodes, 8 pruned nodes, max_depth=8\u001b[0m\n",
      "\u001b[31m[131]#011train-rmse:0.238358#011validation-rmse:0.314648\u001b[0m\n",
      "\u001b[31m[22:12:12] src/tree/updater_prune.cc:74: tree pruning end, 1 roots, 16 extra nodes, 8 pruned nodes, max_depth=8\u001b[0m\n",
      "\u001b[31m[132]#011train-rmse:0.238058#011validation-rmse:0.314558\u001b[0m\n",
      "\u001b[31m[22:12:14] src/tree/updater_prune.cc:74: tree pruning end, 1 roots, 16 extra nodes, 4 pruned nodes, max_depth=8\u001b[0m\n",
      "\u001b[31m[133]#011train-rmse:0.237715#011validation-rmse:0.31442\u001b[0m\n",
      "\u001b[31m[22:12:16] src/tree/updater_prune.cc:74: tree pruning end, 1 roots, 18 extra nodes, 10 pruned nodes, max_depth=8\u001b[0m\n",
      "\u001b[31m[134]#011train-rmse:0.237359#011validation-rmse:0.314258\u001b[0m\n",
      "\u001b[31m[22:12:18] src/tree/updater_prune.cc:74: tree pruning end, 1 roots, 20 extra nodes, 16 pruned nodes, max_depth=8\u001b[0m\n",
      "\u001b[31m[135]#011train-rmse:0.236951#011validation-rmse:0.314082\u001b[0m\n",
      "\u001b[31m[22:12:20] src/tree/updater_prune.cc:74: tree pruning end, 1 roots, 22 extra nodes, 4 pruned nodes, max_depth=8\u001b[0m\n",
      "\u001b[31m[136]#011train-rmse:0.23649#011validation-rmse:0.314025\u001b[0m\n",
      "\u001b[31m[22:12:22] src/tree/updater_prune.cc:74: tree pruning end, 1 roots, 20 extra nodes, 14 pruned nodes, max_depth=8\u001b[0m\n",
      "\u001b[31m[137]#011train-rmse:0.236229#011validation-rmse:0.314126\u001b[0m\n",
      "\u001b[31m[22:12:24] src/tree/updater_prune.cc:74: tree pruning end, 1 roots, 22 extra nodes, 8 pruned nodes, max_depth=8\u001b[0m\n",
      "\u001b[31m[138]#011train-rmse:0.235909#011validation-rmse:0.314048\u001b[0m\n",
      "\u001b[31m[22:12:26] src/tree/updater_prune.cc:74: tree pruning end, 1 roots, 18 extra nodes, 22 pruned nodes, max_depth=8\u001b[0m\n",
      "\u001b[31m[139]#011train-rmse:0.235625#011validation-rmse:0.313872\u001b[0m\n",
      "\u001b[31m[22:12:29] src/tree/updater_prune.cc:74: tree pruning end, 1 roots, 16 extra nodes, 4 pruned nodes, max_depth=8\u001b[0m\n",
      "\u001b[31m[140]#011train-rmse:0.235328#011validation-rmse:0.313781\u001b[0m\n",
      "\u001b[31m[22:12:31] src/tree/updater_prune.cc:74: tree pruning end, 1 roots, 20 extra nodes, 10 pruned nodes, max_depth=8\u001b[0m\n",
      "\u001b[31m[141]#011train-rmse:0.234937#011validation-rmse:0.313712\u001b[0m\n",
      "\u001b[31m[22:12:33] src/tree/updater_prune.cc:74: tree pruning end, 1 roots, 18 extra nodes, 6 pruned nodes, max_depth=8\u001b[0m\n",
      "\u001b[31m[142]#011train-rmse:0.234652#011validation-rmse:0.313671\u001b[0m\n",
      "\u001b[31m[22:12:35] src/tree/updater_prune.cc:74: tree pruning end, 1 roots, 24 extra nodes, 20 pruned nodes, max_depth=8\u001b[0m\n",
      "\u001b[31m[143]#011train-rmse:0.234175#011validation-rmse:0.313686\u001b[0m\n",
      "\u001b[31m[22:12:37] src/tree/updater_prune.cc:74: tree pruning end, 1 roots, 16 extra nodes, 12 pruned nodes, max_depth=8\u001b[0m\n",
      "\u001b[31m[144]#011train-rmse:0.233929#011validation-rmse:0.313672\u001b[0m\n",
      "\u001b[31m[22:12:39] src/tree/updater_prune.cc:74: tree pruning end, 1 roots, 22 extra nodes, 14 pruned nodes, max_depth=8\u001b[0m\n",
      "\u001b[31m[145]#011train-rmse:0.233591#011validation-rmse:0.313434\u001b[0m\n",
      "\u001b[31m[22:12:41] src/tree/updater_prune.cc:74: tree pruning end, 1 roots, 18 extra nodes, 14 pruned nodes, max_depth=8\u001b[0m\n",
      "\u001b[31m[146]#011train-rmse:0.233256#011validation-rmse:0.313498\u001b[0m\n",
      "\u001b[31m[22:12:43] src/tree/updater_prune.cc:74: tree pruning end, 1 roots, 18 extra nodes, 8 pruned nodes, max_depth=8\u001b[0m\n",
      "\u001b[31m[147]#011train-rmse:0.233003#011validation-rmse:0.313325\u001b[0m\n",
      "\u001b[31m[22:12:45] src/tree/updater_prune.cc:74: tree pruning end, 1 roots, 20 extra nodes, 12 pruned nodes, max_depth=8\u001b[0m\n",
      "\u001b[31m[148]#011train-rmse:0.232708#011validation-rmse:0.313047\u001b[0m\n",
      "\u001b[31m[22:12:47] src/tree/updater_prune.cc:74: tree pruning end, 1 roots, 22 extra nodes, 8 pruned nodes, max_depth=8\u001b[0m\n",
      "\u001b[31m[149]#011train-rmse:0.2324#011validation-rmse:0.312948\u001b[0m\n",
      "\u001b[31m[22:12:49] src/tree/updater_prune.cc:74: tree pruning end, 1 roots, 24 extra nodes, 26 pruned nodes, max_depth=8\u001b[0m\n",
      "\u001b[31m[150]#011train-rmse:0.231951#011validation-rmse:0.312922\u001b[0m\n",
      "\u001b[31m[22:12:52] src/tree/updater_prune.cc:74: tree pruning end, 1 roots, 18 extra nodes, 6 pruned nodes, max_depth=8\u001b[0m\n",
      "\u001b[31m[151]#011train-rmse:0.231636#011validation-rmse:0.312814\u001b[0m\n",
      "\u001b[31m[22:12:54] src/tree/updater_prune.cc:74: tree pruning end, 1 roots, 22 extra nodes, 8 pruned nodes, max_depth=8\u001b[0m\n",
      "\u001b[31m[152]#011train-rmse:0.231203#011validation-rmse:0.312659\u001b[0m\n",
      "\u001b[31m[22:12:56] src/tree/updater_prune.cc:74: tree pruning end, 1 roots, 22 extra nodes, 6 pruned nodes, max_depth=8\u001b[0m\n",
      "\u001b[31m[153]#011train-rmse:0.23077#011validation-rmse:0.312524\u001b[0m\n",
      "\u001b[31m[22:12:58] src/tree/updater_prune.cc:74: tree pruning end, 1 roots, 20 extra nodes, 18 pruned nodes, max_depth=8\u001b[0m\n",
      "\u001b[31m[154]#011train-rmse:0.230372#011validation-rmse:0.312338\u001b[0m\n",
      "\u001b[31m[22:13:00] src/tree/updater_prune.cc:74: tree pruning end, 1 roots, 18 extra nodes, 16 pruned nodes, max_depth=8\u001b[0m\n",
      "\u001b[31m[155]#011train-rmse:0.230071#011validation-rmse:0.312377\u001b[0m\n",
      "\u001b[31m[22:13:02] src/tree/updater_prune.cc:74: tree pruning end, 1 roots, 36 extra nodes, 2 pruned nodes, max_depth=8\u001b[0m\n",
      "\u001b[31m[156]#011train-rmse:0.229324#011validation-rmse:0.312495\u001b[0m\n",
      "\u001b[31m[22:13:04] src/tree/updater_prune.cc:74: tree pruning end, 1 roots, 26 extra nodes, 8 pruned nodes, max_depth=8\u001b[0m\n",
      "\u001b[31m[157]#011train-rmse:0.228937#011validation-rmse:0.312619\u001b[0m\n",
      "\u001b[31m[22:13:06] src/tree/updater_prune.cc:74: tree pruning end, 1 roots, 18 extra nodes, 6 pruned nodes, max_depth=8\u001b[0m\n",
      "\u001b[31m[158]#011train-rmse:0.228613#011validation-rmse:0.312448\u001b[0m\n",
      "\u001b[31m[22:13:08] src/tree/updater_prune.cc:74: tree pruning end, 1 roots, 24 extra nodes, 14 pruned nodes, max_depth=8\u001b[0m\n",
      "\u001b[31m[159]#011train-rmse:0.228176#011validation-rmse:0.312297\u001b[0m\n",
      "\u001b[31m[22:13:11] src/tree/updater_prune.cc:74: tree pruning end, 1 roots, 28 extra nodes, 12 pruned nodes, max_depth=8\u001b[0m\n",
      "\u001b[31m[160]#011train-rmse:0.227739#011validation-rmse:0.312203\u001b[0m\n",
      "\u001b[31m[22:13:13] src/tree/updater_prune.cc:74: tree pruning end, 1 roots, 22 extra nodes, 10 pruned nodes, max_depth=8\u001b[0m\n",
      "\u001b[31m[161]#011train-rmse:0.227367#011validation-rmse:0.312132\u001b[0m\n",
      "\u001b[31m[22:13:15] src/tree/updater_prune.cc:74: tree pruning end, 1 roots, 22 extra nodes, 24 pruned nodes, max_depth=8\u001b[0m\n",
      "\u001b[31m[162]#011train-rmse:0.226979#011validation-rmse:0.312\u001b[0m\n",
      "\u001b[31m[22:13:17] src/tree/updater_prune.cc:74: tree pruning end, 1 roots, 18 extra nodes, 12 pruned nodes, max_depth=8\u001b[0m\n",
      "\u001b[31m[163]#011train-rmse:0.2267#011validation-rmse:0.311861\u001b[0m\n",
      "\u001b[31m[22:13:19] src/tree/updater_prune.cc:74: tree pruning end, 1 roots, 16 extra nodes, 12 pruned nodes, max_depth=8\u001b[0m\n",
      "\u001b[31m[164]#011train-rmse:0.226493#011validation-rmse:0.311735\u001b[0m\n",
      "\u001b[31m[22:13:21] src/tree/updater_prune.cc:74: tree pruning end, 1 roots, 16 extra nodes, 4 pruned nodes, max_depth=8\u001b[0m\n",
      "\u001b[31m[165]#011train-rmse:0.226302#011validation-rmse:0.311758\u001b[0m\n",
      "\u001b[31m[22:13:23] src/tree/updater_prune.cc:74: tree pruning end, 1 roots, 24 extra nodes, 22 pruned nodes, max_depth=8\u001b[0m\n",
      "\u001b[31m[166]#011train-rmse:0.225896#011validation-rmse:0.311574\u001b[0m\n",
      "\u001b[31m[22:13:25] src/tree/updater_prune.cc:74: tree pruning end, 1 roots, 36 extra nodes, 28 pruned nodes, max_depth=8\u001b[0m\n",
      "\u001b[31m[167]#011train-rmse:0.225239#011validation-rmse:0.311518\u001b[0m\n",
      "\u001b[31m[22:13:28] src/tree/updater_prune.cc:74: tree pruning end, 1 roots, 24 extra nodes, 12 pruned nodes, max_depth=8\u001b[0m\n",
      "\u001b[31m[168]#011train-rmse:0.22485#011validation-rmse:0.311442\u001b[0m\n",
      "\u001b[31m[22:13:30] src/tree/updater_prune.cc:74: tree pruning end, 1 roots, 20 extra nodes, 10 pruned nodes, max_depth=8\u001b[0m\n",
      "\u001b[31m[169]#011train-rmse:0.224505#011validation-rmse:0.311418\u001b[0m\n",
      "\u001b[31m[22:13:32] src/tree/updater_prune.cc:74: tree pruning end, 1 roots, 22 extra nodes, 22 pruned nodes, max_depth=8\u001b[0m\n",
      "\u001b[31m[170]#011train-rmse:0.224211#011validation-rmse:0.311237\u001b[0m\n",
      "\u001b[31m[22:13:34] src/tree/updater_prune.cc:74: tree pruning end, 1 roots, 20 extra nodes, 10 pruned nodes, max_depth=8\u001b[0m\n",
      "\u001b[31m[171]#011train-rmse:0.223942#011validation-rmse:0.311254\u001b[0m\n",
      "\u001b[31m[22:13:36] src/tree/updater_prune.cc:74: tree pruning end, 1 roots, 22 extra nodes, 12 pruned nodes, max_depth=8\u001b[0m\n",
      "\u001b[31m[172]#011train-rmse:0.223627#011validation-rmse:0.311198\u001b[0m\n",
      "\u001b[31m[22:13:38] src/tree/updater_prune.cc:74: tree pruning end, 1 roots, 16 extra nodes, 32 pruned nodes, max_depth=8\u001b[0m\n",
      "\u001b[31m[173]#011train-rmse:0.223394#011validation-rmse:0.31132\u001b[0m\n",
      "\u001b[31m[22:13:40] src/tree/updater_prune.cc:74: tree pruning end, 1 roots, 16 extra nodes, 2 pruned nodes, max_depth=8\u001b[0m\n",
      "\u001b[31m[174]#011train-rmse:0.223213#011validation-rmse:0.311273\u001b[0m\n",
      "\u001b[31m[22:13:42] src/tree/updater_prune.cc:74: tree pruning end, 1 roots, 24 extra nodes, 22 pruned nodes, max_depth=8\u001b[0m\n",
      "\u001b[31m[175]#011train-rmse:0.222904#011validation-rmse:0.311145\u001b[0m\n",
      "\u001b[31m[22:13:44] src/tree/updater_prune.cc:74: tree pruning end, 1 roots, 18 extra nodes, 6 pruned nodes, max_depth=8\u001b[0m\n",
      "\u001b[31m[176]#011train-rmse:0.222672#011validation-rmse:0.311151\u001b[0m\n",
      "\u001b[31m[22:13:46] src/tree/updater_prune.cc:74: tree pruning end, 1 roots, 18 extra nodes, 12 pruned nodes, max_depth=8\u001b[0m\n",
      "\u001b[31m[177]#011train-rmse:0.222423#011validation-rmse:0.31113\u001b[0m\n",
      "\u001b[31m[22:13:48] src/tree/updater_prune.cc:74: tree pruning end, 1 roots, 16 extra nodes, 8 pruned nodes, max_depth=8\u001b[0m\n",
      "\u001b[31m[178]#011train-rmse:0.222188#011validation-rmse:0.311068\u001b[0m\n",
      "\u001b[31m[22:13:50] src/tree/updater_prune.cc:74: tree pruning end, 1 roots, 16 extra nodes, 4 pruned nodes, max_depth=8\u001b[0m\n",
      "\u001b[31m[179]#011train-rmse:0.221968#011validation-rmse:0.310972\u001b[0m\n",
      "\u001b[31m[22:13:53] src/tree/updater_prune.cc:74: tree pruning end, 1 roots, 18 extra nodes, 8 pruned nodes, max_depth=8\u001b[0m\n",
      "\u001b[31m[180]#011train-rmse:0.221756#011validation-rmse:0.310891\u001b[0m\n",
      "\u001b[31m[22:13:55] src/tree/updater_prune.cc:74: tree pruning end, 1 roots, 24 extra nodes, 16 pruned nodes, max_depth=8\u001b[0m\n",
      "\u001b[31m[181]#011train-rmse:0.221383#011validation-rmse:0.31092\u001b[0m\n",
      "\u001b[31m[22:13:57] src/tree/updater_prune.cc:74: tree pruning end, 1 roots, 20 extra nodes, 14 pruned nodes, max_depth=8\u001b[0m\n",
      "\u001b[31m[182]#011train-rmse:0.221063#011validation-rmse:0.310663\u001b[0m\n",
      "\u001b[31m[22:13:59] src/tree/updater_prune.cc:74: tree pruning end, 1 roots, 16 extra nodes, 8 pruned nodes, max_depth=8\u001b[0m\n",
      "\u001b[31m[183]#011train-rmse:0.220868#011validation-rmse:0.310526\u001b[0m\n",
      "\u001b[31m[22:14:01] src/tree/updater_prune.cc:74: tree pruning end, 1 roots, 16 extra nodes, 16 pruned nodes, max_depth=8\u001b[0m\n",
      "\u001b[31m[184]#011train-rmse:0.220693#011validation-rmse:0.310522\u001b[0m\n",
      "\u001b[31m[22:14:03] src/tree/updater_prune.cc:74: tree pruning end, 1 roots, 26 extra nodes, 4 pruned nodes, max_depth=7\u001b[0m\n",
      "\u001b[31m[185]#011train-rmse:0.220302#011validation-rmse:0.310468\u001b[0m\n",
      "\u001b[31m[22:14:05] src/tree/updater_prune.cc:74: tree pruning end, 1 roots, 28 extra nodes, 32 pruned nodes, max_depth=8\u001b[0m\n",
      "\u001b[31m[186]#011train-rmse:0.219754#011validation-rmse:0.31039\u001b[0m\n",
      "\u001b[31m[22:14:07] src/tree/updater_prune.cc:74: tree pruning end, 1 roots, 16 extra nodes, 2 pruned nodes, max_depth=8\u001b[0m\n",
      "\u001b[31m[187]#011train-rmse:0.21957#011validation-rmse:0.310392\u001b[0m\n",
      "\u001b[31m[22:14:09] src/tree/updater_prune.cc:74: tree pruning end, 1 roots, 24 extra nodes, 18 pruned nodes, max_depth=8\u001b[0m\n",
      "\u001b[31m[188]#011train-rmse:0.219173#011validation-rmse:0.310255\u001b[0m\n",
      "\u001b[31m[22:14:11] src/tree/updater_prune.cc:74: tree pruning end, 1 roots, 22 extra nodes, 12 pruned nodes, max_depth=8\u001b[0m\n",
      "\u001b[31m[189]#011train-rmse:0.218822#011validation-rmse:0.310116\u001b[0m\n",
      "\u001b[31m[22:14:14] src/tree/updater_prune.cc:74: tree pruning end, 1 roots, 16 extra nodes, 8 pruned nodes, max_depth=8\u001b[0m\n",
      "\u001b[31m[190]#011train-rmse:0.218673#011validation-rmse:0.309905\u001b[0m\n",
      "\u001b[31m[22:14:16] src/tree/updater_prune.cc:74: tree pruning end, 1 roots, 16 extra nodes, 4 pruned nodes, max_depth=8\u001b[0m\n",
      "\u001b[31m[191]#011train-rmse:0.218424#011validation-rmse:0.309781\u001b[0m\n",
      "\u001b[31m[22:14:18] src/tree/updater_prune.cc:74: tree pruning end, 1 roots, 24 extra nodes, 8 pruned nodes, max_depth=8\u001b[0m\n",
      "\u001b[31m[192]#011train-rmse:0.218053#011validation-rmse:0.310027\u001b[0m\n",
      "\u001b[31m[22:14:20] src/tree/updater_prune.cc:74: tree pruning end, 1 roots, 16 extra nodes, 8 pruned nodes, max_depth=8\u001b[0m\n",
      "\u001b[31m[193]#011train-rmse:0.217923#011validation-rmse:0.309857\u001b[0m\n",
      "\u001b[31m[22:14:22] src/tree/updater_prune.cc:74: tree pruning end, 1 roots, 16 extra nodes, 22 pruned nodes, max_depth=8\u001b[0m\n",
      "\u001b[31m[194]#011train-rmse:0.217632#011validation-rmse:0.309879\u001b[0m\n",
      "\u001b[31m[22:14:24] src/tree/updater_prune.cc:74: tree pruning end, 1 roots, 24 extra nodes, 22 pruned nodes, max_depth=8\u001b[0m\n",
      "\u001b[31m[195]#011train-rmse:0.21726#011validation-rmse:0.309925\u001b[0m\n",
      "\u001b[31m[22:14:26] src/tree/updater_prune.cc:74: tree pruning end, 1 roots, 22 extra nodes, 16 pruned nodes, max_depth=8\u001b[0m\n",
      "\u001b[31m[196]#011train-rmse:0.216938#011validation-rmse:0.309884\u001b[0m\n",
      "\u001b[31m[22:14:28] src/tree/updater_prune.cc:74: tree pruning end, 1 roots, 24 extra nodes, 10 pruned nodes, max_depth=8\u001b[0m\n",
      "\u001b[31m[197]#011train-rmse:0.216629#011validation-rmse:0.309967\u001b[0m\n",
      "\u001b[31m[22:14:30] src/tree/updater_prune.cc:74: tree pruning end, 1 roots, 28 extra nodes, 14 pruned nodes, max_depth=8\u001b[0m\n",
      "\u001b[31m[198]#011train-rmse:0.216111#011validation-rmse:0.309695\u001b[0m\n",
      "\u001b[31m[22:14:32] src/tree/updater_prune.cc:74: tree pruning end, 1 roots, 20 extra nodes, 6 pruned nodes, max_depth=8\u001b[0m\n",
      "\u001b[31m[199]#011train-rmse:0.215789#011validation-rmse:0.309855\u001b[0m\n",
      "Billable seconds: 475\n"
     ]
    }
   ],
   "source": [
    "# TODO: Create a new estimator object attached to the best training job found during hyperparameter tuning\n",
    "\n",
    "xgb_attached = sagemaker.estimator.Estimator.attach(xgb_hyperparameter_tuner.best_training_job())\n"
   ]
  },
  {
   "cell_type": "markdown",
   "metadata": {},
   "source": [
    "Now that we have an estimator object attached to the correct training job, we can proceed as we normally would and create a transformer object."
   ]
  },
  {
   "cell_type": "code",
   "execution_count": 26,
   "metadata": {},
   "outputs": [],
   "source": [
    "# TODO: Create a transformer object from the attached estimator. Using an instance count of 1 and an instance type of ml.m4.xlarge\n",
    "#       should be more than enough.\n",
    "\n",
    "xgb_transformer = xgb_attached.transformer(instance_count = 1, instance_type = 'ml.m4.xlarge')\n"
   ]
  },
  {
   "cell_type": "markdown",
   "metadata": {},
   "source": [
    "Next we actually perform the transform job. When doing so we need to make sure to specify the type of data we are sending so that it is serialized correctly in the background. In our case we are providing our model with csv data so we specify `text/csv`. Also, if the test data that we have provided is too large to process all at once then we need to specify how the data file should be split up. Since each line is a single entry in our data set we tell SageMaker that it can split the input on each line."
   ]
  },
  {
   "cell_type": "code",
   "execution_count": 27,
   "metadata": {},
   "outputs": [],
   "source": [
    "# TODO: Start the transform job. Make sure to specify the content type and the split type of the test data.\n",
    "xgb_transformer.transform(test_location, content_type='text/csv', split_type='Line')"
   ]
  },
  {
   "cell_type": "markdown",
   "metadata": {},
   "source": [
    "Currently the transform job is running but it is doing so in the background. Since we wish to wait until the transform job is done and we would like a bit of feedback we can run the `wait()` method."
   ]
  },
  {
   "cell_type": "code",
   "execution_count": 28,
   "metadata": {},
   "outputs": [
    {
     "name": "stdout",
     "output_type": "stream",
     "text": [
      ".............................................!\n"
     ]
    }
   ],
   "source": [
    "xgb_transformer.wait()"
   ]
  },
  {
   "cell_type": "markdown",
   "metadata": {},
   "source": [
    "Now the transform job has executed and the result, the estimated sentiment of each review, has been saved on S3. Since we would rather work on this file locally we can perform a bit of notebook magic to copy the file to the `data_dir`."
   ]
  },
  {
   "cell_type": "code",
   "execution_count": 29,
   "metadata": {},
   "outputs": [
    {
     "name": "stdout",
     "output_type": "stream",
     "text": [
      "Completed 256.0 KiB/373.0 KiB (3.4 MiB/s) with 1 file(s) remaining\r",
      "Completed 373.0 KiB/373.0 KiB (4.8 MiB/s) with 1 file(s) remaining\r",
      "download: s3://sagemaker-us-east-2-129722534204/xgboost-190728-2152-006-8a2519e5-2019-07-28-22-16-48-150/test.csv.out to ../data/xgboost/test.csv.out\r\n"
     ]
    }
   ],
   "source": [
    "!aws s3 cp --recursive $xgb_transformer.output_path $data_dir"
   ]
  },
  {
   "cell_type": "markdown",
   "metadata": {},
   "source": [
    "The last step is now to read in the output from our model, convert the output to something a little more usable, in this case we want the sentiment to be either `1` (positive) or `0` (negative), and then compare to the ground truth labels."
   ]
  },
  {
   "cell_type": "code",
   "execution_count": 30,
   "metadata": {},
   "outputs": [],
   "source": [
    "predictions = pd.read_csv(os.path.join(data_dir, 'test.csv.out'), header=None)\n",
    "predictions = [round(num) for num in predictions.squeeze().values]"
   ]
  },
  {
   "cell_type": "code",
   "execution_count": 31,
   "metadata": {},
   "outputs": [
    {
     "data": {
      "text/plain": [
       "0.86884"
      ]
     },
     "execution_count": 31,
     "metadata": {},
     "output_type": "execute_result"
    }
   ],
   "source": [
    "from sklearn.metrics import accuracy_score\n",
    "accuracy_score(test_y, predictions)"
   ]
  },
  {
   "cell_type": "markdown",
   "metadata": {},
   "source": [
    "## Optional: Clean up\n",
    "\n",
    "The default notebook instance on SageMaker doesn't have a lot of excess disk space available. As you continue to complete and execute notebooks you will eventually fill up this disk space, leading to errors which can be difficult to diagnose. Once you are completely finished using a notebook it is a good idea to remove the files that you created along the way. Of course, you can do this from the terminal or from the notebook hub if you would like. The cell below contains some commands to clean up the created files from within the notebook."
   ]
  },
  {
   "cell_type": "code",
   "execution_count": 32,
   "metadata": {},
   "outputs": [],
   "source": [
    "# First we will remove all of the files contained in the data_dir directory\n",
    "!rm $data_dir/*\n",
    "\n",
    "# And then we delete the directory itself\n",
    "!rmdir $data_dir\n",
    "\n",
    "# Similarly we will remove the files in the cache_dir directory and the directory itself\n",
    "!rm $cache_dir/*\n",
    "!rmdir $cache_dir"
   ]
  },
  {
   "cell_type": "code",
   "execution_count": null,
   "metadata": {},
   "outputs": [],
   "source": []
  }
 ],
 "metadata": {
  "kernelspec": {
   "display_name": "conda_python3",
   "language": "python",
   "name": "conda_python3"
  },
  "language_info": {
   "codemirror_mode": {
    "name": "ipython",
    "version": 3
   },
   "file_extension": ".py",
   "mimetype": "text/x-python",
   "name": "python",
   "nbconvert_exporter": "python",
   "pygments_lexer": "ipython3",
   "version": "3.6.5"
  }
 },
 "nbformat": 4,
 "nbformat_minor": 2
}
