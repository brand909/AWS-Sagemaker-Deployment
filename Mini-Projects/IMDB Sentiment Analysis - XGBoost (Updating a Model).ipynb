{
 "cells": [
  {
   "cell_type": "markdown",
   "metadata": {},
   "source": [
    "# Sentiment Analysis\n",
    "\n",
    "## Updating a Model in SageMaker\n",
    "\n",
    "_Deep Learning Nanodegree Program | Deployment_\n",
    "\n",
    "---\n",
    "\n",
    "In this notebook we will consider a situation in which a model that we constructed is no longer working as we intended. In particular, we will look at the XGBoost sentiment analysis model that we constructed earlier. In this case, however, we have some new data that our model doesn't seem to perform very well on. As a result, we will re-train our model and update an existing endpoint so that it uses our new model.\n",
    "\n",
    "This notebook starts by re-creating the XGBoost sentiment analysis model that was created in earlier notebooks. This means that you will have already seen the cells up to the end of Step 4. The new content in this notebook begins at Step 5.\n",
    "\n",
    "## Instructions\n",
    "\n",
    "Some template code has already been provided for you, and you will need to implement additional functionality to successfully complete this notebook. You will not need to modify the included code beyond what is requested. Sections that begin with '**TODO**' in the header indicate that you need to complete or implement some portion within them. Instructions will be provided for each section and the specifics of the implementation are marked in the code block with a `# TODO: ...` comment. Please be sure to read the instructions carefully!\n",
    "\n",
    "In addition to implementing code, there will be questions for you to answer which relate to the task and your implementation. Each section where you will answer a question is preceded by a '**Question:**' header. Carefully read each question and provide your answer below the '**Answer:**' header by editing the Markdown cell.\n",
    "\n",
    "> **Note**: Code and Markdown cells can be executed using the **Shift+Enter** keyboard shortcut. In addition, a cell can be edited by typically clicking it (double-click for Markdown cells) or by pressing **Enter** while it is highlighted."
   ]
  },
  {
   "cell_type": "markdown",
   "metadata": {},
   "source": [
    "## Step 1: Downloading the data\n",
    "\n",
    "The dataset we are going to use is very popular among researchers in Natural Language Processing, usually referred to as the [IMDb dataset](http://ai.stanford.edu/~amaas/data/sentiment/). It consists of movie reviews from the website [imdb.com](http://www.imdb.com/), each labeled as either '**pos**itive', if the reviewer enjoyed the film, or '**neg**ative' otherwise.\n",
    "\n",
    "> Maas, Andrew L., et al. [Learning Word Vectors for Sentiment Analysis](http://ai.stanford.edu/~amaas/data/sentiment/). In _Proceedings of the 49th Annual Meeting of the Association for Computational Linguistics: Human Language Technologies_. Association for Computational Linguistics, 2011.\n",
    "\n",
    "We begin by using some Jupyter Notebook magic to download and extract the dataset."
   ]
  },
  {
   "cell_type": "code",
   "execution_count": 1,
   "metadata": {},
   "outputs": [
    {
     "name": "stdout",
     "output_type": "stream",
     "text": [
      "mkdir: cannot create directory ‘../data’: File exists\n",
      "--2019-07-28 22:49:44--  http://ai.stanford.edu/~amaas/data/sentiment/aclImdb_v1.tar.gz\n",
      "Resolving ai.stanford.edu (ai.stanford.edu)... 171.64.68.10\n",
      "Connecting to ai.stanford.edu (ai.stanford.edu)|171.64.68.10|:80... connected.\n",
      "HTTP request sent, awaiting response... 200 OK\n",
      "Length: 84125825 (80M) [application/x-gzip]\n",
      "Saving to: ‘../data/aclImdb_v1.tar.gz’\n",
      "\n",
      "../data/aclImdb_v1. 100%[===================>]  80.23M  24.4MB/s    in 4.7s    \n",
      "\n",
      "2019-07-28 22:49:49 (17.1 MB/s) - ‘../data/aclImdb_v1.tar.gz’ saved [84125825/84125825]\n",
      "\n"
     ]
    }
   ],
   "source": [
    "%mkdir ../data\n",
    "!wget -O ../data/aclImdb_v1.tar.gz http://ai.stanford.edu/~amaas/data/sentiment/aclImdb_v1.tar.gz\n",
    "!tar -zxf ../data/aclImdb_v1.tar.gz -C ../data"
   ]
  },
  {
   "cell_type": "markdown",
   "metadata": {},
   "source": [
    "## Step 2: Preparing the data\n",
    "\n",
    "The data we have downloaded is split into various files, each of which contains a single review. It will be much easier going forward if we combine these individual files into two large files, one for training and one for testing."
   ]
  },
  {
   "cell_type": "code",
   "execution_count": 1,
   "metadata": {},
   "outputs": [],
   "source": [
    "import os\n",
    "import glob\n",
    "\n",
    "def read_imdb_data(data_dir='../data/aclImdb'):\n",
    "    data = {}\n",
    "    labels = {}\n",
    "    \n",
    "    for data_type in ['train', 'test']:\n",
    "        data[data_type] = {}\n",
    "        labels[data_type] = {}\n",
    "        \n",
    "        for sentiment in ['pos', 'neg']:\n",
    "            data[data_type][sentiment] = []\n",
    "            labels[data_type][sentiment] = []\n",
    "            \n",
    "            path = os.path.join(data_dir, data_type, sentiment, '*.txt')\n",
    "            files = glob.glob(path)\n",
    "            \n",
    "            for f in files:\n",
    "                with open(f) as review:\n",
    "                    data[data_type][sentiment].append(review.read())\n",
    "                    # Here we represent a positive review by '1' and a negative review by '0'\n",
    "                    labels[data_type][sentiment].append(1 if sentiment == 'pos' else 0)\n",
    "                    \n",
    "            assert len(data[data_type][sentiment]) == len(labels[data_type][sentiment]), \\\n",
    "                    \"{}/{} data size does not match labels size\".format(data_type, sentiment)\n",
    "                \n",
    "    return data, labels"
   ]
  },
  {
   "cell_type": "code",
   "execution_count": 2,
   "metadata": {},
   "outputs": [
    {
     "name": "stdout",
     "output_type": "stream",
     "text": [
      "IMDB reviews: train = 12500 pos / 12500 neg, test = 12500 pos / 12500 neg\n"
     ]
    }
   ],
   "source": [
    "data, labels = read_imdb_data()\n",
    "print(\"IMDB reviews: train = {} pos / {} neg, test = {} pos / {} neg\".format(\n",
    "            len(data['train']['pos']), len(data['train']['neg']),\n",
    "            len(data['test']['pos']), len(data['test']['neg'])))"
   ]
  },
  {
   "cell_type": "code",
   "execution_count": 3,
   "metadata": {},
   "outputs": [],
   "source": [
    "from sklearn.utils import shuffle\n",
    "\n",
    "def prepare_imdb_data(data, labels):\n",
    "    \"\"\"Prepare training and test sets from IMDb movie reviews.\"\"\"\n",
    "    \n",
    "    #Combine positive and negative reviews and labels\n",
    "    data_train = data['train']['pos'] + data['train']['neg']\n",
    "    data_test = data['test']['pos'] + data['test']['neg']\n",
    "    labels_train = labels['train']['pos'] + labels['train']['neg']\n",
    "    labels_test = labels['test']['pos'] + labels['test']['neg']\n",
    "    \n",
    "    #Shuffle reviews and corresponding labels within training and test sets\n",
    "    data_train, labels_train = shuffle(data_train, labels_train)\n",
    "    data_test, labels_test = shuffle(data_test, labels_test)\n",
    "    \n",
    "    # Return a unified training data, test data, training labels, test labets\n",
    "    return data_train, data_test, labels_train, labels_test"
   ]
  },
  {
   "cell_type": "code",
   "execution_count": 4,
   "metadata": {},
   "outputs": [
    {
     "name": "stdout",
     "output_type": "stream",
     "text": [
      "IMDb reviews (combined): train = 25000, test = 25000\n"
     ]
    }
   ],
   "source": [
    "train_X, test_X, train_y, test_y = prepare_imdb_data(data, labels)\n",
    "print(\"IMDb reviews (combined): train = {}, test = {}\".format(len(train_X), len(test_X)))"
   ]
  },
  {
   "cell_type": "code",
   "execution_count": 5,
   "metadata": {},
   "outputs": [
    {
     "data": {
      "text/plain": [
       "\"I am dumbfounded that I actually sat and watched this. I love independent films, horror films, and the whole zombie thing in general. But when you add ninga's, you've crossed a line that should never be crossed. I hope the people in this movie had a great time making it, then at least it wasn't a total waste. You'd never know by watching it though. Script? Are you kidding. Acting? I think even the trees were faking. Cinematography? Well, there must've been a camera there. Period. I don't think there was any actual planning involved in the making of this movie. Such a total waste of time that I won't prolong it by commenting further.\""
      ]
     },
     "execution_count": 5,
     "metadata": {},
     "output_type": "execute_result"
    }
   ],
   "source": [
    "train_X[100]"
   ]
  },
  {
   "cell_type": "markdown",
   "metadata": {},
   "source": [
    "## Step 3: Processing the data\n",
    "\n",
    "Now that we have our training and testing datasets merged and ready to use, we need to start processing the raw data into something that will be useable by our machine learning algorithm. To begin with, we remove any html formatting that may appear in the reviews and perform some standard natural language processing in order to homogenize the data."
   ]
  },
  {
   "cell_type": "code",
   "execution_count": 6,
   "metadata": {},
   "outputs": [
    {
     "name": "stdout",
     "output_type": "stream",
     "text": [
      "[nltk_data] Downloading package stopwords to\n",
      "[nltk_data]     /home/ec2-user/nltk_data...\n",
      "[nltk_data]   Unzipping corpora/stopwords.zip.\n"
     ]
    }
   ],
   "source": [
    "import nltk\n",
    "nltk.download(\"stopwords\")\n",
    "from nltk.corpus import stopwords\n",
    "from nltk.stem.porter import *\n",
    "stemmer = PorterStemmer()"
   ]
  },
  {
   "cell_type": "code",
   "execution_count": 7,
   "metadata": {},
   "outputs": [],
   "source": [
    "import re\n",
    "from bs4 import BeautifulSoup\n",
    "\n",
    "def review_to_words(review):\n",
    "    text = BeautifulSoup(review, \"html.parser\").get_text() # Remove HTML tags\n",
    "    text = re.sub(r\"[^a-zA-Z0-9]\", \" \", text.lower()) # Convert to lower case\n",
    "    words = text.split() # Split string into words\n",
    "    words = [w for w in words if w not in stopwords.words(\"english\")] # Remove stopwords\n",
    "    words = [PorterStemmer().stem(w) for w in words] # stem\n",
    "    \n",
    "    return words"
   ]
  },
  {
   "cell_type": "code",
   "execution_count": 8,
   "metadata": {},
   "outputs": [
    {
     "data": {
      "text/plain": [
       "['dumbfound',\n",
       " 'actual',\n",
       " 'sat',\n",
       " 'watch',\n",
       " 'love',\n",
       " 'independ',\n",
       " 'film',\n",
       " 'horror',\n",
       " 'film',\n",
       " 'whole',\n",
       " 'zombi',\n",
       " 'thing',\n",
       " 'gener',\n",
       " 'add',\n",
       " 'ninga',\n",
       " 'cross',\n",
       " 'line',\n",
       " 'never',\n",
       " 'cross',\n",
       " 'hope',\n",
       " 'peopl',\n",
       " 'movi',\n",
       " 'great',\n",
       " 'time',\n",
       " 'make',\n",
       " 'least',\n",
       " 'total',\n",
       " 'wast',\n",
       " 'never',\n",
       " 'know',\n",
       " 'watch',\n",
       " 'though',\n",
       " 'script',\n",
       " 'kid',\n",
       " 'act',\n",
       " 'think',\n",
       " 'even',\n",
       " 'tree',\n",
       " 'fake',\n",
       " 'cinematographi',\n",
       " 'well',\n",
       " 'must',\n",
       " 'camera',\n",
       " 'period',\n",
       " 'think',\n",
       " 'actual',\n",
       " 'plan',\n",
       " 'involv',\n",
       " 'make',\n",
       " 'movi',\n",
       " 'total',\n",
       " 'wast',\n",
       " 'time',\n",
       " 'prolong',\n",
       " 'comment']"
      ]
     },
     "execution_count": 8,
     "metadata": {},
     "output_type": "execute_result"
    }
   ],
   "source": [
    "review_to_words(train_X[100])"
   ]
  },
  {
   "cell_type": "code",
   "execution_count": 9,
   "metadata": {},
   "outputs": [],
   "source": [
    "import pickle\n",
    "\n",
    "cache_dir = os.path.join(\"../cache\", \"sentiment_analysis\")  # where to store cache files\n",
    "os.makedirs(cache_dir, exist_ok=True)  # ensure cache directory exists\n",
    "\n",
    "def preprocess_data(data_train, data_test, labels_train, labels_test,\n",
    "                    cache_dir=cache_dir, cache_file=\"preprocessed_data.pkl\"):\n",
    "    \"\"\"Convert each review to words; read from cache if available.\"\"\"\n",
    "\n",
    "    # If cache_file is not None, try to read from it first\n",
    "    cache_data = None\n",
    "    if cache_file is not None:\n",
    "        try:\n",
    "            with open(os.path.join(cache_dir, cache_file), \"rb\") as f:\n",
    "                cache_data = pickle.load(f)\n",
    "            print(\"Read preprocessed data from cache file:\", cache_file)\n",
    "        except:\n",
    "            pass  # unable to read from cache, but that's okay\n",
    "    \n",
    "    # If cache is missing, then do the heavy lifting\n",
    "    if cache_data is None:\n",
    "        # Preprocess training and test data to obtain words for each review\n",
    "        #words_train = list(map(review_to_words, data_train))\n",
    "        #words_test = list(map(review_to_words, data_test))\n",
    "        words_train = [review_to_words(review) for review in data_train]\n",
    "        words_test = [review_to_words(review) for review in data_test]\n",
    "        \n",
    "        # Write to cache file for future runs\n",
    "        if cache_file is not None:\n",
    "            cache_data = dict(words_train=words_train, words_test=words_test,\n",
    "                              labels_train=labels_train, labels_test=labels_test)\n",
    "            with open(os.path.join(cache_dir, cache_file), \"wb\") as f:\n",
    "                pickle.dump(cache_data, f)\n",
    "            print(\"Wrote preprocessed data to cache file:\", cache_file)\n",
    "    else:\n",
    "        # Unpack data loaded from cache file\n",
    "        words_train, words_test, labels_train, labels_test = (cache_data['words_train'],\n",
    "                cache_data['words_test'], cache_data['labels_train'], cache_data['labels_test'])\n",
    "    \n",
    "    return words_train, words_test, labels_train, labels_test"
   ]
  },
  {
   "cell_type": "code",
   "execution_count": 11,
   "metadata": {},
   "outputs": [
    {
     "name": "stdout",
     "output_type": "stream",
     "text": [
      "Wrote preprocessed data to cache file: preprocessed_data.pkl\n"
     ]
    }
   ],
   "source": [
    "# Preprocess data\n",
    "train_X, test_X, train_y, test_y = preprocess_data(train_X, test_X, train_y, test_y)"
   ]
  },
  {
   "cell_type": "markdown",
   "metadata": {},
   "source": [
    "### Extract Bag-of-Words features\n",
    "\n",
    "For the model we will be implementing, rather than using the reviews directly, we are going to transform each review into a Bag-of-Words feature representation. Keep in mind that 'in the wild' we will only have access to the training set so our transformer can only use the training set to construct a representation."
   ]
  },
  {
   "cell_type": "code",
   "execution_count": 10,
   "metadata": {},
   "outputs": [],
   "source": [
    "import numpy as np\n",
    "from sklearn.feature_extraction.text import CountVectorizer\n",
    "from sklearn.externals import joblib\n",
    "# joblib is an enhanced version of pickle that is more efficient for storing NumPy arrays\n",
    "\n",
    "def extract_BoW_features(words_train, words_test, vocabulary_size=5000,\n",
    "                         cache_dir=cache_dir, cache_file=\"bow_features.pkl\"):\n",
    "    \"\"\"Extract Bag-of-Words for a given set of documents, already preprocessed into words.\"\"\"\n",
    "    \n",
    "    # If cache_file is not None, try to read from it first\n",
    "    cache_data = None\n",
    "    if cache_file is not None:\n",
    "        try:\n",
    "            with open(os.path.join(cache_dir, cache_file), \"rb\") as f:\n",
    "                cache_data = joblib.load(f)\n",
    "            print(\"Read features from cache file:\", cache_file)\n",
    "        except:\n",
    "            pass  # unable to read from cache, but that's okay\n",
    "    \n",
    "    # If cache is missing, then do the heavy lifting\n",
    "    if cache_data is None:\n",
    "        # Fit a vectorizer to training documents and use it to transform them\n",
    "        # NOTE: Training documents have already been preprocessed and tokenized into words;\n",
    "        #       pass in dummy functions to skip those steps, e.g. preprocessor=lambda x: x\n",
    "        vectorizer = CountVectorizer(max_features=vocabulary_size,\n",
    "                preprocessor=lambda x: x, tokenizer=lambda x: x)  # already preprocessed\n",
    "        features_train = vectorizer.fit_transform(words_train).toarray()\n",
    "\n",
    "        # Apply the same vectorizer to transform the test documents (ignore unknown words)\n",
    "        features_test = vectorizer.transform(words_test).toarray()\n",
    "        \n",
    "        # NOTE: Remember to convert the features using .toarray() for a compact representation\n",
    "        \n",
    "        # Write to cache file for future runs (store vocabulary as well)\n",
    "        if cache_file is not None:\n",
    "            vocabulary = vectorizer.vocabulary_\n",
    "            cache_data = dict(features_train=features_train, features_test=features_test,\n",
    "                             vocabulary=vocabulary)\n",
    "            with open(os.path.join(cache_dir, cache_file), \"wb\") as f:\n",
    "                joblib.dump(cache_data, f)\n",
    "            print(\"Wrote features to cache file:\", cache_file)\n",
    "    else:\n",
    "        # Unpack data loaded from cache file\n",
    "        features_train, features_test, vocabulary = (cache_data['features_train'],\n",
    "                cache_data['features_test'], cache_data['vocabulary'])\n",
    "    \n",
    "    # Return both the extracted features as well as the vocabulary\n",
    "    return features_train, features_test, vocabulary"
   ]
  },
  {
   "cell_type": "code",
   "execution_count": 11,
   "metadata": {},
   "outputs": [
    {
     "name": "stdout",
     "output_type": "stream",
     "text": [
      "Wrote features to cache file: bow_features.pkl\n"
     ]
    }
   ],
   "source": [
    "# Extract Bag of Words features for both training and test datasets\n",
    "train_X, test_X, vocabulary = extract_BoW_features(train_X, test_X)"
   ]
  },
  {
   "cell_type": "code",
   "execution_count": 12,
   "metadata": {},
   "outputs": [
    {
     "data": {
      "text/plain": [
       "178"
      ]
     },
     "execution_count": 12,
     "metadata": {},
     "output_type": "execute_result"
    }
   ],
   "source": [
    "len(train_X[100])"
   ]
  },
  {
   "cell_type": "markdown",
   "metadata": {},
   "source": [
    "## Step 4: Classification using XGBoost\n",
    "\n",
    "Now that we have created the feature representation of our training (and testing) data, it is time to start setting up and using the XGBoost classifier provided by SageMaker.\n",
    "\n",
    "### Writing the dataset\n",
    "\n",
    "The XGBoost classifier that we will be using requires the dataset to be written to a file and stored using Amazon S3. To do this, we will start by splitting the training dataset into two parts, the data we will train the model with and a validation set. Then, we will write those datasets to a file and upload the files to S3. In addition, we will write the test set input to a file and upload the file to S3. This is so that we can use SageMakers Batch Transform functionality to test our model once we've fit it."
   ]
  },
  {
   "cell_type": "code",
   "execution_count": 13,
   "metadata": {},
   "outputs": [],
   "source": [
    "import pandas as pd\n",
    "\n",
    "# Earlier we shuffled the training dataset so to make things simple we can just assign\n",
    "# the first 10 000 reviews to the validation set and use the remaining reviews for training.\n",
    "val_X = pd.DataFrame(train_X[:10000])\n",
    "train_X = pd.DataFrame(train_X[10000:])\n",
    "\n",
    "val_y = pd.DataFrame(train_y[:10000])\n",
    "train_y = pd.DataFrame(train_y[10000:])"
   ]
  },
  {
   "cell_type": "markdown",
   "metadata": {},
   "source": [
    "The documentation for the XGBoost algorithm in SageMaker requires that the saved datasets should contain no headers or index and that for the training and validation data, the label should occur first for each sample.\n",
    "\n",
    "For more information about this and other algorithms, the SageMaker developer documentation can be found on __[Amazon's website.](https://docs.aws.amazon.com/sagemaker/latest/dg/)__"
   ]
  },
  {
   "cell_type": "code",
   "execution_count": 14,
   "metadata": {},
   "outputs": [],
   "source": [
    "# First we make sure that the local directory in which we'd like to store the training and validation csv files exists.\n",
    "data_dir = '../data/sentiment_update'\n",
    "if not os.path.exists(data_dir):\n",
    "    os.makedirs(data_dir)"
   ]
  },
  {
   "cell_type": "code",
   "execution_count": 15,
   "metadata": {},
   "outputs": [],
   "source": [
    "pd.DataFrame(test_X).to_csv(os.path.join(data_dir, 'test.csv'), header=False, index=False)\n",
    "\n",
    "pd.concat([val_y, val_X], axis=1).to_csv(os.path.join(data_dir, 'validation.csv'), header=False, index=False)\n",
    "pd.concat([train_y, train_X], axis=1).to_csv(os.path.join(data_dir, 'train.csv'), header=False, index=False)"
   ]
  },
  {
   "cell_type": "code",
   "execution_count": 16,
   "metadata": {},
   "outputs": [],
   "source": [
    "# To save a bit of memory we can set text_X, train_X, val_X, train_y and val_y to None.\n",
    "\n",
    "test_X = train_X = val_X = train_y = val_y = None"
   ]
  },
  {
   "cell_type": "markdown",
   "metadata": {},
   "source": [
    "### Uploading Training / Validation files to S3\n",
    "\n",
    "Amazon's S3 service allows us to store files that can be access by both the built-in training models such as the XGBoost model we will be using as well as custom models such as the one we will see a little later.\n",
    "\n",
    "For this, and most other tasks we will be doing using SageMaker, there are two methods we could use. The first is to use the low level functionality of SageMaker which requires knowing each of the objects involved in the SageMaker environment. The second is to use the high level functionality in which certain choices have been made on the user's behalf. The low level approach benefits from allowing the user a great deal of flexibility while the high level approach makes development much quicker. For our purposes we will opt to use the high level approach although using the low-level approach is certainly an option.\n",
    "\n",
    "Recall the method `upload_data()` which is a member of object representing our current SageMaker session. What this method does is upload the data to the default bucket (which is created if it does not exist) into the path described by the key_prefix variable. To see this for yourself, once you have uploaded the data files, go to the S3 console and look to see where the files have been uploaded.\n",
    "\n",
    "For additional resources, see the __[SageMaker API documentation](http://sagemaker.readthedocs.io/en/latest/)__ and in addition the __[SageMaker Developer Guide.](https://docs.aws.amazon.com/sagemaker/latest/dg/)__"
   ]
  },
  {
   "cell_type": "code",
   "execution_count": 17,
   "metadata": {},
   "outputs": [],
   "source": [
    "import sagemaker\n",
    "\n",
    "session = sagemaker.Session() # Store the current SageMaker session\n",
    "\n",
    "# S3 prefix (which folder will we use)\n",
    "prefix = 'sentiment-update'\n",
    "\n",
    "test_location = session.upload_data(os.path.join(data_dir, 'test.csv'), key_prefix=prefix)\n",
    "val_location = session.upload_data(os.path.join(data_dir, 'validation.csv'), key_prefix=prefix)\n",
    "train_location = session.upload_data(os.path.join(data_dir, 'train.csv'), key_prefix=prefix)"
   ]
  },
  {
   "cell_type": "markdown",
   "metadata": {},
   "source": [
    "### Creating the XGBoost model\n",
    "\n",
    "Now that the data has been uploaded it is time to create the XGBoost model. To begin with, we need to do some setup. At this point it is worth discussing what a model is in SageMaker. It is easiest to think of a model of comprising three different objects in the SageMaker ecosystem, which interact with one another.\n",
    "\n",
    "- Model Artifacts\n",
    "- Training Code (Container)\n",
    "- Inference Code (Container)\n",
    "\n",
    "The Model Artifacts are what you might think of as the actual model itself. For example, if you were building a neural network, the model artifacts would be the weights of the various layers. In our case, for an XGBoost model, the artifacts are the actual trees that are created during training.\n",
    "\n",
    "The other two objects, the training code and the inference code are then used the manipulate the training artifacts. More precisely, the training code uses the training data that is provided and creates the model artifacts, while the inference code uses the model artifacts to make predictions on new data.\n",
    "\n",
    "The way that SageMaker runs the training and inference code is by making use of Docker containers. For now, think of a container as being a way of packaging code up so that dependencies aren't an issue."
   ]
  },
  {
   "cell_type": "code",
   "execution_count": 18,
   "metadata": {},
   "outputs": [],
   "source": [
    "from sagemaker import get_execution_role\n",
    "\n",
    "# Our current execution role is require when creating the model as the training\n",
    "# and inference code will need to access the model artifacts.\n",
    "role = get_execution_role()"
   ]
  },
  {
   "cell_type": "code",
   "execution_count": 19,
   "metadata": {},
   "outputs": [],
   "source": [
    "# We need to retrieve the location of the container which is provided by Amazon for using XGBoost.\n",
    "# As a matter of convenience, the training and inference code both use the same container.\n",
    "from sagemaker.amazon.amazon_estimator import get_image_uri\n",
    "\n",
    "container = get_image_uri(session.boto_region_name, 'xgboost')"
   ]
  },
  {
   "cell_type": "code",
   "execution_count": 20,
   "metadata": {},
   "outputs": [],
   "source": [
    "# First we create a SageMaker estimator object for our model.\n",
    "xgb = sagemaker.estimator.Estimator(container, # The location of the container we wish to use\n",
    "                                    role,                                    # What is our current IAM Role\n",
    "                                    train_instance_count=1,                  # How many compute instances\n",
    "                                    train_instance_type='ml.m4.xlarge',      # What kind of compute instances\n",
    "                                    output_path='s3://{}/{}/output'.format(session.default_bucket(), prefix),\n",
    "                                    sagemaker_session=session)\n",
    "\n",
    "# And then set the algorithm specific parameters.\n",
    "xgb.set_hyperparameters(max_depth=5,\n",
    "                        eta=0.2,\n",
    "                        gamma=4,\n",
    "                        min_child_weight=6,\n",
    "                        subsample=0.8,\n",
    "                        silent=0,\n",
    "                        objective='binary:logistic',\n",
    "                        early_stopping_rounds=10,\n",
    "                        num_round=500)"
   ]
  },
  {
   "cell_type": "markdown",
   "metadata": {},
   "source": [
    "### Fit the XGBoost model\n",
    "\n",
    "Now that our model has been set up we simply need to attach the training and validation datasets and then ask SageMaker to set up the computation."
   ]
  },
  {
   "cell_type": "code",
   "execution_count": 21,
   "metadata": {},
   "outputs": [],
   "source": [
    "s3_input_train = sagemaker.s3_input(s3_data=train_location, content_type='csv')\n",
    "s3_input_validation = sagemaker.s3_input(s3_data=val_location, content_type='csv')"
   ]
  },
  {
   "cell_type": "code",
   "execution_count": 22,
   "metadata": {},
   "outputs": [
    {
     "name": "stdout",
     "output_type": "stream",
     "text": [
      "2019-07-29 10:19:24 Starting - Starting the training job...\n",
      "2019-07-29 10:19:26 Starting - Launching requested ML instances......\n",
      "2019-07-29 10:20:26 Starting - Preparing the instances for training...\n",
      "2019-07-29 10:21:20 Downloading - Downloading input data...\n",
      "2019-07-29 10:21:40 Training - Downloading the training image..\n",
      "\u001b[31mArguments: train\u001b[0m\n",
      "\u001b[31m[2019-07-29:10:21:59:INFO] Running standalone xgboost training.\u001b[0m\n",
      "\u001b[31m[2019-07-29:10:21:59:INFO] File size need to be processed in the node: 9.14mb. Available memory size in the node: 8446.86mb\u001b[0m\n",
      "\u001b[31m[2019-07-29:10:21:59:INFO] Determined delimiter of CSV input is ','\u001b[0m\n",
      "\u001b[31m[10:21:59] S3DistributionType set as FullyReplicated\u001b[0m\n",
      "\u001b[31m[10:21:59] 15000x178 matrix with 2670000 entries loaded from /opt/ml/input/data/train?format=csv&label_column=0&delimiter=,\u001b[0m\n",
      "\u001b[31m[2019-07-29:10:21:59:INFO] Determined delimiter of CSV input is ','\u001b[0m\n",
      "\u001b[31m[10:21:59] S3DistributionType set as FullyReplicated\u001b[0m\n",
      "\u001b[31m[10:21:59] 10000x178 matrix with 1780000 entries loaded from /opt/ml/input/data/validation?format=csv&label_column=0&delimiter=,\u001b[0m\n",
      "\u001b[31m[10:21:59] src/tree/updater_prune.cc:74: tree pruning end, 1 roots, 58 extra nodes, 4 pruned nodes, max_depth=5\u001b[0m\n",
      "\u001b[31m[0]#011train-error:0.396667#011validation-error:0.4226\u001b[0m\n",
      "\u001b[31mMultiple eval metrics have been passed: 'validation-error' will be used for early stopping.\n",
      "\u001b[0m\n",
      "\u001b[31mWill train until validation-error hasn't improved in 10 rounds.\u001b[0m\n",
      "\u001b[31m[10:21:59] src/tree/updater_prune.cc:74: tree pruning end, 1 roots, 52 extra nodes, 2 pruned nodes, max_depth=5\u001b[0m\n",
      "\u001b[31m[1]#011train-error:0.383333#011validation-error:0.4013\u001b[0m\n",
      "\u001b[31m[10:21:59] src/tree/updater_prune.cc:74: tree pruning end, 1 roots, 52 extra nodes, 6 pruned nodes, max_depth=5\u001b[0m\n",
      "\u001b[31m[2]#011train-error:0.374#011validation-error:0.3943\u001b[0m\n",
      "\u001b[31m[10:21:59] src/tree/updater_prune.cc:74: tree pruning end, 1 roots, 54 extra nodes, 2 pruned nodes, max_depth=5\u001b[0m\n",
      "\u001b[31m[3]#011train-error:0.367133#011validation-error:0.3896\u001b[0m\n",
      "\u001b[31m[10:21:59] src/tree/updater_prune.cc:74: tree pruning end, 1 roots, 48 extra nodes, 4 pruned nodes, max_depth=5\u001b[0m\n",
      "\u001b[31m[4]#011train-error:0.361867#011validation-error:0.3851\u001b[0m\n",
      "\u001b[31m[10:21:59] src/tree/updater_prune.cc:74: tree pruning end, 1 roots, 50 extra nodes, 2 pruned nodes, max_depth=5\u001b[0m\n",
      "\u001b[31m[5]#011train-error:0.357667#011validation-error:0.3839\u001b[0m\n",
      "\u001b[31m[10:21:59] src/tree/updater_prune.cc:74: tree pruning end, 1 roots, 58 extra nodes, 0 pruned nodes, max_depth=5\u001b[0m\n",
      "\u001b[31m[6]#011train-error:0.348#011validation-error:0.3788\u001b[0m\n",
      "\u001b[31m[10:22:00] src/tree/updater_prune.cc:74: tree pruning end, 1 roots, 54 extra nodes, 6 pruned nodes, max_depth=5\u001b[0m\n",
      "\u001b[31m[7]#011train-error:0.3418#011validation-error:0.3766\u001b[0m\n",
      "\u001b[31m[10:22:00] src/tree/updater_prune.cc:74: tree pruning end, 1 roots, 56 extra nodes, 4 pruned nodes, max_depth=5\u001b[0m\n",
      "\u001b[31m[8]#011train-error:0.3368#011validation-error:0.3774\u001b[0m\n",
      "\u001b[31m[10:22:00] src/tree/updater_prune.cc:74: tree pruning end, 1 roots, 54 extra nodes, 2 pruned nodes, max_depth=5\u001b[0m\n",
      "\u001b[31m[9]#011train-error:0.3332#011validation-error:0.3756\u001b[0m\n",
      "\u001b[31m[10:22:00] src/tree/updater_prune.cc:74: tree pruning end, 1 roots, 40 extra nodes, 2 pruned nodes, max_depth=5\u001b[0m\n",
      "\u001b[31m[10]#011train-error:0.328133#011validation-error:0.3725\u001b[0m\n",
      "\u001b[31m[10:22:00] src/tree/updater_prune.cc:74: tree pruning end, 1 roots, 54 extra nodes, 2 pruned nodes, max_depth=5\u001b[0m\n",
      "\u001b[31m[11]#011train-error:0.3232#011validation-error:0.3712\u001b[0m\n",
      "\u001b[31m[10:22:00] src/tree/updater_prune.cc:74: tree pruning end, 1 roots, 50 extra nodes, 4 pruned nodes, max_depth=5\u001b[0m\n",
      "\u001b[31m[12]#011train-error:0.3204#011validation-error:0.3703\u001b[0m\n",
      "\u001b[31m[10:22:00] src/tree/updater_prune.cc:74: tree pruning end, 1 roots, 40 extra nodes, 4 pruned nodes, max_depth=5\u001b[0m\n",
      "\u001b[31m[13]#011train-error:0.318933#011validation-error:0.3703\u001b[0m\n",
      "\u001b[31m[10:22:00] src/tree/updater_prune.cc:74: tree pruning end, 1 roots, 44 extra nodes, 2 pruned nodes, max_depth=5\u001b[0m\n",
      "\u001b[31m[14]#011train-error:0.313733#011validation-error:0.3657\u001b[0m\n",
      "\u001b[31m[10:22:00] src/tree/updater_prune.cc:74: tree pruning end, 1 roots, 32 extra nodes, 6 pruned nodes, max_depth=5\u001b[0m\n",
      "\u001b[31m[15]#011train-error:0.3124#011validation-error:0.3641\u001b[0m\n",
      "\u001b[31m[10:22:00] src/tree/updater_prune.cc:74: tree pruning end, 1 roots, 48 extra nodes, 4 pruned nodes, max_depth=5\u001b[0m\n",
      "\u001b[31m[16]#011train-error:0.308867#011validation-error:0.3628\u001b[0m\n",
      "\u001b[31m[10:22:00] src/tree/updater_prune.cc:74: tree pruning end, 1 roots, 38 extra nodes, 4 pruned nodes, max_depth=5\u001b[0m\n",
      "\u001b[31m[17]#011train-error:0.304533#011validation-error:0.359\u001b[0m\n",
      "\u001b[31m[10:22:00] src/tree/updater_prune.cc:74: tree pruning end, 1 roots, 56 extra nodes, 2 pruned nodes, max_depth=5\u001b[0m\n",
      "\u001b[31m[18]#011train-error:0.301533#011validation-error:0.3587\u001b[0m\n",
      "\u001b[31m[10:22:00] src/tree/updater_prune.cc:74: tree pruning end, 1 roots, 58 extra nodes, 0 pruned nodes, max_depth=5\u001b[0m\n",
      "\u001b[31m[19]#011train-error:0.2952#011validation-error:0.356\u001b[0m\n",
      "\u001b[31m[10:22:00] src/tree/updater_prune.cc:74: tree pruning end, 1 roots, 58 extra nodes, 2 pruned nodes, max_depth=5\u001b[0m\n",
      "\u001b[31m[20]#011train-error:0.292#011validation-error:0.357\u001b[0m\n",
      "\u001b[31m[10:22:00] src/tree/updater_prune.cc:74: tree pruning end, 1 roots, 42 extra nodes, 8 pruned nodes, max_depth=5\u001b[0m\n",
      "\u001b[31m[21]#011train-error:0.291133#011validation-error:0.3558\u001b[0m\n",
      "\u001b[31m[10:22:00] src/tree/updater_prune.cc:74: tree pruning end, 1 roots, 48 extra nodes, 4 pruned nodes, max_depth=5\u001b[0m\n",
      "\u001b[31m[22]#011train-error:0.288333#011validation-error:0.3546\u001b[0m\n",
      "\u001b[31m[10:22:00] src/tree/updater_prune.cc:74: tree pruning end, 1 roots, 32 extra nodes, 8 pruned nodes, max_depth=5\u001b[0m\n",
      "\u001b[31m[23]#011train-error:0.285667#011validation-error:0.3534\u001b[0m\n",
      "\u001b[31m[10:22:01] src/tree/updater_prune.cc:74: tree pruning end, 1 roots, 52 extra nodes, 4 pruned nodes, max_depth=5\u001b[0m\n",
      "\u001b[31m[24]#011train-error:0.281133#011validation-error:0.3521\u001b[0m\n",
      "\u001b[31m[10:22:01] src/tree/updater_prune.cc:74: tree pruning end, 1 roots, 24 extra nodes, 6 pruned nodes, max_depth=5\u001b[0m\n",
      "\u001b[31m[25]#011train-error:0.280133#011validation-error:0.3534\u001b[0m\n",
      "\u001b[31m[10:22:01] src/tree/updater_prune.cc:74: tree pruning end, 1 roots, 34 extra nodes, 6 pruned nodes, max_depth=5\u001b[0m\n",
      "\u001b[31m[26]#011train-error:0.278933#011validation-error:0.3536\u001b[0m\n",
      "\u001b[31m[10:22:01] src/tree/updater_prune.cc:74: tree pruning end, 1 roots, 56 extra nodes, 2 pruned nodes, max_depth=5\u001b[0m\n",
      "\u001b[31m[27]#011train-error:0.2786#011validation-error:0.3514\u001b[0m\n",
      "\u001b[31m[10:22:01] src/tree/updater_prune.cc:74: tree pruning end, 1 roots, 32 extra nodes, 10 pruned nodes, max_depth=5\u001b[0m\n",
      "\u001b[31m[28]#011train-error:0.2774#011validation-error:0.3516\u001b[0m\n",
      "\u001b[31m[10:22:01] src/tree/updater_prune.cc:74: tree pruning end, 1 roots, 30 extra nodes, 12 pruned nodes, max_depth=5\u001b[0m\n",
      "\u001b[31m[29]#011train-error:0.277067#011validation-error:0.3508\u001b[0m\n",
      "\u001b[31m[10:22:01] src/tree/updater_prune.cc:74: tree pruning end, 1 roots, 42 extra nodes, 4 pruned nodes, max_depth=5\u001b[0m\n",
      "\u001b[31m[30]#011train-error:0.273533#011validation-error:0.35\u001b[0m\n",
      "\u001b[31m[10:22:01] src/tree/updater_prune.cc:74: tree pruning end, 1 roots, 28 extra nodes, 8 pruned nodes, max_depth=5\u001b[0m\n",
      "\u001b[31m[31]#011train-error:0.2734#011validation-error:0.35\u001b[0m\n",
      "\u001b[31m[10:22:01] src/tree/updater_prune.cc:74: tree pruning end, 1 roots, 42 extra nodes, 10 pruned nodes, max_depth=5\u001b[0m\n",
      "\u001b[31m[32]#011train-error:0.2722#011validation-error:0.3506\u001b[0m\n",
      "\u001b[31m[10:22:01] src/tree/updater_prune.cc:74: tree pruning end, 1 roots, 50 extra nodes, 8 pruned nodes, max_depth=5\u001b[0m\n",
      "\u001b[31m[33]#011train-error:0.271#011validation-error:0.3518\u001b[0m\n",
      "\u001b[31m[10:22:01] src/tree/updater_prune.cc:74: tree pruning end, 1 roots, 42 extra nodes, 4 pruned nodes, max_depth=5\u001b[0m\n",
      "\u001b[31m[34]#011train-error:0.2684#011validation-error:0.3516\u001b[0m\n",
      "\u001b[31m[10:22:01] src/tree/updater_prune.cc:74: tree pruning end, 1 roots, 44 extra nodes, 4 pruned nodes, max_depth=5\u001b[0m\n",
      "\u001b[31m[35]#011train-error:0.2654#011validation-error:0.3491\u001b[0m\n",
      "\u001b[31m[10:22:01] src/tree/updater_prune.cc:74: tree pruning end, 1 roots, 42 extra nodes, 4 pruned nodes, max_depth=5\u001b[0m\n",
      "\u001b[31m[36]#011train-error:0.2628#011validation-error:0.348\u001b[0m\n",
      "\u001b[31m[10:22:01] src/tree/updater_prune.cc:74: tree pruning end, 1 roots, 26 extra nodes, 4 pruned nodes, max_depth=5\u001b[0m\n",
      "\u001b[31m[37]#011train-error:0.262333#011validation-error:0.3489\u001b[0m\n",
      "\u001b[31m[10:22:02] src/tree/updater_prune.cc:74: tree pruning end, 1 roots, 50 extra nodes, 6 pruned nodes, max_depth=5\u001b[0m\n",
      "\u001b[31m[38]#011train-error:0.259533#011validation-error:0.3475\u001b[0m\n",
      "\u001b[31m[10:22:02] src/tree/updater_prune.cc:74: tree pruning end, 1 roots, 46 extra nodes, 2 pruned nodes, max_depth=5\u001b[0m\n",
      "\u001b[31m[39]#011train-error:0.2554#011validation-error:0.3486\u001b[0m\n",
      "\u001b[31m[10:22:02] src/tree/updater_prune.cc:74: tree pruning end, 1 roots, 24 extra nodes, 2 pruned nodes, max_depth=5\u001b[0m\n",
      "\u001b[31m[40]#011train-error:0.255467#011validation-error:0.3476\u001b[0m\n",
      "\u001b[31m[10:22:02] src/tree/updater_prune.cc:74: tree pruning end, 1 roots, 34 extra nodes, 10 pruned nodes, max_depth=5\u001b[0m\n",
      "\u001b[31m[41]#011train-error:0.254667#011validation-error:0.3483\u001b[0m\n",
      "\u001b[31m[10:22:02] src/tree/updater_prune.cc:74: tree pruning end, 1 roots, 32 extra nodes, 10 pruned nodes, max_depth=5\u001b[0m\n",
      "\u001b[31m[42]#011train-error:0.253867#011validation-error:0.3486\u001b[0m\n",
      "\u001b[31m[10:22:02] src/tree/updater_prune.cc:74: tree pruning end, 1 roots, 36 extra nodes, 16 pruned nodes, max_depth=5\u001b[0m\n",
      "\u001b[31m[43]#011train-error:0.253533#011validation-error:0.3489\u001b[0m\n",
      "\u001b[31m[10:22:02] src/tree/updater_prune.cc:74: tree pruning end, 1 roots, 32 extra nodes, 0 pruned nodes, max_depth=5\u001b[0m\n",
      "\u001b[31m[44]#011train-error:0.2534#011validation-error:0.3482\u001b[0m\n",
      "\u001b[31m[10:22:02] src/tree/updater_prune.cc:74: tree pruning end, 1 roots, 20 extra nodes, 12 pruned nodes, max_depth=5\u001b[0m\n",
      "\u001b[31m[45]#011train-error:0.253733#011validation-error:0.3482\u001b[0m\n",
      "\u001b[31m[10:22:02] src/tree/updater_prune.cc:74: tree pruning end, 1 roots, 40 extra nodes, 8 pruned nodes, max_depth=5\u001b[0m\n",
      "\u001b[31m[46]#011train-error:0.251#011validation-error:0.3476\u001b[0m\n",
      "\u001b[31m[10:22:02] src/tree/updater_prune.cc:74: tree pruning end, 1 roots, 32 extra nodes, 2 pruned nodes, max_depth=5\u001b[0m\n",
      "\u001b[31m[47]#011train-error:0.250333#011validation-error:0.346\u001b[0m\n",
      "\u001b[31m[10:22:02] src/tree/updater_prune.cc:74: tree pruning end, 1 roots, 42 extra nodes, 4 pruned nodes, max_depth=5\u001b[0m\n",
      "\u001b[31m[48]#011train-error:0.2482#011validation-error:0.3467\u001b[0m\n",
      "\u001b[31m[10:22:02] src/tree/updater_prune.cc:74: tree pruning end, 1 roots, 50 extra nodes, 4 pruned nodes, max_depth=5\u001b[0m\n",
      "\u001b[31m[49]#011train-error:0.2468#011validation-error:0.3468\u001b[0m\n",
      "\u001b[31m[10:22:02] src/tree/updater_prune.cc:74: tree pruning end, 1 roots, 58 extra nodes, 4 pruned nodes, max_depth=5\u001b[0m\n",
      "\u001b[31m[50]#011train-error:0.244933#011validation-error:0.3464\u001b[0m\n",
      "\u001b[31m[10:22:02] src/tree/updater_prune.cc:74: tree pruning end, 1 roots, 32 extra nodes, 8 pruned nodes, max_depth=5\u001b[0m\n",
      "\u001b[31m[51]#011train-error:0.243067#011validation-error:0.3463\u001b[0m\n",
      "\u001b[31m[10:22:02] src/tree/updater_prune.cc:74: tree pruning end, 1 roots, 44 extra nodes, 4 pruned nodes, max_depth=5\u001b[0m\n",
      "\u001b[31m[52]#011train-error:0.240867#011validation-error:0.3453\u001b[0m\n",
      "\u001b[31m[10:22:02] src/tree/updater_prune.cc:74: tree pruning end, 1 roots, 44 extra nodes, 0 pruned nodes, max_depth=5\u001b[0m\n",
      "\u001b[31m[53]#011train-error:0.239333#011validation-error:0.3448\u001b[0m\n",
      "\u001b[31m[10:22:02] src/tree/updater_prune.cc:74: tree pruning end, 1 roots, 34 extra nodes, 6 pruned nodes, max_depth=5\u001b[0m\n",
      "\u001b[31m[54]#011train-error:0.24#011validation-error:0.3461\u001b[0m\n",
      "\u001b[31m[10:22:02] src/tree/updater_prune.cc:74: tree pruning end, 1 roots, 34 extra nodes, 10 pruned nodes, max_depth=5\u001b[0m\n",
      "\u001b[31m[55]#011train-error:0.239#011validation-error:0.3463\u001b[0m\n",
      "\u001b[31m[10:22:02] src/tree/updater_prune.cc:74: tree pruning end, 1 roots, 38 extra nodes, 2 pruned nodes, max_depth=5\u001b[0m\n",
      "\u001b[31m[56]#011train-error:0.237133#011validation-error:0.3445\u001b[0m\n",
      "\u001b[31m[10:22:02] src/tree/updater_prune.cc:74: tree pruning end, 1 roots, 36 extra nodes, 6 pruned nodes, max_depth=5\u001b[0m\n",
      "\u001b[31m[57]#011train-error:0.2364#011validation-error:0.3428\u001b[0m\n",
      "\u001b[31m[10:22:02] src/tree/updater_prune.cc:74: tree pruning end, 1 roots, 26 extra nodes, 8 pruned nodes, max_depth=5\u001b[0m\n",
      "\u001b[31m[58]#011train-error:0.2346#011validation-error:0.3436\u001b[0m\n",
      "\u001b[31m[10:22:03] src/tree/updater_prune.cc:74: tree pruning end, 1 roots, 18 extra nodes, 0 pruned nodes, max_depth=5\u001b[0m\n",
      "\u001b[31m[59]#011train-error:0.234267#011validation-error:0.344\u001b[0m\n",
      "\u001b[31m[10:22:03] src/tree/updater_prune.cc:74: tree pruning end, 1 roots, 18 extra nodes, 6 pruned nodes, max_depth=5\u001b[0m\n",
      "\u001b[31m[60]#011train-error:0.234#011validation-error:0.3443\u001b[0m\n",
      "\u001b[31m[10:22:03] src/tree/updater_prune.cc:74: tree pruning end, 1 roots, 46 extra nodes, 8 pruned nodes, max_depth=5\u001b[0m\n",
      "\u001b[31m[61]#011train-error:0.234533#011validation-error:0.3438\u001b[0m\n",
      "\u001b[31m[10:22:03] src/tree/updater_prune.cc:74: tree pruning end, 1 roots, 50 extra nodes, 2 pruned nodes, max_depth=5\u001b[0m\n",
      "\u001b[31m[62]#011train-error:0.231933#011validation-error:0.3427\u001b[0m\n",
      "\u001b[31m[10:22:03] src/tree/updater_prune.cc:74: tree pruning end, 1 roots, 46 extra nodes, 6 pruned nodes, max_depth=5\u001b[0m\n",
      "\u001b[31m[63]#011train-error:0.231133#011validation-error:0.3439\u001b[0m\n",
      "\u001b[31m[10:22:03] src/tree/updater_prune.cc:74: tree pruning end, 1 roots, 46 extra nodes, 2 pruned nodes, max_depth=5\u001b[0m\n",
      "\u001b[31m[64]#011train-error:0.227933#011validation-error:0.3439\u001b[0m\n",
      "\u001b[31m[10:22:03] src/tree/updater_prune.cc:74: tree pruning end, 1 roots, 32 extra nodes, 8 pruned nodes, max_depth=5\u001b[0m\n",
      "\u001b[31m[65]#011train-error:0.2272#011validation-error:0.3435\u001b[0m\n",
      "\u001b[31m[10:22:03] src/tree/updater_prune.cc:74: tree pruning end, 1 roots, 42 extra nodes, 10 pruned nodes, max_depth=5\u001b[0m\n",
      "\u001b[31m[66]#011train-error:0.227267#011validation-error:0.3445\u001b[0m\n",
      "\u001b[31m[10:22:03] src/tree/updater_prune.cc:74: tree pruning end, 1 roots, 40 extra nodes, 6 pruned nodes, max_depth=5\u001b[0m\n",
      "\u001b[31m[67]#011train-error:0.225333#011validation-error:0.3439\u001b[0m\n",
      "\u001b[31m[10:22:03] src/tree/updater_prune.cc:74: tree pruning end, 1 roots, 44 extra nodes, 6 pruned nodes, max_depth=5\u001b[0m\n",
      "\u001b[31m[68]#011train-error:0.2236#011validation-error:0.3414\u001b[0m\n",
      "\u001b[31m[10:22:03] src/tree/updater_prune.cc:74: tree pruning end, 1 roots, 38 extra nodes, 8 pruned nodes, max_depth=5\u001b[0m\n",
      "\u001b[31m[69]#011train-error:0.223267#011validation-error:0.3415\u001b[0m\n",
      "\u001b[31m[10:22:03] src/tree/updater_prune.cc:74: tree pruning end, 1 roots, 38 extra nodes, 8 pruned nodes, max_depth=5\u001b[0m\n",
      "\u001b[31m[70]#011train-error:0.222#011validation-error:0.342\u001b[0m\n",
      "\u001b[31m[10:22:03] src/tree/updater_prune.cc:74: tree pruning end, 1 roots, 28 extra nodes, 2 pruned nodes, max_depth=5\u001b[0m\n",
      "\u001b[31m[71]#011train-error:0.221#011validation-error:0.3411\u001b[0m\n",
      "\u001b[31m[10:22:03] src/tree/updater_prune.cc:74: tree pruning end, 1 roots, 44 extra nodes, 2 pruned nodes, max_depth=5\u001b[0m\n",
      "\u001b[31m[72]#011train-error:0.217333#011validation-error:0.3415\u001b[0m\n",
      "\u001b[31m[10:22:03] src/tree/updater_prune.cc:74: tree pruning end, 1 roots, 28 extra nodes, 4 pruned nodes, max_depth=5\u001b[0m\n",
      "\u001b[31m[73]#011train-error:0.216667#011validation-error:0.3408\u001b[0m\n",
      "\u001b[31m[10:22:03] src/tree/updater_prune.cc:74: tree pruning end, 1 roots, 26 extra nodes, 8 pruned nodes, max_depth=5\u001b[0m\n",
      "\u001b[31m[74]#011train-error:0.216667#011validation-error:0.3393\u001b[0m\n",
      "\u001b[31m[10:22:03] src/tree/updater_prune.cc:74: tree pruning end, 1 roots, 20 extra nodes, 12 pruned nodes, max_depth=4\u001b[0m\n",
      "\u001b[31m[75]#011train-error:0.217067#011validation-error:0.3388\u001b[0m\n",
      "\u001b[31m[10:22:03] src/tree/updater_prune.cc:74: tree pruning end, 1 roots, 26 extra nodes, 6 pruned nodes, max_depth=5\u001b[0m\n",
      "\u001b[31m[76]#011train-error:0.214533#011validation-error:0.3404\u001b[0m\n",
      "\u001b[31m[10:22:03] src/tree/updater_prune.cc:74: tree pruning end, 1 roots, 22 extra nodes, 8 pruned nodes, max_depth=5\u001b[0m\n",
      "\u001b[31m[77]#011train-error:0.214067#011validation-error:0.341\u001b[0m\n",
      "\u001b[31m[10:22:03] src/tree/updater_prune.cc:74: tree pruning end, 1 roots, 40 extra nodes, 8 pruned nodes, max_depth=5\u001b[0m\n",
      "\u001b[31m[78]#011train-error:0.211667#011validation-error:0.3411\u001b[0m\n",
      "\u001b[31m[10:22:04] src/tree/updater_prune.cc:74: tree pruning end, 1 roots, 34 extra nodes, 6 pruned nodes, max_depth=5\u001b[0m\n",
      "\u001b[31m[79]#011train-error:0.209933#011validation-error:0.3402\u001b[0m\n",
      "\u001b[31m[10:22:04] src/tree/updater_prune.cc:74: tree pruning end, 1 roots, 44 extra nodes, 10 pruned nodes, max_depth=5\u001b[0m\n",
      "\u001b[31m[80]#011train-error:0.209267#011validation-error:0.3396\u001b[0m\n",
      "\u001b[31m[10:22:04] src/tree/updater_prune.cc:74: tree pruning end, 1 roots, 14 extra nodes, 8 pruned nodes, max_depth=5\u001b[0m\n",
      "\u001b[31m[81]#011train-error:0.21#011validation-error:0.3411\u001b[0m\n",
      "\u001b[31m[10:22:04] src/tree/updater_prune.cc:74: tree pruning end, 1 roots, 44 extra nodes, 6 pruned nodes, max_depth=5\u001b[0m\n",
      "\u001b[31m[82]#011train-error:0.208533#011validation-error:0.3405\u001b[0m\n",
      "\u001b[31m[10:22:04] src/tree/updater_prune.cc:74: tree pruning end, 1 roots, 28 extra nodes, 18 pruned nodes, max_depth=5\u001b[0m\n",
      "\u001b[31m[83]#011train-error:0.208267#011validation-error:0.3412\u001b[0m\n",
      "\u001b[31m[10:22:04] src/tree/updater_prune.cc:74: tree pruning end, 1 roots, 50 extra nodes, 6 pruned nodes, max_depth=5\u001b[0m\n",
      "\u001b[31m[84]#011train-error:0.206067#011validation-error:0.3422\u001b[0m\n",
      "\u001b[31m[10:22:04] src/tree/updater_prune.cc:74: tree pruning end, 1 roots, 46 extra nodes, 0 pruned nodes, max_depth=5\u001b[0m\n",
      "\u001b[31m[85]#011train-error:0.2052#011validation-error:0.3399\u001b[0m\n",
      "\u001b[31mStopping. Best iteration:\u001b[0m\n",
      "\u001b[31m[75]#011train-error:0.217067#011validation-error:0.3388\n",
      "\u001b[0m\n"
     ]
    },
    {
     "name": "stdout",
     "output_type": "stream",
     "text": [
      "\n",
      "2019-07-29 10:22:16 Uploading - Uploading generated training model\n",
      "2019-07-29 10:22:16 Completed - Training job completed\n",
      "Billable seconds: 56\n"
     ]
    }
   ],
   "source": [
    "xgb.fit({'train': s3_input_train, 'validation': s3_input_validation})"
   ]
  },
  {
   "cell_type": "markdown",
   "metadata": {},
   "source": [
    "### Testing the model\n",
    "\n",
    "Now that we've fit our XGBoost model, it's time to see how well it performs. To do this we will use SageMakers Batch Transform functionality. Batch Transform is a convenient way to perform inference on a large dataset in a way that is not realtime. That is, we don't necessarily need to use our model's results immediately and instead we can peform inference on a large number of samples. An example of this in industry might be peforming an end of month report. This method of inference can also be useful to us as it means to can perform inference on our entire test set. \n",
    "\n",
    "To perform a Batch Transformation we need to first create a transformer objects from our trained estimator object."
   ]
  },
  {
   "cell_type": "code",
   "execution_count": 23,
   "metadata": {},
   "outputs": [],
   "source": [
    "xgb_transformer = xgb.transformer(instance_count = 1, instance_type = 'ml.m4.xlarge')"
   ]
  },
  {
   "cell_type": "markdown",
   "metadata": {},
   "source": [
    "Next we actually perform the transform job. When doing so we need to make sure to specify the type of data we are sending so that it is serialized correctly in the background. In our case we are providing our model with csv data so we specify `text/csv`. Also, if the test data that we have provided is too large to process all at once then we need to specify how the data file should be split up. Since each line is a single entry in our data set we tell SageMaker that it can split the input on each line."
   ]
  },
  {
   "cell_type": "code",
   "execution_count": 24,
   "metadata": {},
   "outputs": [],
   "source": [
    "xgb_transformer.transform(test_location, content_type='text/csv', split_type='Line')"
   ]
  },
  {
   "cell_type": "markdown",
   "metadata": {},
   "source": [
    "Currently the transform job is running but it is doing so in the background. Since we wish to wait until the transform job is done and we would like a bit of feedback we can run the `wait()` method."
   ]
  },
  {
   "cell_type": "code",
   "execution_count": 25,
   "metadata": {},
   "outputs": [
    {
     "name": "stdout",
     "output_type": "stream",
     "text": [
      "..........................................!\n"
     ]
    }
   ],
   "source": [
    "xgb_transformer.wait()"
   ]
  },
  {
   "cell_type": "markdown",
   "metadata": {},
   "source": [
    "Now the transform job has executed and the result, the estimated sentiment of each review, has been saved on S3. Since we would rather work on this file locally we can perform a bit of notebook magic to copy the file to the `data_dir`."
   ]
  },
  {
   "cell_type": "code",
   "execution_count": 26,
   "metadata": {},
   "outputs": [
    {
     "name": "stdout",
     "output_type": "stream",
     "text": [
      "Completed 256.0 KiB/364.0 KiB (2.8 MiB/s) with 1 file(s) remaining\r",
      "Completed 364.0 KiB/364.0 KiB (3.8 MiB/s) with 1 file(s) remaining\r",
      "download: s3://sagemaker-us-east-2-129722534204/xgboost-2019-07-29-10-22-36-992/test.csv.out to ../data/sentiment_update/test.csv.out\r\n"
     ]
    }
   ],
   "source": [
    "!aws s3 cp --recursive $xgb_transformer.output_path $data_dir"
   ]
  },
  {
   "cell_type": "markdown",
   "metadata": {},
   "source": [
    "The last step is now to read in the output from our model, convert the output to something a little more usable, in this case we want the sentiment to be either `1` (positive) or `0` (negative), and then compare to the ground truth labels."
   ]
  },
  {
   "cell_type": "code",
   "execution_count": 27,
   "metadata": {},
   "outputs": [],
   "source": [
    "predictions = pd.read_csv(os.path.join(data_dir, 'test.csv.out'), header=None)\n",
    "predictions = [round(num) for num in predictions.squeeze().values]"
   ]
  },
  {
   "cell_type": "code",
   "execution_count": 28,
   "metadata": {},
   "outputs": [
    {
     "data": {
      "text/plain": [
       "0.64964"
      ]
     },
     "execution_count": 28,
     "metadata": {},
     "output_type": "execute_result"
    }
   ],
   "source": [
    "from sklearn.metrics import accuracy_score\n",
    "accuracy_score(test_y, predictions)"
   ]
  },
  {
   "cell_type": "markdown",
   "metadata": {},
   "source": [
    "## Step 5: Looking at New Data\n",
    "\n",
    "So now we have an XGBoost sentiment analysis model that we believe is working pretty well. As a result, we deployed it and we are using it in some sort of app.\n",
    "\n",
    "However, as we allow users to use our app we periodically record submitted movie reviews so that we can perform some quality control on our deployed model. Once we've accumulated enough reviews we go through them by hand and evaluate whether they are positive or negative (there are many ways you might do this in practice aside from by hand). The reason for doing this is so that we can check to see how well our model is doing."
   ]
  },
  {
   "cell_type": "code",
   "execution_count": 29,
   "metadata": {},
   "outputs": [],
   "source": [
    "import new_data\n",
    "\n",
    "new_X, new_Y = new_data.get_new_data()"
   ]
  },
  {
   "cell_type": "markdown",
   "metadata": {},
   "source": [
    "**NOTE:** Part of the fun in this notebook is trying to figure out what exactly is happening with the new data, so try not to cheat by looking in the `new_data` module. Also, the `new_data` module assumes that the cache created earlier in Step 3 is still stored in `../cache/sentiment_analysis`."
   ]
  },
  {
   "cell_type": "markdown",
   "metadata": {},
   "source": [
    "### (TODO) Testing the current model\n",
    "\n",
    "Now that we've loaded the new data, let's check to see how our current XGBoost model performs on it.\n",
    "\n",
    "First, note that the data that has been loaded has already been pre-processed so that each entry in `new_X` is a list of words that have been processed using `nltk`. However, we have not yet constructed the bag of words encoding, which we will do now.\n",
    "\n",
    "First, we use the vocabulary that we constructed earlier using the original training data to construct a `CountVectorizer` which we will use to transform our new data into its bag of words encoding.\n",
    "\n",
    "**TODO:** Create the CountVectorizer object using the vocabulary created earlier and use it to transform the new data."
   ]
  },
  {
   "cell_type": "code",
   "execution_count": 30,
   "metadata": {},
   "outputs": [],
   "source": [
    "# TODO: Create the CountVectorizer using the previously constructed vocabulary\n",
    "vectorizer = CountVectorizer(vocabulary=vocabulary,\n",
    "                preprocessor=lambda x: x, tokenizer=lambda x: x)\n",
    "\n",
    "# TODO: Transform our new data set and store the transformed data in the variable new_XV\n",
    "new_XV = vectorizer.transform(new_X).toarray()"
   ]
  },
  {
   "cell_type": "markdown",
   "metadata": {},
   "source": [
    "As a quick sanity check, we make sure that the length of each of our bag of words encoded reviews is correct. In particular, it must be the same size as the vocabulary which in our case is `5000`."
   ]
  },
  {
   "cell_type": "code",
   "execution_count": 31,
   "metadata": {},
   "outputs": [
    {
     "data": {
      "text/plain": [
       "178"
      ]
     },
     "execution_count": 31,
     "metadata": {},
     "output_type": "execute_result"
    }
   ],
   "source": [
    "len(new_XV[100])"
   ]
  },
  {
   "cell_type": "markdown",
   "metadata": {},
   "source": [
    "Now that we've performed the data processing that is required by our model we can save it locally and then upload it to S3 so that we can construct a batch transform job in order to see how well our model is working.\n",
    "\n",
    "First, we save the data locally.\n",
    "\n",
    "**TODO:** Save the new data (after it has been transformed using the original vocabulary) to the local notebook instance."
   ]
  },
  {
   "cell_type": "code",
   "execution_count": 32,
   "metadata": {},
   "outputs": [],
   "source": [
    "# TODO: Save the data contained in new_XV locally in the data_dir with the file name new_data.csv\n",
    "pd.DataFrame(new_XV).to_csv(os.path.join(data_dir, 'new_data.csv'), header=False, index=False)"
   ]
  },
  {
   "cell_type": "markdown",
   "metadata": {},
   "source": [
    "Next, we upload the data to S3.\n",
    "\n",
    "**TODO:** Upload the csv file created above to S3."
   ]
  },
  {
   "cell_type": "code",
   "execution_count": 33,
   "metadata": {},
   "outputs": [],
   "source": [
    "# TODO: Upload the new_data.csv file contained in the data_dir folder to S3 and save the resulting\n",
    "#       URI as new_data_location\n",
    "\n",
    "new_data_location = session.upload_data(os.path.join(data_dir, 'new_data.csv'), key_prefix=prefix)"
   ]
  },
  {
   "cell_type": "markdown",
   "metadata": {},
   "source": [
    "Then, once the new data has been uploaded to S3, we create and run the batch transform job to get our model's predictions about the sentiment of the new movie reviews.\n",
    "\n",
    "**TODO:** Using the `xgb_transformer` object that was created earlier (at the end of Step 4 to test the XGBoost model), transform the data located at `new_data_location`."
   ]
  },
  {
   "cell_type": "code",
   "execution_count": 34,
   "metadata": {},
   "outputs": [
    {
     "name": "stdout",
     "output_type": "stream",
     "text": [
      "........................................!\n"
     ]
    }
   ],
   "source": [
    "# TODO: Using xgb_transformer, transform the new_data_location data. You may wish to **wait** until\n",
    "#       the batch transform job has finished.\n",
    "xgb_transformer.transform(new_data_location, content_type='text/csv', split_type='Line')\n",
    "xgb_transformer.wait()"
   ]
  },
  {
   "cell_type": "markdown",
   "metadata": {},
   "source": [
    "As usual, we copy the results of the batch transform job to our local instance."
   ]
  },
  {
   "cell_type": "code",
   "execution_count": 35,
   "metadata": {},
   "outputs": [
    {
     "name": "stdout",
     "output_type": "stream",
     "text": [
      "download: s3://sagemaker-us-east-2-129722534204/xgboost-2019-07-29-10-26-16-974/new_data.csv.out to ../data/sentiment_update/new_data.csv.out\n"
     ]
    }
   ],
   "source": [
    "!aws s3 cp --recursive $xgb_transformer.output_path $data_dir"
   ]
  },
  {
   "cell_type": "markdown",
   "metadata": {},
   "source": [
    "Read in the results of the batch transform job."
   ]
  },
  {
   "cell_type": "code",
   "execution_count": 36,
   "metadata": {},
   "outputs": [],
   "source": [
    "predictions = pd.read_csv(os.path.join(data_dir, 'new_data.csv.out'), header=None)\n",
    "predictions = [round(num) for num in predictions.squeeze().values]"
   ]
  },
  {
   "cell_type": "markdown",
   "metadata": {},
   "source": [
    "And check the accuracy of our current model."
   ]
  },
  {
   "cell_type": "code",
   "execution_count": 37,
   "metadata": {},
   "outputs": [
    {
     "data": {
      "text/plain": [
       "0.50212"
      ]
     },
     "execution_count": 37,
     "metadata": {},
     "output_type": "execute_result"
    }
   ],
   "source": [
    "accuracy_score(new_Y, predictions)"
   ]
  },
  {
   "cell_type": "markdown",
   "metadata": {},
   "source": [
    "So it would appear that *something* has changed since our model is no longer (as) effective at determining the sentiment of a user provided review.\n",
    "\n",
    "In a real life scenario you would check a number of different things to see what exactly is going on. In our case, we are only going to check one and that is whether some aspect of the underlying distribution has changed. In other words, we want to see if the words that appear in our new collection of reviews matches the words that appear in the original training set. Of course, we want to narrow our scope a little bit so we will only look at the `5000` most frequently appearing words in each data set, or in other words, the vocabulary generated by each data set.\n",
    "\n",
    "Before doing that, however, let's take a look at some of the incorrectly classified reviews in the new data set.\n",
    "\n",
    "To start, we will deploy the original XGBoost model. We will then use the deployed model to infer the sentiment of some of the new reviews. This will also serve as a nice excuse to deploy our model so that we can mimic a real life scenario where we have a model that has been deployed and is being used in production.\n",
    "\n",
    "**TODO:** Deploy the XGBoost model."
   ]
  },
  {
   "cell_type": "code",
   "execution_count": 38,
   "metadata": {},
   "outputs": [
    {
     "name": "stderr",
     "output_type": "stream",
     "text": [
      "Using already existing model: xgboost-2019-07-29-10-19-24-563\n"
     ]
    },
    {
     "name": "stdout",
     "output_type": "stream",
     "text": [
      "--------------------------------------------------------------------------------------!"
     ]
    }
   ],
   "source": [
    "# TODO: Deploy the model that was created earlier. Recall that the object name is 'xgb'.\n",
    "xgb_predictor = xgb.deploy(initial_instance_count = 1, instance_type = 'ml.m4.xlarge')"
   ]
  },
  {
   "cell_type": "markdown",
   "metadata": {},
   "source": [
    "### Diagnose the problem\n",
    "\n",
    "Now that we have our deployed \"production\" model, we can send some of our new data to it and filter out some of the incorrectly classified reviews."
   ]
  },
  {
   "cell_type": "code",
   "execution_count": 39,
   "metadata": {},
   "outputs": [],
   "source": [
    "from sagemaker.predictor import csv_serializer\n",
    "\n",
    "# We need to tell the endpoint what format the data we are sending is in so that SageMaker can perform the serialization.\n",
    "xgb_predictor.content_type = 'text/csv'\n",
    "xgb_predictor.serializer = csv_serializer"
   ]
  },
  {
   "cell_type": "markdown",
   "metadata": {},
   "source": [
    "It will be useful to look at a few different examples of incorrectly classified reviews so we will start by creating a *generator* which we will use to iterate through some of the new reviews and find ones that are incorrect.\n",
    "\n",
    "**NOTE:** Understanding what Python generators are isn't really required for this module. The reason we use them here is so that we don't have to iterate through all of the new reviews, searching for incorrectly classified samples."
   ]
  },
  {
   "cell_type": "code",
   "execution_count": 40,
   "metadata": {},
   "outputs": [],
   "source": [
    "def get_sample(in_X, in_XV, in_Y):\n",
    "    for idx, smp in enumerate(in_X):\n",
    "        res = round(float(xgb_predictor.predict(in_XV[idx])))\n",
    "        if res != in_Y[idx]:\n",
    "            yield smp, in_Y[idx]"
   ]
  },
  {
   "cell_type": "code",
   "execution_count": 41,
   "metadata": {},
   "outputs": [],
   "source": [
    "gn = get_sample(new_X, new_XV, new_Y)"
   ]
  },
  {
   "cell_type": "markdown",
   "metadata": {},
   "source": [
    "At this point, `gn` is the *generator* which generates samples from the new data set which are not classified correctly. To get the *next* sample we simply call the `next` method on our generator."
   ]
  },
  {
   "cell_type": "code",
   "execution_count": 42,
   "metadata": {},
   "outputs": [
    {
     "name": "stdout",
     "output_type": "stream",
     "text": [
      "(['film', 'superb', 'job', 'depict', 'plight', 'al', 'lou', 'gehrig', 'diseas', 'suffer', 'subject', 'done', 'compass', 'well', 'humor', 'helena', 'bonham', 'carter', 'convinc', 'person', 'al', 'found', 'hard', 'believ', 'act', 'kenneth', 'branagh', 'superb', 'actor', 'live', 'expect', 'quirki', 'artist', 'misbehav', 'forc', 'provid', 'companionship', 'helena', 'charact', 'part', 'commun', 'servic', 'altern', 'prison', 'time', 'watch', 'develop', 'relationship', 'two', 'treat', 'begin', 'end', 'tha', 'fact', 'fairi', 'tale', 'detract', 'fabul', 'perform', 'one', 'come', 'care', 'deepli', 'two', 'banana'], 0)\n"
     ]
    }
   ],
   "source": [
    "print(next(gn))"
   ]
  },
  {
   "cell_type": "markdown",
   "metadata": {},
   "source": [
    "After looking at a few examples, maybe we decide to look at the most frequently appearing `5000` words in each data set, the original training data set and the new data set. The reason for looking at this might be that we expect the frequency of use of different words to have changed, maybe there is some new slang that has been introduced or some other artifact of popular culture that has changed the way that people write movie reviews.\n",
    "\n",
    "To do this, we start by fitting a `CountVectorizer` to the new data."
   ]
  },
  {
   "cell_type": "code",
   "execution_count": 43,
   "metadata": {},
   "outputs": [
    {
     "data": {
      "text/plain": [
       "CountVectorizer(analyzer='word', binary=False, decode_error='strict',\n",
       "        dtype=<class 'numpy.int64'>, encoding='utf-8', input='content',\n",
       "        lowercase=True, max_df=1.0, max_features=5000, min_df=1,\n",
       "        ngram_range=(1, 1),\n",
       "        preprocessor=<function <lambda> at 0x7fa94c68b048>,\n",
       "        stop_words=None, strip_accents=None,\n",
       "        token_pattern='(?u)\\\\b\\\\w\\\\w+\\\\b',\n",
       "        tokenizer=<function <lambda> at 0x7fa94c68b0d0>, vocabulary=None)"
      ]
     },
     "execution_count": 43,
     "metadata": {},
     "output_type": "execute_result"
    }
   ],
   "source": [
    "new_vectorizer = CountVectorizer(max_features=5000,\n",
    "                preprocessor=lambda x: x, tokenizer=lambda x: x)\n",
    "new_vectorizer.fit(new_X)"
   ]
  },
  {
   "cell_type": "markdown",
   "metadata": {},
   "source": [
    "Now that we have this new `CountVectorizor` object, we can check to see if the corresponding vocabulary has changed between the two data sets."
   ]
  },
  {
   "cell_type": "code",
   "execution_count": 44,
   "metadata": {},
   "outputs": [],
   "source": [
    "original_vocabulary = set(vocabulary.keys())\n",
    "new_vocabulary = set(new_vectorizer.vocabulary_.keys())"
   ]
  },
  {
   "cell_type": "markdown",
   "metadata": {},
   "source": [
    "We can look at the words that were in the original vocabulary but not in the new vocabulary."
   ]
  },
  {
   "cell_type": "code",
   "execution_count": 45,
   "metadata": {},
   "outputs": [
    {
     "name": "stdout",
     "output_type": "stream",
     "text": [
      "{'\\x8d', 'Õ', 'ò', '\\x85', '@', 'o', 'À', '¢', 'P', '\\x91', '–', '~', '*', '-', 'Á', 'ð', '=', 'm', 'G', 's', 'é', '”', 'æ', 'Ê', 'ë', 'ō', 'ú', 'E', '\\xad', 'Ä', '_', '\\t', 'ç', '\\uf0b7', 'W', '$', 'S', '¨', '<', '¿', 'ü', 'i', ' ', '³', '\\x10', ',', '¤', 'Y', 'B', 'R', '>', '“', 'ê', 'ô', ')', '´', \"'\", '?', '¡', 'í', '\\x95', 'ñ', '\\x08', 'N', 'D', '¾', '·', '\\x9e', '!', 'ß', 'ù', '%', 'ï', 'à', '’', 'T', '®', 'Ü', 'ö', 'ý', '(', '&', '\"', 'Z', '^', '\\x8e', 'å', 'î', '/', '\\x96', 't', '½', '+', 'á', '\\xa0', '}', ';', '\\x9a', 'y', ']', 'U', 'ó', ':', '\\x97', '\\x84', 'ì', '£', '{', '|', 'è', 'Å', '¦', '.', 'V', '#', 'ä', '…', '§', 'É', '\\\\', 'J', '\\x80', 'I', '»', 'ã', 'Ã', '[', 'X', 'È', 'A', '‘', '°', 'H', 'K', 'F', 'a', 'd', 'Q', 'û', 'O', '«', 'â', '₤', 'Ø', '`', 'º', 'M', 'ø', 'L', 'C'}\n"
     ]
    }
   ],
   "source": [
    "print(original_vocabulary - new_vocabulary)"
   ]
  },
  {
   "cell_type": "markdown",
   "metadata": {},
   "source": [
    "And similarly, we can look at the words that are in the new vocabulary but which were not in the original vocabulary."
   ]
  },
  {
   "cell_type": "code",
   "execution_count": 46,
   "metadata": {},
   "outputs": [
    {
     "name": "stdout",
     "output_type": "stream",
     "text": [
      "{'demon', 'thank', 'deem', 'genet', 'boyl', 'trite', 'second', 'winner', 'lee', 'gari', 'vocal', 'express', 'hardli', 'relax', 'sugar', '1969', 'goofi', 'kevin', 'provoc', 'el', 'heroin', 'dane', 'companion', 'nina', 'timon', 'matthau', 'local', 'shall', 'fond', 'bibl', 'space', 'file', 'lame', 'overcom', 'filmmak', 'uninterest', 'disappear', 'princ', 'caus', 'pin', 'revolut', 'forti', 'thru', 'dialogu', 'comfort', 'fun', 'overli', 'dame', 'flash', 'dirti', 'path', 'leader', 'shed', 'detract', 'heavi', 'tax', 'first', 'stranger', 'entri', 'websit', 'armstrong', 'formula', 'mason', 'deaf', 'suitabl', '1978', 'vs', 'shown', 'linear', 'garner', 'draw', 'mirror', 'mall', 'distant', 'superior', 'left', 'secondari', 'wield', 'crown', 'hooker', 'maid', 'sexual', 'honesti', 'hypnot', 'ambiti', 'imag', 'joey', 'made', 'thrown', 'betray', 'devast', 'hire', 'fabul', 'dalton', '2005', 'crucial', 'knew', 'role', 'franc', 'debut', 'fascist', 'eleven', 'craven', 'guitar', 'misfortun', 'darn', 'canada', 'glori', 'babi', 'interact', 'storytel', 'amazingli', 'eddi', 'bump', 'good', 'across', 'delv', '1993', 'antonioni', 'iron', 'ruin', 'messag', 'adapt', 'baddi', 'diamond', 'amaz', 'prop', 'blame', 'induc', 'bacon', 'linger', 'broadway', 'lean', 'activ', 'substitut', 'distort', 'section', 'lawyer', 'physic', 'shock', 'goof', 'storm', 'cyborg', 'prime', 'buff', 'harrison', 'glamor', 'asylum', 'insur', 'notic', 'sweat', 'fli', 'skip', 'librari', 'limit', 'impos', 'wash', 'atroc', 'access', 'pound', 'simplic', 'make', 'piti', 'breakfast', 'barn', 'choppi', 'regret', 'southern', 'latest', 'regist', 'routin', 'embark', 'motion', 'ador', 'compromis', 'wardrob', 'succeed', 'obvious', 'pretti', 'loi', 'nearli', 'immigr', 'basic', 'mundan', 'skeptic', 'devot', 'friendli', 'found', 'heroic', 'marin', '1972', 'satisfi', 'appli', 'tear', 'femm', 'shape', 'popul', 'anti', 'elm', 'elimin', 'entitl', 'pseudo', 'standout', 'slowli', 'inmat', 'hollywood', 'tradit', 'hug', 'strang', 'eastwood', 'rent', 'sister', 'oddli', 'car', 'player', 'pauli', 'shi', 'farrel', 'moral', 'overlook', 'abil', 'pari', 'lion', 'africa', 'tail', 'buri', 'year', 'downright', 'quickli', 'carrey', 'wannab', 'villain', 'puppet', 'crocodil', 'knowledg', 'simplist', 'expand', '28', 'colleagu', 'widmark', 'homeless', 'stewart', 'turn', 'dick', 'choke', 'uncov', 'bravo', 'factor', 'resort', 'lie', 'gratuit', 'sparkl', 'unexpect', 'bull', 'ape', 'henc', 'grin', 'luckili', 'dictat', 'doll', 'racial', 'feat', 'hard', 'temper', 'speech', 'bat', 'behind', 'jame', 'furi', 'loos', 'redneck', 'cole', 'wonder', 'chanc', 'weather', 'censor', 'emot', 'languag', 'warrant', 'oppon', 'jerk', 'cheek', 'marlon', 'reign', 'corni', 'seal', 'unfold', 'climat', 'choreograph', '17', 'inclus', 'potenti', 'furthermor', 'troubl', 'jami', 'chamberlain', 'credit', 'whine', 'bloom', 'glover', 'historian', 'inspir', 'kept', 'polic', 'mgm', 'twin', 'christin', 'sex', 'pink', 'bounc', 'empir', 'forc', 'moon', 'attend', 'exhibit', 'intric', 'whatev', 'almost', 'elvi', 'rhythm', 'mous', 'wive', 'miser', 'flower', '3000', 'territori', 'meaning', 'bela', 'import', 'report', 'market', 'bob', 'virtual', 'denni', 'bo', 'seem', 'exclus', 'spite', 'union', 'welcom', 'level', 'reput', 'demand', 'bend', 'rat', 'hilar', 'raj', 'earnest', 'terror', 'progress', 'chill', 'hall', 'remind', 'audienc', 'dawn', 'neatli', 'within', 'cash', 'safeti', 'total', 'prepar', 'laurenc', 'setup', 'tire', 'splendid', 'fiction', 'equal', 'murray', 'revolutionari', 'chase', 'sharon', 'yellow', 'uwe', 'colin', 'sensibl', 'ratso', 'paint', 'key', 'club', 'particip', 'wax', 'piec', 'dynam', 'eyr', 'occup', 'jewish', 'tierney', 'cloud', 'bay', 'taught', 'chose', 'nerd', 'particular', 'sound', 'jason', 'clan', 'expos', 'roy', 'recal', 'meat', 'led', 'anni', 'constant', 'mistaken', 'shatter', 'begin', 'shoot', 'pierc', 'poetri', 'proce', 'excus', 'hole', 'afterward', 'eleg', 'champion', 'contest', 'btw', 'diana', 'aim', 'neat', 'burt', 'russia', 'nolt', 'vomit', 'inconsist', 'youth', 'craig', 'machin', 'blob', 'psycholog', 'buffalo', 'commentari', 'bizarr', 'musician', 'run', 'sunni', 'shootout', 'fuller', 'dust', '3rd', 'fought', 'danc', 'materi', 'think', 'scope', 'offici', 'gay', 'error', 'exploit', 'facial', 'nonsens', 'fianc', 'philosophi', 'signific', 'outlaw', 'news', 'shaki', 'say', 'cruis', 'illog', 'imposs', 'petti', 'much', 'wretch', 'cycl', 'rope', 'nut', 'rex', 'self', 'undead', 'clip', 'washington', 'paranoia', 'perform', 'muddl', 'fade', 'plant', 'fbi', 'mel', 'rise', 'noir', 'acquir', 'cemeteri', 'sequenc', 'patienc', 'sappi', 'drown', 'return', 'pour', 'condemn', 'firmli', 'lanc', 'rot', 'handicap', 'plod', 'beard', 'exampl', 'drawn', 'angl', 'crazi', 'taken', 'superb', 'walken', 'employe', 'up', 'slice', 'reynold', 'luxuri', 'move', 'parad', 'sand', '1985', 'cave', 'done', 'dramat', 'sicken', 'illeg', 'defin', 'stinker', 'rescu', 'warn', 'display', 'pray', 'subtli', 'dire', 'red', 'laura', 'latter', 'night', 'partial', 'butler', 'upper', 'marti', 'borrow', 'scari', 'beat', 'discoveri', 'gori', 'bin', 'hook', 'buzz', 'undertak', 'japan', 'behavior', 'big', 'hardi', 'poem', 'featur', 'walk', 'dan', 'budget', 'internet', 'collect', 'hous', 'box', 'mexico', 'shoulder', 'stunt', 'danish', 'broad', 'sidney', 'decid', 'realist', 'pair', 'exposit', 'load', 'trial', 'predict', 'nine', 'island', 'develop', 'practic', 'counter', 'vagu', 'bought', 'wild', 'corbett', 'lucil', '1939', 'particularli', 'underli', 'lo', 'lloyd', 'del', 'camp', 'character', 'duck', 'violenc', 'talk', '1995', 'thumb', 'grade', 'immedi', 'inaccuraci', 'gimmick', 'logan', 'cook', 'instinct', 'hal', 'dismiss', 'fest', 'creek', 'isol', 'wisdom', 'surf', 'torment', 'weekend', 'zero', 'mexican', 'tag', 'precis', 'walt', 'brought', 'amateurish', 'point', 'dedic', 'charisma', 'lit', 'mislead', 'masterson', 'cruelti', 'bori', 'gloriou', 'rehears', 'atlanti', 'raymond', 'money', 'abus', 'rear', 'nude', 'facil', 'insan', 'amanda', 'stage', 'repeat', 'admittedli', 'harmless', 'idol', 'fx', 'six', 'editor', 'coup', 'usa', 'style', 'scratch', 'deliveri', 'represent', 'proclaim', 'dinosaur', 'bate', 'chip', 'hell', 'sassi', 'bewar', 'construct', 'special', 'commerci', 'restrict', 'attitud', 'loretta', 'uplift', 'shoe', 'tunnel', 'gritti', 'tongu', 'corpor', 'consider', 'actual', 'histor', 'jungl', 'church', 'matur', 'despair', 'mildli', 'alexand', 'respond', 'kate', 'rocket', 'india', 'outcom', 'undoubtedli', 'weaker', 'luka', 'id', 'lisa', 'dig', 'einstein', 'garbag', 'swedish', 'copi', 'drew', 'encourag', 'traci', 'profit', 'wwe', 'footbal', 'true', 'pride', 'outsid', 'martin', 'goer', 'take', 'sensual', 'doubt', 'suck', 'recov', 'head', 'camcord', 'exquisit', 'amus', 'er', 'foreign', 'tripl', 'crystal', 'understand', 'conveni', 'cari', 'flat', 'becom', 'nowher', 'charismat', 'shop', 'favorit', 'wander', 'delet', 'simpson', 'convincingli', 'fame', 'servant', 'gambl', 'stiller', 'theatr', 'nervou', 'would', 'season', 'propheci', 'distinguish', 'pg', 'vh', 'watson', 'laid', 'von', 'forbidden', 'godfath', 'jewel', 'characterist', 'inherit', 'minut', 'bath', 'larger', 'inform', 'sadist', 'partner', 'gross', 'pc', 'diseas', 'pacif', 'rosario', 'tactic', '1986', 'odd', 'weird', 'brosnan', 'relat', 'certain', 'occas', 'conrad', 'giant', 'opportun', 'greatest', 'graham', 'ray', 'underneath', 'separ', 'legendari', 'bullet', 'bride', 'lesser', 'cream', 'fate', 'explor', 'declar', 'boredom', 'sell', 'bondag', 'comprehend', 'shine', 'aw', 'drain', 'comprehens', 'regular', 'audrey', 'oz', 'divorc', 'awkward', 'afternoon', 'guarante', 'protagonist', 'serial', 'short', 'put', 'demonstr', 'william', 'pitt', 'manipul', 'etern', 'statu', 'outer', 'kumar', 'grandmoth', 'jeffrey', 'visitor', 'domest', 'dont', 'complaint', 'abund', 'margin', 'reson', 'mighti', 'evolut', 'alicia', 'heston', 'hide', 'organ', 'gasp', 'beverli', 'verg', 'roman', 'enchant', 'bach', 'content', 'home', 'donna', 'emperor', 'nun', 'carl', 'valentin', 'toe', 'sentiment', 'length', 'tediou', 'pressur', 'juvenil', 'viru', 'lower', 'spike', 'thompson', 'collabor', 'mess', 'macabr', 'form', 'contradict', 'took', 'con', 'forget', 'angel', 'strain', 'demis', 'romero', 'argument', 'gotta', 'dixon', 'celebr', 'crowd', 'involv', 'godzilla', 'portrait', 'past', 'perfect', 'horrifi', 'mouth', 'spiritu', 'alli', 'work', 'ebert', 'ever', 'hawk', 'vice', 'cox', 'bug', 'bu', 'father', 'costum', 'music', 'tonight', 'shaw', 'exot', 'matthew', 'releas', 'macho', 'noth', 'pleasur', 'pickford', 'characteris', 'restor', 'card', 'fire', 'reid', 'genr', '12', 'succe', 'mere', 'underr', 'soup', 'god', 'overal', 'newspap', 'earl', 'ustinov', 'fido', 'case', 'arthur', 'ram', 'reunion', 'scientist', 'suit', 'cliff', 'miami', 'alongsid', 'chew', 'muscl', 'heel', 'complet', 'nazi', 'slap', 'repris', 'mankind', 'addict', 'term', 'dwarf', 'dare', 'prevent', 'ken', 'worthless', 'soldier', 'paradis', 'american', 'ingredi', 'moe', 'shirt', 'two', 'biggest', 'shorter', 'impress', 'go', 'improv', 'eli', 'sandler', 'wait', 'nick', 'power', 'clown', 'wacki', 'lincoln', 'carter', 'artwork', 'profession', 'hum', 'posit', 'photo', 'painter', 'useless', 'flesh', 'psychot', 'opinion', 'british', 'nolan', 'basing', 'creat', 'predat', 'silent', 'multipl', 'fundament', 'sub', 'strongest', 'start', 'see', 'butcher', 'peck', 'europa', 'deliv', 'other', 'mini', 'firstli', 'unsuspect', 'halloween', 'busi', 'saint', 'crow', 'front', 'skill', 'lead', 'knight', 'deep', 'spin', 'kong', 'vein', 'innov', 'blow', 'grab', 'kidnap', 'america', 'boast', 'visibl', 'third', 'smooth', 'former', 'blind', 'runner', 'magnific', 'everyon', 'myer', 'finest', 'written', 'voyag', 'yet', 'lena', 'alison', 'kubrick', 'launch', 'remov', 'horn', 'disregard', 'near', 'maci', 'snow', 'creator', 'stole', 'frame', 'conneri', 'retir', 'uniform', 'oliv', 'unsatisfi', 'comparison', 'rambl', 'departur', 'rob', 'fighter', 'eugen', 'implic', 'lurk', 'punish', 'feminist', 'hundr', 'stop', 'trek', 'numb', 'comment', 'polici', 'radiat', 'shirley', 'pointless', 'harri', 'dreari', 'hapless', 'perpetu', 'juli', 'edit', 'bond', 'alic', 'depart', 'robot', 'conquer', 'forth', 'shortcom', 'critic', 'novel', 'suprem', 'flame', 'well', 'carradin', 'willi', 'orphan', 'japanes', 'hopeless', 'set', 'le', 'push', 'sergeant', 'studi', 'franci', 'glow', 'exercis', 'owen', 'martial', 'chronicl', 'pop', 'flirt', 'gangster', 'snl', 'dave', 'rub', 'philip', 'hardcor', 'oper', 'walker', 'paltrow', 'porno', 'salli', 'caricatur', 'guilti', 'fifth', 'disabl', 'twice', 'next', 'public', 'concept', 'pace', 'rocki', 'seller', 'detail', 'collaps', 'darker', 'berlin', 'tast', 'fri', 'least', 'survivor', 'scheme', 'gonna', 'claim', 'west', 'legal', '19th', 'bollywood', 'blond', 'england', 'ga', 'pervert', 'sissi', 'lone', 'exchang', 'ladi', 'buck', 'tribe', 'poison', 'kurosawa', 'clerk', 'utter', 'huston', 'crew', 'inexplic', 'integr', 'somehow', 'rukh', 'businessman', 'lewi', 'celluloid', 'add', 'whack', 'danni', 'tower', 'accomplish', 'listen', 'focus', 'complic', 'escap', 'preciou', 'caught', 'ban', 'incompet', 'elizabeth', 'program', 'gone', 'rebel', 'tell', 'robert', 'search', 'black', 'disc', 'interpret', '2003', 'outdat', 'along', 'bogu', 'intrigu', 'cabl', 'neurot', 'flynn', 'mesmer', 'worm', 'franki', 'presid', 'disast', 'cinemat', 'reason', 'variou', 'suddenli', 'await', 'code', 'rape', 'nerv', 'locat', 'boston', 'awesom', 'reserv', 'retriev', 'rental', 'chao', 'poe', 'lol', 'monoton', 'lengthi', 'asian', 'magic', 'elev', 'accompani', 'childish', 'parson', 'climb', 'definit', 'deliber', 'accent', 'scorses', 'movi', 'beer', 'rural', 'composit', 'yell', 'may', 'mtv', 'imperson', 'global', 'neg', 'bud', 'underworld', 'emphasi', 'compos', '1994', 'although', 'instantli', 'award', 'eccentr', 'centr', 'horrif', 'recit', 'cover', 'heart', 'command', 'employ', 'jake', 'exterior', 'distract', 'blend', 'stone', 'geniu', 'feel', 'structur', 'mormon', 'funer', 'roll', 'could', 'vincent', 'law', 'appreci', 'watch', 'fish', 'detach', 'sailor', 'kung', 'pacino', 'bait', 'pictur', 'endless', 'initi', 'lugosi', 'broke', 'bourn', 'wake', 'disagre', 'decept', 'win', 'still', 'bernard', 'com', 'sharp', 'renaiss', 'immort', 'closest', 'fulli', 'apolog', 'nurs', 'curs', 'neck', 'rooney', 'bit', 'bent', 'weak', 'ex', 'scoop', 'fairli', 'promot', 'easi', 'becam', 'evan', 'ghost', 'peak', 'forgiv', 'streep', 'alien', 'sh', 'descend', 'mood', 'poignant', '000', 'keep', 'insert', 'justifi', '1981', 'action', 'unit', 'resolv', 'hk', 'perspect', 'sequel', 'album', 'baker', 'quot', 'introduc', 'alex', 'rich', 'blackmail', 'circumst', 'massacr', 'child', 'signal', 'duo', 'danger', 'brand', 'writer', 'graduat', '11', 'tim', 'otherwis', 'snake', 'sorrow', 'must', 'crack', 'hello', 'either', 'keith', 'compass', 'refresh', 'legaci', 'fred', 'place', 'bunch', 'collector', 'surprisingli', 'fool', 'flair', 'ala', 'passabl', 'wow', 'craze', 'discern', 'sleep', 'bedroom', 'cue', 'belong', 'cousin', 'mainstream', 'viewpoint', 'fare', 'choreographi', 'mock', 'hugh', 'johnni', 'digniti', 'constantli', 'glanc', 'professor', 'hulk', 'need', 'rhyme', 'moment', 'sean', 'bsg', 'headach', 'accid', 'focu', 'attenborough', 'bust', 'par', 'valley', 'dragon', 'griffith', 'instal', '15', 'patricia', 'frantic', 'puppi', 'toler', 'bubbl', 'record', 'color', 'testament', 'consid', 'crude', 'seedi', 'properti', 'crash', 'greed', 'coat', 'rod', 'quit', 'bad', 'ed', 'assum', 'wolf', 'politician', 'worship', 'diari', 'semi', 'typic', 'hostag', 'merci', 'entir', 'richard', 'bush', 'fix', 'michel', 'sadli', 'vain', 'minimum', 'kudo', 'missil', 'racist', 'miracl', 'layer', 'brillianc', 'religion', 'translat', 'confirm', 'arrang', 'obstacl', 'aggress', 'bowl', 'concern', 'environ', 'foxx', 'elabor', 'tribut', 'pack', 'knock', 'montana', 'phil', 'hallucin', 'appal', 'pilot', 'enlist', 'armi', 'ashley', 'chan', 'ned', 'festiv', 'stay', 'social', 'domin', 'street', 'attract', 'northern', 'score', 'estrang', 'friend', 'paula', 'attempt', 'melodrama', 'week', 'ideolog', 'profound', 'wrote', 'dad', 'importantli', 'build', 'comic', 'ad', 'king', 'craft', 'abound', 'new', 'dean', 'fake', 'steal', 'spent', 'bulli', 'spoken', 'horrid', 'categori', 'davi', 'boyfriend', 'spielberg', 'piano', 'string', 'romant', 'cloth', 'superbl', 'engross', 'chuck', 'veteran', 'thug', 'carlo', 'mute', 'rival', 'tape', 'dump', 'thirti', 'squar', 'carey', 'mst3k', 'doom', 'hopkin', 'descript', 'slam', 'toronto', 'lou', 'disgrac', 'elect', 'arrog', 'laughter', 'unattract', 'vacat', 'aid', 'absent', 'loss', 'vile', 'heard', 'liner', 'convolut', 'duke', 'threat', 'fail', 'hara', 'guest', 'stuff', 'mode', 'fleet', 'branagh', 'experiment', 'mitch', 'failur', 'uncut', 'stake', 'brian', '80', 'group', 'aris', 'orlean', 'seen', 'paxton', 'improb', 'call', 'spit', 'brilliantli', 'frankenstein', 'obtain', 'prom', 'howl', 'lampoon', 'violent', '45', 'spade', 'provid', 'matt', 'ham', 'soviet', 'fals', 'properli', 'mental', 'everi', 'ventur', 'simultan', 'captain', 'out', 'joke', 'airplan', 'alan', 'felix', 'liu', 'effort', 'duel', 'similarli', 'anyth', 'racism', 'sabrina', 'spoiler', 'render', 'lucki', 'natali', 'absurd', 'terrif', 'jacket', 'visual', 'dian', 'catherin', 'beatl', 'crippl', 'deserv', 'maria', 'spend', 'chair', 'amongst', 'exagger', 'let', 'grandfath', 'sinc', 'halfway', 'smith', 'ordinari', 'spring', 'hatr', 'murder', 'barri', 'adolesc', 'land', 'persona', 'frontal', 'bell', 'jesu', 'rip', 'advic', 'absenc', 'purchas', 'buster', 'catchi', 'author', 'psychiatrist', 'hain', 'imdb', 'subtleti', '1940', 'debat', 'gregori', 'trip', 'jimmi', 'virgin', 'geni', 'predecessor', 'cameron', 'closer', 'segment', 'ought', 'duval', 'happen', 'invent', 'basketbal', 'countrysid', 'electr', 'nobl', 'unforgett', 'climax', 'stale', 'unusu', 'truth', 'famou', 'dolph', 'stereotyp', 'patrick', 'inner', 'worri', 'randomli', 'infam', 'sutherland', 'suspect', 'palanc', 'what', 'flashi', 'fluff', 'awak', 'cap', 'victori', 'mum', 'ignor', 'defens', 'period', 'want', 'choru', 'broken', 'chosen', 'eat', 'lavish', 'paus', 'minim', 'fit', 'vanc', 'streisand', 'undermin', 'babe', 'flip', 'bakshi', 'serv', 'pattern', 'bring', 'chop', 'tortur', 'grim', 'target', 'corman', 'wore', 'omin', 'truman', 'appar', 'top', 'hack', 'slapstick', 'deal', 'andr', 'sit', 'eva', 'troop', 'hat', 'uniformli', 'excess', 'sens', 'transport', 'shout', 'mostli', 'rehash', 'pervers', 'ego', 'aspect', 'ben', 'prey', 'belief', 'erot', 'conserv', 'ugli', 'togeth', 'ethan', 'interest', 'lose', 'actor', 'preced', 'kolchak', 'reaction', 'fifteen', 'note', 'statement', 'malon', 'artifici', 'tackl', 'galaxi', 'invit', 'anchor', 'capabl', 'loneli', 'whilst', 'ensur', 'alcohol', 'slick', 'elvira', 'cinderella', 'dead', 'grow', 'goe', 'convert', 'stuck', 'mild', 'farm', 'sitcom', 'mad', 'best', 'beach', 'clad', 'ariel', 'pete', 'sooner', 'tech', 'lack', 'hurt', 'endur', 'whether', 'firm', 'emerg', 'senat', 'text', 'drivel', 'bunni', 'confus', 'darren', 'carmen', 'grip', '1970', 'bean', 'kinda', 'merit', 'contain', 'catch', 'seven', 'advantag', 'kind', '99', 'help', 'admit', 'brutal', 'presum', 'variat', 'orient', 'neil', 'info', 'ian', 'vet', 'doubl', 'rest', 'miscast', 'absolut', 'scariest', 'relief', 'howard', 'lend', 'excel', 'instanc', 'giggl', 'slip', 'anyway', 'introduct', 'documentari', 'strongli', 'flawless', 'joel', 'toy', 'dancer', 'arguabl', 'tabl', 'suppos', 'loath', 'propaganda', 'contempl', 'ye', 'manner', 'bridget', 'horrend', 'asset', '90', 'technicolor', 'psychic', 'theatric', 'screw', 'expedit', 'tommi', 'ingrid', 'adventur', 'video', 'soundtrack', 'inflict', 'bikini', 'height', 'ann', 'modest', 'weight', 'mummi', 'palac', 'preachi', 'slash', 'earli', 'revolt', 'terri', 'shut', 'quaid', 'thriller', 'seriou', 'freeman', 'cheap', 'watchabl', 'plu', 'revers', 'david', 'trigger', 'yeah', 'threw', 'slaughter', 'free', 'creatur', 'andrew', 'shortli', 'fox', 'whore', 'tip', 'fishburn', 'jew', 'round', '1983', 'maniac', 'remot', 'exactli', 'earn', 'humour', 'relentless', 'peter', 'spawn', 'fund', 'solo', 'also', 'clara', 'main', 'affleck', 'lay', 'block', '10', 'post', 'date', 'beyond', 'harvey', 'adult', 'nope', 'reviv', 'digit', 'indiffer', 'fruit', 'citizen', 'pretenti', 'grant', 'colonel', 'held', 'view', 'grown', 'neighbor', 'soderbergh', 'though', 'might', 'hospit', 'photograph', 'robber', 'karl', 'recycl', 'journalist', 'great', 'publish', 'em', 'civil', 'birthday', 'beauti', 'cure', 'secondli', 'cancer', 'titl', 'santa', 'trend', 'arriv', 'hartley', 'audit', '25', 'order', 'aristocrat', 'pokemon', 'rita', 'doc', 'throat', 'lesli', 'britain', 'allow', 'worst', 'french', 'salt', 'buddi', 'rapist', 'kim', 'away', 'countri', 'forgot', 'tough', 'amitabh', 'candi', 'increasingli', 'sheer', 'scriptwrit', 'folk', 'sneak', '19', 'goldsworthi', 'look', 'save', 'breast', 'smell', 'gunga', 'solut', 'photographi', 'penn', 'cabin', 'ted', 'templ', 'alley', 'lawrenc', 'charg', 'eventu', 'charli', '1971', 'vietnam', 'epitom', '1976', 'inspector', 'mobil', 'scott', 'pamela', 'meant', 'chang', 'massiv', 'film', 'function', 'faith', 'watcher', 'kurt', 'stronger', 'hammer', 'bow', 'obviou', 'deriv', 'high', 'nail', 'paul', 'etc', 'pulp', 'rather', 'indic', 'util', 'secretli', 'milo', 'seed', '14', 'pirat', 'kiss', 'contribut', 'gere', 'flight', 'honestli', 'cg', 'brenda', 'prior', 'occasion', 'consciou', 'speci', 'adopt', 'analysi', 'theater', 'titan', 'melodi', 'kenneth', 'gabriel', 'boat', 'brain', 'fantast', 'televis', 'fear', 'roommat', 'casual', 'heartbreak', 'axe', 'awaken', 'patriot', 'abandon', 'downey', 'asid', 'grate', 'canyon', 'describ', 'boss', 'pitch', 'wise', 'subject', 'scientif', 'jane', 'stalk', 'palma', 'surpris', 'jam', 'world', 'life', 'pun', 'donald', 'unintent', 'bitch', 'winter', '20', 'julian', 'dilemma', 'stan', 'inhabit', 'air', 'valid', 'sure', 'mile', 'girl', 'indian', 'imagin', 'saga', 'explos', 'enlighten', 'ruthless', 'robinson', 'kyle', 'frighten', 'convinc', 'luke', 'cri', 'melt', 'bro', 'vengeanc', 'trademark', 'get', 'minist', 'later', 'john', 'mobster', 'tension', 'medic', 'end', 'beg', 'stallon', 'approach', 'moron', 'surreal', 'degrad', 'multi', 'falk', 'warm', 'train', 'secret', 'brook', '40', 'page', 'mike', 'down', 'unfair', 'sirk', 'tad', 'children', 'balanc', 'steam', 'channel', 'empti', 'regard', 'texa', 'daisi', 'villag', 'exit', 'forest', 'sympath', 'badli', 'drive', 'retard', 'improvis', 'cusack', 'notori', 'contact', 'sophi', 'immers', 'scarecrow', 'spoke', 'finish', 'storylin', 'harder', 'nichola', 'ice', 'dismal', 'disord', 'break', 'sleaz', 'thought', 'cheer', 'bound', 'profil', '13', 'voic', 'abc', 'niro', 'ultra', 'dub', 'built', 'hollow', 'mindless', 'triangl', 'store', 'pat', 'soprano', 'hesit', 'recent', 'unbeliev', 'pick', 'de', 'secretari', 'frog', 'assassin', 'damm', 'connect', 'voight', 'cb', 'often', 'belli', 'electron', 'incomprehens', 'strictli', 'wick', 'examin', 'suspici', 'athlet', 'www', 'panic', 'pose', 'compar', 'overdon', 'dr', 'militari', 'real', 'drove', 'stark', 'tourist', 'disney', 'difficulti', 'younger', 'nuditi', 'casino', 'replay', 'startl', 'winchest', '50', 'ami', 'yesterday', 'dislik', 'phoni', 'surround', 'loyalti', 'wang', 'peopl', 'anywher', 'airport', 'quirki', 'continu', 'alter', 'incoher', 'intend', 'radic', 'ball', 'anticip', 'zane', 'primit', 'gold', 'seagal', 'oil', 'emphas', 'gerard', 'michael', 'trap', 'understood', 'huge', 'therefor', 'overlong', 'bigger', 'haunt', '1991', 'newer', 'present', 'bear', 'carla', 'tremend', 'chain', 'downhil', 'eighti', 'barrel', 'squad', 'field', 'suppli', 'aunt', 'conclus', '35', 'posey', 'literari', 'ryan', 'eeri', 'preming', 'unorigin', 'nostalg', 'met', 'school', 'asleep', '2008', 'slasher', 'joe', 'reli', 'critiqu', 'premis', 'meander', 'errol', 'worn', 'evid', 'fetch', 'hope', 'modesti', 'crawford', 'percept', 'resist', 'connor', 'varieti', 'menac', 'jean', 'poker', 'robbin', 'poor', 'journey', 'ludicr', 'possibl', 'older', 'african', 'chemistri', 'passag', 'leather', 'dish', 'incident', 'unfortun', 'hair', 'neglect', 'accur', 'judd', 'der', 'row', 'et', 'highlight', 'clair', 'match', 'pretend', 'brooklyn', 'holiday', 'huh', 'mildr', '4th', 'heck', 'christi', 'plastic', 'grayson', 'heal', 'rave', 'lesbian', 'transit', 'cd', 'evok', 'deadli', 'wood', 'christ', 'descent', 'everybodi', 'eager', 'jeff', 'vibrant', 'thoroughli', 'academi', 'walsh', 'indulg', 'milk', 'cup', 'phenomenon', 'media', 'given', 'spark', 'fortun', 'heartfelt', 'screenplay', 'bland', 'phillip', 'sever', 'wizard', 'minu', 'brother', 'memori', 'wayn', 'sustain', 'boxer', 'blank', 'spoof', 'curiou', 'earlier', 'competit', 'jenni', 'size', 'harsh', 'clumsi', 'urban', 'marion', '1979', 'heaven', 'contempt', 'chines', 'click', 'clueless', 'fanci', 'edgar', 'quiet', 'ear', 'neill', 'wing', 'parodi', 'cagney', 'fi', 'housewif', 'miik', 'cool', 'theori', 'safe', 'simmon', 'mario', 'pie', 'rid', 'effici', 'metal', 'clean', 'realis', '1996', 'poorli', 'expens', 'area', 'know', 'tea', 'chainsaw', 'tool', 'trait', 'filth', 'wheel', 'mystic', 'tragedi', 'yard', 'coffe', 'ancient', 'worthwhil', 'war', 'che', 'step', 'cop', 'state', 'wendigo', 'bold', 'depend', 'highest', 'mortal', 'desper', 'reed', 'monti', 'evelyn', 'martian', 'comput', 'dear', 'park', 'remak', 'insult', 'morri', 'cerebr', 'leap', 'illustr', 'origin', 'garden', 'resurrect', 'recogn', 'mol', 'robberi', 'carol', 'plate', 'oblig', 'fist', 'half', 'movement', 'song', 'plane', 'sloppi', 'rumor', 'barbara', 'hong', 'ensembl', 'rose', 'chavez', 'own', 'pleas', 'grand', 'destini', 'rap', 'joker', 'scar', 'dealer', 'trivia', 'expect', 'hyster', 'birth', 'whip', 'prison', 'taylor', 'reel', 'gain', 'scenario', 'like', 'ridicul', 'mysteri', 'norm', 'feet', 'israel', 'boob', 'one', 'psych', 'remad', 'samurai', 'label', 'avoid', 'none', 'anton', 'wilder', 'eaten', 'stolen', 'wholli', 'literatur', 'wanna', 'shower', 'sue', 'phantom', 'enough', 'vivid', 'charm', 'spot', 'summer', 'preston', 'dozen', 'amor', 'trace', 'anyon', 'quietli', 'bill', 'nonetheless', 'standard', 'acclaim', 'aliv', 'gap', 'attack', 'phone', 'except', 'proceed', 'nomin', 'sleazi', 'edgi', 'motiv', 'realism', 'ie', 'chief', 'knife', 'enthusiast', 'gillian', 'greet', 'alreadi', 'pit', 'narrow', 'max', 'culmin', 'cow', 'shelley', 'extens', 'unimagin', 'growth', 'egg', 'accus', 'barrymor', 'needless', 'jade', 'angst', 'wherea', 'fairi', 'twilight', 'mix', 'insid', 'timeless', 'clau', 'favourit', 'coupl', 'carri', 'rachel', 'pull', 'repetit', 'werewolf', 'window', 'late', 'magazin', 'franchis', 'sorri', 'tokyo', 'genuin', 'inan', 'ambigu', 'bag', 'enabl', 'crush', 'prequel', 'minor', 'meaningless', 'necessarili', 'legend', 'carpent', 'antic', 'colour', 'princip', 'ponder', 'mar', 'abraham', 'promis', 'achiev', 'mccoy', 'steel', 'empathi', 'clash', 'dawson', 'kathryn', 'pro', 'whatsoev', 'gal', 'navi', 'part', 'sexi', 'maintain', 'reliabl', 'championship', 'wear', 'base', 'domino', '1936', 'cheesi', 'hideou', 'norman', 'larri', 'likewis', 'upon', 'imit', 'instant', 'hostil', 'senior', 'dread', 'tens', 'briefli', 'zizek', 'pig', 'price', 'bed', 'love', 'walter', 'futurist', 'network', 'bar', 'clone', 'mutant', 'oldest', 'struggl', 'hippi', '13th', 'boyer', 'spooki', 'delic', 'region', 'lang', 'bye', 'explod', 'zoom', 'dylan', 'die', 'divers', 'surgeri', 'hilari', 'kingdom', 'mountain', 'enforc', 'iran', 'allen', 'harm', 'spray', 'wooden', 'cross', 'contemporari', 'disgust', 'junior', 'strong', 'blatant', 'ireland', 'tempt', 'joseph', 'artist', 'skull', 'burton', 'unreal', 'lui', 'higher', 'isra', 'foolish', 'death', 'comb', 'pant', 'jaw', 'blatantli', '73', 'packag', 'campbel', 'drake', 'stimul', 'banal', '70', 'member', 'director', 'russian', 'dress', 'passion', 'actress', 'bone', 'impact', 'bachelor', 'resolut', 'check', 'jacki', 'sci', 'clear', 'sink', 'calm', 'billi', 'plenti', 'devil', 'due', 'process', 'ago', 'simpli', 'filler', 'visit', 'inferior', 'burn', 'bake', 'care', 'discov', 'fabric', 'lane', 'sin', 'heartwarm', 'madonna', 'compel', 'someday', 'orson', 'tomato', '00', 'christian', 'share', 'maker', 'germani', 'luca', 'societi', 'dark', 'http', 'known', 'distribut', 'roar', 'hang', 'five', 'pile', 'cain', 'today', 'nicola', 'mathieu', 'cia', 'irrit', 'element', 'twenti', 'sung', 'eleph', '1990', 'besid', 'fisher', 'seldom', '95', 'childhood', 'document', 'senseless', 'warren', 'judgment', 'certainli', 'grudg', 'central', 'imageri', 'suffici', 'bother', 'cartoon', 'torn', 'annoy', 'door', 'health', 'outrag', 'extent', 'team', 'household', 'star', 'akshay', 'persuad', 'metaphor', 'dumb', 'ha', 'strive', 'hung', 'cring', 'manhattan', 'conscienc', 'cigarett', 'everyday', 'citi', 'offend', 'singl', 'ritchi', 'curtain', 'justin', 'notabl', 'relev', 'user', 'bacal', 'drunk', 'religi', 'dana', 'lousi', 'industri', 'weav', 'kazan', 'name', 'ford', 'marc', 'final', 'scene', 'boo', 'reminisc', 'sox', 'gotten', 'delici', 'nice', '2002', 'govern', 'deniro', 'hopper', 'ruth', 'wont', 'braveheart', 'grey', 'restaur', 'quarter', 'gilliam', 'old', 'class', 'daniel', 'wide', 'thick', 'recreat', 'educ', 'stick', 'sad', 'slimi', 'simpl', 'funni', 'boy', 'pursuit', 'commend', 'prefer', 'highway', 'promin', 'difficult', '1933', 'strand', 'termin', 'histori', 'pre', 'mani', 'charact', 'pepper', '2004', 'associ', 'distress', 'belov', 'outright', 'sensit', 'oh', 'bike', 'springer', 'tendenc', 'outfit', 'flop', 'miniseri', 'rosemari', 'count', 'prank', 'roller', 'sentenc', 'eve', 'outstand', 'jessica', 'pale', 'nostalgia', 'pathet', 'worth', 'jack', 'coloni', 'boom', 'fever', 'rider', 'swept', 'tarzan', 'derang', 'midnight', 'river', 'letter', 'unleash', 'solv', 'instruct', 'race', 'goldberg', 'ultim', 'mid', 'leagu', 'khan', 'gave', 'stanley', 'seek', 'holli', 'laurel', 'basket', 'follow', 'will', 'isabel', 'vader', 'dim', 'divin', 'white', 'confess', 'rabbit', 'prejudic', 'trier', 'topic', 'tack', 'directori', 'finger', 'mail', 'grave', 'disbelief', 'valuabl', 'shield', 'elit', 'dubiou', 'elsewher', 'map', 'women', 'gun', 'revel', 'fatal', 'trust', 'pot', 'aussi', 'pioneer', 'institut', 'book', 'suspicion', 'uneven', 'monologu', 'polanski', 'gender', 'peer', 'buy', 'partli', 'dog', 'randi', 'came', 'equip', 'holocaust', 'truli', 'vote', 'small', 'ginger', 'human', 'conspiraci', 'assembl', 'owner', 'identifi', 'stiff', 'energet', 'terribl', 'cage', 'poster', 'dracula', 'planet', 'art', 'obnoxi', 'core', 'ensu', 'naschi', 'vignett', 'redeem', 'ahead', 'primarili', 'off', 'paramount', '18', 'polit', 'grace', 'prize', 'wors', 'numer', 'convict', 'lake', 'inaccur', 'breathtak', 'lift', 'congratul', 'observ', 'appl', 'enhanc', 'sum', 'despic', 'favour', 'tap', 'eye', 'bird', 'pan', 'hungri', 'preview', 'alarm', 'viciou', 'overr', 'repres', 'arnold', 'healthi', 'tarantino', 'tone', 'scotland', 'directli', 'invest', 'vari', 'float', 'tender', 'clue', 'sold', 'success', 'reject', 'unlik', 'wish', 'happi', 'deepli', 'repli', 'tight', 'backdrop', 'climact', 'closet', 'chicago', 'realm', 'naughti', 'lex', 'gore', 'newcom', 'skit', 'item', 'glare', 'smoke', 'fulci', 'commit', 'carlito', 'engag', 'compani', 'token', 'canadian', 'aka', 'ass', 'fragil', 'anim', 'parker', 'rate', 'cut', 'discuss', 'english', 'sir', 'inde', 'saw', 'biko', 'urg', 'cult', 'fault', 'keen', 'hammi', 'learn', 'spread', 'gate', 'distinct', 'styliz', 'killer', '100', 'fellow', 'laugh', 'cecil', 'coaster', 'orang', 'monster', 'injur', 'orchestr', 'write', 'immens', 'thousand', 'cardboard', 'thu', 'accident', 'background', 'li', 'shakespear', 'divid', 'parallel', 'behav', 'dud', 'curli', 'bomb', 'uk', 'despit', 'hank', 'long', 'convey', 'us', 'unless', 'disguis', 'whoopi', 'laughabl', 'coast', 'test', 'condit', 'sensat', 'right', 'louis', 'perceiv', 'asham', 'rifl', 'individu', 'never', 'travesti', 'topless', 'repress', 'spock', 'claustrophob', 'motorcycl', 'pregnant', 'banter', 'anoth', 'goldblum', 'expert', 'sea', 'legitim', '1945', 'stephen', 'session', 'april', 'slide', 'narrat', 'transform', 'pretens', 'constitut', 'nightclub', 'andi', 'spi', 'affect', 'accord', 'paper', 'sympathi', 'kidman', 'aspir', 'quick', 'psychopath', 'hackney', 'schlock', 'mclaglen', 'pleasantli', 'innoc', 'treat', 'tyler', 'miyazaki', 'olivi', 'plagu', 'moreov', 'deed', 'shark', 'scottish', 'timothi', 'betti', 'guess', 'monk', 'charlott', 'spree', 'mistak', 'irrelev', '1960', 'neo', 'shade', 'drum', 'sid', 'jr', 'rome', 'mind', 'lab', 'kane', 'ton', 'even', 'retain', 'appropri', 'niec', 'forgotten', 'bett', 'unexpectedli', 'project', 'inept', 'edward', 'read', 'kline', 'circl', 'extra', 'grief', 'bloodi', 'probabl', 'sacrific', 'anybodi', 'al', 'flow', 'astonish', 'exhaust', 'hood', 'vital', 'necessari', 'chick', 'wendi', 'span', 'counterpart', 'water', 'tree', 'age', 'karen', 'ocean', 'sing', 'underground', 'surfac', 'nuclear', 'superman', 'lemmon', 'argu', 'brilliant', 'trail', 'abomin', 'proud', 'acid', 'be', 'columbo', 'european', 'way', 'fact', 'mitchel', 'candid', 'glimps', 'georg', 'bang', 'rule', 'stumbl', 'lust', 'south', 'pursu', 'young', 'olli', 'driven', 'abysm', 'faster', 'forgett', 'corrupt', 'pleasant', 'josh', 'traffic', 'heat', 'othello', 'unwatch', 'measur', 'manag', 'hyde', 'victoria', 'butt', 'destin', 'conclud', 'mixtur', 'independ', 'risk', 'foil', 'virginia', 'oscar', 'spirit', 'wast', 'dialog', 'recruit', 'strength', 'ambit', 'polish', 'suggest', 'memor', 'candl', 'sibl', 'decor', 'rain', 'fenc', 'muslim', 'reluct', 'effect', 'leav', 'hour', 'woo', 'consist', 'frank', 'illus', 'spinal', 'close', 'screenwrit', 'repeatedli', 'satan', 'habit', 'awhil', 'jackson', 'hokey', 'infect', 'linda', 'despis', 'dimension', 'differ', 'hip', 'brood', 'wipe', 'prais', 'lili', 'studio', 'board', 'rotten', 'chaplin', 'sam', 'witch', 'presenc', 'brown', 'less', 'toward', 'cuba', '1987', 'sucker', 'send', 'woodi', 'recogniz', 'pole', 'swear', 'stun', 'overwhelm', 'uncomfort', 'univers', 'trash', 'inabl', 'purpl', 'circu', 'destruct', 'told', 'miseri', 'whale', 'crime', 'grinch', 'karloff', 'prove', 'meet', 'dutch', 'situat', 'combin', 'aesthet', 'reader', 'tiresom', 'list', 'plot', 'fifti', 'tooth', 'septemb', 'alexandr', 'dive', 'reflect', 'showcas', 'vega', 'blur', 'cent', 'german', 'phrase', 'rubber', 'includ', 'okay', 'jonathan', 'marri', 'meryl', 'cameo', 'invad', 'hold', 'abrupt', 'we', 'stargat', 'homosexu', 'rare', 'agenc', 'casper', 'peac', 'puzzl', 'roger', 'landscap', 'parent', 'co', 'shallow', 'exist', 'howev', 'greatli', 'homag', 'somewhat', 'investig', 'handl', 'scare', 'mask', 'rendit', 'scoobi', 'gentleman', 'unfunni', 'station', 'jill', 'ground', 'rock', 'alfr', 'cultur', 'restrain', '1920', 'cinematographi', 'gift', 'gothic', 'sincer', 'perhap', 'glass', 'morbid', 'lot', 'anger', 'zone', 'loud', 'charl', 'gadget', '1997', 'sword', 'thin', 'stair', 'fan', 'gem', 'stream', 'forward', 'indi', 'un', 'clever', 'frankli', 'mediocr', 'swing', 'forgiven', 'sniper', 'vulner', 'teen', 'melissa', 'wrong', 'deni', 'dull', 'boot', 'interview', '2nd', 'relationship', 'friendship', 'damag', 'amateur', 'han', 'van', 'liberti', 'four', 'hate', 'perman', 'alert', 'lumet', 'come', 'pass', 'repuls', 'reach', 'spectacl', 'back', 'find', 'curios', 'protest', 'itali', 'wtf', 'fourth', 'kid', 'gag', 'mistress', 'drone', 'leo', 'kansa', 'direct', 'bruce', 'naiv', 'anderson', 'tame', 'instrument', 'drip', '1968', 'colleg', 'reunit', 'servic', 'blood', 'eric', 'realiz', '1950', 'fill', 'slight', 'futur', 'echo', 'consum', 'alec', 'drug', 'stuart', 'teacher', 'pal', 'essenti', 'rang', 'format', 'contract', 'lauren', 'nasti', 'flee', 'confin', 'courag', 'mayb', 'backward', 'thrill', 'dinner', 'bitten', 'helen', 'cannon', 'antholog', 'disturb', 'punch', 'pocket', 'ok', 'quest', 'rochest', 'enter', 'henri', 'blast', 'mari', 'till', 'obsess', 'bread', 'experienc', 'seduct', 'shoddi', 'priceless', 'fresh', 'femal', 'use', 'acknowledg', 'soft', 'maggi', 'desert', 'web', 'sunday', 'la', 'luck', 'abl', 'profess', 'leonard', 'knee', 'sleepwalk', 'smaller', 'delight', 'artsi', 'blunt', 'albeit', 'mine', 'confid', 'portray', 'jodi', 'deceas', 'eight', 'type', 'shadow', 'beneath', 'porn', 'capit', 'spanish', 'stylish', 'gorgeou', 'cold', 'loyal', 'principl', 'crimin', 'last', 'earth', 'spontan', 'fell', 'specif', 'mean', 'jon', 'approv', 'brad', 'tube', 'dimens', 'implaus', 'major', 'sentinel', 'hbo', '1st', 'flag', 'transfer', 'site', 'cleverli', 'fast', 'wig', 'super', 'homer', 'said', 'flaw', 'atroci', 'riot', 'hitchcock', 'got', 'marvel', 'rubbish', 'spider', 'charlton', 'notion', 'loser', 'sweep', 'potter', 'kay', 'regardless', 'town', 'enthral', 'thunderbird', 'net', 'esther', 'stanwyck', 'lacklust', 'matrix', 'turd', 'subplot', 'greedi', 'technolog', 'shift', 'vampir', 'occur', 'crap', 'trailer', 'afford', 'stack', 'upset', 'arm', 'western', 'utterli', 'wife', 'terrifi', 'appeal', 'foster', 'kirk', 'astair', 'popular', 'june', 'slug', 'debt', 'gene', 'wire', 'attent', 'ish', 'cypher', 'wrap', 'bore', 'tomorrow', '2007', 'absorb', 'longer', 'spectacular', 'ration', 'lush', 'astronaut', 'jar', 'choic', 'rude', 'romanc', 'hand', 'ralph', 'cohen', 'parti', 'reduc', 'obscur', 'wet', 'snap', 'drag', 'spine', 'stori', 'provok', 'blake', 'superhero', 'nelson', 'smash', 'comed', 'floor', 'ridden', 'surpass', 'decis', 'arrest', 'press', 'richardson', 'dreck', 'bathroom', 'realiti', 'privat', 'whenev', 'previou', 'warmth', 'couch', 'deliver', 'straight', 'feast', 'flashback', 'fluid', '1984', 'driver', 'owe', 'mann', 'toilet', 'grasp', 'avail', 'via', 'belushi', 'kiddi', 'speed', 'mutual', '2000', 'preposter', 'unrel', 'articl', 'subtitl', 'corps', 'serious', 'bodi', 'disappoint', 'latin', 'seri', 'suicid', 'miller', 'batman', 'rubi', 'word', 'castl', 'stock', 'sport', 'dicken', 'automat', 'bless', 'explan', 'superfici', 'lindsay', 'easier', 'vast', 'fall', 'somebodi', 'claud', 'advanc', 'chees', 'portion', 'supernatur', 'stood', 'cassidi', 'myth', 'boll', 'jeremi', 'kitti', 'dement', 'sat', '1973', 'synopsi', 'settl', 'stalker', 'remark', 'soon', 'fat', 'cher', 'someon', 'glenn', 'emili', 'common', 'australian', 'shell', 'epic', 'nicol', 'protect', 'rememb', 'mechan', 'poke', 'thoma', 'iii', 'labor', 'leigh', 'gundam', 'hepburn', 'oppos', 'anthoni', 'liber', 'graini', 'button', 'optimist', 'ten', 'junk', 'inher', 'matter', 'control', 'cinematograph', 'mark', 'influenc', 'bleed', 'grew', 'jail', 'heist', 'dirt', 'smart', 'morgan', 'preach', 'frustrat', 'proper', 'hopelessli', 'camera', 'room', 'befriend', 'anymor', 'breakdown', 'guilt', 'scarfac', 'refus', 'teeth', 'contrari', 'line', 'monkey', 'behaviour', 'trashi', 'dvd', 'decent', 'humor', 'sometim', 'dazzl', 'devoid', 'nativ', 'ask', 'heavili', 'jump', 'giallo', 'intim', 'road', 'kapoor', 'surviv', 'shanghai', 'enemi', 'evil', 'sent', 'wave', 'lovabl', 'sublim', 'dentist', 'unawar', 'stress', 'pearl', 'hackman', 'attach', 'daughter', 'tini', 'challeng', 'sudden', 'fuel', 'els', 'da', 'sidewalk', 'low', 'grotesqu', 'correctli', 'stoog', 'track', 'middl', 'unrealist', 'lighter', 'cheat', 'rank', 'proport', 'tripe', 'woman', 'dollar', 'misguid', 'gruesom', 'vision', 'amazon', 'sympathet', 'experi', 'liter', 'suspens', 'select', 'kennedi', 'lifetim', '60', 'play', 'explain', 'qualiti', 'mr', 'swim', 'queen', 'recognit', 'jealou', 'creep', 'person', 'boil', 'romp', 'whose', 'inject', 'talki', 'waitress', 'ship', 'cube', 'execut', 'sacrif', 'doctor', 'compris', 'mickey', 'gentl', 'nephew', 'greg', 'faint', 'sun', 'explicit', 'fart', 'ladder', 'applaud', 'onlin', 'method', 'march', 'im', 'molli', 'crappi', 'mcqueen', 'tall', 'mate', 'beaten', 'lowest', '16', 'stretch', 'fantasi', 'thief', '1989', 'breed', 'poverti', 'sweet', 'opposit', 'addit', 'din', 'slow', 'revolv', 'denzel', 'usual', 'nanci', 'gestur', 'communist', 'bronson', 'sammi', 'somewher', 'travel', 'wealth', 'instead', 'jerri', 'ward', 'turner', 'damon', 'wrestler', 'york', 'versu', 'conan', 'fu', 'nearbi', 'destroy', 'mob', 'guy', 'unravel', 'harold', 'bradi', 'favor', 'joan', 'turtl', 'dream', 'yeti', 'believ', 'court', 'underst', 'threaten', 'behold', 'tiger', 'commun', 'marshal', 'valu', 'tom', 'summar', 'natur', 'slave', 'brave', 'cgi', 'jim', 'current', 'kitchen', 'jordan', 'reveng', 'fanat', 'similar', 'jay', 'static', 'stare', 'defend', 'drunken', 'princess', 'showdown', 'brendan', 'cannot', 'cat', 'era', 'london', 'wound', 'premier', 'hidden', 'obligatori', 'mansion', 'decapit', 'answer', 'angri', 'ho', 'ring', 'insight', 'turkey', 'afraid', 'deeper', 'pen', 'cattl', 'baffl', '2006', 'hype', 'custom', 'schedul', 'roof', 'mainli', 'singer', 'murphi', 'fay', 'print', 'sketch', 'wrench', 'sunshin', 'hear', 'breath', 'strike', 'brush', 'defi', 'techniqu', 'whole', 'basement', 'tick', 'gather', 'adam', 'contrast', 'depict', 'unseen', 'intens', 'cours', 'clinic', 'secur', 'inevit', 'daili', 'credibl', 'martha', 'brazil', 'jo', 'ant', 'judi', 'blade', 'devic', 'brit', 'seventi', 'beast', 'correct', 'bank', 'makeup', 'ah', 'bumbl', 'sullivan', 'amount', 'steer', 'basebal', 'altman', 'establish', 'seduc', 'non', 'lord', 'blah', 'icon', 'nathan', 'especi', 'chuckl', 'captur', 'neither', 'throw', 'cathol', 'redund', 'drink', 'choos', 'conflict', 'cartoonish', 'biker', 'uh', 'vanish', 'tour', 'link', 'review', 'wed', 'goal', 'friday', 'subsequ', 'tie', 'tale', '1980', 'ya', 'campaign', 'eastern', 'steven', 'guin', 'beatti', 'qualifi', 'leg', 'advis', 'unconvinc', 'result', 'crisi', 'offic', 'everyth', 'bastard', 'among', 'irish', 'random', 'bare', 'yawn', 'shred', 'paid', 'silli', 'toni', 'perri', '75', 'philosoph', 'econom', 'farmer', 'resembl', 'freddi', 'uniqu', 'hey', 'marriag', 'tasteless', 'coach', 'fontain', 'hill', 'averag', 'famili', 'lifestyl', 'job', 'enterpris', 'smile', 'priest', 'hay', 'wilson', 'yearn', 'insist', 'advertis', 'tragic', 'bergman', 'outing', 'suffer', 'stomach', 'compens', 'intern', 'foot', 'royal', 'essenc', 'phenomen', 'someth', 'unabl', 'accept', '1988', 'widescreen', 'suspend', 'that', 'script', 'decad', 'triumph', 'sheet', 'honor', 'freez', 'dysfunct', 'depress', 'thread', 'enthusiasm', 'agenda', 'conceiv', 'sick', 'antagonist', 'authent', 'mayhem', 'highli', 'assort', 'biblic', 'footag', 'derek', 'taboo', 'oppress', 'band', 'attribut', 'supposedli', 'wrestl', 'robin', 'plan', 'stand', 'europ', 'game', 'convent', 'border', 'cowboy', 'banana', 'stellar', 'fight', 'conduct', 'proof', 'meg', 'idea', 'arrow', 'throughout', 'spiral', 'jennif', 'seemingli', 'rage', 'figur', 'judg', 'fascin', 'undeni', 'system', 'coher', 'give', 'forev', 'steve', 'quinn', 'lifeless', 'knightley', 'vanessa', 'capot', 'scroog', 'hudson', 'calib', 'ellen', 'assert', 'furiou', 'assist', 'damn', 'fonda', 'nose', 'touch', 'updat', 'graphic', '1977', 'altern', 'holi', 'face', 'prophet', 'meanwhil', 'interrupt', 'teenag', 'guid', 'convers', 'trade', 'burst', 'treasur', 'sort', 'dudley', 'australia', 'widow', 'center', 'nicholson', 'assur', 'resid', 'novak', 'day', 'todd', 'sight', 'north', 'jule', 'sake', 'assault', 'exact', 'light', 'realli', 'talent', 'bridg', 'victim', 'likabl', 'kent', 'issu', 'weakest', 'immatur', 'produc', 'moder', 'daddi', 'splatter', 'salman', 'rampag', 'remain', 'agre', 'better', 'magician', 'intellig', 'worthi', 'men', 'time', 'mother', 'saturday', 'deer', 'taxi', 'ritual', 'zombi', 'shame', 'brando', 'hot', 'transcend', 'hoffman', 'bbc', 'outlin', 'unpredict', 'full', 'francisco', 'franco', 'campi', 'far', 'shepherd', 'join', '24', 'man', 'recognis', 'support', 'fallen', 'bitter', 'antwon', 'scream', 'penni', 'doo', 'nyc', 'stupid', 'address', 'inappropri', 'reward', 'insipid', 'reev', 'california', 'agent', 'rant', 'happili', 'hunt', 'bet', 'estat', 'omen', 'feminin', 'blew', 'lynch', 'plight', 'jone', 'altogeth', 'joy', 'extraordinari', 'cancel', 'gordon', 'lip', 'perfectli', 'scandal', 'ranger', 'entranc', 'rais', 'volum', 'cell', 'foul', 'male', 'bulk', 'model', 'glorifi', 'solid', 'leon', 'fine', 'golden', 'went', 'alik', 'christoph', 'bobbi', 'drift', 'atmospher', 'razor', 'bottom', 'newman', 'compliment', 'offens', 'son', 'uncl', 'ingeni', 'trick', 'museum', 'centuri', 'florida', 'excit', '2001', 'spare', 'soul', 'unhappi', 'cast', 'sophist', 'profan', 'ticket', 'homicid', 'vehicl', 'anna', 'venom', 'rough', 'wildli', 'heap', 'radio', 'option', 'kelli', 'nois', 'fair', 'dude', 'student', 'desir', 'nobodi', 'san', 'stroke', 'aborigin', 'peril', 'melodramat', 'baldwin', 'fright', 'react', 'dee', 'root', 'snatch', 'distanc', 'abort', 'mon', 'neighborhood', 'psycho', 'ramon', 'broadcast', 'intent', 'subtl', 'evolv', 'husband', 'idiot', 'lost', 'miracul', 'recommend', 'tacki', 'accuraci', 'awe', 'gilbert', 'nemesi', 'helm', 'million', 'acquaint', 'drop', 'min', 'incred', 'stir', 'extrem', 'embrac', 'newli', 'propos', 'creepi', 'mission', 'mass', 'ident', 'mom', 'gang', 'cliffhang', 'austin', 'tri', 'disastr', 'defeat', 'everywher', 'born', 'horribl', 'cuban', 'ninja', 'sinist', 'gear', 'jazz', 'engin', 'lover', 'attorney', 'raw', 'stilt', 'ride', 'mayor', 'gray', 'exposur', 'vastli', 'edg', '30', 'poetic', 'keaton', 'girlfriend', 'degre', 'cassavet', 'disjoint', 'incorrect', 'flavor', 'invis', 'frontier', 'wallac', 'timberlak', 'act', 'endear', 'humbl', 'injuri', 'randolph', 'margaret', 'fed', 'silver', 'notch', 'complain', 'technic', 'witti', 'moor', 'littl', 'rivet', 'korean', 'coincid', 'familiar', 'porter', 'hotel', 'show', 'nation', 'ceremoni', 'spain', 'tara', 'hint', 'staff', 'powel', 'archiv', 'nightmar', 'countless', 'scale', 'aforement', 'alright', 'entertain', 'edi', 'dealt', 'chapter', 'modern', 'trio', 'scienc', 'problem', 'audio', 'tank', 'live', 'ii', 'funniest', 'analyz', 'duti', 'equival', 'feed', 'crook', 'respect', 'dorothi', 'jet', 'blown', 'simon', 'food', 'hop', 'alon', 'teas', 'comedian', 'fulfil', 'youngest', 'invas', 'wall', 'receiv', 'spice', 'episod', 'symbol', 'combat', 'geek', 'emma', 'st', 'suffic', 'task', 'client', 'cope', 'switch', 'funnier', 'enorm', 'mill', 'bite', 'kill', 'lester', 'palm', 'ideal', 'corner', 'gina', 'host', 'spoil', 'pixar', 'green', 'mytholog', 'dispos', 'chicken', 'frequent', 'consequ', 'pet', 'rush', 'conscious', 'dose', 'unnecessari', 'detect', 'sole', 'research', 'sceneri', 'compet', 'tenant', 'tv', 'glad', 'nineti', 'ace', 'blockbust', 'farc', 'unpleas', 'cape', 'chri', '1930', 'verhoeven', 'ethnic', 'gandhi', 'wind', 'strip', 'normal', 'substanc', 'en', 'without', 'question', 'warner', 'steadi', 'announc', 'flick', 'three', 'object', 'sign', '1974', 'rout', 'awar', 'lock', 'julia', 'shove', 'narr', 'hamlet', 'cannib', 'iraq', 'intellectu', 'felt', 'spacey', 'soccer', 'programm', 'akin', 'straightforward', 'monument', 'open', 'comedi', 'clich', 'mention', 'tune', 'helpless', 'shake', 'uma', 'dash', 'seat', 'sourc', 'freedom', 'sale', 'unknown', 'interestingli', 'savag', 'sinatra', 'policeman', 'resourc', 'lure', 'wit', 'eas', 'viewer', 'lazi', 'declin', 'gabl', 'creativ', 'corn', 'speak', 'selfish', 'toss', 'rooki', 'assign', 'muppet', 'extend', 'kick', 'messi', 'morn', 'clint', 'arc', 'readi', 'captiv', 'appear', 'punk', 'ill', 'pronounc', 'bottl', 'roth', 'chest', 'apart', 'east', 'justic', 'nevertheless', 'millionair', 'bargain', 'interior', 'sandra', 'patient', 'easili', 'terrorist', 'bias', 'dandi', 'albert', 'swallow', 'cost', 'crawl', 'stink', 'mermaid', 'blue', 'greater', 'cush', 'guard', 'plausibl', 'christma', 'refer', 'incorpor', 'austen', 'tend', 'weapon', 'encount', 'hero', 'italian', 'career', 'bash', 'classic', 'concentr', 'account', 'drama', 'jare', 'blair', 'sarah', 'rick', 'helicopt', 'lectur', 'side', 'cute', 'jess', 'pain', 'trilog', 'hors', 'nod', 'popcorn', 'cooki', 'pad', 'basi', 'sheriff', 'event', 'meal', 'cake', 'design', 'wreck', 'wagner', '1999', 'overact', 'context', 'jedi', 'factori', 'impli', 'cooper', 'meyer', 'possess', 'mafia', 'durat', 'embarrass', 'determin', 'twist', 'enjoy', 'replac', 'globe', 'admir', 'mount', 'alway', 'larg', 'gut', 'nake', 'depth', 'pure', 'confront', 'iv', 'requir', 'hit', 'nowaday', 'contriv', 'sky', 'purpos', 'clark', 'cinema', 'reveal', 'russel', 'aveng', 'thing', 'lesson', 'cruel', 'truck', 'china', 'onto', 'logic', 'dougla', 'dri', 'plain', 'medium', 'ol', 'stab', 'ironi', 'clearli', 'alvin', 'concert', 'susan', 'energi', 'pool', 'spell', 'sidekick', 'unsettl', 'nuanc', 'vaniti', 'complex', 'number', 'passeng', 'hitler', 'lundgren', 'elderli', 'master', 'moodi', '20th', 'freak', 'controversi', 'opera', 'gener', 'summari', 'vulgar', 'victor', 'humili', 'silenc', 'began', 'cynic', 'financi', 'rapidli', '22', 'struck', 'hamilton', 'horror', 'biographi', 'slightest', 'ballet', 'greek', 'shelf', 'previous', 'johnson', 'respons', 'ross', 'skin', 'gradual', 'preserv', 'verbal', '3d', 'belt', 'satir', 'bonu', 'battl', 'handsom', 'hart', 'astound', 'financ', 'treatment', 'chess', 'soap', 'prostitut', 'brief', 'around', 'submit', 'montag', 'arab', 'jan', 'miss', 'cant', 'carel', 'resum', 'alleg', 'bright', 'primari', 'masterpiec', 'traumat', 'angela', 'garbo', 'month', 'per', 'transplant', 'sixti', 'split', 'offer', 'bleak', 'whoever', 'wwii', 'ms', 'curti', 'teach', 'fog', 'screen', 'clock', 'hunter', 'smack', 'luci', 'loui', 'flock', 'macarthur', 'trauma', 'creation', 'incid', 'redempt', 'worker', 'version', 'occupi', 'rambo', 'wealthi', 'increas', 'ash', 'unbear', 'shot', 'adequ', 'slightli', 'ron', 'antonio', 'ran', 'pay', 'benefit', 'honest', 'affair', 'ritter', 'twelv', 'virtu', 'lyric', 'product', 'groan', 'fashion', 'unexplain', 'warrior', 'holm', 'sore', 'uninspir', 'theme', 'rel'}\n"
     ]
    }
   ],
   "source": [
    "print(new_vocabulary - original_vocabulary)"
   ]
  },
  {
   "cell_type": "markdown",
   "metadata": {},
   "source": [
    "These words themselves don't tell us much, however if one of these words occured with a large frequency, that might tell us something. In particular, we wouldn't really expect any of the words above to appear with too much frequency.\n",
    "What exactly is going on here? Not only what (if any) words appear with a larger than expected frequency but also, what does this mean? What has changed about the world that our original model no longer takes into account?"
   ]
  },
  {
   "cell_type": "markdown",
   "metadata": {},
   "source": [
    "### (TODO) Build a new model\n",
    "\n",
    "Supposing that we believe something has changed about the underlying distribution of the words that our reviews are made up of, we need to create a new model. This way our new model will take into account whatever it is that has changed.\n",
    "\n",
    "To begin with, we will use the new vocabulary to create a bag of words encoding of the new data. We will then use this data to train a new XGBoost model.\n",
    "\n",
    "**NOTE:** Because we believe that the underlying distribution of words has changed it should follow that the original vocabulary that we used to construct a bag of words encoding of the reviews is no longer valid. This means that we need to be careful with our data. If we send an bag of words encoded review using the *original* vocabulary we should not expect any sort of meaningful results.\n",
    "\n",
    "In particular, this means that if we had deployed our XGBoost model like we did in the Web App notebook then we would need to implement this vocabulary change in the Lambda function as well."
   ]
  },
  {
   "cell_type": "code",
   "execution_count": 47,
   "metadata": {},
   "outputs": [],
   "source": [
    "new_XV = new_vectorizer.transform(new_X).toarray()"
   ]
  },
  {
   "cell_type": "markdown",
   "metadata": {},
   "source": [
    "And a quick check to make sure that the newly encoded reviews have the correct length, which should be the size of the new vocabulary which we created."
   ]
  },
  {
   "cell_type": "code",
   "execution_count": 48,
   "metadata": {},
   "outputs": [
    {
     "data": {
      "text/plain": [
       "5000"
      ]
     },
     "execution_count": 48,
     "metadata": {},
     "output_type": "execute_result"
    }
   ],
   "source": [
    "len(new_XV[0])"
   ]
  },
  {
   "cell_type": "markdown",
   "metadata": {},
   "source": [
    "Now that we have our newly encoded, newly collected data, we can split it up into a training and validation set so that we can train a new XGBoost model. As usual, we first split up the data, then save it locally and then upload it to S3."
   ]
  },
  {
   "cell_type": "code",
   "execution_count": 49,
   "metadata": {},
   "outputs": [],
   "source": [
    "import pandas as pd\n",
    "\n",
    "# Earlier we shuffled the training dataset so to make things simple we can just assign\n",
    "# the first 10 000 reviews to the validation set and use the remaining reviews for training.\n",
    "new_val_X = pd.DataFrame(new_XV[:10000])\n",
    "new_train_X = pd.DataFrame(new_XV[10000:])\n",
    "\n",
    "new_val_y = pd.DataFrame(new_Y[:10000])\n",
    "new_train_y = pd.DataFrame(new_Y[10000:])"
   ]
  },
  {
   "cell_type": "markdown",
   "metadata": {},
   "source": [
    "In order to save some memory we will effectively delete the `new_X` variable. Remember that this contained a list of reviews and each review was a list of words. Note that once this cell has been executed you will need to read the new data in again if you want to work with it."
   ]
  },
  {
   "cell_type": "code",
   "execution_count": 50,
   "metadata": {},
   "outputs": [],
   "source": [
    "new_X = None"
   ]
  },
  {
   "cell_type": "markdown",
   "metadata": {},
   "source": [
    "Next we save the new training and validation sets locally. Note that we overwrite the training and validation sets used earlier. This is mostly because the amount of space that we have available on our notebook instance is limited. Of course, you can increase this if you'd like but to do so may increase the cost of running the notebook instance."
   ]
  },
  {
   "cell_type": "code",
   "execution_count": 51,
   "metadata": {},
   "outputs": [],
   "source": [
    "pd.DataFrame(new_XV).to_csv(os.path.join(data_dir, 'new_data.csv'), header=False, index=False)\n",
    "\n",
    "pd.concat([new_val_y, new_val_X], axis=1).to_csv(os.path.join(data_dir, 'new_validation.csv'), header=False, index=False)\n",
    "pd.concat([new_train_y, new_train_X], axis=1).to_csv(os.path.join(data_dir, 'new_train.csv'), header=False, index=False)"
   ]
  },
  {
   "cell_type": "markdown",
   "metadata": {},
   "source": [
    "Now that we've saved our data to the local instance, we can safely delete the variables to save on memory."
   ]
  },
  {
   "cell_type": "code",
   "execution_count": 52,
   "metadata": {},
   "outputs": [],
   "source": [
    "new_val_y = new_val_X = new_train_y = new_train_X = new_XV = None"
   ]
  },
  {
   "cell_type": "markdown",
   "metadata": {},
   "source": [
    "Lastly, we make sure to upload the new training and validation sets to S3.\n",
    "\n",
    "**TODO:** Upload the new data as well as the new training and validation data sets to S3."
   ]
  },
  {
   "cell_type": "code",
   "execution_count": 53,
   "metadata": {},
   "outputs": [],
   "source": [
    "# TODO: Upload the new data and the new validation.csv and train.csv files in the data_dir directory to S3.\n",
    "new_data_location = session.upload_data(os.path.join(data_dir, 'new_data.csv'), key_prefix=prefix)\n",
    "new_val_location = session.upload_data(os.path.join(data_dir, 'new_validation.csv'), key_prefix=prefix)\n",
    "new_train_location = session.upload_data(os.path.join(data_dir, 'new_train.csv'), key_prefix=prefix)"
   ]
  },
  {
   "cell_type": "markdown",
   "metadata": {},
   "source": [
    "Once our new training data has been uploaded to S3, we can create a new XGBoost model that will take into account the changes that have occured in our data set.\n",
    "\n",
    "**TODO:** Create a new XGBoost estimator object."
   ]
  },
  {
   "cell_type": "code",
   "execution_count": 54,
   "metadata": {},
   "outputs": [],
   "source": [
    "# TODO: First, create a SageMaker estimator object for our model.\n",
    "new_xgb = sagemaker.estimator.Estimator(container, # The location of the container we wish to use\n",
    "                                    role,                                    # What is our current IAM Role\n",
    "                                    train_instance_count=1,                  # How many compute instances\n",
    "                                    train_instance_type='ml.m4.xlarge',      # What kind of compute instances\n",
    "                                    output_path='s3://{}/{}/output'.format(session.default_bucket(), prefix),\n",
    "                                    sagemaker_session=session)\n",
    "\n",
    "\n",
    "# TODO: Then set the algorithm specific parameters. You may wish to use the same parameters that were\n",
    "#       used when training the original model.\n",
    "new_xgb.set_hyperparameters(max_depth=5,\n",
    "                        eta=0.2,\n",
    "                        gamma=4,\n",
    "                        min_child_weight=6,\n",
    "                        subsample=0.8,\n",
    "                        silent=0,\n",
    "                        objective='binary:logistic',\n",
    "                        early_stopping_rounds=10,\n",
    "                        num_round=500)"
   ]
  },
  {
   "cell_type": "markdown",
   "metadata": {},
   "source": [
    "Once the model has been created, we can train it with our new data.\n",
    "\n",
    "**TODO:** Train the new XGBoost model."
   ]
  },
  {
   "cell_type": "code",
   "execution_count": 55,
   "metadata": {},
   "outputs": [],
   "source": [
    "# TODO: First, make sure that you create s3 input objects so that SageMaker knows where to\n",
    "#       find the training and validation data.\n",
    "s3_new_input_train = sagemaker.s3_input(s3_data=new_train_location, content_type='csv')\n",
    "s3_new_input_validation = sagemaker.s3_input(s3_data=new_val_location, content_type='csv')"
   ]
  },
  {
   "cell_type": "code",
   "execution_count": 56,
   "metadata": {},
   "outputs": [
    {
     "name": "stdout",
     "output_type": "stream",
     "text": [
      "2019-07-29 10:41:42 Starting - Starting the training job...\n",
      "2019-07-29 10:41:43 Starting - Launching requested ML instances......\n",
      "2019-07-29 10:42:44 Starting - Preparing the instances for training......\n",
      "2019-07-29 10:44:05 Downloading - Downloading input data\n",
      "2019-07-29 10:44:05 Training - Downloading the training image..\n",
      "\u001b[31mArguments: train\u001b[0m\n",
      "\u001b[31m[2019-07-29:10:44:24:INFO] Running standalone xgboost training.\u001b[0m\n",
      "\u001b[31m[2019-07-29:10:44:24:INFO] File size need to be processed in the node: 238.47mb. Available memory size in the node: 8454.41mb\u001b[0m\n",
      "\u001b[31m[2019-07-29:10:44:24:INFO] Determined delimiter of CSV input is ','\u001b[0m\n",
      "\u001b[31m[10:44:24] S3DistributionType set as FullyReplicated\u001b[0m\n",
      "\u001b[31m[10:44:26] 15000x5000 matrix with 75000000 entries loaded from /opt/ml/input/data/train?format=csv&label_column=0&delimiter=,\u001b[0m\n",
      "\u001b[31m[2019-07-29:10:44:26:INFO] Determined delimiter of CSV input is ','\u001b[0m\n",
      "\u001b[31m[10:44:26] S3DistributionType set as FullyReplicated\u001b[0m\n",
      "\u001b[31m[10:44:27] 10000x5000 matrix with 50000000 entries loaded from /opt/ml/input/data/validation?format=csv&label_column=0&delimiter=,\u001b[0m\n",
      "\n",
      "2019-07-29 10:44:23 Training - Training image download completed. Training in progress.\u001b[31m[10:44:30] src/tree/updater_prune.cc:74: tree pruning end, 1 roots, 46 extra nodes, 8 pruned nodes, max_depth=5\u001b[0m\n",
      "\u001b[31m[0]#011train-error:0.3044#011validation-error:0.305\u001b[0m\n",
      "\u001b[31mMultiple eval metrics have been passed: 'validation-error' will be used for early stopping.\n",
      "\u001b[0m\n",
      "\u001b[31mWill train until validation-error hasn't improved in 10 rounds.\u001b[0m\n",
      "\u001b[31m[10:44:32] src/tree/updater_prune.cc:74: tree pruning end, 1 roots, 46 extra nodes, 8 pruned nodes, max_depth=5\u001b[0m\n",
      "\u001b[31m[1]#011train-error:0.298#011validation-error:0.3005\u001b[0m\n",
      "\u001b[31m[10:44:33] src/tree/updater_prune.cc:74: tree pruning end, 1 roots, 38 extra nodes, 8 pruned nodes, max_depth=5\u001b[0m\n",
      "\u001b[31m[2]#011train-error:0.283133#011validation-error:0.2868\u001b[0m\n",
      "\u001b[31m[10:44:34] src/tree/updater_prune.cc:74: tree pruning end, 1 roots, 38 extra nodes, 8 pruned nodes, max_depth=5\u001b[0m\n",
      "\u001b[31m[3]#011train-error:0.276867#011validation-error:0.2789\u001b[0m\n",
      "\u001b[31m[10:44:36] src/tree/updater_prune.cc:74: tree pruning end, 1 roots, 50 extra nodes, 4 pruned nodes, max_depth=5\u001b[0m\n",
      "\u001b[31m[4]#011train-error:0.271467#011validation-error:0.2757\u001b[0m\n",
      "\u001b[31m[10:44:37] src/tree/updater_prune.cc:74: tree pruning end, 1 roots, 44 extra nodes, 4 pruned nodes, max_depth=5\u001b[0m\n",
      "\u001b[31m[5]#011train-error:0.2636#011validation-error:0.2719\u001b[0m\n",
      "\u001b[31m[10:44:38] src/tree/updater_prune.cc:74: tree pruning end, 1 roots, 32 extra nodes, 14 pruned nodes, max_depth=5\u001b[0m\n",
      "\u001b[31m[6]#011train-error:0.256467#011validation-error:0.2681\u001b[0m\n",
      "\u001b[31m[10:44:39] src/tree/updater_prune.cc:74: tree pruning end, 1 roots, 36 extra nodes, 6 pruned nodes, max_depth=5\u001b[0m\n",
      "\u001b[31m[7]#011train-error:0.249667#011validation-error:0.2603\u001b[0m\n",
      "\u001b[31m[10:44:41] src/tree/updater_prune.cc:74: tree pruning end, 1 roots, 38 extra nodes, 8 pruned nodes, max_depth=5\u001b[0m\n",
      "\u001b[31m[8]#011train-error:0.240667#011validation-error:0.2516\u001b[0m\n",
      "\u001b[31m[10:44:42] src/tree/updater_prune.cc:74: tree pruning end, 1 roots, 24 extra nodes, 14 pruned nodes, max_depth=5\u001b[0m\n",
      "\u001b[31m[9]#011train-error:0.2378#011validation-error:0.2493\u001b[0m\n",
      "\u001b[31m[10:44:43] src/tree/updater_prune.cc:74: tree pruning end, 1 roots, 36 extra nodes, 8 pruned nodes, max_depth=5\u001b[0m\n",
      "\u001b[31m[10]#011train-error:0.2342#011validation-error:0.2451\u001b[0m\n",
      "\u001b[31m[10:44:44] src/tree/updater_prune.cc:74: tree pruning end, 1 roots, 44 extra nodes, 6 pruned nodes, max_depth=5\u001b[0m\n",
      "\u001b[31m[11]#011train-error:0.228133#011validation-error:0.239\u001b[0m\n",
      "\u001b[31m[10:44:46] src/tree/updater_prune.cc:74: tree pruning end, 1 roots, 34 extra nodes, 10 pruned nodes, max_depth=5\u001b[0m\n",
      "\u001b[31m[12]#011train-error:0.223467#011validation-error:0.2343\u001b[0m\n",
      "\u001b[31m[10:44:47] src/tree/updater_prune.cc:74: tree pruning end, 1 roots, 50 extra nodes, 4 pruned nodes, max_depth=5\u001b[0m\n",
      "\u001b[31m[13]#011train-error:0.219#011validation-error:0.2324\u001b[0m\n",
      "\u001b[31m[10:44:48] src/tree/updater_prune.cc:74: tree pruning end, 1 roots, 40 extra nodes, 4 pruned nodes, max_depth=5\u001b[0m\n",
      "\u001b[31m[14]#011train-error:0.216133#011validation-error:0.2298\u001b[0m\n",
      "\u001b[31m[10:44:50] src/tree/updater_prune.cc:74: tree pruning end, 1 roots, 38 extra nodes, 10 pruned nodes, max_depth=5\u001b[0m\n",
      "\u001b[31m[15]#011train-error:0.212867#011validation-error:0.2279\u001b[0m\n",
      "\u001b[31m[10:44:51] src/tree/updater_prune.cc:74: tree pruning end, 1 roots, 26 extra nodes, 8 pruned nodes, max_depth=5\u001b[0m\n",
      "\u001b[31m[16]#011train-error:0.210267#011validation-error:0.2246\u001b[0m\n",
      "\u001b[31m[10:44:52] src/tree/updater_prune.cc:74: tree pruning end, 1 roots, 28 extra nodes, 6 pruned nodes, max_depth=5\u001b[0m\n",
      "\u001b[31m[17]#011train-error:0.2108#011validation-error:0.2248\u001b[0m\n",
      "\u001b[31m[10:44:53] src/tree/updater_prune.cc:74: tree pruning end, 1 roots, 40 extra nodes, 6 pruned nodes, max_depth=5\u001b[0m\n",
      "\u001b[31m[18]#011train-error:0.207067#011validation-error:0.2216\u001b[0m\n",
      "\u001b[31m[10:44:55] src/tree/updater_prune.cc:74: tree pruning end, 1 roots, 30 extra nodes, 6 pruned nodes, max_depth=5\u001b[0m\n",
      "\u001b[31m[19]#011train-error:0.2034#011validation-error:0.2187\u001b[0m\n",
      "\u001b[31m[10:44:56] src/tree/updater_prune.cc:74: tree pruning end, 1 roots, 36 extra nodes, 8 pruned nodes, max_depth=5\u001b[0m\n",
      "\u001b[31m[20]#011train-error:0.202467#011validation-error:0.2166\u001b[0m\n",
      "\u001b[31m[10:44:57] src/tree/updater_prune.cc:74: tree pruning end, 1 roots, 34 extra nodes, 12 pruned nodes, max_depth=5\u001b[0m\n",
      "\u001b[31m[21]#011train-error:0.1996#011validation-error:0.2132\u001b[0m\n",
      "\u001b[31m[10:44:58] src/tree/updater_prune.cc:74: tree pruning end, 1 roots, 32 extra nodes, 8 pruned nodes, max_depth=5\u001b[0m\n",
      "\u001b[31m[22]#011train-error:0.197733#011validation-error:0.212\u001b[0m\n",
      "\u001b[31m[10:45:00] src/tree/updater_prune.cc:74: tree pruning end, 1 roots, 42 extra nodes, 4 pruned nodes, max_depth=5\u001b[0m\n",
      "\u001b[31m[23]#011train-error:0.194933#011validation-error:0.2102\u001b[0m\n",
      "\u001b[31m[10:45:01] src/tree/updater_prune.cc:74: tree pruning end, 1 roots, 32 extra nodes, 6 pruned nodes, max_depth=5\u001b[0m\n",
      "\u001b[31m[24]#011train-error:0.192467#011validation-error:0.2104\u001b[0m\n",
      "\u001b[31m[10:45:02] src/tree/updater_prune.cc:74: tree pruning end, 1 roots, 28 extra nodes, 14 pruned nodes, max_depth=5\u001b[0m\n",
      "\u001b[31m[25]#011train-error:0.191067#011validation-error:0.2099\u001b[0m\n",
      "\u001b[31m[10:45:03] src/tree/updater_prune.cc:74: tree pruning end, 1 roots, 40 extra nodes, 4 pruned nodes, max_depth=5\u001b[0m\n",
      "\u001b[31m[26]#011train-error:0.188733#011validation-error:0.2065\u001b[0m\n",
      "\u001b[31m[10:45:05] src/tree/updater_prune.cc:74: tree pruning end, 1 roots, 30 extra nodes, 6 pruned nodes, max_depth=5\u001b[0m\n",
      "\u001b[31m[27]#011train-error:0.184867#011validation-error:0.2063\u001b[0m\n",
      "\u001b[31m[10:45:06] src/tree/updater_prune.cc:74: tree pruning end, 1 roots, 40 extra nodes, 10 pruned nodes, max_depth=5\u001b[0m\n",
      "\u001b[31m[28]#011train-error:0.183467#011validation-error:0.2047\u001b[0m\n",
      "\u001b[31m[10:45:07] src/tree/updater_prune.cc:74: tree pruning end, 1 roots, 18 extra nodes, 8 pruned nodes, max_depth=5\u001b[0m\n",
      "\u001b[31m[29]#011train-error:0.181867#011validation-error:0.2053\u001b[0m\n",
      "\u001b[31m[10:45:08] src/tree/updater_prune.cc:74: tree pruning end, 1 roots, 24 extra nodes, 4 pruned nodes, max_depth=5\u001b[0m\n",
      "\u001b[31m[30]#011train-error:0.180333#011validation-error:0.2043\u001b[0m\n",
      "\u001b[31m[10:45:10] src/tree/updater_prune.cc:74: tree pruning end, 1 roots, 36 extra nodes, 6 pruned nodes, max_depth=5\u001b[0m\n",
      "\u001b[31m[31]#011train-error:0.179133#011validation-error:0.2039\u001b[0m\n",
      "\u001b[31m[10:45:11] src/tree/updater_prune.cc:74: tree pruning end, 1 roots, 28 extra nodes, 12 pruned nodes, max_depth=5\u001b[0m\n",
      "\u001b[31m[32]#011train-error:0.177533#011validation-error:0.2027\u001b[0m\n",
      "\u001b[31m[10:45:12] src/tree/updater_prune.cc:74: tree pruning end, 1 roots, 34 extra nodes, 4 pruned nodes, max_depth=5\u001b[0m\n",
      "\u001b[31m[33]#011train-error:0.175067#011validation-error:0.2023\u001b[0m\n",
      "\u001b[31m[10:45:13] src/tree/updater_prune.cc:74: tree pruning end, 1 roots, 24 extra nodes, 6 pruned nodes, max_depth=5\u001b[0m\n",
      "\u001b[31m[34]#011train-error:0.174133#011validation-error:0.2008\u001b[0m\n",
      "\u001b[31m[10:45:15] src/tree/updater_prune.cc:74: tree pruning end, 1 roots, 22 extra nodes, 6 pruned nodes, max_depth=5\u001b[0m\n",
      "\u001b[31m[35]#011train-error:0.170867#011validation-error:0.2011\u001b[0m\n",
      "\u001b[31m[10:45:16] src/tree/updater_prune.cc:74: tree pruning end, 1 roots, 20 extra nodes, 10 pruned nodes, max_depth=5\u001b[0m\n",
      "\u001b[31m[36]#011train-error:0.169933#011validation-error:0.202\u001b[0m\n",
      "\u001b[31m[10:45:17] src/tree/updater_prune.cc:74: tree pruning end, 1 roots, 16 extra nodes, 12 pruned nodes, max_depth=5\u001b[0m\n",
      "\u001b[31m[37]#011train-error:0.169667#011validation-error:0.2002\u001b[0m\n",
      "\u001b[31m[10:45:18] src/tree/updater_prune.cc:74: tree pruning end, 1 roots, 20 extra nodes, 12 pruned nodes, max_depth=5\u001b[0m\n",
      "\u001b[31m[38]#011train-error:0.168867#011validation-error:0.1997\u001b[0m\n",
      "\u001b[31m[10:45:20] src/tree/updater_prune.cc:74: tree pruning end, 1 roots, 42 extra nodes, 6 pruned nodes, max_depth=5\u001b[0m\n",
      "\u001b[31m[39]#011train-error:0.167933#011validation-error:0.1976\u001b[0m\n"
     ]
    },
    {
     "name": "stdout",
     "output_type": "stream",
     "text": [
      "\u001b[31m[10:45:21] src/tree/updater_prune.cc:74: tree pruning end, 1 roots, 26 extra nodes, 12 pruned nodes, max_depth=5\u001b[0m\n",
      "\u001b[31m[40]#011train-error:0.165867#011validation-error:0.1968\u001b[0m\n",
      "\u001b[31m[10:45:22] src/tree/updater_prune.cc:74: tree pruning end, 1 roots, 18 extra nodes, 6 pruned nodes, max_depth=5\u001b[0m\n",
      "\u001b[31m[41]#011train-error:0.165333#011validation-error:0.1955\u001b[0m\n",
      "\u001b[31m[10:45:23] src/tree/updater_prune.cc:74: tree pruning end, 1 roots, 24 extra nodes, 6 pruned nodes, max_depth=5\u001b[0m\n",
      "\u001b[31m[42]#011train-error:0.163333#011validation-error:0.195\u001b[0m\n",
      "\u001b[31m[10:45:25] src/tree/updater_prune.cc:74: tree pruning end, 1 roots, 30 extra nodes, 8 pruned nodes, max_depth=5\u001b[0m\n",
      "\u001b[31m[43]#011train-error:0.162933#011validation-error:0.1955\u001b[0m\n",
      "\u001b[31m[10:45:26] src/tree/updater_prune.cc:74: tree pruning end, 1 roots, 32 extra nodes, 10 pruned nodes, max_depth=5\u001b[0m\n",
      "\u001b[31m[44]#011train-error:0.1614#011validation-error:0.1946\u001b[0m\n",
      "\u001b[31m[10:45:27] src/tree/updater_prune.cc:74: tree pruning end, 1 roots, 32 extra nodes, 6 pruned nodes, max_depth=5\u001b[0m\n",
      "\u001b[31m[45]#011train-error:0.1612#011validation-error:0.1944\u001b[0m\n",
      "\u001b[31m[10:45:29] src/tree/updater_prune.cc:74: tree pruning end, 1 roots, 24 extra nodes, 10 pruned nodes, max_depth=5\u001b[0m\n",
      "\u001b[31m[46]#011train-error:0.159267#011validation-error:0.1931\u001b[0m\n",
      "\u001b[31m[10:45:30] src/tree/updater_prune.cc:74: tree pruning end, 1 roots, 36 extra nodes, 6 pruned nodes, max_depth=5\u001b[0m\n",
      "\u001b[31m[47]#011train-error:0.157067#011validation-error:0.1909\u001b[0m\n",
      "\u001b[31m[10:45:31] src/tree/updater_prune.cc:74: tree pruning end, 1 roots, 28 extra nodes, 4 pruned nodes, max_depth=5\u001b[0m\n",
      "\u001b[31m[48]#011train-error:0.155933#011validation-error:0.1897\u001b[0m\n",
      "\u001b[31m[10:45:32] src/tree/updater_prune.cc:74: tree pruning end, 1 roots, 26 extra nodes, 10 pruned nodes, max_depth=5\u001b[0m\n",
      "\u001b[31m[49]#011train-error:0.154467#011validation-error:0.1899\u001b[0m\n",
      "\u001b[31m[10:45:34] src/tree/updater_prune.cc:74: tree pruning end, 1 roots, 16 extra nodes, 12 pruned nodes, max_depth=5\u001b[0m\n",
      "\u001b[31m[50]#011train-error:0.1536#011validation-error:0.1908\u001b[0m\n",
      "\u001b[31m[10:45:35] src/tree/updater_prune.cc:74: tree pruning end, 1 roots, 18 extra nodes, 6 pruned nodes, max_depth=5\u001b[0m\n",
      "\u001b[31m[51]#011train-error:0.152467#011validation-error:0.1906\u001b[0m\n",
      "\u001b[31m[10:45:36] src/tree/updater_prune.cc:74: tree pruning end, 1 roots, 20 extra nodes, 6 pruned nodes, max_depth=5\u001b[0m\n",
      "\u001b[31m[52]#011train-error:0.1512#011validation-error:0.1909\u001b[0m\n",
      "\u001b[31m[10:45:37] src/tree/updater_prune.cc:74: tree pruning end, 1 roots, 18 extra nodes, 10 pruned nodes, max_depth=5\u001b[0m\n",
      "\u001b[31m[53]#011train-error:0.1514#011validation-error:0.1911\u001b[0m\n",
      "\u001b[31m[10:45:39] src/tree/updater_prune.cc:74: tree pruning end, 1 roots, 30 extra nodes, 10 pruned nodes, max_depth=5\u001b[0m\n",
      "\u001b[31m[54]#011train-error:0.150133#011validation-error:0.1895\u001b[0m\n",
      "\u001b[31m[10:45:40] src/tree/updater_prune.cc:74: tree pruning end, 1 roots, 24 extra nodes, 4 pruned nodes, max_depth=5\u001b[0m\n",
      "\u001b[31m[55]#011train-error:0.1492#011validation-error:0.1887\u001b[0m\n",
      "\u001b[31m[10:45:41] src/tree/updater_prune.cc:74: tree pruning end, 1 roots, 28 extra nodes, 6 pruned nodes, max_depth=5\u001b[0m\n",
      "\u001b[31m[56]#011train-error:0.147333#011validation-error:0.1872\u001b[0m\n",
      "\u001b[31m[10:45:42] src/tree/updater_prune.cc:74: tree pruning end, 1 roots, 18 extra nodes, 12 pruned nodes, max_depth=5\u001b[0m\n",
      "\u001b[31m[57]#011train-error:0.147667#011validation-error:0.1874\u001b[0m\n",
      "\u001b[31m[10:45:44] src/tree/updater_prune.cc:74: tree pruning end, 1 roots, 22 extra nodes, 4 pruned nodes, max_depth=5\u001b[0m\n",
      "\u001b[31m[58]#011train-error:0.146867#011validation-error:0.1879\u001b[0m\n",
      "\u001b[31m[10:45:45] src/tree/updater_prune.cc:74: tree pruning end, 1 roots, 18 extra nodes, 12 pruned nodes, max_depth=5\u001b[0m\n",
      "\u001b[31m[59]#011train-error:0.1462#011validation-error:0.1868\u001b[0m\n",
      "\u001b[31m[10:45:46] src/tree/updater_prune.cc:74: tree pruning end, 1 roots, 30 extra nodes, 10 pruned nodes, max_depth=5\u001b[0m\n",
      "\u001b[31m[60]#011train-error:0.1454#011validation-error:0.1873\u001b[0m\n",
      "\u001b[31m[10:45:47] src/tree/updater_prune.cc:74: tree pruning end, 1 roots, 26 extra nodes, 12 pruned nodes, max_depth=5\u001b[0m\n",
      "\u001b[31m[61]#011train-error:0.145#011validation-error:0.1873\u001b[0m\n",
      "\u001b[31m[10:45:49] src/tree/updater_prune.cc:74: tree pruning end, 1 roots, 22 extra nodes, 6 pruned nodes, max_depth=5\u001b[0m\n",
      "\u001b[31m[62]#011train-error:0.143533#011validation-error:0.1864\u001b[0m\n",
      "\u001b[31m[10:45:50] src/tree/updater_prune.cc:74: tree pruning end, 1 roots, 14 extra nodes, 8 pruned nodes, max_depth=5\u001b[0m\n",
      "\u001b[31m[63]#011train-error:0.143133#011validation-error:0.1857\u001b[0m\n",
      "\u001b[31m[10:45:51] src/tree/updater_prune.cc:74: tree pruning end, 1 roots, 18 extra nodes, 4 pruned nodes, max_depth=5\u001b[0m\n",
      "\u001b[31m[64]#011train-error:0.143333#011validation-error:0.1853\u001b[0m\n",
      "\u001b[31m[10:45:52] src/tree/updater_prune.cc:74: tree pruning end, 1 roots, 26 extra nodes, 10 pruned nodes, max_depth=5\u001b[0m\n",
      "\u001b[31m[65]#011train-error:0.142333#011validation-error:0.1861\u001b[0m\n",
      "\u001b[31m[10:45:54] src/tree/updater_prune.cc:74: tree pruning end, 1 roots, 22 extra nodes, 10 pruned nodes, max_depth=5\u001b[0m\n",
      "\u001b[31m[66]#011train-error:0.1422#011validation-error:0.1856\u001b[0m\n",
      "\u001b[31m[10:45:55] src/tree/updater_prune.cc:74: tree pruning end, 1 roots, 20 extra nodes, 8 pruned nodes, max_depth=5\u001b[0m\n",
      "\u001b[31m[67]#011train-error:0.140733#011validation-error:0.1859\u001b[0m\n",
      "\u001b[31m[10:45:56] src/tree/updater_prune.cc:74: tree pruning end, 1 roots, 28 extra nodes, 8 pruned nodes, max_depth=5\u001b[0m\n",
      "\u001b[31m[68]#011train-error:0.1402#011validation-error:0.1851\u001b[0m\n",
      "\u001b[31m[10:45:57] src/tree/updater_prune.cc:74: tree pruning end, 1 roots, 36 extra nodes, 6 pruned nodes, max_depth=5\u001b[0m\n",
      "\u001b[31m[69]#011train-error:0.139267#011validation-error:0.1835\u001b[0m\n",
      "\u001b[31m[10:45:59] src/tree/updater_prune.cc:74: tree pruning end, 1 roots, 10 extra nodes, 6 pruned nodes, max_depth=5\u001b[0m\n",
      "\u001b[31m[70]#011train-error:0.138133#011validation-error:0.1838\u001b[0m\n",
      "\u001b[31m[10:46:00] src/tree/updater_prune.cc:74: tree pruning end, 1 roots, 26 extra nodes, 12 pruned nodes, max_depth=5\u001b[0m\n",
      "\u001b[31m[71]#011train-error:0.138#011validation-error:0.1829\u001b[0m\n",
      "\u001b[31m[10:46:01] src/tree/updater_prune.cc:74: tree pruning end, 1 roots, 12 extra nodes, 10 pruned nodes, max_depth=5\u001b[0m\n",
      "\u001b[31m[72]#011train-error:0.138667#011validation-error:0.1839\u001b[0m\n",
      "\u001b[31m[10:46:02] src/tree/updater_prune.cc:74: tree pruning end, 1 roots, 16 extra nodes, 10 pruned nodes, max_depth=5\u001b[0m\n",
      "\u001b[31m[73]#011train-error:0.138933#011validation-error:0.1837\u001b[0m\n",
      "\u001b[31m[10:46:04] src/tree/updater_prune.cc:74: tree pruning end, 1 roots, 16 extra nodes, 8 pruned nodes, max_depth=5\u001b[0m\n",
      "\u001b[31m[74]#011train-error:0.138067#011validation-error:0.1835\u001b[0m\n",
      "\u001b[31m[10:46:05] src/tree/updater_prune.cc:74: tree pruning end, 1 roots, 20 extra nodes, 6 pruned nodes, max_depth=5\u001b[0m\n",
      "\u001b[31m[75]#011train-error:0.138#011validation-error:0.1839\u001b[0m\n",
      "\u001b[31m[10:46:06] src/tree/updater_prune.cc:74: tree pruning end, 1 roots, 18 extra nodes, 10 pruned nodes, max_depth=5\u001b[0m\n",
      "\u001b[31m[76]#011train-error:0.137667#011validation-error:0.1838\u001b[0m\n",
      "\u001b[31m[10:46:07] src/tree/updater_prune.cc:74: tree pruning end, 1 roots, 14 extra nodes, 2 pruned nodes, max_depth=5\u001b[0m\n",
      "\u001b[31m[77]#011train-error:0.1368#011validation-error:0.1838\u001b[0m\n",
      "\u001b[31m[10:46:09] src/tree/updater_prune.cc:74: tree pruning end, 1 roots, 14 extra nodes, 16 pruned nodes, max_depth=5\u001b[0m\n",
      "\u001b[31m[78]#011train-error:0.1368#011validation-error:0.1836\u001b[0m\n",
      "\u001b[31m[10:46:10] src/tree/updater_prune.cc:74: tree pruning end, 1 roots, 14 extra nodes, 8 pruned nodes, max_depth=5\u001b[0m\n",
      "\u001b[31m[79]#011train-error:0.136267#011validation-error:0.1835\u001b[0m\n",
      "\u001b[31m[10:46:11] src/tree/updater_prune.cc:74: tree pruning end, 1 roots, 16 extra nodes, 12 pruned nodes, max_depth=5\u001b[0m\n",
      "\u001b[31m[80]#011train-error:0.135333#011validation-error:0.1827\u001b[0m\n",
      "\u001b[31m[10:46:12] src/tree/updater_prune.cc:74: tree pruning end, 1 roots, 18 extra nodes, 10 pruned nodes, max_depth=5\u001b[0m\n",
      "\u001b[31m[81]#011train-error:0.134867#011validation-error:0.1827\u001b[0m\n",
      "\u001b[31m[10:46:14] src/tree/updater_prune.cc:74: tree pruning end, 1 roots, 16 extra nodes, 4 pruned nodes, max_depth=5\u001b[0m\n",
      "\u001b[31m[82]#011train-error:0.134#011validation-error:0.1831\u001b[0m\n",
      "\u001b[31m[10:46:15] src/tree/updater_prune.cc:74: tree pruning end, 1 roots, 18 extra nodes, 20 pruned nodes, max_depth=5\u001b[0m\n",
      "\u001b[31m[83]#011train-error:0.133933#011validation-error:0.1823\u001b[0m\n",
      "\u001b[31m[10:46:16] src/tree/updater_prune.cc:74: tree pruning end, 1 roots, 24 extra nodes, 12 pruned nodes, max_depth=5\u001b[0m\n",
      "\u001b[31m[84]#011train-error:0.131867#011validation-error:0.1815\u001b[0m\n",
      "\u001b[31m[10:46:17] src/tree/updater_prune.cc:74: tree pruning end, 1 roots, 12 extra nodes, 4 pruned nodes, max_depth=5\u001b[0m\n",
      "\u001b[31m[85]#011train-error:0.131467#011validation-error:0.1813\u001b[0m\n",
      "\u001b[31m[10:46:19] src/tree/updater_prune.cc:74: tree pruning end, 1 roots, 10 extra nodes, 12 pruned nodes, max_depth=5\u001b[0m\n",
      "\u001b[31m[86]#011train-error:0.131667#011validation-error:0.1817\u001b[0m\n",
      "\u001b[31m[10:46:20] src/tree/updater_prune.cc:74: tree pruning end, 1 roots, 16 extra nodes, 2 pruned nodes, max_depth=5\u001b[0m\n",
      "\u001b[31m[87]#011train-error:0.131333#011validation-error:0.1817\u001b[0m\n"
     ]
    },
    {
     "name": "stdout",
     "output_type": "stream",
     "text": [
      "\u001b[31m[10:46:21] src/tree/updater_prune.cc:74: tree pruning end, 1 roots, 16 extra nodes, 10 pruned nodes, max_depth=5\u001b[0m\n",
      "\u001b[31m[88]#011train-error:0.1316#011validation-error:0.1819\u001b[0m\n",
      "\u001b[31m[10:46:22] src/tree/updater_prune.cc:74: tree pruning end, 1 roots, 10 extra nodes, 6 pruned nodes, max_depth=5\u001b[0m\n",
      "\u001b[31m[89]#011train-error:0.131467#011validation-error:0.1816\u001b[0m\n",
      "\u001b[31m[10:46:24] src/tree/updater_prune.cc:74: tree pruning end, 1 roots, 16 extra nodes, 10 pruned nodes, max_depth=5\u001b[0m\n",
      "\u001b[31m[90]#011train-error:0.130933#011validation-error:0.181\u001b[0m\n",
      "\u001b[31m[10:46:25] src/tree/updater_prune.cc:74: tree pruning end, 1 roots, 26 extra nodes, 12 pruned nodes, max_depth=5\u001b[0m\n",
      "\u001b[31m[91]#011train-error:0.130533#011validation-error:0.181\u001b[0m\n",
      "\u001b[31m[10:46:26] src/tree/updater_prune.cc:74: tree pruning end, 1 roots, 28 extra nodes, 8 pruned nodes, max_depth=5\u001b[0m\n",
      "\u001b[31m[92]#011train-error:0.1294#011validation-error:0.1797\u001b[0m\n",
      "\u001b[31m[10:46:27] src/tree/updater_prune.cc:74: tree pruning end, 1 roots, 18 extra nodes, 12 pruned nodes, max_depth=5\u001b[0m\n",
      "\u001b[31m[93]#011train-error:0.1288#011validation-error:0.1793\u001b[0m\n",
      "\u001b[31m[10:46:29] src/tree/updater_prune.cc:74: tree pruning end, 1 roots, 30 extra nodes, 4 pruned nodes, max_depth=5\u001b[0m\n",
      "\u001b[31m[94]#011train-error:0.128267#011validation-error:0.1788\u001b[0m\n",
      "\u001b[31m[10:46:30] src/tree/updater_prune.cc:74: tree pruning end, 1 roots, 12 extra nodes, 2 pruned nodes, max_depth=5\u001b[0m\n",
      "\u001b[31m[95]#011train-error:0.127867#011validation-error:0.1788\u001b[0m\n",
      "\u001b[31m[10:46:31] src/tree/updater_prune.cc:74: tree pruning end, 1 roots, 10 extra nodes, 6 pruned nodes, max_depth=5\u001b[0m\n",
      "\u001b[31m[96]#011train-error:0.1276#011validation-error:0.1788\u001b[0m\n",
      "\u001b[31m[10:46:32] src/tree/updater_prune.cc:74: tree pruning end, 1 roots, 20 extra nodes, 12 pruned nodes, max_depth=5\u001b[0m\n",
      "\u001b[31m[97]#011train-error:0.1274#011validation-error:0.1791\u001b[0m\n",
      "\u001b[31m[10:46:34] src/tree/updater_prune.cc:74: tree pruning end, 1 roots, 16 extra nodes, 12 pruned nodes, max_depth=5\u001b[0m\n",
      "\u001b[31m[98]#011train-error:0.127467#011validation-error:0.1783\u001b[0m\n",
      "\u001b[31m[10:46:35] src/tree/updater_prune.cc:74: tree pruning end, 1 roots, 14 extra nodes, 6 pruned nodes, max_depth=5\u001b[0m\n",
      "\u001b[31m[99]#011train-error:0.1266#011validation-error:0.178\u001b[0m\n",
      "\u001b[31m[10:46:36] src/tree/updater_prune.cc:74: tree pruning end, 1 roots, 18 extra nodes, 16 pruned nodes, max_depth=5\u001b[0m\n",
      "\u001b[31m[100]#011train-error:0.126067#011validation-error:0.1793\u001b[0m\n",
      "\u001b[31m[10:46:38] src/tree/updater_prune.cc:74: tree pruning end, 1 roots, 14 extra nodes, 8 pruned nodes, max_depth=5\u001b[0m\n",
      "\u001b[31m[101]#011train-error:0.125133#011validation-error:0.1787\u001b[0m\n",
      "\u001b[31m[10:46:39] src/tree/updater_prune.cc:74: tree pruning end, 1 roots, 16 extra nodes, 10 pruned nodes, max_depth=5\u001b[0m\n",
      "\u001b[31m[102]#011train-error:0.124667#011validation-error:0.1806\u001b[0m\n",
      "\u001b[31m[10:46:40] src/tree/updater_prune.cc:74: tree pruning end, 1 roots, 16 extra nodes, 12 pruned nodes, max_depth=5\u001b[0m\n",
      "\u001b[31m[103]#011train-error:0.124333#011validation-error:0.1802\u001b[0m\n",
      "\u001b[31m[10:46:41] src/tree/updater_prune.cc:74: tree pruning end, 1 roots, 10 extra nodes, 8 pruned nodes, max_depth=5\u001b[0m\n",
      "\u001b[31m[104]#011train-error:0.1238#011validation-error:0.1798\u001b[0m\n",
      "\u001b[31m[10:46:43] src/tree/updater_prune.cc:74: tree pruning end, 1 roots, 10 extra nodes, 8 pruned nodes, max_depth=5\u001b[0m\n",
      "\u001b[31m[105]#011train-error:0.123467#011validation-error:0.1794\u001b[0m\n",
      "\u001b[31m[10:46:44] src/tree/updater_prune.cc:74: tree pruning end, 1 roots, 16 extra nodes, 16 pruned nodes, max_depth=5\u001b[0m\n",
      "\u001b[31m[106]#011train-error:0.1236#011validation-error:0.1797\u001b[0m\n",
      "\u001b[31m[10:46:45] src/tree/updater_prune.cc:74: tree pruning end, 1 roots, 18 extra nodes, 10 pruned nodes, max_depth=5\u001b[0m\n",
      "\u001b[31m[107]#011train-error:0.1236#011validation-error:0.1794\u001b[0m\n",
      "\u001b[31m[10:46:46] src/tree/updater_prune.cc:74: tree pruning end, 1 roots, 12 extra nodes, 0 pruned nodes, max_depth=5\u001b[0m\n",
      "\u001b[31m[108]#011train-error:0.1234#011validation-error:0.179\u001b[0m\n",
      "\u001b[31m[10:46:48] src/tree/updater_prune.cc:74: tree pruning end, 1 roots, 18 extra nodes, 18 pruned nodes, max_depth=5\u001b[0m\n",
      "\u001b[31m[109]#011train-error:0.1232#011validation-error:0.1797\u001b[0m\n",
      "\u001b[31mStopping. Best iteration:\u001b[0m\n",
      "\u001b[31m[99]#011train-error:0.1266#011validation-error:0.178\n",
      "\u001b[0m\n",
      "\n",
      "2019-07-29 10:46:57 Uploading - Uploading generated training model\n",
      "2019-07-29 10:46:57 Completed - Training job completed\n",
      "Billable seconds: 192\n"
     ]
    }
   ],
   "source": [
    "# TODO: Using the new validation and training data, 'fit' your new model.\n",
    "new_xgb.fit({'train': s3_new_input_train, 'validation': s3_new_input_validation})"
   ]
  },
  {
   "cell_type": "markdown",
   "metadata": {},
   "source": [
    "### (TODO) Check the new model\n",
    "\n",
    "So now we have a new XGBoost model that we believe more accurately represents the state of the world at this time, at least in how it relates to the sentiment analysis problem that we are working on. The next step is to double check that our model is performing reasonably.\n",
    "\n",
    "To do this, we will first test our model on the new data.\n",
    "\n",
    "**Note:** In practice this is a pretty bad idea. We already trained our model on the new data, so testing it shouldn't really tell us much. In fact, this is sort of a textbook example of leakage. We are only doing it here so that we have a numerical baseline.\n",
    "\n",
    "**Question:** How might you address the leakage problem?"
   ]
  },
  {
   "cell_type": "markdown",
   "metadata": {},
   "source": [
    "First, we create a new transformer based on our new XGBoost model.\n",
    "\n",
    "**TODO:** Create a transformer object from the newly created XGBoost model."
   ]
  },
  {
   "cell_type": "code",
   "execution_count": 57,
   "metadata": {},
   "outputs": [],
   "source": [
    "# TODO: Create a transformer object from the new_xgb model\n",
    "new_xgb_transformer = new_xgb.transformer(instance_count = 1, instance_type = 'ml.m4.xlarge')"
   ]
  },
  {
   "cell_type": "markdown",
   "metadata": {},
   "source": [
    "Next we test our model on the new data.\n",
    "\n",
    "**TODO:** Use the transformer object to transform the new data (stored in the `new_data_location` variable)"
   ]
  },
  {
   "cell_type": "code",
   "execution_count": 58,
   "metadata": {},
   "outputs": [
    {
     "name": "stdout",
     "output_type": "stream",
     "text": [
      "..............................................!\n"
     ]
    }
   ],
   "source": [
    "# TODO: Using new_xgb_transformer, transform the new_data_location data. You may wish to\n",
    "#       'wait' for the transform job to finish.\n",
    "new_xgb_transformer.transform(new_data_location, content_type='text/csv', split_type='Line')\n",
    "new_xgb_transformer.wait()"
   ]
  },
  {
   "cell_type": "markdown",
   "metadata": {},
   "source": [
    "Copy the results to our local instance."
   ]
  },
  {
   "cell_type": "code",
   "execution_count": 59,
   "metadata": {},
   "outputs": [
    {
     "name": "stdout",
     "output_type": "stream",
     "text": [
      "Completed 256.0 KiB/366.4 KiB (4.1 MiB/s) with 1 file(s) remaining\r",
      "Completed 366.4 KiB/366.4 KiB (5.8 MiB/s) with 1 file(s) remaining\r",
      "download: s3://sagemaker-us-east-2-129722534204/xgboost-2019-07-29-10-47-26-110/new_data.csv.out to ../data/sentiment_update/new_data.csv.out\r\n"
     ]
    }
   ],
   "source": [
    "!aws s3 cp --recursive $new_xgb_transformer.output_path $data_dir"
   ]
  },
  {
   "cell_type": "markdown",
   "metadata": {},
   "source": [
    "And see how well the model did."
   ]
  },
  {
   "cell_type": "code",
   "execution_count": 60,
   "metadata": {},
   "outputs": [],
   "source": [
    "predictions = pd.read_csv(os.path.join(data_dir, 'new_data.csv.out'), header=None)\n",
    "predictions = [round(num) for num in predictions.squeeze().values]"
   ]
  },
  {
   "cell_type": "code",
   "execution_count": 61,
   "metadata": {},
   "outputs": [
    {
     "data": {
      "text/plain": [
       "0.85284"
      ]
     },
     "execution_count": 61,
     "metadata": {},
     "output_type": "execute_result"
    }
   ],
   "source": [
    "accuracy_score(new_Y, predictions)"
   ]
  },
  {
   "cell_type": "markdown",
   "metadata": {},
   "source": [
    "As expected, since we trained the model on this data, our model performs pretty well. So, we have reason to believe that our new XGBoost model is a \"better\" model.\n",
    "\n",
    "However, before we start changing our deployed model, we should first make sure that our new model isn't too different. In other words, if our new model performed really poorly on the original test data then this might be an indication that something else has gone wrong.\n",
    "\n",
    "To start with, since we got rid of the variable that stored the original test reviews, we will read them in again from the cache that we created in Step 3. Note that we need to make sure that we read in the original test data after it has been pre-processed with `nltk` but before it has been bag of words encoded. This is because we need to use the new vocabulary instead of the original one."
   ]
  },
  {
   "cell_type": "code",
   "execution_count": 62,
   "metadata": {},
   "outputs": [
    {
     "name": "stdout",
     "output_type": "stream",
     "text": [
      "Read preprocessed data from cache file: preprocessed_data.pkl\n"
     ]
    }
   ],
   "source": [
    "cache_data = None\n",
    "with open(os.path.join(cache_dir, \"preprocessed_data.pkl\"), \"rb\") as f:\n",
    "            cache_data = pickle.load(f)\n",
    "            print(\"Read preprocessed data from cache file:\", \"preprocessed_data.pkl\")\n",
    "            \n",
    "test_X = cache_data['words_test']\n",
    "test_Y = cache_data['labels_test']\n",
    "\n",
    "# Here we set cache_data to None so that it doesn't occupy memory\n",
    "cache_data = None"
   ]
  },
  {
   "cell_type": "markdown",
   "metadata": {},
   "source": [
    "Once we've loaded the original test reviews, we need to create a bag of words encoding of them using the new vocabulary that we created, based on the new data.\n",
    "\n",
    "**TODO:** Transform the original test data using the new vocabulary."
   ]
  },
  {
   "cell_type": "code",
   "execution_count": 63,
   "metadata": {},
   "outputs": [],
   "source": [
    "# TODO: Use the new_vectorizer object that you created earlier to transform the test_X data.\n",
    "test_X = new_vectorizer.transform(test_X).toarray()"
   ]
  },
  {
   "cell_type": "markdown",
   "metadata": {},
   "source": [
    "Now that we have correctly encoded the original test data, we can write it to the local instance, upload it to S3 and test it."
   ]
  },
  {
   "cell_type": "code",
   "execution_count": 64,
   "metadata": {},
   "outputs": [],
   "source": [
    "pd.DataFrame(test_X).to_csv(os.path.join(data_dir, 'test.csv'), header=False, index=False)"
   ]
  },
  {
   "cell_type": "code",
   "execution_count": 65,
   "metadata": {},
   "outputs": [],
   "source": [
    "test_location = session.upload_data(os.path.join(data_dir, 'test.csv'), key_prefix=prefix)"
   ]
  },
  {
   "cell_type": "code",
   "execution_count": 66,
   "metadata": {},
   "outputs": [
    {
     "name": "stdout",
     "output_type": "stream",
     "text": [
      ".............................................!\n"
     ]
    }
   ],
   "source": [
    "new_xgb_transformer.transform(test_location, content_type='text/csv', split_type='Line')\n",
    "new_xgb_transformer.wait()"
   ]
  },
  {
   "cell_type": "code",
   "execution_count": 67,
   "metadata": {},
   "outputs": [
    {
     "name": "stdout",
     "output_type": "stream",
     "text": [
      "Completed 256.0 KiB/366.8 KiB (2.9 MiB/s) with 1 file(s) remaining\r",
      "Completed 366.8 KiB/366.8 KiB (3.7 MiB/s) with 1 file(s) remaining\r",
      "download: s3://sagemaker-us-east-2-129722534204/xgboost-2019-07-29-10-53-37-483/test.csv.out to ../data/sentiment_update/test.csv.out\r\n"
     ]
    }
   ],
   "source": [
    "!aws s3 cp --recursive $new_xgb_transformer.output_path $data_dir"
   ]
  },
  {
   "cell_type": "code",
   "execution_count": 68,
   "metadata": {},
   "outputs": [],
   "source": [
    "predictions = pd.read_csv(os.path.join(data_dir, 'test.csv.out'), header=None)\n",
    "predictions = [round(num) for num in predictions.squeeze().values]"
   ]
  },
  {
   "cell_type": "code",
   "execution_count": 69,
   "metadata": {},
   "outputs": [
    {
     "data": {
      "text/plain": [
       "0.835"
      ]
     },
     "execution_count": 69,
     "metadata": {},
     "output_type": "execute_result"
    }
   ],
   "source": [
    "accuracy_score(test_Y, predictions)"
   ]
  },
  {
   "cell_type": "markdown",
   "metadata": {},
   "source": [
    "It would appear that our new XGBoost model is performing quite well on the old test data. This gives us some indication that our new model should be put into production and replace our original model."
   ]
  },
  {
   "cell_type": "markdown",
   "metadata": {},
   "source": [
    "## Step 6: (TODO) Updating the Model\n",
    "\n",
    "So we have a new model that we'd like to use instead of one that is already deployed. Furthermore, we are assuming that the model that is already deployed is being used in some sort of application. As a result, what we want to do is update the existing endpoint so that it uses our new model.\n",
    "\n",
    "Of course, to do this we need to create an endpoint configuration for our newly created model.\n",
    "\n",
    "First, note that we can access the name of the model that we created above using the `model_name` property of the transformer. The reason for this is that in order for the transformer to create a batch transform job it needs to first create the model object inside of SageMaker. Since we've sort of already done this we should take advantage of it."
   ]
  },
  {
   "cell_type": "code",
   "execution_count": 70,
   "metadata": {},
   "outputs": [
    {
     "data": {
      "text/plain": [
       "'xgboost-2019-07-29-10-41-42-643'"
      ]
     },
     "execution_count": 70,
     "metadata": {},
     "output_type": "execute_result"
    }
   ],
   "source": [
    "new_xgb_transformer.model_name"
   ]
  },
  {
   "cell_type": "markdown",
   "metadata": {},
   "source": [
    "Next, we create an endpoint configuration using the low level approach of creating the dictionary object which describes the endpoint configuration we want.\n",
    "\n",
    "**TODO:** Using the low level approach, create a new endpoint configuration. Don't forget that it needs a name and that the name needs to be unique. If you get stuck, try looking at the Boston Housing Low Level Deployment tutorial notebook."
   ]
  },
  {
   "cell_type": "code",
   "execution_count": 71,
   "metadata": {},
   "outputs": [],
   "source": [
    "from time import gmtime, strftime\n",
    "\n",
    "\n",
    "# TODO: Give our endpoint configuration a name. Remember, it needs to be unique.\n",
    "new_xgb_endpoint_config_name = \"sentiment-update-xgboost-endpoint-config-\" + strftime(\"%Y-%m-%d-%H-%M-%S\", gmtime())\n",
    "\n",
    "# TODO: Using the SageMaker Client, construct the endpoint configuration.\n",
    "new_xgb_endpoint_config_info = session.sagemaker_client.create_endpoint_config(\n",
    "                            EndpointConfigName = new_xgb_endpoint_config_name,\n",
    "                            ProductionVariants = [{\n",
    "                                \"InstanceType\": \"ml.m4.xlarge\",\n",
    "                                \"InitialVariantWeight\": 1,\n",
    "                                \"InitialInstanceCount\": 1,\n",
    "                                \"ModelName\": new_xgb_transformer.model_name,\n",
    "                                \"VariantName\": \"XGB-Model\"\n",
    "                            }])"
   ]
  },
  {
   "cell_type": "markdown",
   "metadata": {},
   "source": [
    "Once the endpoint configuration has been constructed, it is a straightforward matter to ask SageMaker to update the existing endpoint so that it uses the new endpoint configuration.\n",
    "\n",
    "Of note here is that SageMaker does this in such a way that there is no downtime. Essentially, SageMaker deploys the new model and then updates the original endpoint so that it points to the newly deployed model. After that, the original model is shut down. This way, whatever app is using our endpoint won't notice that we've changed the model that is being used.\n",
    "\n",
    "**TODO:** Use the SageMaker Client to update the endpoint that you deployed earlier."
   ]
  },
  {
   "cell_type": "code",
   "execution_count": 72,
   "metadata": {},
   "outputs": [
    {
     "data": {
      "text/plain": [
       "{'EndpointArn': 'arn:aws:sagemaker:us-east-2:129722534204:endpoint/xgboost-2019-07-29-10-19-24-563',\n",
       " 'ResponseMetadata': {'RequestId': 'f4b13310-59c5-407f-a140-9fd8c71d072c',\n",
       "  'HTTPStatusCode': 200,\n",
       "  'HTTPHeaders': {'x-amzn-requestid': 'f4b13310-59c5-407f-a140-9fd8c71d072c',\n",
       "   'content-type': 'application/x-amz-json-1.1',\n",
       "   'content-length': '99',\n",
       "   'date': 'Mon, 29 Jul 2019 10:57:24 GMT'},\n",
       "  'RetryAttempts': 0}}"
      ]
     },
     "execution_count": 72,
     "metadata": {},
     "output_type": "execute_result"
    }
   ],
   "source": [
    "# TODO: Update the xgb_predictor.endpoint so that it uses new_xgb_endpoint_config_name.\n",
    "session.sagemaker_client.update_endpoint(EndpointName=xgb_predictor.endpoint, EndpointConfigName=new_xgb_endpoint_config_name)\n"
   ]
  },
  {
   "cell_type": "markdown",
   "metadata": {},
   "source": [
    "And, as is generally the case with SageMaker requests, this is being done in the background so if we want to wait for it to complete we need to call the appropriate method."
   ]
  },
  {
   "cell_type": "code",
   "execution_count": 73,
   "metadata": {},
   "outputs": [
    {
     "name": "stdout",
     "output_type": "stream",
     "text": [
      "--------------------------------------------------------------------------------------!"
     ]
    },
    {
     "data": {
      "text/plain": [
       "{'EndpointName': 'xgboost-2019-07-29-10-19-24-563',\n",
       " 'EndpointArn': 'arn:aws:sagemaker:us-east-2:129722534204:endpoint/xgboost-2019-07-29-10-19-24-563',\n",
       " 'EndpointConfigName': 'sentiment-update-xgboost-endpoint-config-2019-07-29-10-57-24',\n",
       " 'ProductionVariants': [{'VariantName': 'XGB-Model',\n",
       "   'DeployedImages': [{'SpecifiedImage': '825641698319.dkr.ecr.us-east-2.amazonaws.com/xgboost:1',\n",
       "     'ResolvedImage': '825641698319.dkr.ecr.us-east-2.amazonaws.com/xgboost@sha256:1918d70d6a1f1fdb46a92f666227d78ccc6e1167e3ccb6a878ed9c1e98db2ab3',\n",
       "     'ResolutionTime': datetime.datetime(2019, 7, 29, 10, 57, 28, 964000, tzinfo=tzlocal())}],\n",
       "   'CurrentWeight': 1.0,\n",
       "   'DesiredWeight': 1.0,\n",
       "   'CurrentInstanceCount': 1,\n",
       "   'DesiredInstanceCount': 1}],\n",
       " 'EndpointStatus': 'InService',\n",
       " 'CreationTime': datetime.datetime(2019, 7, 29, 10, 29, 39, 709000, tzinfo=tzlocal()),\n",
       " 'LastModifiedTime': datetime.datetime(2019, 7, 29, 11, 4, 39, 206000, tzinfo=tzlocal()),\n",
       " 'ResponseMetadata': {'RequestId': '7ff720ea-615d-4659-b6a5-927ed9baa91a',\n",
       "  'HTTPStatusCode': 200,\n",
       "  'HTTPHeaders': {'x-amzn-requestid': '7ff720ea-615d-4659-b6a5-927ed9baa91a',\n",
       "   'content-type': 'application/x-amz-json-1.1',\n",
       "   'content-length': '742',\n",
       "   'date': 'Mon, 29 Jul 2019 11:04:40 GMT'},\n",
       "  'RetryAttempts': 0}}"
      ]
     },
     "execution_count": 73,
     "metadata": {},
     "output_type": "execute_result"
    }
   ],
   "source": [
    "session.wait_for_endpoint(xgb_predictor.endpoint)"
   ]
  },
  {
   "cell_type": "markdown",
   "metadata": {},
   "source": [
    "## Step 7: Delete the Endpoint\n",
    "\n",
    "Of course, since we are done with the deployed endpoint we need to make sure to shut it down, otherwise we will continue to be charged for it."
   ]
  },
  {
   "cell_type": "code",
   "execution_count": 74,
   "metadata": {},
   "outputs": [],
   "source": [
    "xgb_predictor.delete_endpoint()"
   ]
  },
  {
   "cell_type": "markdown",
   "metadata": {},
   "source": [
    "## Some Additional Questions\n",
    "\n",
    "This notebook is a little different from the other notebooks in this module. In part, this is because it is meant to be a little bit closer to the type of problem you may face in a real world scenario. Of course, this problem is a very easy one with a prescribed solution, but there are many other interesting questions that we did not consider here and that you may wish to consider yourself.\n",
    "\n",
    "For example,\n",
    "- What other ways could the underlying distribution change?\n",
    "- Is it a good idea to re-train the model using only the new data?\n",
    "- What would change if the quantity of new data wasn't large. Say you only received 500 samples?\n"
   ]
  },
  {
   "cell_type": "markdown",
   "metadata": {},
   "source": [
    "## Optional: Clean up\n",
    "\n",
    "The default notebook instance on SageMaker doesn't have a lot of excess disk space available. As you continue to complete and execute notebooks you will eventually fill up this disk space, leading to errors which can be difficult to diagnose. Once you are completely finished using a notebook it is a good idea to remove the files that you created along the way. Of course, you can do this from the terminal or from the notebook hub if you would like. The cell below contains some commands to clean up the created files from within the notebook."
   ]
  },
  {
   "cell_type": "code",
   "execution_count": 75,
   "metadata": {},
   "outputs": [],
   "source": [
    "# First we will remove all of the files contained in the data_dir directory\n",
    "!rm $data_dir/*\n",
    "\n",
    "# And then we delete the directory itself\n",
    "!rmdir $data_dir\n",
    "\n",
    "# Similarly we will remove the files in the cache_dir directory and the directory itself\n",
    "!rm $cache_dir/*\n",
    "!rmdir $cache_dir"
   ]
  },
  {
   "cell_type": "code",
   "execution_count": null,
   "metadata": {},
   "outputs": [],
   "source": []
  }
 ],
 "metadata": {
  "kernelspec": {
   "display_name": "conda_pytorch_p36",
   "language": "python",
   "name": "conda_pytorch_p36"
  },
  "language_info": {
   "codemirror_mode": {
    "name": "ipython",
    "version": 3
   },
   "file_extension": ".py",
   "mimetype": "text/x-python",
   "name": "python",
   "nbconvert_exporter": "python",
   "pygments_lexer": "ipython3",
   "version": "3.6.5"
  }
 },
 "nbformat": 4,
 "nbformat_minor": 2
}
